{
 "cells": [
  {
   "cell_type": "markdown",
   "metadata": {
    "papermill": {
     "duration": 0.248666,
     "end_time": "2020-11-18T17:05:06.101880",
     "exception": false,
     "start_time": "2020-11-18T17:05:05.853214",
     "status": "completed"
    },
    "tags": []
   },
   "source": [
    "## IMPORTING LIBRARIES"
   ]
  },
  {
   "cell_type": "code",
   "execution_count": 50,
   "metadata": {
    "execution": {
     "iopub.execute_input": "2020-11-18T17:05:06.614185Z",
     "iopub.status.busy": "2020-11-18T17:05:06.613334Z",
     "iopub.status.idle": "2020-11-18T17:05:07.765053Z",
     "shell.execute_reply": "2020-11-18T17:05:07.764072Z"
    },
    "papermill": {
     "duration": 1.411409,
     "end_time": "2020-11-18T17:05:07.765203",
     "exception": false,
     "start_time": "2020-11-18T17:05:06.353794",
     "status": "completed"
    },
    "tags": []
   },
   "outputs": [],
   "source": [
    "import numpy as np\n",
    "import matplotlib.pyplot as plt\n",
    "%matplotlib inline\n",
    "import pandas as pd\n",
    "import seaborn as sns\n",
    "import warnings\n",
    "warnings.filterwarnings(\"ignore\")\n",
    "import itertools"
   ]
  },
  {
   "cell_type": "markdown",
   "metadata": {
    "papermill": {
     "duration": 0.249396,
     "end_time": "2020-11-18T17:05:08.263302",
     "exception": false,
     "start_time": "2020-11-18T17:05:08.013906",
     "status": "completed"
    },
    "tags": []
   },
   "source": [
    "## Importing Data"
   ]
  },
  {
   "cell_type": "code",
   "execution_count": 51,
   "metadata": {
    "execution": {
     "iopub.execute_input": "2020-11-18T17:05:08.773079Z",
     "iopub.status.busy": "2020-11-18T17:05:08.772318Z",
     "iopub.status.idle": "2020-11-18T17:05:27.025430Z",
     "shell.execute_reply": "2020-11-18T17:05:27.024557Z"
    },
    "papermill": {
     "duration": 18.512956,
     "end_time": "2020-11-18T17:05:27.025561",
     "exception": false,
     "start_time": "2020-11-18T17:05:08.512605",
     "status": "completed"
    },
    "tags": []
   },
   "outputs": [],
   "source": [
    "application_data = pd.read_csv('../Dataset/application_data.csv')\n",
    "previous_application = pd.read_csv('../Dataset/previous_application.csv')\n",
    "columns_description = pd.read_csv('../Dataset/columns_description.csv',skiprows=1)"
   ]
  },
  {
   "cell_type": "markdown",
   "metadata": {
    "papermill": {
     "duration": 0.25317,
     "end_time": "2020-11-18T17:05:27.532636",
     "exception": false,
     "start_time": "2020-11-18T17:05:27.279466",
     "status": "completed"
    },
    "tags": []
   },
   "source": [
    "## Data Dimensions"
   ]
  },
  {
   "cell_type": "code",
   "execution_count": 52,
   "metadata": {
    "execution": {
     "iopub.execute_input": "2020-11-18T17:05:28.035327Z",
     "iopub.status.busy": "2020-11-18T17:05:28.034416Z",
     "iopub.status.idle": "2020-11-18T17:05:28.038182Z",
     "shell.execute_reply": "2020-11-18T17:05:28.039028Z"
    },
    "papermill": {
     "duration": 0.258872,
     "end_time": "2020-11-18T17:05:28.039237",
     "exception": false,
     "start_time": "2020-11-18T17:05:27.780365",
     "status": "completed"
    },
    "tags": []
   },
   "outputs": [
    {
     "name": "stdout",
     "output_type": "stream",
     "text": [
      "application_data     : (307511, 122)\n",
      "previous_application : (1670214, 37)\n",
      "columns_description  : (159, 5)\n"
     ]
    }
   ],
   "source": [
    "print (\"application_data     :\",application_data.shape)\n",
    "print (\"previous_application :\",previous_application.shape)\n",
    "print (\"columns_description  :\",columns_description.shape)"
   ]
  },
  {
   "cell_type": "markdown",
   "metadata": {
    "papermill": {
     "duration": 0.253055,
     "end_time": "2020-11-18T17:05:28.546538",
     "exception": false,
     "start_time": "2020-11-18T17:05:28.293483",
     "status": "completed"
    },
    "tags": []
   },
   "source": [
    "## First Few rows of Data"
   ]
  },
  {
   "cell_type": "code",
   "execution_count": 53,
   "metadata": {
    "execution": {
     "iopub.execute_input": "2020-11-18T17:05:29.057843Z",
     "iopub.status.busy": "2020-11-18T17:05:29.056889Z",
     "iopub.status.idle": "2020-11-18T17:05:29.163775Z",
     "shell.execute_reply": "2020-11-18T17:05:29.162963Z"
    },
    "papermill": {
     "duration": 0.365433,
     "end_time": "2020-11-18T17:05:29.163936",
     "exception": false,
     "start_time": "2020-11-18T17:05:28.798503",
     "status": "completed"
    },
    "tags": []
   },
   "outputs": [
    {
     "data": {
      "text/plain": [
       "'application_data'"
      ]
     },
     "metadata": {},
     "output_type": "display_data"
    },
    {
     "data": {
      "text/html": [
       "<div>\n",
       "<style scoped>\n",
       "    .dataframe tbody tr th:only-of-type {\n",
       "        vertical-align: middle;\n",
       "    }\n",
       "\n",
       "    .dataframe tbody tr th {\n",
       "        vertical-align: top;\n",
       "    }\n",
       "\n",
       "    .dataframe thead th {\n",
       "        text-align: right;\n",
       "    }\n",
       "</style>\n",
       "<table border=\"1\" class=\"dataframe\">\n",
       "  <thead>\n",
       "    <tr style=\"text-align: right;\">\n",
       "      <th></th>\n",
       "      <th>SK_ID_CURR</th>\n",
       "      <th>TARGET</th>\n",
       "      <th>NAME_CONTRACT_TYPE</th>\n",
       "      <th>CODE_GENDER</th>\n",
       "      <th>FLAG_OWN_CAR</th>\n",
       "      <th>FLAG_OWN_REALTY</th>\n",
       "      <th>CNT_CHILDREN</th>\n",
       "      <th>AMT_INCOME_TOTAL</th>\n",
       "      <th>AMT_CREDIT</th>\n",
       "      <th>AMT_ANNUITY</th>\n",
       "      <th>AMT_GOODS_PRICE</th>\n",
       "      <th>NAME_TYPE_SUITE</th>\n",
       "      <th>NAME_INCOME_TYPE</th>\n",
       "      <th>NAME_EDUCATION_TYPE</th>\n",
       "      <th>NAME_FAMILY_STATUS</th>\n",
       "      <th>NAME_HOUSING_TYPE</th>\n",
       "      <th>REGION_POPULATION_RELATIVE</th>\n",
       "      <th>DAYS_BIRTH</th>\n",
       "      <th>DAYS_EMPLOYED</th>\n",
       "      <th>DAYS_REGISTRATION</th>\n",
       "      <th>DAYS_ID_PUBLISH</th>\n",
       "      <th>OWN_CAR_AGE</th>\n",
       "      <th>FLAG_MOBIL</th>\n",
       "      <th>FLAG_EMP_PHONE</th>\n",
       "      <th>FLAG_WORK_PHONE</th>\n",
       "      <th>FLAG_CONT_MOBILE</th>\n",
       "      <th>FLAG_PHONE</th>\n",
       "      <th>FLAG_EMAIL</th>\n",
       "      <th>OCCUPATION_TYPE</th>\n",
       "      <th>CNT_FAM_MEMBERS</th>\n",
       "      <th>REGION_RATING_CLIENT</th>\n",
       "      <th>REGION_RATING_CLIENT_W_CITY</th>\n",
       "      <th>WEEKDAY_APPR_PROCESS_START</th>\n",
       "      <th>HOUR_APPR_PROCESS_START</th>\n",
       "      <th>REG_REGION_NOT_LIVE_REGION</th>\n",
       "      <th>REG_REGION_NOT_WORK_REGION</th>\n",
       "      <th>LIVE_REGION_NOT_WORK_REGION</th>\n",
       "      <th>REG_CITY_NOT_LIVE_CITY</th>\n",
       "      <th>REG_CITY_NOT_WORK_CITY</th>\n",
       "      <th>LIVE_CITY_NOT_WORK_CITY</th>\n",
       "      <th>ORGANIZATION_TYPE</th>\n",
       "      <th>EXT_SOURCE_1</th>\n",
       "      <th>EXT_SOURCE_2</th>\n",
       "      <th>EXT_SOURCE_3</th>\n",
       "      <th>APARTMENTS_AVG</th>\n",
       "      <th>BASEMENTAREA_AVG</th>\n",
       "      <th>YEARS_BEGINEXPLUATATION_AVG</th>\n",
       "      <th>YEARS_BUILD_AVG</th>\n",
       "      <th>COMMONAREA_AVG</th>\n",
       "      <th>ELEVATORS_AVG</th>\n",
       "      <th>ENTRANCES_AVG</th>\n",
       "      <th>FLOORSMAX_AVG</th>\n",
       "      <th>FLOORSMIN_AVG</th>\n",
       "      <th>LANDAREA_AVG</th>\n",
       "      <th>LIVINGAPARTMENTS_AVG</th>\n",
       "      <th>LIVINGAREA_AVG</th>\n",
       "      <th>NONLIVINGAPARTMENTS_AVG</th>\n",
       "      <th>NONLIVINGAREA_AVG</th>\n",
       "      <th>APARTMENTS_MODE</th>\n",
       "      <th>BASEMENTAREA_MODE</th>\n",
       "      <th>YEARS_BEGINEXPLUATATION_MODE</th>\n",
       "      <th>YEARS_BUILD_MODE</th>\n",
       "      <th>COMMONAREA_MODE</th>\n",
       "      <th>ELEVATORS_MODE</th>\n",
       "      <th>ENTRANCES_MODE</th>\n",
       "      <th>FLOORSMAX_MODE</th>\n",
       "      <th>FLOORSMIN_MODE</th>\n",
       "      <th>LANDAREA_MODE</th>\n",
       "      <th>LIVINGAPARTMENTS_MODE</th>\n",
       "      <th>LIVINGAREA_MODE</th>\n",
       "      <th>NONLIVINGAPARTMENTS_MODE</th>\n",
       "      <th>NONLIVINGAREA_MODE</th>\n",
       "      <th>APARTMENTS_MEDI</th>\n",
       "      <th>BASEMENTAREA_MEDI</th>\n",
       "      <th>YEARS_BEGINEXPLUATATION_MEDI</th>\n",
       "      <th>YEARS_BUILD_MEDI</th>\n",
       "      <th>COMMONAREA_MEDI</th>\n",
       "      <th>ELEVATORS_MEDI</th>\n",
       "      <th>ENTRANCES_MEDI</th>\n",
       "      <th>FLOORSMAX_MEDI</th>\n",
       "      <th>FLOORSMIN_MEDI</th>\n",
       "      <th>LANDAREA_MEDI</th>\n",
       "      <th>LIVINGAPARTMENTS_MEDI</th>\n",
       "      <th>LIVINGAREA_MEDI</th>\n",
       "      <th>NONLIVINGAPARTMENTS_MEDI</th>\n",
       "      <th>NONLIVINGAREA_MEDI</th>\n",
       "      <th>FONDKAPREMONT_MODE</th>\n",
       "      <th>HOUSETYPE_MODE</th>\n",
       "      <th>TOTALAREA_MODE</th>\n",
       "      <th>WALLSMATERIAL_MODE</th>\n",
       "      <th>EMERGENCYSTATE_MODE</th>\n",
       "      <th>OBS_30_CNT_SOCIAL_CIRCLE</th>\n",
       "      <th>DEF_30_CNT_SOCIAL_CIRCLE</th>\n",
       "      <th>OBS_60_CNT_SOCIAL_CIRCLE</th>\n",
       "      <th>DEF_60_CNT_SOCIAL_CIRCLE</th>\n",
       "      <th>DAYS_LAST_PHONE_CHANGE</th>\n",
       "      <th>FLAG_DOCUMENT_2</th>\n",
       "      <th>FLAG_DOCUMENT_3</th>\n",
       "      <th>FLAG_DOCUMENT_4</th>\n",
       "      <th>FLAG_DOCUMENT_5</th>\n",
       "      <th>FLAG_DOCUMENT_6</th>\n",
       "      <th>FLAG_DOCUMENT_7</th>\n",
       "      <th>FLAG_DOCUMENT_8</th>\n",
       "      <th>FLAG_DOCUMENT_9</th>\n",
       "      <th>FLAG_DOCUMENT_10</th>\n",
       "      <th>FLAG_DOCUMENT_11</th>\n",
       "      <th>FLAG_DOCUMENT_12</th>\n",
       "      <th>FLAG_DOCUMENT_13</th>\n",
       "      <th>FLAG_DOCUMENT_14</th>\n",
       "      <th>FLAG_DOCUMENT_15</th>\n",
       "      <th>FLAG_DOCUMENT_16</th>\n",
       "      <th>FLAG_DOCUMENT_17</th>\n",
       "      <th>FLAG_DOCUMENT_18</th>\n",
       "      <th>FLAG_DOCUMENT_19</th>\n",
       "      <th>FLAG_DOCUMENT_20</th>\n",
       "      <th>FLAG_DOCUMENT_21</th>\n",
       "      <th>AMT_REQ_CREDIT_BUREAU_HOUR</th>\n",
       "      <th>AMT_REQ_CREDIT_BUREAU_DAY</th>\n",
       "      <th>AMT_REQ_CREDIT_BUREAU_WEEK</th>\n",
       "      <th>AMT_REQ_CREDIT_BUREAU_MON</th>\n",
       "      <th>AMT_REQ_CREDIT_BUREAU_QRT</th>\n",
       "      <th>AMT_REQ_CREDIT_BUREAU_YEAR</th>\n",
       "    </tr>\n",
       "  </thead>\n",
       "  <tbody>\n",
       "    <tr>\n",
       "      <th>0</th>\n",
       "      <td>100002</td>\n",
       "      <td>1</td>\n",
       "      <td>Cash loans</td>\n",
       "      <td>M</td>\n",
       "      <td>N</td>\n",
       "      <td>Y</td>\n",
       "      <td>0</td>\n",
       "      <td>202500.0</td>\n",
       "      <td>406597.5</td>\n",
       "      <td>24700.5</td>\n",
       "      <td>351000.0</td>\n",
       "      <td>Unaccompanied</td>\n",
       "      <td>Working</td>\n",
       "      <td>Secondary / secondary special</td>\n",
       "      <td>Single / not married</td>\n",
       "      <td>House / apartment</td>\n",
       "      <td>0.018801</td>\n",
       "      <td>-9461</td>\n",
       "      <td>-637</td>\n",
       "      <td>-3648.0</td>\n",
       "      <td>-2120</td>\n",
       "      <td>NaN</td>\n",
       "      <td>1</td>\n",
       "      <td>1</td>\n",
       "      <td>0</td>\n",
       "      <td>1</td>\n",
       "      <td>1</td>\n",
       "      <td>0</td>\n",
       "      <td>Laborers</td>\n",
       "      <td>1.0</td>\n",
       "      <td>2</td>\n",
       "      <td>2</td>\n",
       "      <td>WEDNESDAY</td>\n",
       "      <td>10</td>\n",
       "      <td>0</td>\n",
       "      <td>0</td>\n",
       "      <td>0</td>\n",
       "      <td>0</td>\n",
       "      <td>0</td>\n",
       "      <td>0</td>\n",
       "      <td>Business Entity Type 3</td>\n",
       "      <td>0.083037</td>\n",
       "      <td>0.262949</td>\n",
       "      <td>0.139376</td>\n",
       "      <td>0.0247</td>\n",
       "      <td>0.0369</td>\n",
       "      <td>0.9722</td>\n",
       "      <td>0.6192</td>\n",
       "      <td>0.0143</td>\n",
       "      <td>0.00</td>\n",
       "      <td>0.0690</td>\n",
       "      <td>0.0833</td>\n",
       "      <td>0.1250</td>\n",
       "      <td>0.0369</td>\n",
       "      <td>0.0202</td>\n",
       "      <td>0.0190</td>\n",
       "      <td>0.0000</td>\n",
       "      <td>0.0000</td>\n",
       "      <td>0.0252</td>\n",
       "      <td>0.0383</td>\n",
       "      <td>0.9722</td>\n",
       "      <td>0.6341</td>\n",
       "      <td>0.0144</td>\n",
       "      <td>0.0000</td>\n",
       "      <td>0.0690</td>\n",
       "      <td>0.0833</td>\n",
       "      <td>0.1250</td>\n",
       "      <td>0.0377</td>\n",
       "      <td>0.022</td>\n",
       "      <td>0.0198</td>\n",
       "      <td>0.0</td>\n",
       "      <td>0.0</td>\n",
       "      <td>0.0250</td>\n",
       "      <td>0.0369</td>\n",
       "      <td>0.9722</td>\n",
       "      <td>0.6243</td>\n",
       "      <td>0.0144</td>\n",
       "      <td>0.00</td>\n",
       "      <td>0.0690</td>\n",
       "      <td>0.0833</td>\n",
       "      <td>0.1250</td>\n",
       "      <td>0.0375</td>\n",
       "      <td>0.0205</td>\n",
       "      <td>0.0193</td>\n",
       "      <td>0.0000</td>\n",
       "      <td>0.00</td>\n",
       "      <td>reg oper account</td>\n",
       "      <td>block of flats</td>\n",
       "      <td>0.0149</td>\n",
       "      <td>Stone, brick</td>\n",
       "      <td>No</td>\n",
       "      <td>2.0</td>\n",
       "      <td>2.0</td>\n",
       "      <td>2.0</td>\n",
       "      <td>2.0</td>\n",
       "      <td>-1134.0</td>\n",
       "      <td>0</td>\n",
       "      <td>1</td>\n",
       "      <td>0</td>\n",
       "      <td>0</td>\n",
       "      <td>0</td>\n",
       "      <td>0</td>\n",
       "      <td>0</td>\n",
       "      <td>0</td>\n",
       "      <td>0</td>\n",
       "      <td>0</td>\n",
       "      <td>0</td>\n",
       "      <td>0</td>\n",
       "      <td>0</td>\n",
       "      <td>0</td>\n",
       "      <td>0</td>\n",
       "      <td>0</td>\n",
       "      <td>0</td>\n",
       "      <td>0</td>\n",
       "      <td>0</td>\n",
       "      <td>0</td>\n",
       "      <td>0.0</td>\n",
       "      <td>0.0</td>\n",
       "      <td>0.0</td>\n",
       "      <td>0.0</td>\n",
       "      <td>0.0</td>\n",
       "      <td>1.0</td>\n",
       "    </tr>\n",
       "    <tr>\n",
       "      <th>1</th>\n",
       "      <td>100003</td>\n",
       "      <td>0</td>\n",
       "      <td>Cash loans</td>\n",
       "      <td>F</td>\n",
       "      <td>N</td>\n",
       "      <td>N</td>\n",
       "      <td>0</td>\n",
       "      <td>270000.0</td>\n",
       "      <td>1293502.5</td>\n",
       "      <td>35698.5</td>\n",
       "      <td>1129500.0</td>\n",
       "      <td>Family</td>\n",
       "      <td>State servant</td>\n",
       "      <td>Higher education</td>\n",
       "      <td>Married</td>\n",
       "      <td>House / apartment</td>\n",
       "      <td>0.003541</td>\n",
       "      <td>-16765</td>\n",
       "      <td>-1188</td>\n",
       "      <td>-1186.0</td>\n",
       "      <td>-291</td>\n",
       "      <td>NaN</td>\n",
       "      <td>1</td>\n",
       "      <td>1</td>\n",
       "      <td>0</td>\n",
       "      <td>1</td>\n",
       "      <td>1</td>\n",
       "      <td>0</td>\n",
       "      <td>Core staff</td>\n",
       "      <td>2.0</td>\n",
       "      <td>1</td>\n",
       "      <td>1</td>\n",
       "      <td>MONDAY</td>\n",
       "      <td>11</td>\n",
       "      <td>0</td>\n",
       "      <td>0</td>\n",
       "      <td>0</td>\n",
       "      <td>0</td>\n",
       "      <td>0</td>\n",
       "      <td>0</td>\n",
       "      <td>School</td>\n",
       "      <td>0.311267</td>\n",
       "      <td>0.622246</td>\n",
       "      <td>NaN</td>\n",
       "      <td>0.0959</td>\n",
       "      <td>0.0529</td>\n",
       "      <td>0.9851</td>\n",
       "      <td>0.7960</td>\n",
       "      <td>0.0605</td>\n",
       "      <td>0.08</td>\n",
       "      <td>0.0345</td>\n",
       "      <td>0.2917</td>\n",
       "      <td>0.3333</td>\n",
       "      <td>0.0130</td>\n",
       "      <td>0.0773</td>\n",
       "      <td>0.0549</td>\n",
       "      <td>0.0039</td>\n",
       "      <td>0.0098</td>\n",
       "      <td>0.0924</td>\n",
       "      <td>0.0538</td>\n",
       "      <td>0.9851</td>\n",
       "      <td>0.8040</td>\n",
       "      <td>0.0497</td>\n",
       "      <td>0.0806</td>\n",
       "      <td>0.0345</td>\n",
       "      <td>0.2917</td>\n",
       "      <td>0.3333</td>\n",
       "      <td>0.0128</td>\n",
       "      <td>0.079</td>\n",
       "      <td>0.0554</td>\n",
       "      <td>0.0</td>\n",
       "      <td>0.0</td>\n",
       "      <td>0.0968</td>\n",
       "      <td>0.0529</td>\n",
       "      <td>0.9851</td>\n",
       "      <td>0.7987</td>\n",
       "      <td>0.0608</td>\n",
       "      <td>0.08</td>\n",
       "      <td>0.0345</td>\n",
       "      <td>0.2917</td>\n",
       "      <td>0.3333</td>\n",
       "      <td>0.0132</td>\n",
       "      <td>0.0787</td>\n",
       "      <td>0.0558</td>\n",
       "      <td>0.0039</td>\n",
       "      <td>0.01</td>\n",
       "      <td>reg oper account</td>\n",
       "      <td>block of flats</td>\n",
       "      <td>0.0714</td>\n",
       "      <td>Block</td>\n",
       "      <td>No</td>\n",
       "      <td>1.0</td>\n",
       "      <td>0.0</td>\n",
       "      <td>1.0</td>\n",
       "      <td>0.0</td>\n",
       "      <td>-828.0</td>\n",
       "      <td>0</td>\n",
       "      <td>1</td>\n",
       "      <td>0</td>\n",
       "      <td>0</td>\n",
       "      <td>0</td>\n",
       "      <td>0</td>\n",
       "      <td>0</td>\n",
       "      <td>0</td>\n",
       "      <td>0</td>\n",
       "      <td>0</td>\n",
       "      <td>0</td>\n",
       "      <td>0</td>\n",
       "      <td>0</td>\n",
       "      <td>0</td>\n",
       "      <td>0</td>\n",
       "      <td>0</td>\n",
       "      <td>0</td>\n",
       "      <td>0</td>\n",
       "      <td>0</td>\n",
       "      <td>0</td>\n",
       "      <td>0.0</td>\n",
       "      <td>0.0</td>\n",
       "      <td>0.0</td>\n",
       "      <td>0.0</td>\n",
       "      <td>0.0</td>\n",
       "      <td>0.0</td>\n",
       "    </tr>\n",
       "    <tr>\n",
       "      <th>2</th>\n",
       "      <td>100004</td>\n",
       "      <td>0</td>\n",
       "      <td>Revolving loans</td>\n",
       "      <td>M</td>\n",
       "      <td>Y</td>\n",
       "      <td>Y</td>\n",
       "      <td>0</td>\n",
       "      <td>67500.0</td>\n",
       "      <td>135000.0</td>\n",
       "      <td>6750.0</td>\n",
       "      <td>135000.0</td>\n",
       "      <td>Unaccompanied</td>\n",
       "      <td>Working</td>\n",
       "      <td>Secondary / secondary special</td>\n",
       "      <td>Single / not married</td>\n",
       "      <td>House / apartment</td>\n",
       "      <td>0.010032</td>\n",
       "      <td>-19046</td>\n",
       "      <td>-225</td>\n",
       "      <td>-4260.0</td>\n",
       "      <td>-2531</td>\n",
       "      <td>26.0</td>\n",
       "      <td>1</td>\n",
       "      <td>1</td>\n",
       "      <td>1</td>\n",
       "      <td>1</td>\n",
       "      <td>1</td>\n",
       "      <td>0</td>\n",
       "      <td>Laborers</td>\n",
       "      <td>1.0</td>\n",
       "      <td>2</td>\n",
       "      <td>2</td>\n",
       "      <td>MONDAY</td>\n",
       "      <td>9</td>\n",
       "      <td>0</td>\n",
       "      <td>0</td>\n",
       "      <td>0</td>\n",
       "      <td>0</td>\n",
       "      <td>0</td>\n",
       "      <td>0</td>\n",
       "      <td>Government</td>\n",
       "      <td>NaN</td>\n",
       "      <td>0.555912</td>\n",
       "      <td>0.729567</td>\n",
       "      <td>NaN</td>\n",
       "      <td>NaN</td>\n",
       "      <td>NaN</td>\n",
       "      <td>NaN</td>\n",
       "      <td>NaN</td>\n",
       "      <td>NaN</td>\n",
       "      <td>NaN</td>\n",
       "      <td>NaN</td>\n",
       "      <td>NaN</td>\n",
       "      <td>NaN</td>\n",
       "      <td>NaN</td>\n",
       "      <td>NaN</td>\n",
       "      <td>NaN</td>\n",
       "      <td>NaN</td>\n",
       "      <td>NaN</td>\n",
       "      <td>NaN</td>\n",
       "      <td>NaN</td>\n",
       "      <td>NaN</td>\n",
       "      <td>NaN</td>\n",
       "      <td>NaN</td>\n",
       "      <td>NaN</td>\n",
       "      <td>NaN</td>\n",
       "      <td>NaN</td>\n",
       "      <td>NaN</td>\n",
       "      <td>NaN</td>\n",
       "      <td>NaN</td>\n",
       "      <td>NaN</td>\n",
       "      <td>NaN</td>\n",
       "      <td>NaN</td>\n",
       "      <td>NaN</td>\n",
       "      <td>NaN</td>\n",
       "      <td>NaN</td>\n",
       "      <td>NaN</td>\n",
       "      <td>NaN</td>\n",
       "      <td>NaN</td>\n",
       "      <td>NaN</td>\n",
       "      <td>NaN</td>\n",
       "      <td>NaN</td>\n",
       "      <td>NaN</td>\n",
       "      <td>NaN</td>\n",
       "      <td>NaN</td>\n",
       "      <td>NaN</td>\n",
       "      <td>NaN</td>\n",
       "      <td>NaN</td>\n",
       "      <td>NaN</td>\n",
       "      <td>NaN</td>\n",
       "      <td>NaN</td>\n",
       "      <td>0.0</td>\n",
       "      <td>0.0</td>\n",
       "      <td>0.0</td>\n",
       "      <td>0.0</td>\n",
       "      <td>-815.0</td>\n",
       "      <td>0</td>\n",
       "      <td>0</td>\n",
       "      <td>0</td>\n",
       "      <td>0</td>\n",
       "      <td>0</td>\n",
       "      <td>0</td>\n",
       "      <td>0</td>\n",
       "      <td>0</td>\n",
       "      <td>0</td>\n",
       "      <td>0</td>\n",
       "      <td>0</td>\n",
       "      <td>0</td>\n",
       "      <td>0</td>\n",
       "      <td>0</td>\n",
       "      <td>0</td>\n",
       "      <td>0</td>\n",
       "      <td>0</td>\n",
       "      <td>0</td>\n",
       "      <td>0</td>\n",
       "      <td>0</td>\n",
       "      <td>0.0</td>\n",
       "      <td>0.0</td>\n",
       "      <td>0.0</td>\n",
       "      <td>0.0</td>\n",
       "      <td>0.0</td>\n",
       "      <td>0.0</td>\n",
       "    </tr>\n",
       "  </tbody>\n",
       "</table>\n",
       "</div>"
      ],
      "text/plain": [
       "   SK_ID_CURR  TARGET NAME_CONTRACT_TYPE CODE_GENDER FLAG_OWN_CAR  \\\n",
       "0  100002      1       Cash loans         M           N             \n",
       "1  100003      0       Cash loans         F           N             \n",
       "2  100004      0       Revolving loans    M           Y             \n",
       "\n",
       "  FLAG_OWN_REALTY  CNT_CHILDREN  AMT_INCOME_TOTAL  AMT_CREDIT  AMT_ANNUITY  \\\n",
       "0  Y               0             202500.0          406597.5    24700.5       \n",
       "1  N               0             270000.0          1293502.5   35698.5       \n",
       "2  Y               0             67500.0           135000.0    6750.0        \n",
       "\n",
       "   AMT_GOODS_PRICE NAME_TYPE_SUITE NAME_INCOME_TYPE  \\\n",
       "0  351000.0         Unaccompanied   Working           \n",
       "1  1129500.0        Family          State servant     \n",
       "2  135000.0         Unaccompanied   Working           \n",
       "\n",
       "             NAME_EDUCATION_TYPE    NAME_FAMILY_STATUS  NAME_HOUSING_TYPE  \\\n",
       "0  Secondary / secondary special  Single / not married  House / apartment   \n",
       "1  Higher education               Married               House / apartment   \n",
       "2  Secondary / secondary special  Single / not married  House / apartment   \n",
       "\n",
       "   REGION_POPULATION_RELATIVE  DAYS_BIRTH  DAYS_EMPLOYED  DAYS_REGISTRATION  \\\n",
       "0  0.018801                   -9461       -637           -3648.0              \n",
       "1  0.003541                   -16765      -1188          -1186.0              \n",
       "2  0.010032                   -19046      -225           -4260.0              \n",
       "\n",
       "   DAYS_ID_PUBLISH  OWN_CAR_AGE  FLAG_MOBIL  FLAG_EMP_PHONE  FLAG_WORK_PHONE  \\\n",
       "0 -2120            NaN           1           1               0                 \n",
       "1 -291             NaN           1           1               0                 \n",
       "2 -2531             26.0         1           1               1                 \n",
       "\n",
       "   FLAG_CONT_MOBILE  FLAG_PHONE  FLAG_EMAIL OCCUPATION_TYPE  CNT_FAM_MEMBERS  \\\n",
       "0  1                 1           0           Laborers        1.0               \n",
       "1  1                 1           0           Core staff      2.0               \n",
       "2  1                 1           0           Laborers        1.0               \n",
       "\n",
       "   REGION_RATING_CLIENT  REGION_RATING_CLIENT_W_CITY  \\\n",
       "0  2                     2                             \n",
       "1  1                     1                             \n",
       "2  2                     2                             \n",
       "\n",
       "  WEEKDAY_APPR_PROCESS_START  HOUR_APPR_PROCESS_START  \\\n",
       "0  WEDNESDAY                  10                        \n",
       "1  MONDAY                     11                        \n",
       "2  MONDAY                     9                         \n",
       "\n",
       "   REG_REGION_NOT_LIVE_REGION  REG_REGION_NOT_WORK_REGION  \\\n",
       "0  0                           0                            \n",
       "1  0                           0                            \n",
       "2  0                           0                            \n",
       "\n",
       "   LIVE_REGION_NOT_WORK_REGION  REG_CITY_NOT_LIVE_CITY  \\\n",
       "0  0                            0                        \n",
       "1  0                            0                        \n",
       "2  0                            0                        \n",
       "\n",
       "   REG_CITY_NOT_WORK_CITY  LIVE_CITY_NOT_WORK_CITY       ORGANIZATION_TYPE  \\\n",
       "0  0                       0                        Business Entity Type 3   \n",
       "1  0                       0                        School                   \n",
       "2  0                       0                        Government               \n",
       "\n",
       "   EXT_SOURCE_1  EXT_SOURCE_2  EXT_SOURCE_3  APARTMENTS_AVG  BASEMENTAREA_AVG  \\\n",
       "0  0.083037      0.262949      0.139376      0.0247          0.0369             \n",
       "1  0.311267      0.622246     NaN            0.0959          0.0529             \n",
       "2 NaN            0.555912      0.729567     NaN             NaN                 \n",
       "\n",
       "   YEARS_BEGINEXPLUATATION_AVG  YEARS_BUILD_AVG  COMMONAREA_AVG  \\\n",
       "0  0.9722                       0.6192           0.0143           \n",
       "1  0.9851                       0.7960           0.0605           \n",
       "2 NaN                          NaN              NaN               \n",
       "\n",
       "   ELEVATORS_AVG  ENTRANCES_AVG  FLOORSMAX_AVG  FLOORSMIN_AVG  LANDAREA_AVG  \\\n",
       "0  0.00           0.0690         0.0833         0.1250         0.0369         \n",
       "1  0.08           0.0345         0.2917         0.3333         0.0130         \n",
       "2 NaN            NaN            NaN            NaN            NaN             \n",
       "\n",
       "   LIVINGAPARTMENTS_AVG  LIVINGAREA_AVG  NONLIVINGAPARTMENTS_AVG  \\\n",
       "0  0.0202                0.0190          0.0000                    \n",
       "1  0.0773                0.0549          0.0039                    \n",
       "2 NaN                   NaN             NaN                        \n",
       "\n",
       "   NONLIVINGAREA_AVG  APARTMENTS_MODE  BASEMENTAREA_MODE  \\\n",
       "0  0.0000             0.0252           0.0383              \n",
       "1  0.0098             0.0924           0.0538              \n",
       "2 NaN                NaN              NaN                  \n",
       "\n",
       "   YEARS_BEGINEXPLUATATION_MODE  YEARS_BUILD_MODE  COMMONAREA_MODE  \\\n",
       "0  0.9722                        0.6341            0.0144            \n",
       "1  0.9851                        0.8040            0.0497            \n",
       "2 NaN                           NaN               NaN                \n",
       "\n",
       "   ELEVATORS_MODE  ENTRANCES_MODE  FLOORSMAX_MODE  FLOORSMIN_MODE  \\\n",
       "0  0.0000          0.0690          0.0833          0.1250           \n",
       "1  0.0806          0.0345          0.2917          0.3333           \n",
       "2 NaN             NaN             NaN             NaN               \n",
       "\n",
       "   LANDAREA_MODE  LIVINGAPARTMENTS_MODE  LIVINGAREA_MODE  \\\n",
       "0  0.0377         0.022                  0.0198            \n",
       "1  0.0128         0.079                  0.0554            \n",
       "2 NaN            NaN                    NaN                \n",
       "\n",
       "   NONLIVINGAPARTMENTS_MODE  NONLIVINGAREA_MODE  APARTMENTS_MEDI  \\\n",
       "0  0.0                       0.0                 0.0250            \n",
       "1  0.0                       0.0                 0.0968            \n",
       "2 NaN                       NaN                 NaN                \n",
       "\n",
       "   BASEMENTAREA_MEDI  YEARS_BEGINEXPLUATATION_MEDI  YEARS_BUILD_MEDI  \\\n",
       "0  0.0369             0.9722                        0.6243             \n",
       "1  0.0529             0.9851                        0.7987             \n",
       "2 NaN                NaN                           NaN                 \n",
       "\n",
       "   COMMONAREA_MEDI  ELEVATORS_MEDI  ENTRANCES_MEDI  FLOORSMAX_MEDI  \\\n",
       "0  0.0144           0.00            0.0690          0.0833           \n",
       "1  0.0608           0.08            0.0345          0.2917           \n",
       "2 NaN              NaN             NaN             NaN               \n",
       "\n",
       "   FLOORSMIN_MEDI  LANDAREA_MEDI  LIVINGAPARTMENTS_MEDI  LIVINGAREA_MEDI  \\\n",
       "0  0.1250          0.0375         0.0205                 0.0193            \n",
       "1  0.3333          0.0132         0.0787                 0.0558            \n",
       "2 NaN             NaN            NaN                    NaN                \n",
       "\n",
       "   NONLIVINGAPARTMENTS_MEDI  NONLIVINGAREA_MEDI FONDKAPREMONT_MODE  \\\n",
       "0  0.0000                    0.00                reg oper account    \n",
       "1  0.0039                    0.01                reg oper account    \n",
       "2 NaN                       NaN                  NaN                 \n",
       "\n",
       "   HOUSETYPE_MODE  TOTALAREA_MODE WALLSMATERIAL_MODE EMERGENCYSTATE_MODE  \\\n",
       "0  block of flats  0.0149          Stone, brick       No                   \n",
       "1  block of flats  0.0714          Block              No                   \n",
       "2  NaN            NaN              NaN                NaN                  \n",
       "\n",
       "   OBS_30_CNT_SOCIAL_CIRCLE  DEF_30_CNT_SOCIAL_CIRCLE  \\\n",
       "0  2.0                       2.0                        \n",
       "1  1.0                       0.0                        \n",
       "2  0.0                       0.0                        \n",
       "\n",
       "   OBS_60_CNT_SOCIAL_CIRCLE  DEF_60_CNT_SOCIAL_CIRCLE  DAYS_LAST_PHONE_CHANGE  \\\n",
       "0  2.0                       2.0                      -1134.0                   \n",
       "1  1.0                       0.0                      -828.0                    \n",
       "2  0.0                       0.0                      -815.0                    \n",
       "\n",
       "   FLAG_DOCUMENT_2  FLAG_DOCUMENT_3  FLAG_DOCUMENT_4  FLAG_DOCUMENT_5  \\\n",
       "0  0                1                0                0                 \n",
       "1  0                1                0                0                 \n",
       "2  0                0                0                0                 \n",
       "\n",
       "   FLAG_DOCUMENT_6  FLAG_DOCUMENT_7  FLAG_DOCUMENT_8  FLAG_DOCUMENT_9  \\\n",
       "0  0                0                0                0                 \n",
       "1  0                0                0                0                 \n",
       "2  0                0                0                0                 \n",
       "\n",
       "   FLAG_DOCUMENT_10  FLAG_DOCUMENT_11  FLAG_DOCUMENT_12  FLAG_DOCUMENT_13  \\\n",
       "0  0                 0                 0                 0                  \n",
       "1  0                 0                 0                 0                  \n",
       "2  0                 0                 0                 0                  \n",
       "\n",
       "   FLAG_DOCUMENT_14  FLAG_DOCUMENT_15  FLAG_DOCUMENT_16  FLAG_DOCUMENT_17  \\\n",
       "0  0                 0                 0                 0                  \n",
       "1  0                 0                 0                 0                  \n",
       "2  0                 0                 0                 0                  \n",
       "\n",
       "   FLAG_DOCUMENT_18  FLAG_DOCUMENT_19  FLAG_DOCUMENT_20  FLAG_DOCUMENT_21  \\\n",
       "0  0                 0                 0                 0                  \n",
       "1  0                 0                 0                 0                  \n",
       "2  0                 0                 0                 0                  \n",
       "\n",
       "   AMT_REQ_CREDIT_BUREAU_HOUR  AMT_REQ_CREDIT_BUREAU_DAY  \\\n",
       "0  0.0                         0.0                         \n",
       "1  0.0                         0.0                         \n",
       "2  0.0                         0.0                         \n",
       "\n",
       "   AMT_REQ_CREDIT_BUREAU_WEEK  AMT_REQ_CREDIT_BUREAU_MON  \\\n",
       "0  0.0                         0.0                         \n",
       "1  0.0                         0.0                         \n",
       "2  0.0                         0.0                         \n",
       "\n",
       "   AMT_REQ_CREDIT_BUREAU_QRT  AMT_REQ_CREDIT_BUREAU_YEAR  \n",
       "0  0.0                        1.0                         \n",
       "1  0.0                        0.0                         \n",
       "2  0.0                        0.0                         "
      ]
     },
     "metadata": {},
     "output_type": "display_data"
    }
   ],
   "source": [
    "pd.set_option(\"display.max_rows\", None, \"display.max_columns\", None)\n",
    "display(\"application_data\")\n",
    "display(application_data.head(3))"
   ]
  },
  {
   "cell_type": "code",
   "execution_count": 54,
   "metadata": {
    "execution": {
     "iopub.execute_input": "2020-11-18T17:05:29.682857Z",
     "iopub.status.busy": "2020-11-18T17:05:29.681785Z",
     "iopub.status.idle": "2020-11-18T17:05:29.722952Z",
     "shell.execute_reply": "2020-11-18T17:05:29.722300Z"
    },
    "papermill": {
     "duration": 0.30121,
     "end_time": "2020-11-18T17:05:29.723078",
     "exception": false,
     "start_time": "2020-11-18T17:05:29.421868",
     "status": "completed"
    },
    "tags": []
   },
   "outputs": [
    {
     "data": {
      "text/plain": [
       "'previous_application '"
      ]
     },
     "metadata": {},
     "output_type": "display_data"
    },
    {
     "data": {
      "text/html": [
       "<div>\n",
       "<style scoped>\n",
       "    .dataframe tbody tr th:only-of-type {\n",
       "        vertical-align: middle;\n",
       "    }\n",
       "\n",
       "    .dataframe tbody tr th {\n",
       "        vertical-align: top;\n",
       "    }\n",
       "\n",
       "    .dataframe thead th {\n",
       "        text-align: right;\n",
       "    }\n",
       "</style>\n",
       "<table border=\"1\" class=\"dataframe\">\n",
       "  <thead>\n",
       "    <tr style=\"text-align: right;\">\n",
       "      <th></th>\n",
       "      <th>SK_ID_PREV</th>\n",
       "      <th>SK_ID_CURR</th>\n",
       "      <th>NAME_CONTRACT_TYPE</th>\n",
       "      <th>AMT_ANNUITY</th>\n",
       "      <th>AMT_APPLICATION</th>\n",
       "      <th>AMT_CREDIT</th>\n",
       "      <th>AMT_DOWN_PAYMENT</th>\n",
       "      <th>AMT_GOODS_PRICE</th>\n",
       "      <th>WEEKDAY_APPR_PROCESS_START</th>\n",
       "      <th>HOUR_APPR_PROCESS_START</th>\n",
       "      <th>FLAG_LAST_APPL_PER_CONTRACT</th>\n",
       "      <th>NFLAG_LAST_APPL_IN_DAY</th>\n",
       "      <th>RATE_DOWN_PAYMENT</th>\n",
       "      <th>RATE_INTEREST_PRIMARY</th>\n",
       "      <th>RATE_INTEREST_PRIVILEGED</th>\n",
       "      <th>NAME_CASH_LOAN_PURPOSE</th>\n",
       "      <th>NAME_CONTRACT_STATUS</th>\n",
       "      <th>DAYS_DECISION</th>\n",
       "      <th>NAME_PAYMENT_TYPE</th>\n",
       "      <th>CODE_REJECT_REASON</th>\n",
       "      <th>NAME_TYPE_SUITE</th>\n",
       "      <th>NAME_CLIENT_TYPE</th>\n",
       "      <th>NAME_GOODS_CATEGORY</th>\n",
       "      <th>NAME_PORTFOLIO</th>\n",
       "      <th>NAME_PRODUCT_TYPE</th>\n",
       "      <th>CHANNEL_TYPE</th>\n",
       "      <th>SELLERPLACE_AREA</th>\n",
       "      <th>NAME_SELLER_INDUSTRY</th>\n",
       "      <th>CNT_PAYMENT</th>\n",
       "      <th>NAME_YIELD_GROUP</th>\n",
       "      <th>PRODUCT_COMBINATION</th>\n",
       "      <th>DAYS_FIRST_DRAWING</th>\n",
       "      <th>DAYS_FIRST_DUE</th>\n",
       "      <th>DAYS_LAST_DUE_1ST_VERSION</th>\n",
       "      <th>DAYS_LAST_DUE</th>\n",
       "      <th>DAYS_TERMINATION</th>\n",
       "      <th>NFLAG_INSURED_ON_APPROVAL</th>\n",
       "    </tr>\n",
       "  </thead>\n",
       "  <tbody>\n",
       "    <tr>\n",
       "      <th>0</th>\n",
       "      <td>2030495</td>\n",
       "      <td>271877</td>\n",
       "      <td>Consumer loans</td>\n",
       "      <td>1730.430</td>\n",
       "      <td>17145.0</td>\n",
       "      <td>17145.0</td>\n",
       "      <td>0.0</td>\n",
       "      <td>17145.0</td>\n",
       "      <td>SATURDAY</td>\n",
       "      <td>15</td>\n",
       "      <td>Y</td>\n",
       "      <td>1</td>\n",
       "      <td>0.0</td>\n",
       "      <td>0.182832</td>\n",
       "      <td>0.867336</td>\n",
       "      <td>XAP</td>\n",
       "      <td>Approved</td>\n",
       "      <td>-73</td>\n",
       "      <td>Cash through the bank</td>\n",
       "      <td>XAP</td>\n",
       "      <td>NaN</td>\n",
       "      <td>Repeater</td>\n",
       "      <td>Mobile</td>\n",
       "      <td>POS</td>\n",
       "      <td>XNA</td>\n",
       "      <td>Country-wide</td>\n",
       "      <td>35</td>\n",
       "      <td>Connectivity</td>\n",
       "      <td>12.0</td>\n",
       "      <td>middle</td>\n",
       "      <td>POS mobile with interest</td>\n",
       "      <td>365243.0</td>\n",
       "      <td>-42.0</td>\n",
       "      <td>300.0</td>\n",
       "      <td>-42.0</td>\n",
       "      <td>-37.0</td>\n",
       "      <td>0.0</td>\n",
       "    </tr>\n",
       "    <tr>\n",
       "      <th>1</th>\n",
       "      <td>2802425</td>\n",
       "      <td>108129</td>\n",
       "      <td>Cash loans</td>\n",
       "      <td>25188.615</td>\n",
       "      <td>607500.0</td>\n",
       "      <td>679671.0</td>\n",
       "      <td>NaN</td>\n",
       "      <td>607500.0</td>\n",
       "      <td>THURSDAY</td>\n",
       "      <td>11</td>\n",
       "      <td>Y</td>\n",
       "      <td>1</td>\n",
       "      <td>NaN</td>\n",
       "      <td>NaN</td>\n",
       "      <td>NaN</td>\n",
       "      <td>XNA</td>\n",
       "      <td>Approved</td>\n",
       "      <td>-164</td>\n",
       "      <td>XNA</td>\n",
       "      <td>XAP</td>\n",
       "      <td>Unaccompanied</td>\n",
       "      <td>Repeater</td>\n",
       "      <td>XNA</td>\n",
       "      <td>Cash</td>\n",
       "      <td>x-sell</td>\n",
       "      <td>Contact center</td>\n",
       "      <td>-1</td>\n",
       "      <td>XNA</td>\n",
       "      <td>36.0</td>\n",
       "      <td>low_action</td>\n",
       "      <td>Cash X-Sell: low</td>\n",
       "      <td>365243.0</td>\n",
       "      <td>-134.0</td>\n",
       "      <td>916.0</td>\n",
       "      <td>365243.0</td>\n",
       "      <td>365243.0</td>\n",
       "      <td>1.0</td>\n",
       "    </tr>\n",
       "    <tr>\n",
       "      <th>2</th>\n",
       "      <td>2523466</td>\n",
       "      <td>122040</td>\n",
       "      <td>Cash loans</td>\n",
       "      <td>15060.735</td>\n",
       "      <td>112500.0</td>\n",
       "      <td>136444.5</td>\n",
       "      <td>NaN</td>\n",
       "      <td>112500.0</td>\n",
       "      <td>TUESDAY</td>\n",
       "      <td>11</td>\n",
       "      <td>Y</td>\n",
       "      <td>1</td>\n",
       "      <td>NaN</td>\n",
       "      <td>NaN</td>\n",
       "      <td>NaN</td>\n",
       "      <td>XNA</td>\n",
       "      <td>Approved</td>\n",
       "      <td>-301</td>\n",
       "      <td>Cash through the bank</td>\n",
       "      <td>XAP</td>\n",
       "      <td>Spouse, partner</td>\n",
       "      <td>Repeater</td>\n",
       "      <td>XNA</td>\n",
       "      <td>Cash</td>\n",
       "      <td>x-sell</td>\n",
       "      <td>Credit and cash offices</td>\n",
       "      <td>-1</td>\n",
       "      <td>XNA</td>\n",
       "      <td>12.0</td>\n",
       "      <td>high</td>\n",
       "      <td>Cash X-Sell: high</td>\n",
       "      <td>365243.0</td>\n",
       "      <td>-271.0</td>\n",
       "      <td>59.0</td>\n",
       "      <td>365243.0</td>\n",
       "      <td>365243.0</td>\n",
       "      <td>1.0</td>\n",
       "    </tr>\n",
       "  </tbody>\n",
       "</table>\n",
       "</div>"
      ],
      "text/plain": [
       "   SK_ID_PREV  SK_ID_CURR NAME_CONTRACT_TYPE  AMT_ANNUITY  AMT_APPLICATION  \\\n",
       "0  2030495     271877      Consumer loans     1730.430     17145.0           \n",
       "1  2802425     108129      Cash loans         25188.615    607500.0          \n",
       "2  2523466     122040      Cash loans         15060.735    112500.0          \n",
       "\n",
       "   AMT_CREDIT  AMT_DOWN_PAYMENT  AMT_GOODS_PRICE WEEKDAY_APPR_PROCESS_START  \\\n",
       "0  17145.0     0.0               17145.0          SATURDAY                    \n",
       "1  679671.0   NaN                607500.0         THURSDAY                    \n",
       "2  136444.5   NaN                112500.0         TUESDAY                     \n",
       "\n",
       "   HOUR_APPR_PROCESS_START FLAG_LAST_APPL_PER_CONTRACT  \\\n",
       "0  15                       Y                            \n",
       "1  11                       Y                            \n",
       "2  11                       Y                            \n",
       "\n",
       "   NFLAG_LAST_APPL_IN_DAY  RATE_DOWN_PAYMENT  RATE_INTEREST_PRIMARY  \\\n",
       "0  1                       0.0                0.182832                \n",
       "1  1                      NaN                NaN                      \n",
       "2  1                      NaN                NaN                      \n",
       "\n",
       "   RATE_INTEREST_PRIVILEGED NAME_CASH_LOAN_PURPOSE NAME_CONTRACT_STATUS  \\\n",
       "0  0.867336                  XAP                    Approved              \n",
       "1 NaN                        XNA                    Approved              \n",
       "2 NaN                        XNA                    Approved              \n",
       "\n",
       "   DAYS_DECISION      NAME_PAYMENT_TYPE CODE_REJECT_REASON  NAME_TYPE_SUITE  \\\n",
       "0 -73             Cash through the bank  XAP                NaN               \n",
       "1 -164            XNA                    XAP                Unaccompanied     \n",
       "2 -301            Cash through the bank  XAP                Spouse, partner   \n",
       "\n",
       "  NAME_CLIENT_TYPE NAME_GOODS_CATEGORY NAME_PORTFOLIO NAME_PRODUCT_TYPE  \\\n",
       "0  Repeater         Mobile              POS            XNA                \n",
       "1  Repeater         XNA                 Cash           x-sell             \n",
       "2  Repeater         XNA                 Cash           x-sell             \n",
       "\n",
       "              CHANNEL_TYPE  SELLERPLACE_AREA NAME_SELLER_INDUSTRY  \\\n",
       "0  Country-wide             35                Connectivity          \n",
       "1  Contact center          -1                 XNA                   \n",
       "2  Credit and cash offices -1                 XNA                   \n",
       "\n",
       "   CNT_PAYMENT NAME_YIELD_GROUP       PRODUCT_COMBINATION  DAYS_FIRST_DRAWING  \\\n",
       "0  12.0         middle           POS mobile with interest  365243.0             \n",
       "1  36.0         low_action       Cash X-Sell: low          365243.0             \n",
       "2  12.0         high             Cash X-Sell: high         365243.0             \n",
       "\n",
       "   DAYS_FIRST_DUE  DAYS_LAST_DUE_1ST_VERSION  DAYS_LAST_DUE  DAYS_TERMINATION  \\\n",
       "0 -42.0            300.0                     -42.0          -37.0               \n",
       "1 -134.0           916.0                      365243.0       365243.0           \n",
       "2 -271.0           59.0                       365243.0       365243.0           \n",
       "\n",
       "   NFLAG_INSURED_ON_APPROVAL  \n",
       "0  0.0                        \n",
       "1  1.0                        \n",
       "2  1.0                        "
      ]
     },
     "metadata": {},
     "output_type": "display_data"
    }
   ],
   "source": [
    "display(\"previous_application \")\n",
    "display(previous_application.head(3))"
   ]
  },
  {
   "cell_type": "markdown",
   "metadata": {
    "papermill": {
     "duration": 0.256255,
     "end_time": "2020-11-18T17:05:30.232942",
     "exception": false,
     "start_time": "2020-11-18T17:05:29.976687",
     "status": "completed"
    },
    "tags": []
   },
   "source": [
    "\n",
    "## Term Dictionary "
   ]
  },
  {
   "cell_type": "code",
   "execution_count": 55,
   "metadata": {
    "execution": {
     "iopub.execute_input": "2020-11-18T17:05:30.755800Z",
     "iopub.status.busy": "2020-11-18T17:05:30.755045Z",
     "iopub.status.idle": "2020-11-18T17:05:30.831703Z",
     "shell.execute_reply": "2020-11-18T17:05:30.832339Z"
    },
    "papermill": {
     "duration": 0.341596,
     "end_time": "2020-11-18T17:05:30.832499",
     "exception": false,
     "start_time": "2020-11-18T17:05:30.490903",
     "status": "completed"
    },
    "tags": []
   },
   "outputs": [
    {
     "data": {
      "text/plain": [
       "'columns_description'"
      ]
     },
     "metadata": {},
     "output_type": "display_data"
    },
    {
     "data": {
      "text/html": [
       "<div>\n",
       "<style scoped>\n",
       "    .dataframe tbody tr th:only-of-type {\n",
       "        vertical-align: middle;\n",
       "    }\n",
       "\n",
       "    .dataframe tbody tr th {\n",
       "        vertical-align: top;\n",
       "    }\n",
       "\n",
       "    .dataframe thead th {\n",
       "        text-align: right;\n",
       "    }\n",
       "</style>\n",
       "<table border=\"1\" class=\"dataframe\">\n",
       "  <thead>\n",
       "    <tr style=\"text-align: right;\">\n",
       "      <th></th>\n",
       "      <th>application_data</th>\n",
       "      <th>SK_ID_CURR</th>\n",
       "      <th>ID of loan in our sample</th>\n",
       "      <th>Unnamed: 4</th>\n",
       "    </tr>\n",
       "  </thead>\n",
       "  <tbody>\n",
       "    <tr>\n",
       "      <th>0</th>\n",
       "      <td>application_data</td>\n",
       "      <td>TARGET</td>\n",
       "      <td>Target variable (1 - client with payment difficulties: he/she had late payment more than X days on at least one of the first Y installments of the loan in our sample, 0 - all other cases)</td>\n",
       "      <td>NaN</td>\n",
       "    </tr>\n",
       "    <tr>\n",
       "      <th>1</th>\n",
       "      <td>application_data</td>\n",
       "      <td>NAME_CONTRACT_TYPE</td>\n",
       "      <td>Identification if loan is cash or revolving</td>\n",
       "      <td>NaN</td>\n",
       "    </tr>\n",
       "    <tr>\n",
       "      <th>2</th>\n",
       "      <td>application_data</td>\n",
       "      <td>CODE_GENDER</td>\n",
       "      <td>Gender of the client</td>\n",
       "      <td>NaN</td>\n",
       "    </tr>\n",
       "    <tr>\n",
       "      <th>3</th>\n",
       "      <td>application_data</td>\n",
       "      <td>FLAG_OWN_CAR</td>\n",
       "      <td>Flag if the client owns a car</td>\n",
       "      <td>NaN</td>\n",
       "    </tr>\n",
       "    <tr>\n",
       "      <th>4</th>\n",
       "      <td>application_data</td>\n",
       "      <td>FLAG_OWN_REALTY</td>\n",
       "      <td>Flag if client owns a house or flat</td>\n",
       "      <td>NaN</td>\n",
       "    </tr>\n",
       "    <tr>\n",
       "      <th>5</th>\n",
       "      <td>application_data</td>\n",
       "      <td>CNT_CHILDREN</td>\n",
       "      <td>Number of children the client has</td>\n",
       "      <td>NaN</td>\n",
       "    </tr>\n",
       "    <tr>\n",
       "      <th>6</th>\n",
       "      <td>application_data</td>\n",
       "      <td>AMT_INCOME_TOTAL</td>\n",
       "      <td>Income of the client</td>\n",
       "      <td>NaN</td>\n",
       "    </tr>\n",
       "    <tr>\n",
       "      <th>7</th>\n",
       "      <td>application_data</td>\n",
       "      <td>AMT_CREDIT</td>\n",
       "      <td>Credit amount of the loan</td>\n",
       "      <td>NaN</td>\n",
       "    </tr>\n",
       "    <tr>\n",
       "      <th>8</th>\n",
       "      <td>application_data</td>\n",
       "      <td>AMT_ANNUITY</td>\n",
       "      <td>Loan annuity</td>\n",
       "      <td>NaN</td>\n",
       "    </tr>\n",
       "    <tr>\n",
       "      <th>9</th>\n",
       "      <td>application_data</td>\n",
       "      <td>AMT_GOODS_PRICE</td>\n",
       "      <td>For consumer loans it is the price of the goods for which the loan is given</td>\n",
       "      <td>NaN</td>\n",
       "    </tr>\n",
       "    <tr>\n",
       "      <th>10</th>\n",
       "      <td>application_data</td>\n",
       "      <td>NAME_TYPE_SUITE</td>\n",
       "      <td>Who was accompanying client when he was applying for the loan</td>\n",
       "      <td>NaN</td>\n",
       "    </tr>\n",
       "    <tr>\n",
       "      <th>11</th>\n",
       "      <td>application_data</td>\n",
       "      <td>NAME_INCOME_TYPE</td>\n",
       "      <td>Clients income type (businessman, working, maternity leave,…)</td>\n",
       "      <td>NaN</td>\n",
       "    </tr>\n",
       "    <tr>\n",
       "      <th>12</th>\n",
       "      <td>application_data</td>\n",
       "      <td>NAME_EDUCATION_TYPE</td>\n",
       "      <td>Level of highest education the client achieved</td>\n",
       "      <td>NaN</td>\n",
       "    </tr>\n",
       "    <tr>\n",
       "      <th>13</th>\n",
       "      <td>application_data</td>\n",
       "      <td>NAME_FAMILY_STATUS</td>\n",
       "      <td>Family status of the client</td>\n",
       "      <td>NaN</td>\n",
       "    </tr>\n",
       "    <tr>\n",
       "      <th>14</th>\n",
       "      <td>application_data</td>\n",
       "      <td>NAME_HOUSING_TYPE</td>\n",
       "      <td>What is the housing situation of the client (renting, living with parents, ...)</td>\n",
       "      <td>NaN</td>\n",
       "    </tr>\n",
       "    <tr>\n",
       "      <th>15</th>\n",
       "      <td>application_data</td>\n",
       "      <td>REGION_POPULATION_RELATIVE</td>\n",
       "      <td>Normalized population of region where client lives (higher number means the client lives in more populated region)</td>\n",
       "      <td>normalized</td>\n",
       "    </tr>\n",
       "    <tr>\n",
       "      <th>16</th>\n",
       "      <td>application_data</td>\n",
       "      <td>DAYS_BIRTH</td>\n",
       "      <td>Client's age in days at the time of application</td>\n",
       "      <td>time only relative to the application</td>\n",
       "    </tr>\n",
       "    <tr>\n",
       "      <th>17</th>\n",
       "      <td>application_data</td>\n",
       "      <td>DAYS_EMPLOYED</td>\n",
       "      <td>How many days before the application the person started current employment</td>\n",
       "      <td>time only relative to the application</td>\n",
       "    </tr>\n",
       "    <tr>\n",
       "      <th>18</th>\n",
       "      <td>application_data</td>\n",
       "      <td>DAYS_REGISTRATION</td>\n",
       "      <td>How many days before the application did client change his registration</td>\n",
       "      <td>time only relative to the application</td>\n",
       "    </tr>\n",
       "    <tr>\n",
       "      <th>19</th>\n",
       "      <td>application_data</td>\n",
       "      <td>DAYS_ID_PUBLISH</td>\n",
       "      <td>How many days before the application did client change the identity document with which he applied for the loan</td>\n",
       "      <td>time only relative to the application</td>\n",
       "    </tr>\n",
       "    <tr>\n",
       "      <th>20</th>\n",
       "      <td>application_data</td>\n",
       "      <td>OWN_CAR_AGE</td>\n",
       "      <td>Age of client's car</td>\n",
       "      <td>NaN</td>\n",
       "    </tr>\n",
       "    <tr>\n",
       "      <th>21</th>\n",
       "      <td>application_data</td>\n",
       "      <td>FLAG_MOBIL</td>\n",
       "      <td>Did client provide mobile phone (1=YES, 0=NO)</td>\n",
       "      <td>NaN</td>\n",
       "    </tr>\n",
       "    <tr>\n",
       "      <th>22</th>\n",
       "      <td>application_data</td>\n",
       "      <td>FLAG_EMP_PHONE</td>\n",
       "      <td>Did client provide work phone (1=YES, 0=NO)</td>\n",
       "      <td>NaN</td>\n",
       "    </tr>\n",
       "    <tr>\n",
       "      <th>23</th>\n",
       "      <td>application_data</td>\n",
       "      <td>FLAG_WORK_PHONE</td>\n",
       "      <td>Did client provide home phone (1=YES, 0=NO)</td>\n",
       "      <td>NaN</td>\n",
       "    </tr>\n",
       "    <tr>\n",
       "      <th>24</th>\n",
       "      <td>application_data</td>\n",
       "      <td>FLAG_CONT_MOBILE</td>\n",
       "      <td>Was mobile phone reachable (1=YES, 0=NO)</td>\n",
       "      <td>NaN</td>\n",
       "    </tr>\n",
       "    <tr>\n",
       "      <th>25</th>\n",
       "      <td>application_data</td>\n",
       "      <td>FLAG_PHONE</td>\n",
       "      <td>Did client provide home phone (1=YES, 0=NO)</td>\n",
       "      <td>NaN</td>\n",
       "    </tr>\n",
       "    <tr>\n",
       "      <th>26</th>\n",
       "      <td>application_data</td>\n",
       "      <td>FLAG_EMAIL</td>\n",
       "      <td>Did client provide email (1=YES, 0=NO)</td>\n",
       "      <td>NaN</td>\n",
       "    </tr>\n",
       "    <tr>\n",
       "      <th>27</th>\n",
       "      <td>application_data</td>\n",
       "      <td>OCCUPATION_TYPE</td>\n",
       "      <td>What kind of occupation does the client have</td>\n",
       "      <td>NaN</td>\n",
       "    </tr>\n",
       "    <tr>\n",
       "      <th>28</th>\n",
       "      <td>application_data</td>\n",
       "      <td>CNT_FAM_MEMBERS</td>\n",
       "      <td>How many family members does client have</td>\n",
       "      <td>NaN</td>\n",
       "    </tr>\n",
       "    <tr>\n",
       "      <th>29</th>\n",
       "      <td>application_data</td>\n",
       "      <td>REGION_RATING_CLIENT</td>\n",
       "      <td>Our rating of the region where client lives (1,2,3)</td>\n",
       "      <td>NaN</td>\n",
       "    </tr>\n",
       "    <tr>\n",
       "      <th>30</th>\n",
       "      <td>application_data</td>\n",
       "      <td>REGION_RATING_CLIENT_W_CITY</td>\n",
       "      <td>Our rating of the region where client lives with taking city into account (1,2,3)</td>\n",
       "      <td>NaN</td>\n",
       "    </tr>\n",
       "    <tr>\n",
       "      <th>31</th>\n",
       "      <td>application_data</td>\n",
       "      <td>WEEKDAY_APPR_PROCESS_START</td>\n",
       "      <td>On which day of the week did the client apply for the loan</td>\n",
       "      <td>NaN</td>\n",
       "    </tr>\n",
       "    <tr>\n",
       "      <th>32</th>\n",
       "      <td>application_data</td>\n",
       "      <td>HOUR_APPR_PROCESS_START</td>\n",
       "      <td>Approximately at what hour did the client apply for the loan</td>\n",
       "      <td>rounded</td>\n",
       "    </tr>\n",
       "    <tr>\n",
       "      <th>33</th>\n",
       "      <td>application_data</td>\n",
       "      <td>REG_REGION_NOT_LIVE_REGION</td>\n",
       "      <td>Flag if client's permanent address does not match contact address (1=different, 0=same, at region level)</td>\n",
       "      <td>NaN</td>\n",
       "    </tr>\n",
       "    <tr>\n",
       "      <th>34</th>\n",
       "      <td>application_data</td>\n",
       "      <td>REG_REGION_NOT_WORK_REGION</td>\n",
       "      <td>Flag if client's permanent address does not match work address (1=different, 0=same, at region level)</td>\n",
       "      <td>NaN</td>\n",
       "    </tr>\n",
       "    <tr>\n",
       "      <th>35</th>\n",
       "      <td>application_data</td>\n",
       "      <td>LIVE_REGION_NOT_WORK_REGION</td>\n",
       "      <td>Flag if client's contact address does not match work address (1=different, 0=same, at region level)</td>\n",
       "      <td>NaN</td>\n",
       "    </tr>\n",
       "    <tr>\n",
       "      <th>36</th>\n",
       "      <td>application_data</td>\n",
       "      <td>REG_CITY_NOT_LIVE_CITY</td>\n",
       "      <td>Flag if client's permanent address does not match contact address (1=different, 0=same, at city level)</td>\n",
       "      <td>NaN</td>\n",
       "    </tr>\n",
       "    <tr>\n",
       "      <th>37</th>\n",
       "      <td>application_data</td>\n",
       "      <td>REG_CITY_NOT_WORK_CITY</td>\n",
       "      <td>Flag if client's permanent address does not match work address (1=different, 0=same, at city level)</td>\n",
       "      <td>NaN</td>\n",
       "    </tr>\n",
       "    <tr>\n",
       "      <th>38</th>\n",
       "      <td>application_data</td>\n",
       "      <td>LIVE_CITY_NOT_WORK_CITY</td>\n",
       "      <td>Flag if client's contact address does not match work address (1=different, 0=same, at city level)</td>\n",
       "      <td>NaN</td>\n",
       "    </tr>\n",
       "    <tr>\n",
       "      <th>39</th>\n",
       "      <td>application_data</td>\n",
       "      <td>ORGANIZATION_TYPE</td>\n",
       "      <td>Type of organization where client works</td>\n",
       "      <td>NaN</td>\n",
       "    </tr>\n",
       "    <tr>\n",
       "      <th>40</th>\n",
       "      <td>application_data</td>\n",
       "      <td>EXT_SOURCE_1</td>\n",
       "      <td>Normalized score from external data source</td>\n",
       "      <td>normalized</td>\n",
       "    </tr>\n",
       "    <tr>\n",
       "      <th>41</th>\n",
       "      <td>application_data</td>\n",
       "      <td>EXT_SOURCE_2</td>\n",
       "      <td>Normalized score from external data source</td>\n",
       "      <td>normalized</td>\n",
       "    </tr>\n",
       "    <tr>\n",
       "      <th>42</th>\n",
       "      <td>application_data</td>\n",
       "      <td>EXT_SOURCE_3</td>\n",
       "      <td>Normalized score from external data source</td>\n",
       "      <td>normalized</td>\n",
       "    </tr>\n",
       "    <tr>\n",
       "      <th>43</th>\n",
       "      <td>application_data</td>\n",
       "      <td>APARTMENTS_AVG</td>\n",
       "      <td>Normalized information about building where the client lives, What is average (_AVG suffix), modus (_MODE suffix), median (_MEDI suffix) apartment size, common area, living area, age of building, number of elevators, number of entrances, state of the building, number of floor</td>\n",
       "      <td>normalized</td>\n",
       "    </tr>\n",
       "    <tr>\n",
       "      <th>44</th>\n",
       "      <td>application_data</td>\n",
       "      <td>BASEMENTAREA_AVG</td>\n",
       "      <td>Normalized information about building where the client lives, What is average (_AVG suffix), modus (_MODE suffix), median (_MEDI suffix) apartment size, common area, living area, age of building, number of elevators, number of entrances, state of the building, number of floor</td>\n",
       "      <td>normalized</td>\n",
       "    </tr>\n",
       "    <tr>\n",
       "      <th>45</th>\n",
       "      <td>application_data</td>\n",
       "      <td>YEARS_BEGINEXPLUATATION_AVG</td>\n",
       "      <td>Normalized information about building where the client lives, What is average (_AVG suffix), modus (_MODE suffix), median (_MEDI suffix) apartment size, common area, living area, age of building, number of elevators, number of entrances, state of the building, number of floor</td>\n",
       "      <td>normalized</td>\n",
       "    </tr>\n",
       "    <tr>\n",
       "      <th>46</th>\n",
       "      <td>application_data</td>\n",
       "      <td>YEARS_BUILD_AVG</td>\n",
       "      <td>Normalized information about building where the client lives, What is average (_AVG suffix), modus (_MODE suffix), median (_MEDI suffix) apartment size, common area, living area, age of building, number of elevators, number of entrances, state of the building, number of floor</td>\n",
       "      <td>normalized</td>\n",
       "    </tr>\n",
       "    <tr>\n",
       "      <th>47</th>\n",
       "      <td>application_data</td>\n",
       "      <td>COMMONAREA_AVG</td>\n",
       "      <td>Normalized information about building where the client lives, What is average (_AVG suffix), modus (_MODE suffix), median (_MEDI suffix) apartment size, common area, living area, age of building, number of elevators, number of entrances, state of the building, number of floor</td>\n",
       "      <td>normalized</td>\n",
       "    </tr>\n",
       "    <tr>\n",
       "      <th>48</th>\n",
       "      <td>application_data</td>\n",
       "      <td>ELEVATORS_AVG</td>\n",
       "      <td>Normalized information about building where the client lives, What is average (_AVG suffix), modus (_MODE suffix), median (_MEDI suffix) apartment size, common area, living area, age of building, number of elevators, number of entrances, state of the building, number of floor</td>\n",
       "      <td>normalized</td>\n",
       "    </tr>\n",
       "    <tr>\n",
       "      <th>49</th>\n",
       "      <td>application_data</td>\n",
       "      <td>ENTRANCES_AVG</td>\n",
       "      <td>Normalized information about building where the client lives, What is average (_AVG suffix), modus (_MODE suffix), median (_MEDI suffix) apartment size, common area, living area, age of building, number of elevators, number of entrances, state of the building, number of floor</td>\n",
       "      <td>normalized</td>\n",
       "    </tr>\n",
       "    <tr>\n",
       "      <th>50</th>\n",
       "      <td>application_data</td>\n",
       "      <td>FLOORSMAX_AVG</td>\n",
       "      <td>Normalized information about building where the client lives, What is average (_AVG suffix), modus (_MODE suffix), median (_MEDI suffix) apartment size, common area, living area, age of building, number of elevators, number of entrances, state of the building, number of floor</td>\n",
       "      <td>normalized</td>\n",
       "    </tr>\n",
       "    <tr>\n",
       "      <th>51</th>\n",
       "      <td>application_data</td>\n",
       "      <td>FLOORSMIN_AVG</td>\n",
       "      <td>Normalized information about building where the client lives, What is average (_AVG suffix), modus (_MODE suffix), median (_MEDI suffix) apartment size, common area, living area, age of building, number of elevators, number of entrances, state of the building, number of floor</td>\n",
       "      <td>normalized</td>\n",
       "    </tr>\n",
       "    <tr>\n",
       "      <th>52</th>\n",
       "      <td>application_data</td>\n",
       "      <td>LANDAREA_AVG</td>\n",
       "      <td>Normalized information about building where the client lives, What is average (_AVG suffix), modus (_MODE suffix), median (_MEDI suffix) apartment size, common area, living area, age of building, number of elevators, number of entrances, state of the building, number of floor</td>\n",
       "      <td>normalized</td>\n",
       "    </tr>\n",
       "    <tr>\n",
       "      <th>53</th>\n",
       "      <td>application_data</td>\n",
       "      <td>LIVINGAPARTMENTS_AVG</td>\n",
       "      <td>Normalized information about building where the client lives, What is average (_AVG suffix), modus (_MODE suffix), median (_MEDI suffix) apartment size, common area, living area, age of building, number of elevators, number of entrances, state of the building, number of floor</td>\n",
       "      <td>normalized</td>\n",
       "    </tr>\n",
       "    <tr>\n",
       "      <th>54</th>\n",
       "      <td>application_data</td>\n",
       "      <td>LIVINGAREA_AVG</td>\n",
       "      <td>Normalized information about building where the client lives, What is average (_AVG suffix), modus (_MODE suffix), median (_MEDI suffix) apartment size, common area, living area, age of building, number of elevators, number of entrances, state of the building, number of floor</td>\n",
       "      <td>normalized</td>\n",
       "    </tr>\n",
       "    <tr>\n",
       "      <th>55</th>\n",
       "      <td>application_data</td>\n",
       "      <td>NONLIVINGAPARTMENTS_AVG</td>\n",
       "      <td>Normalized information about building where the client lives, What is average (_AVG suffix), modus (_MODE suffix), median (_MEDI suffix) apartment size, common area, living area, age of building, number of elevators, number of entrances, state of the building, number of floor</td>\n",
       "      <td>normalized</td>\n",
       "    </tr>\n",
       "    <tr>\n",
       "      <th>56</th>\n",
       "      <td>application_data</td>\n",
       "      <td>NONLIVINGAREA_AVG</td>\n",
       "      <td>Normalized information about building where the client lives, What is average (_AVG suffix), modus (_MODE suffix), median (_MEDI suffix) apartment size, common area, living area, age of building, number of elevators, number of entrances, state of the building, number of floor</td>\n",
       "      <td>normalized</td>\n",
       "    </tr>\n",
       "    <tr>\n",
       "      <th>57</th>\n",
       "      <td>application_data</td>\n",
       "      <td>APARTMENTS_MODE</td>\n",
       "      <td>Normalized information about building where the client lives, What is average (_AVG suffix), modus (_MODE suffix), median (_MEDI suffix) apartment size, common area, living area, age of building, number of elevators, number of entrances, state of the building, number of floor</td>\n",
       "      <td>normalized</td>\n",
       "    </tr>\n",
       "    <tr>\n",
       "      <th>58</th>\n",
       "      <td>application_data</td>\n",
       "      <td>BASEMENTAREA_MODE</td>\n",
       "      <td>Normalized information about building where the client lives, What is average (_AVG suffix), modus (_MODE suffix), median (_MEDI suffix) apartment size, common area, living area, age of building, number of elevators, number of entrances, state of the building, number of floor</td>\n",
       "      <td>normalized</td>\n",
       "    </tr>\n",
       "    <tr>\n",
       "      <th>59</th>\n",
       "      <td>application_data</td>\n",
       "      <td>YEARS_BEGINEXPLUATATION_MODE</td>\n",
       "      <td>Normalized information about building where the client lives, What is average (_AVG suffix), modus (_MODE suffix), median (_MEDI suffix) apartment size, common area, living area, age of building, number of elevators, number of entrances, state of the building, number of floor</td>\n",
       "      <td>normalized</td>\n",
       "    </tr>\n",
       "    <tr>\n",
       "      <th>60</th>\n",
       "      <td>application_data</td>\n",
       "      <td>YEARS_BUILD_MODE</td>\n",
       "      <td>Normalized information about building where the client lives, What is average (_AVG suffix), modus (_MODE suffix), median (_MEDI suffix) apartment size, common area, living area, age of building, number of elevators, number of entrances, state of the building, number of floor</td>\n",
       "      <td>normalized</td>\n",
       "    </tr>\n",
       "    <tr>\n",
       "      <th>61</th>\n",
       "      <td>application_data</td>\n",
       "      <td>COMMONAREA_MODE</td>\n",
       "      <td>Normalized information about building where the client lives, What is average (_AVG suffix), modus (_MODE suffix), median (_MEDI suffix) apartment size, common area, living area, age of building, number of elevators, number of entrances, state of the building, number of floor</td>\n",
       "      <td>normalized</td>\n",
       "    </tr>\n",
       "    <tr>\n",
       "      <th>62</th>\n",
       "      <td>application_data</td>\n",
       "      <td>ELEVATORS_MODE</td>\n",
       "      <td>Normalized information about building where the client lives, What is average (_AVG suffix), modus (_MODE suffix), median (_MEDI suffix) apartment size, common area, living area, age of building, number of elevators, number of entrances, state of the building, number of floor</td>\n",
       "      <td>normalized</td>\n",
       "    </tr>\n",
       "    <tr>\n",
       "      <th>63</th>\n",
       "      <td>application_data</td>\n",
       "      <td>ENTRANCES_MODE</td>\n",
       "      <td>Normalized information about building where the client lives, What is average (_AVG suffix), modus (_MODE suffix), median (_MEDI suffix) apartment size, common area, living area, age of building, number of elevators, number of entrances, state of the building, number of floor</td>\n",
       "      <td>normalized</td>\n",
       "    </tr>\n",
       "    <tr>\n",
       "      <th>64</th>\n",
       "      <td>application_data</td>\n",
       "      <td>FLOORSMAX_MODE</td>\n",
       "      <td>Normalized information about building where the client lives, What is average (_AVG suffix), modus (_MODE suffix), median (_MEDI suffix) apartment size, common area, living area, age of building, number of elevators, number of entrances, state of the building, number of floor</td>\n",
       "      <td>normalized</td>\n",
       "    </tr>\n",
       "    <tr>\n",
       "      <th>65</th>\n",
       "      <td>application_data</td>\n",
       "      <td>FLOORSMIN_MODE</td>\n",
       "      <td>Normalized information about building where the client lives, What is average (_AVG suffix), modus (_MODE suffix), median (_MEDI suffix) apartment size, common area, living area, age of building, number of elevators, number of entrances, state of the building, number of floor</td>\n",
       "      <td>normalized</td>\n",
       "    </tr>\n",
       "    <tr>\n",
       "      <th>66</th>\n",
       "      <td>application_data</td>\n",
       "      <td>LANDAREA_MODE</td>\n",
       "      <td>Normalized information about building where the client lives, What is average (_AVG suffix), modus (_MODE suffix), median (_MEDI suffix) apartment size, common area, living area, age of building, number of elevators, number of entrances, state of the building, number of floor</td>\n",
       "      <td>normalized</td>\n",
       "    </tr>\n",
       "    <tr>\n",
       "      <th>67</th>\n",
       "      <td>application_data</td>\n",
       "      <td>LIVINGAPARTMENTS_MODE</td>\n",
       "      <td>Normalized information about building where the client lives, What is average (_AVG suffix), modus (_MODE suffix), median (_MEDI suffix) apartment size, common area, living area, age of building, number of elevators, number of entrances, state of the building, number of floor</td>\n",
       "      <td>normalized</td>\n",
       "    </tr>\n",
       "    <tr>\n",
       "      <th>68</th>\n",
       "      <td>application_data</td>\n",
       "      <td>LIVINGAREA_MODE</td>\n",
       "      <td>Normalized information about building where the client lives, What is average (_AVG suffix), modus (_MODE suffix), median (_MEDI suffix) apartment size, common area, living area, age of building, number of elevators, number of entrances, state of the building, number of floor</td>\n",
       "      <td>normalized</td>\n",
       "    </tr>\n",
       "    <tr>\n",
       "      <th>69</th>\n",
       "      <td>application_data</td>\n",
       "      <td>NONLIVINGAPARTMENTS_MODE</td>\n",
       "      <td>Normalized information about building where the client lives, What is average (_AVG suffix), modus (_MODE suffix), median (_MEDI suffix) apartment size, common area, living area, age of building, number of elevators, number of entrances, state of the building, number of floor</td>\n",
       "      <td>normalized</td>\n",
       "    </tr>\n",
       "    <tr>\n",
       "      <th>70</th>\n",
       "      <td>application_data</td>\n",
       "      <td>NONLIVINGAREA_MODE</td>\n",
       "      <td>Normalized information about building where the client lives, What is average (_AVG suffix), modus (_MODE suffix), median (_MEDI suffix) apartment size, common area, living area, age of building, number of elevators, number of entrances, state of the building, number of floor</td>\n",
       "      <td>normalized</td>\n",
       "    </tr>\n",
       "    <tr>\n",
       "      <th>71</th>\n",
       "      <td>application_data</td>\n",
       "      <td>APARTMENTS_MEDI</td>\n",
       "      <td>Normalized information about building where the client lives, What is average (_AVG suffix), modus (_MODE suffix), median (_MEDI suffix) apartment size, common area, living area, age of building, number of elevators, number of entrances, state of the building, number of floor</td>\n",
       "      <td>normalized</td>\n",
       "    </tr>\n",
       "    <tr>\n",
       "      <th>72</th>\n",
       "      <td>application_data</td>\n",
       "      <td>BASEMENTAREA_MEDI</td>\n",
       "      <td>Normalized information about building where the client lives, What is average (_AVG suffix), modus (_MODE suffix), median (_MEDI suffix) apartment size, common area, living area, age of building, number of elevators, number of entrances, state of the building, number of floor</td>\n",
       "      <td>normalized</td>\n",
       "    </tr>\n",
       "    <tr>\n",
       "      <th>73</th>\n",
       "      <td>application_data</td>\n",
       "      <td>YEARS_BEGINEXPLUATATION_MEDI</td>\n",
       "      <td>Normalized information about building where the client lives, What is average (_AVG suffix), modus (_MODE suffix), median (_MEDI suffix) apartment size, common area, living area, age of building, number of elevators, number of entrances, state of the building, number of floor</td>\n",
       "      <td>normalized</td>\n",
       "    </tr>\n",
       "    <tr>\n",
       "      <th>74</th>\n",
       "      <td>application_data</td>\n",
       "      <td>YEARS_BUILD_MEDI</td>\n",
       "      <td>Normalized information about building where the client lives, What is average (_AVG suffix), modus (_MODE suffix), median (_MEDI suffix) apartment size, common area, living area, age of building, number of elevators, number of entrances, state of the building, number of floor</td>\n",
       "      <td>normalized</td>\n",
       "    </tr>\n",
       "    <tr>\n",
       "      <th>75</th>\n",
       "      <td>application_data</td>\n",
       "      <td>COMMONAREA_MEDI</td>\n",
       "      <td>Normalized information about building where the client lives, What is average (_AVG suffix), modus (_MODE suffix), median (_MEDI suffix) apartment size, common area, living area, age of building, number of elevators, number of entrances, state of the building, number of floor</td>\n",
       "      <td>normalized</td>\n",
       "    </tr>\n",
       "    <tr>\n",
       "      <th>76</th>\n",
       "      <td>application_data</td>\n",
       "      <td>ELEVATORS_MEDI</td>\n",
       "      <td>Normalized information about building where the client lives, What is average (_AVG suffix), modus (_MODE suffix), median (_MEDI suffix) apartment size, common area, living area, age of building, number of elevators, number of entrances, state of the building, number of floor</td>\n",
       "      <td>normalized</td>\n",
       "    </tr>\n",
       "    <tr>\n",
       "      <th>77</th>\n",
       "      <td>application_data</td>\n",
       "      <td>ENTRANCES_MEDI</td>\n",
       "      <td>Normalized information about building where the client lives, What is average (_AVG suffix), modus (_MODE suffix), median (_MEDI suffix) apartment size, common area, living area, age of building, number of elevators, number of entrances, state of the building, number of floor</td>\n",
       "      <td>normalized</td>\n",
       "    </tr>\n",
       "    <tr>\n",
       "      <th>78</th>\n",
       "      <td>application_data</td>\n",
       "      <td>FLOORSMAX_MEDI</td>\n",
       "      <td>Normalized information about building where the client lives, What is average (_AVG suffix), modus (_MODE suffix), median (_MEDI suffix) apartment size, common area, living area, age of building, number of elevators, number of entrances, state of the building, number of floor</td>\n",
       "      <td>normalized</td>\n",
       "    </tr>\n",
       "    <tr>\n",
       "      <th>79</th>\n",
       "      <td>application_data</td>\n",
       "      <td>FLOORSMIN_MEDI</td>\n",
       "      <td>Normalized information about building where the client lives, What is average (_AVG suffix), modus (_MODE suffix), median (_MEDI suffix) apartment size, common area, living area, age of building, number of elevators, number of entrances, state of the building, number of floor</td>\n",
       "      <td>normalized</td>\n",
       "    </tr>\n",
       "    <tr>\n",
       "      <th>80</th>\n",
       "      <td>application_data</td>\n",
       "      <td>LANDAREA_MEDI</td>\n",
       "      <td>Normalized information about building where the client lives, What is average (_AVG suffix), modus (_MODE suffix), median (_MEDI suffix) apartment size, common area, living area, age of building, number of elevators, number of entrances, state of the building, number of floor</td>\n",
       "      <td>normalized</td>\n",
       "    </tr>\n",
       "    <tr>\n",
       "      <th>81</th>\n",
       "      <td>application_data</td>\n",
       "      <td>LIVINGAPARTMENTS_MEDI</td>\n",
       "      <td>Normalized information about building where the client lives, What is average (_AVG suffix), modus (_MODE suffix), median (_MEDI suffix) apartment size, common area, living area, age of building, number of elevators, number of entrances, state of the building, number of floor</td>\n",
       "      <td>normalized</td>\n",
       "    </tr>\n",
       "    <tr>\n",
       "      <th>82</th>\n",
       "      <td>application_data</td>\n",
       "      <td>LIVINGAREA_MEDI</td>\n",
       "      <td>Normalized information about building where the client lives, What is average (_AVG suffix), modus (_MODE suffix), median (_MEDI suffix) apartment size, common area, living area, age of building, number of elevators, number of entrances, state of the building, number of floor</td>\n",
       "      <td>normalized</td>\n",
       "    </tr>\n",
       "    <tr>\n",
       "      <th>83</th>\n",
       "      <td>application_data</td>\n",
       "      <td>NONLIVINGAPARTMENTS_MEDI</td>\n",
       "      <td>Normalized information about building where the client lives, What is average (_AVG suffix), modus (_MODE suffix), median (_MEDI suffix) apartment size, common area, living area, age of building, number of elevators, number of entrances, state of the building, number of floor</td>\n",
       "      <td>normalized</td>\n",
       "    </tr>\n",
       "    <tr>\n",
       "      <th>84</th>\n",
       "      <td>application_data</td>\n",
       "      <td>NONLIVINGAREA_MEDI</td>\n",
       "      <td>Normalized information about building where the client lives, What is average (_AVG suffix), modus (_MODE suffix), median (_MEDI suffix) apartment size, common area, living area, age of building, number of elevators, number of entrances, state of the building, number of floor</td>\n",
       "      <td>normalized</td>\n",
       "    </tr>\n",
       "    <tr>\n",
       "      <th>85</th>\n",
       "      <td>application_data</td>\n",
       "      <td>FONDKAPREMONT_MODE</td>\n",
       "      <td>Normalized information about building where the client lives, What is average (_AVG suffix), modus (_MODE suffix), median (_MEDI suffix) apartment size, common area, living area, age of building, number of elevators, number of entrances, state of the building, number of floor</td>\n",
       "      <td>normalized</td>\n",
       "    </tr>\n",
       "    <tr>\n",
       "      <th>86</th>\n",
       "      <td>application_data</td>\n",
       "      <td>HOUSETYPE_MODE</td>\n",
       "      <td>Normalized information about building where the client lives, What is average (_AVG suffix), modus (_MODE suffix), median (_MEDI suffix) apartment size, common area, living area, age of building, number of elevators, number of entrances, state of the building, number of floor</td>\n",
       "      <td>normalized</td>\n",
       "    </tr>\n",
       "    <tr>\n",
       "      <th>87</th>\n",
       "      <td>application_data</td>\n",
       "      <td>TOTALAREA_MODE</td>\n",
       "      <td>Normalized information about building where the client lives, What is average (_AVG suffix), modus (_MODE suffix), median (_MEDI suffix) apartment size, common area, living area, age of building, number of elevators, number of entrances, state of the building, number of floor</td>\n",
       "      <td>normalized</td>\n",
       "    </tr>\n",
       "    <tr>\n",
       "      <th>88</th>\n",
       "      <td>application_data</td>\n",
       "      <td>WALLSMATERIAL_MODE</td>\n",
       "      <td>Normalized information about building where the client lives, What is average (_AVG suffix), modus (_MODE suffix), median (_MEDI suffix) apartment size, common area, living area, age of building, number of elevators, number of entrances, state of the building, number of floor</td>\n",
       "      <td>normalized</td>\n",
       "    </tr>\n",
       "    <tr>\n",
       "      <th>89</th>\n",
       "      <td>application_data</td>\n",
       "      <td>EMERGENCYSTATE_MODE</td>\n",
       "      <td>Normalized information about building where the client lives, What is average (_AVG suffix), modus (_MODE suffix), median (_MEDI suffix) apartment size, common area, living area, age of building, number of elevators, number of entrances, state of the building, number of floor</td>\n",
       "      <td>normalized</td>\n",
       "    </tr>\n",
       "    <tr>\n",
       "      <th>90</th>\n",
       "      <td>application_data</td>\n",
       "      <td>OBS_30_CNT_SOCIAL_CIRCLE</td>\n",
       "      <td>How many observation of client's social surroundings with observable 30 DPD (days past due) default</td>\n",
       "      <td>NaN</td>\n",
       "    </tr>\n",
       "    <tr>\n",
       "      <th>91</th>\n",
       "      <td>application_data</td>\n",
       "      <td>DEF_30_CNT_SOCIAL_CIRCLE</td>\n",
       "      <td>How many observation of client's social surroundings defaulted on 30 DPD (days past due)</td>\n",
       "      <td>NaN</td>\n",
       "    </tr>\n",
       "    <tr>\n",
       "      <th>92</th>\n",
       "      <td>application_data</td>\n",
       "      <td>OBS_60_CNT_SOCIAL_CIRCLE</td>\n",
       "      <td>How many observation of client's social surroundings with observable 60 DPD (days past due) default</td>\n",
       "      <td>NaN</td>\n",
       "    </tr>\n",
       "    <tr>\n",
       "      <th>93</th>\n",
       "      <td>application_data</td>\n",
       "      <td>DEF_60_CNT_SOCIAL_CIRCLE</td>\n",
       "      <td>How many observation of client's social surroundings defaulted on 60 (days past due) DPD</td>\n",
       "      <td>NaN</td>\n",
       "    </tr>\n",
       "    <tr>\n",
       "      <th>94</th>\n",
       "      <td>application_data</td>\n",
       "      <td>DAYS_LAST_PHONE_CHANGE</td>\n",
       "      <td>How many days before application did client change phone</td>\n",
       "      <td>NaN</td>\n",
       "    </tr>\n",
       "    <tr>\n",
       "      <th>95</th>\n",
       "      <td>application_data</td>\n",
       "      <td>FLAG_DOCUMENT_2</td>\n",
       "      <td>Did client provide document 2</td>\n",
       "      <td>NaN</td>\n",
       "    </tr>\n",
       "    <tr>\n",
       "      <th>96</th>\n",
       "      <td>application_data</td>\n",
       "      <td>FLAG_DOCUMENT_3</td>\n",
       "      <td>Did client provide document 3</td>\n",
       "      <td>NaN</td>\n",
       "    </tr>\n",
       "    <tr>\n",
       "      <th>97</th>\n",
       "      <td>application_data</td>\n",
       "      <td>FLAG_DOCUMENT_4</td>\n",
       "      <td>Did client provide document 4</td>\n",
       "      <td>NaN</td>\n",
       "    </tr>\n",
       "    <tr>\n",
       "      <th>98</th>\n",
       "      <td>application_data</td>\n",
       "      <td>FLAG_DOCUMENT_5</td>\n",
       "      <td>Did client provide document 5</td>\n",
       "      <td>NaN</td>\n",
       "    </tr>\n",
       "    <tr>\n",
       "      <th>99</th>\n",
       "      <td>application_data</td>\n",
       "      <td>FLAG_DOCUMENT_6</td>\n",
       "      <td>Did client provide document 6</td>\n",
       "      <td>NaN</td>\n",
       "    </tr>\n",
       "    <tr>\n",
       "      <th>100</th>\n",
       "      <td>application_data</td>\n",
       "      <td>FLAG_DOCUMENT_7</td>\n",
       "      <td>Did client provide document 7</td>\n",
       "      <td>NaN</td>\n",
       "    </tr>\n",
       "    <tr>\n",
       "      <th>101</th>\n",
       "      <td>application_data</td>\n",
       "      <td>FLAG_DOCUMENT_8</td>\n",
       "      <td>Did client provide document 8</td>\n",
       "      <td>NaN</td>\n",
       "    </tr>\n",
       "    <tr>\n",
       "      <th>102</th>\n",
       "      <td>application_data</td>\n",
       "      <td>FLAG_DOCUMENT_9</td>\n",
       "      <td>Did client provide document 9</td>\n",
       "      <td>NaN</td>\n",
       "    </tr>\n",
       "    <tr>\n",
       "      <th>103</th>\n",
       "      <td>application_data</td>\n",
       "      <td>FLAG_DOCUMENT_10</td>\n",
       "      <td>Did client provide document 10</td>\n",
       "      <td>NaN</td>\n",
       "    </tr>\n",
       "    <tr>\n",
       "      <th>104</th>\n",
       "      <td>application_data</td>\n",
       "      <td>FLAG_DOCUMENT_11</td>\n",
       "      <td>Did client provide document 11</td>\n",
       "      <td>NaN</td>\n",
       "    </tr>\n",
       "    <tr>\n",
       "      <th>105</th>\n",
       "      <td>application_data</td>\n",
       "      <td>FLAG_DOCUMENT_12</td>\n",
       "      <td>Did client provide document 12</td>\n",
       "      <td>NaN</td>\n",
       "    </tr>\n",
       "    <tr>\n",
       "      <th>106</th>\n",
       "      <td>application_data</td>\n",
       "      <td>FLAG_DOCUMENT_13</td>\n",
       "      <td>Did client provide document 13</td>\n",
       "      <td>NaN</td>\n",
       "    </tr>\n",
       "    <tr>\n",
       "      <th>107</th>\n",
       "      <td>application_data</td>\n",
       "      <td>FLAG_DOCUMENT_14</td>\n",
       "      <td>Did client provide document 14</td>\n",
       "      <td>NaN</td>\n",
       "    </tr>\n",
       "    <tr>\n",
       "      <th>108</th>\n",
       "      <td>application_data</td>\n",
       "      <td>FLAG_DOCUMENT_15</td>\n",
       "      <td>Did client provide document 15</td>\n",
       "      <td>NaN</td>\n",
       "    </tr>\n",
       "    <tr>\n",
       "      <th>109</th>\n",
       "      <td>application_data</td>\n",
       "      <td>FLAG_DOCUMENT_16</td>\n",
       "      <td>Did client provide document 16</td>\n",
       "      <td>NaN</td>\n",
       "    </tr>\n",
       "    <tr>\n",
       "      <th>110</th>\n",
       "      <td>application_data</td>\n",
       "      <td>FLAG_DOCUMENT_17</td>\n",
       "      <td>Did client provide document 17</td>\n",
       "      <td>NaN</td>\n",
       "    </tr>\n",
       "    <tr>\n",
       "      <th>111</th>\n",
       "      <td>application_data</td>\n",
       "      <td>FLAG_DOCUMENT_18</td>\n",
       "      <td>Did client provide document 18</td>\n",
       "      <td>NaN</td>\n",
       "    </tr>\n",
       "    <tr>\n",
       "      <th>112</th>\n",
       "      <td>application_data</td>\n",
       "      <td>FLAG_DOCUMENT_19</td>\n",
       "      <td>Did client provide document 19</td>\n",
       "      <td>NaN</td>\n",
       "    </tr>\n",
       "    <tr>\n",
       "      <th>113</th>\n",
       "      <td>application_data</td>\n",
       "      <td>FLAG_DOCUMENT_20</td>\n",
       "      <td>Did client provide document 20</td>\n",
       "      <td>NaN</td>\n",
       "    </tr>\n",
       "    <tr>\n",
       "      <th>114</th>\n",
       "      <td>application_data</td>\n",
       "      <td>FLAG_DOCUMENT_21</td>\n",
       "      <td>Did client provide document 21</td>\n",
       "      <td>NaN</td>\n",
       "    </tr>\n",
       "    <tr>\n",
       "      <th>115</th>\n",
       "      <td>application_data</td>\n",
       "      <td>AMT_REQ_CREDIT_BUREAU_HOUR</td>\n",
       "      <td>Number of enquiries to Credit Bureau about the client one hour before application</td>\n",
       "      <td>NaN</td>\n",
       "    </tr>\n",
       "    <tr>\n",
       "      <th>116</th>\n",
       "      <td>application_data</td>\n",
       "      <td>AMT_REQ_CREDIT_BUREAU_DAY</td>\n",
       "      <td>Number of enquiries to Credit Bureau about the client one day before application (excluding one hour before application)</td>\n",
       "      <td>NaN</td>\n",
       "    </tr>\n",
       "    <tr>\n",
       "      <th>117</th>\n",
       "      <td>application_data</td>\n",
       "      <td>AMT_REQ_CREDIT_BUREAU_WEEK</td>\n",
       "      <td>Number of enquiries to Credit Bureau about the client one week before application (excluding one day before application)</td>\n",
       "      <td>NaN</td>\n",
       "    </tr>\n",
       "    <tr>\n",
       "      <th>118</th>\n",
       "      <td>application_data</td>\n",
       "      <td>AMT_REQ_CREDIT_BUREAU_MON</td>\n",
       "      <td>Number of enquiries to Credit Bureau about the client one month before application (excluding one week before application)</td>\n",
       "      <td>NaN</td>\n",
       "    </tr>\n",
       "    <tr>\n",
       "      <th>119</th>\n",
       "      <td>application_data</td>\n",
       "      <td>AMT_REQ_CREDIT_BUREAU_QRT</td>\n",
       "      <td>Number of enquiries to Credit Bureau about the client 3 month before application (excluding one month before application)</td>\n",
       "      <td>NaN</td>\n",
       "    </tr>\n",
       "    <tr>\n",
       "      <th>120</th>\n",
       "      <td>application_data</td>\n",
       "      <td>AMT_REQ_CREDIT_BUREAU_YEAR</td>\n",
       "      <td>Number of enquiries to Credit Bureau about the client one day year (excluding last 3 months before application)</td>\n",
       "      <td>NaN</td>\n",
       "    </tr>\n",
       "    <tr>\n",
       "      <th>121</th>\n",
       "      <td>previous_application.csv</td>\n",
       "      <td>SK_ID_PREV</td>\n",
       "      <td>ID of previous credit in Home credit related to loan in our sample. (One loan in our sample can have 0,1,2 or more previous loan applications in Home Credit, previous application could, but not necessarily have to lead to credit)</td>\n",
       "      <td>hashed</td>\n",
       "    </tr>\n",
       "    <tr>\n",
       "      <th>122</th>\n",
       "      <td>previous_application.csv</td>\n",
       "      <td>SK_ID_CURR</td>\n",
       "      <td>ID of loan in our sample</td>\n",
       "      <td>hashed</td>\n",
       "    </tr>\n",
       "    <tr>\n",
       "      <th>123</th>\n",
       "      <td>previous_application.csv</td>\n",
       "      <td>NAME_CONTRACT_TYPE</td>\n",
       "      <td>Contract product type (Cash loan, consumer loan [POS] ,...) of the previous application</td>\n",
       "      <td>NaN</td>\n",
       "    </tr>\n",
       "    <tr>\n",
       "      <th>124</th>\n",
       "      <td>previous_application.csv</td>\n",
       "      <td>AMT_ANNUITY</td>\n",
       "      <td>Annuity of previous application</td>\n",
       "      <td>NaN</td>\n",
       "    </tr>\n",
       "    <tr>\n",
       "      <th>125</th>\n",
       "      <td>previous_application.csv</td>\n",
       "      <td>AMT_APPLICATION</td>\n",
       "      <td>For how much credit did client ask on the previous application</td>\n",
       "      <td>NaN</td>\n",
       "    </tr>\n",
       "    <tr>\n",
       "      <th>126</th>\n",
       "      <td>previous_application.csv</td>\n",
       "      <td>AMT_CREDIT</td>\n",
       "      <td>Final credit amount on the previous application. This differs from AMT_APPLICATION in a way that the AMT_APPLICATION is the amount for which the client initially applied for, but during our approval process he could have received different amount - AMT_CREDIT</td>\n",
       "      <td>NaN</td>\n",
       "    </tr>\n",
       "    <tr>\n",
       "      <th>127</th>\n",
       "      <td>previous_application.csv</td>\n",
       "      <td>AMT_DOWN_PAYMENT</td>\n",
       "      <td>Down payment on the previous application</td>\n",
       "      <td>NaN</td>\n",
       "    </tr>\n",
       "    <tr>\n",
       "      <th>128</th>\n",
       "      <td>previous_application.csv</td>\n",
       "      <td>AMT_GOODS_PRICE</td>\n",
       "      <td>Goods price of good that client asked for (if applicable) on the previous application</td>\n",
       "      <td>NaN</td>\n",
       "    </tr>\n",
       "    <tr>\n",
       "      <th>129</th>\n",
       "      <td>previous_application.csv</td>\n",
       "      <td>WEEKDAY_APPR_PROCESS_START</td>\n",
       "      <td>On which day of the week did the client apply for previous application</td>\n",
       "      <td>NaN</td>\n",
       "    </tr>\n",
       "    <tr>\n",
       "      <th>130</th>\n",
       "      <td>previous_application.csv</td>\n",
       "      <td>HOUR_APPR_PROCESS_START</td>\n",
       "      <td>Approximately at what day hour did the client apply for the previous application</td>\n",
       "      <td>rounded</td>\n",
       "    </tr>\n",
       "    <tr>\n",
       "      <th>131</th>\n",
       "      <td>previous_application.csv</td>\n",
       "      <td>FLAG_LAST_APPL_PER_CONTRACT</td>\n",
       "      <td>Flag if it was last application for the previous contract. Sometimes by mistake of client or our clerk there could be more applications for one single contract</td>\n",
       "      <td>NaN</td>\n",
       "    </tr>\n",
       "    <tr>\n",
       "      <th>132</th>\n",
       "      <td>previous_application.csv</td>\n",
       "      <td>NFLAG_LAST_APPL_IN_DAY</td>\n",
       "      <td>Flag if the application was the last application per day of the client. Sometimes clients apply for more applications a day. Rarely it could also be error in our system that one application is in the database twice</td>\n",
       "      <td>NaN</td>\n",
       "    </tr>\n",
       "    <tr>\n",
       "      <th>133</th>\n",
       "      <td>previous_application.csv</td>\n",
       "      <td>NFLAG_MICRO_CASH</td>\n",
       "      <td>Flag Micro finance loan</td>\n",
       "      <td>NaN</td>\n",
       "    </tr>\n",
       "    <tr>\n",
       "      <th>134</th>\n",
       "      <td>previous_application.csv</td>\n",
       "      <td>RATE_DOWN_PAYMENT</td>\n",
       "      <td>Down payment rate normalized on previous credit</td>\n",
       "      <td>normalized</td>\n",
       "    </tr>\n",
       "    <tr>\n",
       "      <th>135</th>\n",
       "      <td>previous_application.csv</td>\n",
       "      <td>RATE_INTEREST_PRIMARY</td>\n",
       "      <td>Interest rate normalized on previous credit</td>\n",
       "      <td>normalized</td>\n",
       "    </tr>\n",
       "    <tr>\n",
       "      <th>136</th>\n",
       "      <td>previous_application.csv</td>\n",
       "      <td>RATE_INTEREST_PRIVILEGED</td>\n",
       "      <td>Interest rate normalized on previous credit</td>\n",
       "      <td>normalized</td>\n",
       "    </tr>\n",
       "    <tr>\n",
       "      <th>137</th>\n",
       "      <td>previous_application.csv</td>\n",
       "      <td>NAME_CASH_LOAN_PURPOSE</td>\n",
       "      <td>Purpose of the cash loan</td>\n",
       "      <td>NaN</td>\n",
       "    </tr>\n",
       "    <tr>\n",
       "      <th>138</th>\n",
       "      <td>previous_application.csv</td>\n",
       "      <td>NAME_CONTRACT_STATUS</td>\n",
       "      <td>Contract status (approved, cancelled, ...) of previous application</td>\n",
       "      <td>NaN</td>\n",
       "    </tr>\n",
       "    <tr>\n",
       "      <th>139</th>\n",
       "      <td>previous_application.csv</td>\n",
       "      <td>DAYS_DECISION</td>\n",
       "      <td>Relative to current application when was the decision about previous application made</td>\n",
       "      <td>time only relative to the application</td>\n",
       "    </tr>\n",
       "    <tr>\n",
       "      <th>140</th>\n",
       "      <td>previous_application.csv</td>\n",
       "      <td>NAME_PAYMENT_TYPE</td>\n",
       "      <td>Payment method that client chose to pay for the previous application</td>\n",
       "      <td>NaN</td>\n",
       "    </tr>\n",
       "    <tr>\n",
       "      <th>141</th>\n",
       "      <td>previous_application.csv</td>\n",
       "      <td>CODE_REJECT_REASON</td>\n",
       "      <td>Why was the previous application rejected</td>\n",
       "      <td>NaN</td>\n",
       "    </tr>\n",
       "    <tr>\n",
       "      <th>142</th>\n",
       "      <td>previous_application.csv</td>\n",
       "      <td>NAME_TYPE_SUITE</td>\n",
       "      <td>Who accompanied client when applying for the previous application</td>\n",
       "      <td>NaN</td>\n",
       "    </tr>\n",
       "    <tr>\n",
       "      <th>143</th>\n",
       "      <td>previous_application.csv</td>\n",
       "      <td>NAME_CLIENT_TYPE</td>\n",
       "      <td>Was the client old or new client when applying for the previous application</td>\n",
       "      <td>NaN</td>\n",
       "    </tr>\n",
       "    <tr>\n",
       "      <th>144</th>\n",
       "      <td>previous_application.csv</td>\n",
       "      <td>NAME_GOODS_CATEGORY</td>\n",
       "      <td>What kind of goods did the client apply for in the previous application</td>\n",
       "      <td>NaN</td>\n",
       "    </tr>\n",
       "    <tr>\n",
       "      <th>145</th>\n",
       "      <td>previous_application.csv</td>\n",
       "      <td>NAME_PORTFOLIO</td>\n",
       "      <td>Was the previous application for CASH, POS, CAR, …</td>\n",
       "      <td>NaN</td>\n",
       "    </tr>\n",
       "    <tr>\n",
       "      <th>146</th>\n",
       "      <td>previous_application.csv</td>\n",
       "      <td>NAME_PRODUCT_TYPE</td>\n",
       "      <td>Was the previous application x-sell o walk-in</td>\n",
       "      <td>NaN</td>\n",
       "    </tr>\n",
       "    <tr>\n",
       "      <th>147</th>\n",
       "      <td>previous_application.csv</td>\n",
       "      <td>CHANNEL_TYPE</td>\n",
       "      <td>Through which channel we acquired the client on the previous application</td>\n",
       "      <td>NaN</td>\n",
       "    </tr>\n",
       "    <tr>\n",
       "      <th>148</th>\n",
       "      <td>previous_application.csv</td>\n",
       "      <td>SELLERPLACE_AREA</td>\n",
       "      <td>Selling area of seller place of the previous application</td>\n",
       "      <td>NaN</td>\n",
       "    </tr>\n",
       "    <tr>\n",
       "      <th>149</th>\n",
       "      <td>previous_application.csv</td>\n",
       "      <td>NAME_SELLER_INDUSTRY</td>\n",
       "      <td>The industry of the seller</td>\n",
       "      <td>NaN</td>\n",
       "    </tr>\n",
       "    <tr>\n",
       "      <th>150</th>\n",
       "      <td>previous_application.csv</td>\n",
       "      <td>CNT_PAYMENT</td>\n",
       "      <td>Term of previous credit at application of the previous application</td>\n",
       "      <td>NaN</td>\n",
       "    </tr>\n",
       "    <tr>\n",
       "      <th>151</th>\n",
       "      <td>previous_application.csv</td>\n",
       "      <td>NAME_YIELD_GROUP</td>\n",
       "      <td>Grouped interest rate into small medium and high of the previous application</td>\n",
       "      <td>grouped</td>\n",
       "    </tr>\n",
       "    <tr>\n",
       "      <th>152</th>\n",
       "      <td>previous_application.csv</td>\n",
       "      <td>PRODUCT_COMBINATION</td>\n",
       "      <td>Detailed product combination of the previous application</td>\n",
       "      <td>NaN</td>\n",
       "    </tr>\n",
       "    <tr>\n",
       "      <th>153</th>\n",
       "      <td>previous_application.csv</td>\n",
       "      <td>DAYS_FIRST_DRAWING</td>\n",
       "      <td>Relative to application date of current application when was the first disbursement of the previous application</td>\n",
       "      <td>time only relative to the application</td>\n",
       "    </tr>\n",
       "    <tr>\n",
       "      <th>154</th>\n",
       "      <td>previous_application.csv</td>\n",
       "      <td>DAYS_FIRST_DUE</td>\n",
       "      <td>Relative to application date of current application when was the first due supposed to be of the previous application</td>\n",
       "      <td>time only relative to the application</td>\n",
       "    </tr>\n",
       "    <tr>\n",
       "      <th>155</th>\n",
       "      <td>previous_application.csv</td>\n",
       "      <td>DAYS_LAST_DUE_1ST_VERSION</td>\n",
       "      <td>Relative to application date of current application when was the first due of the previous application</td>\n",
       "      <td>time only relative to the application</td>\n",
       "    </tr>\n",
       "    <tr>\n",
       "      <th>156</th>\n",
       "      <td>previous_application.csv</td>\n",
       "      <td>DAYS_LAST_DUE</td>\n",
       "      <td>Relative to application date of current application when was the last due date of the previous application</td>\n",
       "      <td>time only relative to the application</td>\n",
       "    </tr>\n",
       "    <tr>\n",
       "      <th>157</th>\n",
       "      <td>previous_application.csv</td>\n",
       "      <td>DAYS_TERMINATION</td>\n",
       "      <td>Relative to application date of current application when was the expected termination of the previous application</td>\n",
       "      <td>time only relative to the application</td>\n",
       "    </tr>\n",
       "    <tr>\n",
       "      <th>158</th>\n",
       "      <td>previous_application.csv</td>\n",
       "      <td>NFLAG_INSURED_ON_APPROVAL</td>\n",
       "      <td>Did the client requested insurance during the previous application</td>\n",
       "      <td>NaN</td>\n",
       "    </tr>\n",
       "  </tbody>\n",
       "</table>\n",
       "</div>"
      ],
      "text/plain": [
       "             application_data                    SK_ID_CURR  \\\n",
       "0    application_data          TARGET                         \n",
       "1    application_data          NAME_CONTRACT_TYPE             \n",
       "2    application_data          CODE_GENDER                    \n",
       "3    application_data          FLAG_OWN_CAR                   \n",
       "4    application_data          FLAG_OWN_REALTY                \n",
       "5    application_data          CNT_CHILDREN                   \n",
       "6    application_data          AMT_INCOME_TOTAL               \n",
       "7    application_data          AMT_CREDIT                     \n",
       "8    application_data          AMT_ANNUITY                    \n",
       "9    application_data          AMT_GOODS_PRICE                \n",
       "10   application_data          NAME_TYPE_SUITE                \n",
       "11   application_data          NAME_INCOME_TYPE               \n",
       "12   application_data          NAME_EDUCATION_TYPE            \n",
       "13   application_data          NAME_FAMILY_STATUS             \n",
       "14   application_data          NAME_HOUSING_TYPE              \n",
       "15   application_data          REGION_POPULATION_RELATIVE     \n",
       "16   application_data          DAYS_BIRTH                     \n",
       "17   application_data          DAYS_EMPLOYED                  \n",
       "18   application_data          DAYS_REGISTRATION              \n",
       "19   application_data          DAYS_ID_PUBLISH                \n",
       "20   application_data          OWN_CAR_AGE                    \n",
       "21   application_data          FLAG_MOBIL                     \n",
       "22   application_data          FLAG_EMP_PHONE                 \n",
       "23   application_data          FLAG_WORK_PHONE                \n",
       "24   application_data          FLAG_CONT_MOBILE               \n",
       "25   application_data          FLAG_PHONE                     \n",
       "26   application_data          FLAG_EMAIL                     \n",
       "27   application_data          OCCUPATION_TYPE                \n",
       "28   application_data          CNT_FAM_MEMBERS                \n",
       "29   application_data          REGION_RATING_CLIENT           \n",
       "30   application_data          REGION_RATING_CLIENT_W_CITY    \n",
       "31   application_data          WEEKDAY_APPR_PROCESS_START     \n",
       "32   application_data          HOUR_APPR_PROCESS_START        \n",
       "33   application_data          REG_REGION_NOT_LIVE_REGION     \n",
       "34   application_data          REG_REGION_NOT_WORK_REGION     \n",
       "35   application_data          LIVE_REGION_NOT_WORK_REGION    \n",
       "36   application_data          REG_CITY_NOT_LIVE_CITY         \n",
       "37   application_data          REG_CITY_NOT_WORK_CITY         \n",
       "38   application_data          LIVE_CITY_NOT_WORK_CITY        \n",
       "39   application_data          ORGANIZATION_TYPE              \n",
       "40   application_data          EXT_SOURCE_1                   \n",
       "41   application_data          EXT_SOURCE_2                   \n",
       "42   application_data          EXT_SOURCE_3                   \n",
       "43   application_data          APARTMENTS_AVG                 \n",
       "44   application_data          BASEMENTAREA_AVG               \n",
       "45   application_data          YEARS_BEGINEXPLUATATION_AVG    \n",
       "46   application_data          YEARS_BUILD_AVG                \n",
       "47   application_data          COMMONAREA_AVG                 \n",
       "48   application_data          ELEVATORS_AVG                  \n",
       "49   application_data          ENTRANCES_AVG                  \n",
       "50   application_data          FLOORSMAX_AVG                  \n",
       "51   application_data          FLOORSMIN_AVG                  \n",
       "52   application_data          LANDAREA_AVG                   \n",
       "53   application_data          LIVINGAPARTMENTS_AVG           \n",
       "54   application_data          LIVINGAREA_AVG                 \n",
       "55   application_data          NONLIVINGAPARTMENTS_AVG        \n",
       "56   application_data          NONLIVINGAREA_AVG              \n",
       "57   application_data          APARTMENTS_MODE                \n",
       "58   application_data          BASEMENTAREA_MODE              \n",
       "59   application_data          YEARS_BEGINEXPLUATATION_MODE   \n",
       "60   application_data          YEARS_BUILD_MODE               \n",
       "61   application_data          COMMONAREA_MODE                \n",
       "62   application_data          ELEVATORS_MODE                 \n",
       "63   application_data          ENTRANCES_MODE                 \n",
       "64   application_data          FLOORSMAX_MODE                 \n",
       "65   application_data          FLOORSMIN_MODE                 \n",
       "66   application_data          LANDAREA_MODE                  \n",
       "67   application_data          LIVINGAPARTMENTS_MODE          \n",
       "68   application_data          LIVINGAREA_MODE                \n",
       "69   application_data          NONLIVINGAPARTMENTS_MODE       \n",
       "70   application_data          NONLIVINGAREA_MODE             \n",
       "71   application_data          APARTMENTS_MEDI                \n",
       "72   application_data          BASEMENTAREA_MEDI              \n",
       "73   application_data          YEARS_BEGINEXPLUATATION_MEDI   \n",
       "74   application_data          YEARS_BUILD_MEDI               \n",
       "75   application_data          COMMONAREA_MEDI                \n",
       "76   application_data          ELEVATORS_MEDI                 \n",
       "77   application_data          ENTRANCES_MEDI                 \n",
       "78   application_data          FLOORSMAX_MEDI                 \n",
       "79   application_data          FLOORSMIN_MEDI                 \n",
       "80   application_data          LANDAREA_MEDI                  \n",
       "81   application_data          LIVINGAPARTMENTS_MEDI          \n",
       "82   application_data          LIVINGAREA_MEDI                \n",
       "83   application_data          NONLIVINGAPARTMENTS_MEDI       \n",
       "84   application_data          NONLIVINGAREA_MEDI             \n",
       "85   application_data          FONDKAPREMONT_MODE             \n",
       "86   application_data          HOUSETYPE_MODE                 \n",
       "87   application_data          TOTALAREA_MODE                 \n",
       "88   application_data          WALLSMATERIAL_MODE             \n",
       "89   application_data          EMERGENCYSTATE_MODE            \n",
       "90   application_data          OBS_30_CNT_SOCIAL_CIRCLE       \n",
       "91   application_data          DEF_30_CNT_SOCIAL_CIRCLE       \n",
       "92   application_data          OBS_60_CNT_SOCIAL_CIRCLE       \n",
       "93   application_data          DEF_60_CNT_SOCIAL_CIRCLE       \n",
       "94   application_data          DAYS_LAST_PHONE_CHANGE         \n",
       "95   application_data          FLAG_DOCUMENT_2                \n",
       "96   application_data          FLAG_DOCUMENT_3                \n",
       "97   application_data          FLAG_DOCUMENT_4                \n",
       "98   application_data          FLAG_DOCUMENT_5                \n",
       "99   application_data          FLAG_DOCUMENT_6                \n",
       "100  application_data          FLAG_DOCUMENT_7                \n",
       "101  application_data          FLAG_DOCUMENT_8                \n",
       "102  application_data          FLAG_DOCUMENT_9                \n",
       "103  application_data          FLAG_DOCUMENT_10               \n",
       "104  application_data          FLAG_DOCUMENT_11               \n",
       "105  application_data          FLAG_DOCUMENT_12               \n",
       "106  application_data          FLAG_DOCUMENT_13               \n",
       "107  application_data          FLAG_DOCUMENT_14               \n",
       "108  application_data          FLAG_DOCUMENT_15               \n",
       "109  application_data          FLAG_DOCUMENT_16               \n",
       "110  application_data          FLAG_DOCUMENT_17               \n",
       "111  application_data          FLAG_DOCUMENT_18               \n",
       "112  application_data          FLAG_DOCUMENT_19               \n",
       "113  application_data          FLAG_DOCUMENT_20               \n",
       "114  application_data          FLAG_DOCUMENT_21               \n",
       "115  application_data          AMT_REQ_CREDIT_BUREAU_HOUR     \n",
       "116  application_data          AMT_REQ_CREDIT_BUREAU_DAY      \n",
       "117  application_data          AMT_REQ_CREDIT_BUREAU_WEEK     \n",
       "118  application_data          AMT_REQ_CREDIT_BUREAU_MON      \n",
       "119  application_data          AMT_REQ_CREDIT_BUREAU_QRT      \n",
       "120  application_data          AMT_REQ_CREDIT_BUREAU_YEAR     \n",
       "121  previous_application.csv  SK_ID_PREV                     \n",
       "122  previous_application.csv  SK_ID_CURR                     \n",
       "123  previous_application.csv  NAME_CONTRACT_TYPE             \n",
       "124  previous_application.csv  AMT_ANNUITY                    \n",
       "125  previous_application.csv  AMT_APPLICATION                \n",
       "126  previous_application.csv  AMT_CREDIT                     \n",
       "127  previous_application.csv  AMT_DOWN_PAYMENT               \n",
       "128  previous_application.csv  AMT_GOODS_PRICE                \n",
       "129  previous_application.csv  WEEKDAY_APPR_PROCESS_START     \n",
       "130  previous_application.csv  HOUR_APPR_PROCESS_START        \n",
       "131  previous_application.csv  FLAG_LAST_APPL_PER_CONTRACT    \n",
       "132  previous_application.csv  NFLAG_LAST_APPL_IN_DAY         \n",
       "133  previous_application.csv  NFLAG_MICRO_CASH               \n",
       "134  previous_application.csv  RATE_DOWN_PAYMENT              \n",
       "135  previous_application.csv  RATE_INTEREST_PRIMARY          \n",
       "136  previous_application.csv  RATE_INTEREST_PRIVILEGED       \n",
       "137  previous_application.csv  NAME_CASH_LOAN_PURPOSE         \n",
       "138  previous_application.csv  NAME_CONTRACT_STATUS           \n",
       "139  previous_application.csv  DAYS_DECISION                  \n",
       "140  previous_application.csv  NAME_PAYMENT_TYPE              \n",
       "141  previous_application.csv  CODE_REJECT_REASON             \n",
       "142  previous_application.csv  NAME_TYPE_SUITE                \n",
       "143  previous_application.csv  NAME_CLIENT_TYPE               \n",
       "144  previous_application.csv  NAME_GOODS_CATEGORY            \n",
       "145  previous_application.csv  NAME_PORTFOLIO                 \n",
       "146  previous_application.csv  NAME_PRODUCT_TYPE              \n",
       "147  previous_application.csv  CHANNEL_TYPE                   \n",
       "148  previous_application.csv  SELLERPLACE_AREA               \n",
       "149  previous_application.csv  NAME_SELLER_INDUSTRY           \n",
       "150  previous_application.csv  CNT_PAYMENT                    \n",
       "151  previous_application.csv  NAME_YIELD_GROUP               \n",
       "152  previous_application.csv  PRODUCT_COMBINATION            \n",
       "153  previous_application.csv  DAYS_FIRST_DRAWING             \n",
       "154  previous_application.csv  DAYS_FIRST_DUE                 \n",
       "155  previous_application.csv  DAYS_LAST_DUE_1ST_VERSION      \n",
       "156  previous_application.csv  DAYS_LAST_DUE                  \n",
       "157  previous_application.csv  DAYS_TERMINATION               \n",
       "158  previous_application.csv  NFLAG_INSURED_ON_APPROVAL      \n",
       "\n",
       "                                                                                                                                                                                                                                                                 ID of loan in our sample  \\\n",
       "0    Target variable (1 - client with payment difficulties: he/she had late payment more than X days on at least one of the first Y installments of the loan in our sample, 0 - all other cases)                                                                                            \n",
       "1    Identification if loan is cash or revolving                                                                                                                                                                                                                                            \n",
       "2    Gender of the client                                                                                                                                                                                                                                                                   \n",
       "3    Flag if the client owns a car                                                                                                                                                                                                                                                          \n",
       "4    Flag if client owns a house or flat                                                                                                                                                                                                                                                    \n",
       "5    Number of children the client has                                                                                                                                                                                                                                                      \n",
       "6    Income of the client                                                                                                                                                                                                                                                                   \n",
       "7    Credit amount of the loan                                                                                                                                                                                                                                                              \n",
       "8    Loan annuity                                                                                                                                                                                                                                                                           \n",
       "9    For consumer loans it is the price of the goods for which the loan is given                                                                                                                                                                                                            \n",
       "10   Who was accompanying client when he was applying for the loan                                                                                                                                                                                                                          \n",
       "11   Clients income type (businessman, working, maternity leave,…)                                                                                                                                                                                                                          \n",
       "12   Level of highest education the client achieved                                                                                                                                                                                                                                         \n",
       "13   Family status of the client                                                                                                                                                                                                                                                            \n",
       "14   What is the housing situation of the client (renting, living with parents, ...)                                                                                                                                                                                                        \n",
       "15   Normalized population of region where client lives (higher number means the client lives in more populated region)                                                                                                                                                                     \n",
       "16   Client's age in days at the time of application                                                                                                                                                                                                                                        \n",
       "17   How many days before the application the person started current employment                                                                                                                                                                                                             \n",
       "18   How many days before the application did client change his registration                                                                                                                                                                                                                \n",
       "19   How many days before the application did client change the identity document with which he applied for the loan                                                                                                                                                                        \n",
       "20   Age of client's car                                                                                                                                                                                                                                                                    \n",
       "21   Did client provide mobile phone (1=YES, 0=NO)                                                                                                                                                                                                                                          \n",
       "22   Did client provide work phone (1=YES, 0=NO)                                                                                                                                                                                                                                            \n",
       "23   Did client provide home phone (1=YES, 0=NO)                                                                                                                                                                                                                                            \n",
       "24   Was mobile phone reachable (1=YES, 0=NO)                                                                                                                                                                                                                                               \n",
       "25   Did client provide home phone (1=YES, 0=NO)                                                                                                                                                                                                                                            \n",
       "26   Did client provide email (1=YES, 0=NO)                                                                                                                                                                                                                                                 \n",
       "27   What kind of occupation does the client have                                                                                                                                                                                                                                           \n",
       "28   How many family members does client have                                                                                                                                                                                                                                               \n",
       "29   Our rating of the region where client lives (1,2,3)                                                                                                                                                                                                                                    \n",
       "30   Our rating of the region where client lives with taking city into account (1,2,3)                                                                                                                                                                                                      \n",
       "31   On which day of the week did the client apply for the loan                                                                                                                                                                                                                             \n",
       "32   Approximately at what hour did the client apply for the loan                                                                                                                                                                                                                           \n",
       "33   Flag if client's permanent address does not match contact address (1=different, 0=same, at region level)                                                                                                                                                                               \n",
       "34   Flag if client's permanent address does not match work address (1=different, 0=same, at region level)                                                                                                                                                                                  \n",
       "35   Flag if client's contact address does not match work address (1=different, 0=same, at region level)                                                                                                                                                                                    \n",
       "36   Flag if client's permanent address does not match contact address (1=different, 0=same, at city level)                                                                                                                                                                                 \n",
       "37   Flag if client's permanent address does not match work address (1=different, 0=same, at city level)                                                                                                                                                                                    \n",
       "38   Flag if client's contact address does not match work address (1=different, 0=same, at city level)                                                                                                                                                                                      \n",
       "39   Type of organization where client works                                                                                                                                                                                                                                                \n",
       "40   Normalized score from external data source                                                                                                                                                                                                                                             \n",
       "41   Normalized score from external data source                                                                                                                                                                                                                                             \n",
       "42   Normalized score from external data source                                                                                                                                                                                                                                             \n",
       "43   Normalized information about building where the client lives, What is average (_AVG suffix), modus (_MODE suffix), median (_MEDI suffix) apartment size, common area, living area, age of building, number of elevators, number of entrances, state of the building, number of floor   \n",
       "44   Normalized information about building where the client lives, What is average (_AVG suffix), modus (_MODE suffix), median (_MEDI suffix) apartment size, common area, living area, age of building, number of elevators, number of entrances, state of the building, number of floor   \n",
       "45   Normalized information about building where the client lives, What is average (_AVG suffix), modus (_MODE suffix), median (_MEDI suffix) apartment size, common area, living area, age of building, number of elevators, number of entrances, state of the building, number of floor   \n",
       "46   Normalized information about building where the client lives, What is average (_AVG suffix), modus (_MODE suffix), median (_MEDI suffix) apartment size, common area, living area, age of building, number of elevators, number of entrances, state of the building, number of floor   \n",
       "47   Normalized information about building where the client lives, What is average (_AVG suffix), modus (_MODE suffix), median (_MEDI suffix) apartment size, common area, living area, age of building, number of elevators, number of entrances, state of the building, number of floor   \n",
       "48   Normalized information about building where the client lives, What is average (_AVG suffix), modus (_MODE suffix), median (_MEDI suffix) apartment size, common area, living area, age of building, number of elevators, number of entrances, state of the building, number of floor   \n",
       "49   Normalized information about building where the client lives, What is average (_AVG suffix), modus (_MODE suffix), median (_MEDI suffix) apartment size, common area, living area, age of building, number of elevators, number of entrances, state of the building, number of floor   \n",
       "50   Normalized information about building where the client lives, What is average (_AVG suffix), modus (_MODE suffix), median (_MEDI suffix) apartment size, common area, living area, age of building, number of elevators, number of entrances, state of the building, number of floor   \n",
       "51   Normalized information about building where the client lives, What is average (_AVG suffix), modus (_MODE suffix), median (_MEDI suffix) apartment size, common area, living area, age of building, number of elevators, number of entrances, state of the building, number of floor   \n",
       "52   Normalized information about building where the client lives, What is average (_AVG suffix), modus (_MODE suffix), median (_MEDI suffix) apartment size, common area, living area, age of building, number of elevators, number of entrances, state of the building, number of floor   \n",
       "53   Normalized information about building where the client lives, What is average (_AVG suffix), modus (_MODE suffix), median (_MEDI suffix) apartment size, common area, living area, age of building, number of elevators, number of entrances, state of the building, number of floor   \n",
       "54   Normalized information about building where the client lives, What is average (_AVG suffix), modus (_MODE suffix), median (_MEDI suffix) apartment size, common area, living area, age of building, number of elevators, number of entrances, state of the building, number of floor   \n",
       "55   Normalized information about building where the client lives, What is average (_AVG suffix), modus (_MODE suffix), median (_MEDI suffix) apartment size, common area, living area, age of building, number of elevators, number of entrances, state of the building, number of floor   \n",
       "56   Normalized information about building where the client lives, What is average (_AVG suffix), modus (_MODE suffix), median (_MEDI suffix) apartment size, common area, living area, age of building, number of elevators, number of entrances, state of the building, number of floor   \n",
       "57   Normalized information about building where the client lives, What is average (_AVG suffix), modus (_MODE suffix), median (_MEDI suffix) apartment size, common area, living area, age of building, number of elevators, number of entrances, state of the building, number of floor   \n",
       "58   Normalized information about building where the client lives, What is average (_AVG suffix), modus (_MODE suffix), median (_MEDI suffix) apartment size, common area, living area, age of building, number of elevators, number of entrances, state of the building, number of floor   \n",
       "59   Normalized information about building where the client lives, What is average (_AVG suffix), modus (_MODE suffix), median (_MEDI suffix) apartment size, common area, living area, age of building, number of elevators, number of entrances, state of the building, number of floor   \n",
       "60   Normalized information about building where the client lives, What is average (_AVG suffix), modus (_MODE suffix), median (_MEDI suffix) apartment size, common area, living area, age of building, number of elevators, number of entrances, state of the building, number of floor   \n",
       "61   Normalized information about building where the client lives, What is average (_AVG suffix), modus (_MODE suffix), median (_MEDI suffix) apartment size, common area, living area, age of building, number of elevators, number of entrances, state of the building, number of floor   \n",
       "62   Normalized information about building where the client lives, What is average (_AVG suffix), modus (_MODE suffix), median (_MEDI suffix) apartment size, common area, living area, age of building, number of elevators, number of entrances, state of the building, number of floor   \n",
       "63   Normalized information about building where the client lives, What is average (_AVG suffix), modus (_MODE suffix), median (_MEDI suffix) apartment size, common area, living area, age of building, number of elevators, number of entrances, state of the building, number of floor   \n",
       "64   Normalized information about building where the client lives, What is average (_AVG suffix), modus (_MODE suffix), median (_MEDI suffix) apartment size, common area, living area, age of building, number of elevators, number of entrances, state of the building, number of floor   \n",
       "65   Normalized information about building where the client lives, What is average (_AVG suffix), modus (_MODE suffix), median (_MEDI suffix) apartment size, common area, living area, age of building, number of elevators, number of entrances, state of the building, number of floor   \n",
       "66   Normalized information about building where the client lives, What is average (_AVG suffix), modus (_MODE suffix), median (_MEDI suffix) apartment size, common area, living area, age of building, number of elevators, number of entrances, state of the building, number of floor   \n",
       "67   Normalized information about building where the client lives, What is average (_AVG suffix), modus (_MODE suffix), median (_MEDI suffix) apartment size, common area, living area, age of building, number of elevators, number of entrances, state of the building, number of floor   \n",
       "68   Normalized information about building where the client lives, What is average (_AVG suffix), modus (_MODE suffix), median (_MEDI suffix) apartment size, common area, living area, age of building, number of elevators, number of entrances, state of the building, number of floor   \n",
       "69   Normalized information about building where the client lives, What is average (_AVG suffix), modus (_MODE suffix), median (_MEDI suffix) apartment size, common area, living area, age of building, number of elevators, number of entrances, state of the building, number of floor   \n",
       "70   Normalized information about building where the client lives, What is average (_AVG suffix), modus (_MODE suffix), median (_MEDI suffix) apartment size, common area, living area, age of building, number of elevators, number of entrances, state of the building, number of floor   \n",
       "71   Normalized information about building where the client lives, What is average (_AVG suffix), modus (_MODE suffix), median (_MEDI suffix) apartment size, common area, living area, age of building, number of elevators, number of entrances, state of the building, number of floor   \n",
       "72   Normalized information about building where the client lives, What is average (_AVG suffix), modus (_MODE suffix), median (_MEDI suffix) apartment size, common area, living area, age of building, number of elevators, number of entrances, state of the building, number of floor   \n",
       "73   Normalized information about building where the client lives, What is average (_AVG suffix), modus (_MODE suffix), median (_MEDI suffix) apartment size, common area, living area, age of building, number of elevators, number of entrances, state of the building, number of floor   \n",
       "74   Normalized information about building where the client lives, What is average (_AVG suffix), modus (_MODE suffix), median (_MEDI suffix) apartment size, common area, living area, age of building, number of elevators, number of entrances, state of the building, number of floor   \n",
       "75   Normalized information about building where the client lives, What is average (_AVG suffix), modus (_MODE suffix), median (_MEDI suffix) apartment size, common area, living area, age of building, number of elevators, number of entrances, state of the building, number of floor   \n",
       "76   Normalized information about building where the client lives, What is average (_AVG suffix), modus (_MODE suffix), median (_MEDI suffix) apartment size, common area, living area, age of building, number of elevators, number of entrances, state of the building, number of floor   \n",
       "77   Normalized information about building where the client lives, What is average (_AVG suffix), modus (_MODE suffix), median (_MEDI suffix) apartment size, common area, living area, age of building, number of elevators, number of entrances, state of the building, number of floor   \n",
       "78   Normalized information about building where the client lives, What is average (_AVG suffix), modus (_MODE suffix), median (_MEDI suffix) apartment size, common area, living area, age of building, number of elevators, number of entrances, state of the building, number of floor   \n",
       "79   Normalized information about building where the client lives, What is average (_AVG suffix), modus (_MODE suffix), median (_MEDI suffix) apartment size, common area, living area, age of building, number of elevators, number of entrances, state of the building, number of floor   \n",
       "80   Normalized information about building where the client lives, What is average (_AVG suffix), modus (_MODE suffix), median (_MEDI suffix) apartment size, common area, living area, age of building, number of elevators, number of entrances, state of the building, number of floor   \n",
       "81   Normalized information about building where the client lives, What is average (_AVG suffix), modus (_MODE suffix), median (_MEDI suffix) apartment size, common area, living area, age of building, number of elevators, number of entrances, state of the building, number of floor   \n",
       "82   Normalized information about building where the client lives, What is average (_AVG suffix), modus (_MODE suffix), median (_MEDI suffix) apartment size, common area, living area, age of building, number of elevators, number of entrances, state of the building, number of floor   \n",
       "83   Normalized information about building where the client lives, What is average (_AVG suffix), modus (_MODE suffix), median (_MEDI suffix) apartment size, common area, living area, age of building, number of elevators, number of entrances, state of the building, number of floor   \n",
       "84   Normalized information about building where the client lives, What is average (_AVG suffix), modus (_MODE suffix), median (_MEDI suffix) apartment size, common area, living area, age of building, number of elevators, number of entrances, state of the building, number of floor   \n",
       "85   Normalized information about building where the client lives, What is average (_AVG suffix), modus (_MODE suffix), median (_MEDI suffix) apartment size, common area, living area, age of building, number of elevators, number of entrances, state of the building, number of floor   \n",
       "86   Normalized information about building where the client lives, What is average (_AVG suffix), modus (_MODE suffix), median (_MEDI suffix) apartment size, common area, living area, age of building, number of elevators, number of entrances, state of the building, number of floor   \n",
       "87   Normalized information about building where the client lives, What is average (_AVG suffix), modus (_MODE suffix), median (_MEDI suffix) apartment size, common area, living area, age of building, number of elevators, number of entrances, state of the building, number of floor   \n",
       "88   Normalized information about building where the client lives, What is average (_AVG suffix), modus (_MODE suffix), median (_MEDI suffix) apartment size, common area, living area, age of building, number of elevators, number of entrances, state of the building, number of floor   \n",
       "89   Normalized information about building where the client lives, What is average (_AVG suffix), modus (_MODE suffix), median (_MEDI suffix) apartment size, common area, living area, age of building, number of elevators, number of entrances, state of the building, number of floor   \n",
       "90   How many observation of client's social surroundings with observable 30 DPD (days past due) default                                                                                                                                                                                    \n",
       "91   How many observation of client's social surroundings defaulted on 30 DPD (days past due)                                                                                                                                                                                               \n",
       "92   How many observation of client's social surroundings with observable 60 DPD (days past due) default                                                                                                                                                                                    \n",
       "93   How many observation of client's social surroundings defaulted on 60 (days past due) DPD                                                                                                                                                                                               \n",
       "94   How many days before application did client change phone                                                                                                                                                                                                                               \n",
       "95   Did client provide document 2                                                                                                                                                                                                                                                          \n",
       "96   Did client provide document 3                                                                                                                                                                                                                                                          \n",
       "97   Did client provide document 4                                                                                                                                                                                                                                                          \n",
       "98   Did client provide document 5                                                                                                                                                                                                                                                          \n",
       "99   Did client provide document 6                                                                                                                                                                                                                                                          \n",
       "100  Did client provide document 7                                                                                                                                                                                                                                                          \n",
       "101  Did client provide document 8                                                                                                                                                                                                                                                          \n",
       "102  Did client provide document 9                                                                                                                                                                                                                                                          \n",
       "103  Did client provide document 10                                                                                                                                                                                                                                                         \n",
       "104  Did client provide document 11                                                                                                                                                                                                                                                         \n",
       "105  Did client provide document 12                                                                                                                                                                                                                                                         \n",
       "106  Did client provide document 13                                                                                                                                                                                                                                                         \n",
       "107  Did client provide document 14                                                                                                                                                                                                                                                         \n",
       "108  Did client provide document 15                                                                                                                                                                                                                                                         \n",
       "109  Did client provide document 16                                                                                                                                                                                                                                                         \n",
       "110  Did client provide document 17                                                                                                                                                                                                                                                         \n",
       "111  Did client provide document 18                                                                                                                                                                                                                                                         \n",
       "112  Did client provide document 19                                                                                                                                                                                                                                                         \n",
       "113  Did client provide document 20                                                                                                                                                                                                                                                         \n",
       "114  Did client provide document 21                                                                                                                                                                                                                                                         \n",
       "115  Number of enquiries to Credit Bureau about the client one hour before application                                                                                                                                                                                                      \n",
       "116  Number of enquiries to Credit Bureau about the client one day before application (excluding one hour before application)                                                                                                                                                               \n",
       "117  Number of enquiries to Credit Bureau about the client one week before application (excluding one day before application)                                                                                                                                                               \n",
       "118  Number of enquiries to Credit Bureau about the client one month before application (excluding one week before application)                                                                                                                                                             \n",
       "119  Number of enquiries to Credit Bureau about the client 3 month before application (excluding one month before application)                                                                                                                                                              \n",
       "120  Number of enquiries to Credit Bureau about the client one day year (excluding last 3 months before application)                                                                                                                                                                        \n",
       "121  ID of previous credit in Home credit related to loan in our sample. (One loan in our sample can have 0,1,2 or more previous loan applications in Home Credit, previous application could, but not necessarily have to lead to credit)                                                  \n",
       "122  ID of loan in our sample                                                                                                                                                                                                                                                               \n",
       "123  Contract product type (Cash loan, consumer loan [POS] ,...) of the previous application                                                                                                                                                                                                \n",
       "124  Annuity of previous application                                                                                                                                                                                                                                                        \n",
       "125  For how much credit did client ask on the previous application                                                                                                                                                                                                                         \n",
       "126  Final credit amount on the previous application. This differs from AMT_APPLICATION in a way that the AMT_APPLICATION is the amount for which the client initially applied for, but during our approval process he could have received different amount - AMT_CREDIT                    \n",
       "127  Down payment on the previous application                                                                                                                                                                                                                                               \n",
       "128  Goods price of good that client asked for (if applicable) on the previous application                                                                                                                                                                                                  \n",
       "129  On which day of the week did the client apply for previous application                                                                                                                                                                                                                 \n",
       "130  Approximately at what day hour did the client apply for the previous application                                                                                                                                                                                                       \n",
       "131  Flag if it was last application for the previous contract. Sometimes by mistake of client or our clerk there could be more applications for one single contract                                                                                                                        \n",
       "132  Flag if the application was the last application per day of the client. Sometimes clients apply for more applications a day. Rarely it could also be error in our system that one application is in the database twice                                                                 \n",
       "133  Flag Micro finance loan                                                                                                                                                                                                                                                                \n",
       "134  Down payment rate normalized on previous credit                                                                                                                                                                                                                                        \n",
       "135  Interest rate normalized on previous credit                                                                                                                                                                                                                                            \n",
       "136  Interest rate normalized on previous credit                                                                                                                                                                                                                                            \n",
       "137  Purpose of the cash loan                                                                                                                                                                                                                                                               \n",
       "138  Contract status (approved, cancelled, ...) of previous application                                                                                                                                                                                                                     \n",
       "139  Relative to current application when was the decision about previous application made                                                                                                                                                                                                  \n",
       "140  Payment method that client chose to pay for the previous application                                                                                                                                                                                                                   \n",
       "141  Why was the previous application rejected                                                                                                                                                                                                                                              \n",
       "142  Who accompanied client when applying for the previous application                                                                                                                                                                                                                      \n",
       "143  Was the client old or new client when applying for the previous application                                                                                                                                                                                                            \n",
       "144  What kind of goods did the client apply for in the previous application                                                                                                                                                                                                                \n",
       "145  Was the previous application for CASH, POS, CAR, …                                                                                                                                                                                                                                     \n",
       "146  Was the previous application x-sell o walk-in                                                                                                                                                                                                                                          \n",
       "147  Through which channel we acquired the client on the previous application                                                                                                                                                                                                               \n",
       "148  Selling area of seller place of the previous application                                                                                                                                                                                                                               \n",
       "149  The industry of the seller                                                                                                                                                                                                                                                             \n",
       "150  Term of previous credit at application of the previous application                                                                                                                                                                                                                     \n",
       "151  Grouped interest rate into small medium and high of the previous application                                                                                                                                                                                                           \n",
       "152  Detailed product combination of the previous application                                                                                                                                                                                                                               \n",
       "153  Relative to application date of current application when was the first disbursement of the previous application                                                                                                                                                                        \n",
       "154  Relative to application date of current application when was the first due supposed to be of the previous application                                                                                                                                                                  \n",
       "155  Relative to application date of current application when was the first due of the previous application                                                                                                                                                                                 \n",
       "156  Relative to application date of current application when was the last due date of the previous application                                                                                                                                                                             \n",
       "157  Relative to application date of current application when was the expected termination of the previous application                                                                                                                                                                      \n",
       "158  Did the client requested insurance during the previous application                                                                                                                                                                                                                     \n",
       "\n",
       "                                Unnamed: 4  \n",
       "0    NaN                                    \n",
       "1    NaN                                    \n",
       "2    NaN                                    \n",
       "3    NaN                                    \n",
       "4    NaN                                    \n",
       "5    NaN                                    \n",
       "6    NaN                                    \n",
       "7    NaN                                    \n",
       "8    NaN                                    \n",
       "9    NaN                                    \n",
       "10   NaN                                    \n",
       "11   NaN                                    \n",
       "12   NaN                                    \n",
       "13   NaN                                    \n",
       "14   NaN                                    \n",
       "15   normalized                             \n",
       "16   time only relative to the application  \n",
       "17   time only relative to the application  \n",
       "18   time only relative to the application  \n",
       "19   time only relative to the application  \n",
       "20   NaN                                    \n",
       "21   NaN                                    \n",
       "22   NaN                                    \n",
       "23   NaN                                    \n",
       "24   NaN                                    \n",
       "25   NaN                                    \n",
       "26   NaN                                    \n",
       "27   NaN                                    \n",
       "28   NaN                                    \n",
       "29   NaN                                    \n",
       "30   NaN                                    \n",
       "31   NaN                                    \n",
       "32   rounded                                \n",
       "33   NaN                                    \n",
       "34   NaN                                    \n",
       "35   NaN                                    \n",
       "36   NaN                                    \n",
       "37   NaN                                    \n",
       "38   NaN                                    \n",
       "39   NaN                                    \n",
       "40   normalized                             \n",
       "41   normalized                             \n",
       "42   normalized                             \n",
       "43   normalized                             \n",
       "44   normalized                             \n",
       "45   normalized                             \n",
       "46   normalized                             \n",
       "47   normalized                             \n",
       "48   normalized                             \n",
       "49   normalized                             \n",
       "50   normalized                             \n",
       "51   normalized                             \n",
       "52   normalized                             \n",
       "53   normalized                             \n",
       "54   normalized                             \n",
       "55   normalized                             \n",
       "56   normalized                             \n",
       "57   normalized                             \n",
       "58   normalized                             \n",
       "59   normalized                             \n",
       "60   normalized                             \n",
       "61   normalized                             \n",
       "62   normalized                             \n",
       "63   normalized                             \n",
       "64   normalized                             \n",
       "65   normalized                             \n",
       "66   normalized                             \n",
       "67   normalized                             \n",
       "68   normalized                             \n",
       "69   normalized                             \n",
       "70   normalized                             \n",
       "71   normalized                             \n",
       "72   normalized                             \n",
       "73   normalized                             \n",
       "74   normalized                             \n",
       "75   normalized                             \n",
       "76   normalized                             \n",
       "77   normalized                             \n",
       "78   normalized                             \n",
       "79   normalized                             \n",
       "80   normalized                             \n",
       "81   normalized                             \n",
       "82   normalized                             \n",
       "83   normalized                             \n",
       "84   normalized                             \n",
       "85   normalized                             \n",
       "86   normalized                             \n",
       "87   normalized                             \n",
       "88   normalized                             \n",
       "89   normalized                             \n",
       "90   NaN                                    \n",
       "91   NaN                                    \n",
       "92   NaN                                    \n",
       "93   NaN                                    \n",
       "94   NaN                                    \n",
       "95   NaN                                    \n",
       "96   NaN                                    \n",
       "97   NaN                                    \n",
       "98   NaN                                    \n",
       "99   NaN                                    \n",
       "100  NaN                                    \n",
       "101  NaN                                    \n",
       "102  NaN                                    \n",
       "103  NaN                                    \n",
       "104  NaN                                    \n",
       "105  NaN                                    \n",
       "106  NaN                                    \n",
       "107  NaN                                    \n",
       "108  NaN                                    \n",
       "109  NaN                                    \n",
       "110  NaN                                    \n",
       "111  NaN                                    \n",
       "112  NaN                                    \n",
       "113  NaN                                    \n",
       "114  NaN                                    \n",
       "115  NaN                                    \n",
       "116  NaN                                    \n",
       "117  NaN                                    \n",
       "118  NaN                                    \n",
       "119  NaN                                    \n",
       "120  NaN                                    \n",
       "121  hashed                                 \n",
       "122  hashed                                 \n",
       "123  NaN                                    \n",
       "124  NaN                                    \n",
       "125  NaN                                    \n",
       "126  NaN                                    \n",
       "127  NaN                                    \n",
       "128  NaN                                    \n",
       "129  NaN                                    \n",
       "130  rounded                                \n",
       "131  NaN                                    \n",
       "132  NaN                                    \n",
       "133  NaN                                    \n",
       "134  normalized                             \n",
       "135  normalized                             \n",
       "136  normalized                             \n",
       "137  NaN                                    \n",
       "138  NaN                                    \n",
       "139  time only relative to the application  \n",
       "140  NaN                                    \n",
       "141  NaN                                    \n",
       "142  NaN                                    \n",
       "143  NaN                                    \n",
       "144  NaN                                    \n",
       "145  NaN                                    \n",
       "146  NaN                                    \n",
       "147  NaN                                    \n",
       "148  NaN                                    \n",
       "149  NaN                                    \n",
       "150  NaN                                    \n",
       "151  grouped                                \n",
       "152  NaN                                    \n",
       "153  time only relative to the application  \n",
       "154  time only relative to the application  \n",
       "155  time only relative to the application  \n",
       "156  time only relative to the application  \n",
       "157  time only relative to the application  \n",
       "158  NaN                                    "
      ]
     },
     "metadata": {},
     "output_type": "display_data"
    }
   ],
   "source": [
    "display(\"columns_description\")\n",
    "pd.set_option('display.max_colwidth', -1)\n",
    "columns_description=columns_description.drop(['1'],axis=1)\n",
    "display(columns_description)"
   ]
  },
  {
   "cell_type": "markdown",
   "metadata": {
    "papermill": {
     "duration": 0.265766,
     "end_time": "2020-11-18T17:05:31.360059",
     "exception": false,
     "start_time": "2020-11-18T17:05:31.094293",
     "status": "completed"
    },
    "tags": []
   },
   "source": [
    "## Percentage of Missing values in previous_application"
   ]
  },
  {
   "cell_type": "code",
   "execution_count": 56,
   "metadata": {
    "execution": {
     "iopub.execute_input": "2020-11-18T17:05:31.890951Z",
     "iopub.status.busy": "2020-11-18T17:05:31.890125Z",
     "iopub.status.idle": "2020-11-18T17:05:35.311728Z",
     "shell.execute_reply": "2020-11-18T17:05:35.312357Z"
    },
    "papermill": {
     "duration": 3.690761,
     "end_time": "2020-11-18T17:05:35.312512",
     "exception": false,
     "start_time": "2020-11-18T17:05:31.621751",
     "status": "completed"
    },
    "tags": []
   },
   "outputs": [
    {
     "data": {
      "image/png": "[encoded data removed]",
      "text/plain": [
       "<Figure size 1296x432 with 1 Axes>"
      ]
     },
     "metadata": {},
     "output_type": "display_data"
    }
   ],
   "source": [
    "fig = plt.figure(figsize=(18,6))\n",
    "miss_previous_application = pd.DataFrame((previous_application.isnull().sum())*100/previous_application.shape[0]).reset_index()\n",
    "miss_previous_application[\"type\"] = \"previous_application\"\n",
    "ax = sns.pointplot(\"index\",0,data=miss_previous_application,hue=\"type\")\n",
    "plt.xticks(rotation =90,fontsize =7)\n",
    "plt.title(\"Percentage of Missing values in previous_application\")\n",
    "plt.ylabel(\"PERCENTAGE\")\n",
    "plt.xlabel(\"COLUMNS\")\n",
    "ax.set_facecolor(\"k\")\n",
    "fig.set_facecolor(\"lightgrey\")"
   ]
  },
  {
   "cell_type": "code",
   "execution_count": 57,
   "metadata": {
    "execution": {
     "iopub.execute_input": "2020-11-18T17:05:35.848465Z",
     "iopub.status.busy": "2020-11-18T17:05:35.847144Z",
     "iopub.status.idle": "2020-11-18T17:05:38.785923Z",
     "shell.execute_reply": "2020-11-18T17:05:38.785183Z"
    },
    "papermill": {
     "duration": 3.209171,
     "end_time": "2020-11-18T17:05:38.786043",
     "exception": false,
     "start_time": "2020-11-18T17:05:35.576872",
     "status": "completed"
    },
    "tags": []
   },
   "outputs": [
    {
     "data": {
      "text/plain": [
       "SK_ID_PREV                     0.00 \n",
       "SK_ID_CURR                     0.00 \n",
       "NAME_CONTRACT_TYPE             0.00 \n",
       "AMT_ANNUITY                    22.29\n",
       "AMT_APPLICATION                0.00 \n",
       "AMT_CREDIT                     0.00 \n",
       "AMT_DOWN_PAYMENT               53.64\n",
       "AMT_GOODS_PRICE                23.08\n",
       "WEEKDAY_APPR_PROCESS_START     0.00 \n",
       "HOUR_APPR_PROCESS_START        0.00 \n",
       "FLAG_LAST_APPL_PER_CONTRACT    0.00 \n",
       "NFLAG_LAST_APPL_IN_DAY         0.00 \n",
       "RATE_DOWN_PAYMENT              53.64\n",
       "RATE_INTEREST_PRIMARY          99.64\n",
       "RATE_INTEREST_PRIVILEGED       99.64\n",
       "NAME_CASH_LOAN_PURPOSE         0.00 \n",
       "NAME_CONTRACT_STATUS           0.00 \n",
       "DAYS_DECISION                  0.00 \n",
       "NAME_PAYMENT_TYPE              0.00 \n",
       "CODE_REJECT_REASON             0.00 \n",
       "NAME_TYPE_SUITE                49.12\n",
       "NAME_CLIENT_TYPE               0.00 \n",
       "NAME_GOODS_CATEGORY            0.00 \n",
       "NAME_PORTFOLIO                 0.00 \n",
       "NAME_PRODUCT_TYPE              0.00 \n",
       "CHANNEL_TYPE                   0.00 \n",
       "SELLERPLACE_AREA               0.00 \n",
       "NAME_SELLER_INDUSTRY           0.00 \n",
       "CNT_PAYMENT                    22.29\n",
       "NAME_YIELD_GROUP               0.00 \n",
       "PRODUCT_COMBINATION            0.02 \n",
       "DAYS_FIRST_DRAWING             40.30\n",
       "DAYS_FIRST_DUE                 40.30\n",
       "DAYS_LAST_DUE_1ST_VERSION      40.30\n",
       "DAYS_LAST_DUE                  40.30\n",
       "DAYS_TERMINATION               40.30\n",
       "NFLAG_INSURED_ON_APPROVAL      40.30\n",
       "dtype: float64"
      ]
     },
     "execution_count": 57,
     "metadata": {},
     "output_type": "execute_result"
    }
   ],
   "source": [
    "round(100*(previous_application.isnull().sum()/len(previous_application.index)),2)"
   ]
  },
  {
   "cell_type": "markdown",
   "metadata": {
    "papermill": {
     "duration": 0.266922,
     "end_time": "2020-11-18T17:05:39.318161",
     "exception": false,
     "start_time": "2020-11-18T17:05:39.051239",
     "status": "completed"
    },
    "tags": []
   },
   "source": [
    "### Removing columns with missing values more than 50%\n",
    "\n",
    "#### key point\n",
    "As per Industrial Standard, max Threshold limit can be between 40% to 50 % depending upon the data acquired in specific sector."
   ]
  },
  {
   "cell_type": "code",
   "execution_count": 58,
   "metadata": {
    "execution": {
     "iopub.execute_input": "2020-11-18T17:05:40.286993Z",
     "iopub.status.busy": "2020-11-18T17:05:39.997374Z",
     "iopub.status.idle": "2020-11-18T17:05:40.291020Z",
     "shell.execute_reply": "2020-11-18T17:05:40.290234Z"
    },
    "papermill": {
     "duration": 0.707364,
     "end_time": "2020-11-18T17:05:40.291153",
     "exception": false,
     "start_time": "2020-11-18T17:05:39.583789",
     "status": "completed"
    },
    "tags": []
   },
   "outputs": [],
   "source": [
    "previous_application=previous_application.drop([ 'AMT_DOWN_PAYMENT', 'RATE_DOWN_PAYMENT', 'RATE_INTEREST_PRIMARY',\n",
    "       \"RATE_INTEREST_PRIVILEGED\"],axis=1)"
   ]
  },
  {
   "cell_type": "code",
   "execution_count": 59,
   "metadata": {
    "execution": {
     "iopub.execute_input": "2020-11-18T17:05:40.832045Z",
     "iopub.status.busy": "2020-11-18T17:05:40.831100Z",
     "iopub.status.idle": "2020-11-18T17:05:44.162964Z",
     "shell.execute_reply": "2020-11-18T17:05:44.162274Z"
    },
    "papermill": {
     "duration": 3.607139,
     "end_time": "2020-11-18T17:05:44.163096",
     "exception": false,
     "start_time": "2020-11-18T17:05:40.555957",
     "status": "completed"
    },
    "tags": []
   },
   "outputs": [
    {
     "data": {
      "image/png": "[encoded data removed]",
      "text/plain": [
       "<Figure size 1296x432 with 1 Axes>"
      ]
     },
     "metadata": {},
     "output_type": "display_data"
    }
   ],
   "source": [
    "fig = plt.figure(figsize=(18,6))\n",
    "miss_previous_application = pd.DataFrame((previous_application.isnull().sum())*100/previous_application.shape[0]).reset_index()\n",
    "miss_previous_application[\"type\"] = \"previous_application\"\n",
    "ax = sns.pointplot(\"index\",0,data=miss_previous_application,hue=\"type\")\n",
    "plt.xticks(rotation =90,fontsize =7)\n",
    "plt.title(\"Percentage of Missing values in previous_application\")\n",
    "plt.ylabel(\"PERCENTAGE\")\n",
    "plt.xlabel(\"COLUMNS\")\n",
    "ax.set_facecolor(\"k\")\n",
    "fig.set_facecolor(\"lightgrey\")"
   ]
  },
  {
   "cell_type": "code",
   "execution_count": 60,
   "metadata": {
    "execution": {
     "iopub.execute_input": "2020-11-18T17:05:44.710207Z",
     "iopub.status.busy": "2020-11-18T17:05:44.709214Z",
     "iopub.status.idle": "2020-11-18T17:05:47.571913Z",
     "shell.execute_reply": "2020-11-18T17:05:47.571302Z"
    },
    "papermill": {
     "duration": 3.136739,
     "end_time": "2020-11-18T17:05:47.572043",
     "exception": false,
     "start_time": "2020-11-18T17:05:44.435304",
     "status": "completed"
    },
    "tags": []
   },
   "outputs": [
    {
     "data": {
      "text/plain": [
       "SK_ID_PREV                     0.00 \n",
       "SK_ID_CURR                     0.00 \n",
       "NAME_CONTRACT_TYPE             0.00 \n",
       "AMT_ANNUITY                    22.29\n",
       "AMT_APPLICATION                0.00 \n",
       "AMT_CREDIT                     0.00 \n",
       "AMT_GOODS_PRICE                23.08\n",
       "WEEKDAY_APPR_PROCESS_START     0.00 \n",
       "HOUR_APPR_PROCESS_START        0.00 \n",
       "FLAG_LAST_APPL_PER_CONTRACT    0.00 \n",
       "NFLAG_LAST_APPL_IN_DAY         0.00 \n",
       "NAME_CASH_LOAN_PURPOSE         0.00 \n",
       "NAME_CONTRACT_STATUS           0.00 \n",
       "DAYS_DECISION                  0.00 \n",
       "NAME_PAYMENT_TYPE              0.00 \n",
       "CODE_REJECT_REASON             0.00 \n",
       "NAME_TYPE_SUITE                49.12\n",
       "NAME_CLIENT_TYPE               0.00 \n",
       "NAME_GOODS_CATEGORY            0.00 \n",
       "NAME_PORTFOLIO                 0.00 \n",
       "NAME_PRODUCT_TYPE              0.00 \n",
       "CHANNEL_TYPE                   0.00 \n",
       "SELLERPLACE_AREA               0.00 \n",
       "NAME_SELLER_INDUSTRY           0.00 \n",
       "CNT_PAYMENT                    22.29\n",
       "NAME_YIELD_GROUP               0.00 \n",
       "PRODUCT_COMBINATION            0.02 \n",
       "DAYS_FIRST_DRAWING             40.30\n",
       "DAYS_FIRST_DUE                 40.30\n",
       "DAYS_LAST_DUE_1ST_VERSION      40.30\n",
       "DAYS_LAST_DUE                  40.30\n",
       "DAYS_TERMINATION               40.30\n",
       "NFLAG_INSURED_ON_APPROVAL      40.30\n",
       "dtype: float64"
      ]
     },
     "execution_count": 60,
     "metadata": {},
     "output_type": "execute_result"
    }
   ],
   "source": [
    "round(100*(previous_application.isnull().sum()/len(previous_application.index)),2)"
   ]
  },
  {
   "cell_type": "markdown",
   "metadata": {
    "papermill": {
     "duration": 0.265912,
     "end_time": "2020-11-18T17:05:48.105915",
     "exception": false,
     "start_time": "2020-11-18T17:05:47.840003",
     "status": "completed"
    },
    "tags": []
   },
   "source": [
    "### MISSING values Suggestion"
   ]
  },
  {
   "cell_type": "code",
   "execution_count": 61,
   "metadata": {
    "execution": {
     "iopub.execute_input": "2020-11-18T17:05:48.650672Z",
     "iopub.status.busy": "2020-11-18T17:05:48.649595Z",
     "iopub.status.idle": "2020-11-18T17:05:48.657644Z",
     "shell.execute_reply": "2020-11-18T17:05:48.656949Z"
    },
    "papermill": {
     "duration": 0.281535,
     "end_time": "2020-11-18T17:05:48.657769",
     "exception": false,
     "start_time": "2020-11-18T17:05:48.376234",
     "status": "completed"
    },
    "tags": []
   },
   "outputs": [
    {
     "name": "stdout",
     "output_type": "stream",
     "text": [
      "AMT_ANNUITY NULL COUNT: 372235\n"
     ]
    }
   ],
   "source": [
    "print(\"AMT_ANNUITY NULL COUNT:\" ,previous_application['AMT_ANNUITY'].isnull().sum())"
   ]
  },
  {
   "cell_type": "code",
   "execution_count": 62,
   "metadata": {
    "execution": {
     "iopub.execute_input": "2020-11-18T17:05:49.199440Z",
     "iopub.status.busy": "2020-11-18T17:05:49.198595Z",
     "iopub.status.idle": "2020-11-18T17:05:49.279597Z",
     "shell.execute_reply": "2020-11-18T17:05:49.278711Z"
    },
    "papermill": {
     "duration": 0.354565,
     "end_time": "2020-11-18T17:05:49.279741",
     "exception": false,
     "start_time": "2020-11-18T17:05:48.925176",
     "status": "completed"
    },
    "tags": []
   },
   "outputs": [
    {
     "data": {
      "text/plain": [
       "count    1.297979e+06\n",
       "mean     1.595512e+04\n",
       "std      1.478214e+04\n",
       "min      0.000000e+00\n",
       "25%      6.321780e+03\n",
       "50%      1.125000e+04\n",
       "75%      2.065842e+04\n",
       "max      4.180581e+05\n",
       "Name: AMT_ANNUITY, dtype: float64"
      ]
     },
     "execution_count": 62,
     "metadata": {},
     "output_type": "execute_result"
    }
   ],
   "source": [
    "previous_application['AMT_ANNUITY'].describe()"
   ]
  },
  {
   "cell_type": "code",
   "execution_count": 63,
   "metadata": {
    "execution": {
     "iopub.execute_input": "2020-11-18T17:05:49.955631Z",
     "iopub.status.busy": "2020-11-18T17:05:49.950711Z",
     "iopub.status.idle": "2020-11-18T17:05:50.901090Z",
     "shell.execute_reply": "2020-11-18T17:05:50.900468Z"
    },
    "papermill": {
     "duration": 1.351407,
     "end_time": "2020-11-18T17:05:50.901226",
     "exception": false,
     "start_time": "2020-11-18T17:05:49.549819",
     "status": "completed"
    },
    "tags": []
   },
   "outputs": [
    {
     "data": {
      "image/png": "[encoded data removed]",
      "text/plain": [
       "<Figure size 432x288 with 1 Axes>"
      ]
     },
     "metadata": {},
     "output_type": "display_data"
    }
   ],
   "source": [
    "sns.set_style('whitegrid') \n",
    "sns.distplot(previous_application['AMT_ANNUITY']) \n",
    "plt.show()\n"
   ]
  },
  {
   "cell_type": "markdown",
   "metadata": {
    "papermill": {
     "duration": 0.277699,
     "end_time": "2020-11-18T17:05:51.457122",
     "exception": false,
     "start_time": "2020-11-18T17:05:51.179423",
     "status": "completed"
    },
    "tags": []
   },
   "source": [
    "### Suggestion\n",
    "We can Fill NA with 15955 i.e. Mean for this field "
   ]
  },
  {
   "cell_type": "code",
   "execution_count": 64,
   "metadata": {
    "execution": {
     "iopub.execute_input": "2020-11-18T17:05:52.004681Z",
     "iopub.status.busy": "2020-11-18T17:05:52.003899Z",
     "iopub.status.idle": "2020-11-18T17:05:52.012633Z",
     "shell.execute_reply": "2020-11-18T17:05:52.012018Z"
    },
    "papermill": {
     "duration": 0.285861,
     "end_time": "2020-11-18T17:05:52.012759",
     "exception": false,
     "start_time": "2020-11-18T17:05:51.726898",
     "status": "completed"
    },
    "tags": []
   },
   "outputs": [
    {
     "name": "stdout",
     "output_type": "stream",
     "text": [
      "AMT_GOODS_PRICE NULL COUNT: 385515\n"
     ]
    }
   ],
   "source": [
    "print(\"AMT_GOODS_PRICE NULL COUNT:\" ,previous_application['AMT_GOODS_PRICE'].isnull().sum())"
   ]
  },
  {
   "cell_type": "code",
   "execution_count": 65,
   "metadata": {
    "execution": {
     "iopub.execute_input": "2020-11-18T17:05:52.565610Z",
     "iopub.status.busy": "2020-11-18T17:05:52.564851Z",
     "iopub.status.idle": "2020-11-18T17:05:52.643034Z",
     "shell.execute_reply": "2020-11-18T17:05:52.642323Z"
    },
    "papermill": {
     "duration": 0.357067,
     "end_time": "2020-11-18T17:05:52.643160",
     "exception": false,
     "start_time": "2020-11-18T17:05:52.286093",
     "status": "completed"
    },
    "tags": []
   },
   "outputs": [
    {
     "data": {
      "text/plain": [
       "count    1.284699e+06\n",
       "mean     2.278473e+05\n",
       "std      3.153966e+05\n",
       "min      0.000000e+00\n",
       "25%      5.084100e+04\n",
       "50%      1.123200e+05\n",
       "75%      2.340000e+05\n",
       "max      6.905160e+06\n",
       "Name: AMT_GOODS_PRICE, dtype: float64"
      ]
     },
     "execution_count": 65,
     "metadata": {},
     "output_type": "execute_result"
    }
   ],
   "source": [
    "previous_application['AMT_GOODS_PRICE'].describe()"
   ]
  },
  {
   "cell_type": "code",
   "execution_count": null,
   "metadata": {
    "execution": {
     "iopub.execute_input": "2020-11-18T17:05:53.201043Z",
     "iopub.status.busy": "2020-11-18T17:05:53.199119Z",
     "iopub.status.idle": "2020-11-18T17:05:54.075692Z",
     "shell.execute_reply": "2020-11-18T17:05:54.075089Z"
    },
    "papermill": {
     "duration": 1.162629,
     "end_time": "2020-11-18T17:05:54.075840",
     "exception": false,
     "start_time": "2020-11-18T17:05:52.913211",
     "status": "completed"
    },
    "tags": []
   },
   "outputs": [],
   "source": [
    "sns.set_style('whitegrid') \n",
    "sns.distplot(previous_application['AMT_GOODS_PRICE']) \n",
    "plt.show()\n"
   ]
  },
  {
   "cell_type": "markdown",
   "metadata": {
    "papermill": {
     "duration": 0.272854,
     "end_time": "2020-11-18T17:05:54.623094",
     "exception": false,
     "start_time": "2020-11-18T17:05:54.350240",
     "status": "completed"
    },
    "tags": []
   },
   "source": [
    "### Suggestion\n",
    "We can Fill NA with 112320 i.e. Median for this field "
   ]
  },
  {
   "cell_type": "code",
   "execution_count": null,
   "metadata": {
    "execution": {
     "iopub.execute_input": "2020-11-18T17:05:55.314129Z",
     "iopub.status.busy": "2020-11-18T17:05:55.313343Z",
     "iopub.status.idle": "2020-11-18T17:05:55.320870Z",
     "shell.execute_reply": "2020-11-18T17:05:55.321536Z"
    },
    "papermill": {
     "duration": 0.425827,
     "end_time": "2020-11-18T17:05:55.321698",
     "exception": false,
     "start_time": "2020-11-18T17:05:54.895871",
     "status": "completed"
    },
    "tags": []
   },
   "outputs": [],
   "source": [
    "print(\"NAME_TYPE_SUITE NULL COUNT:\" ,previous_application['NAME_TYPE_SUITE'].isnull().sum())"
   ]
  },
  {
   "cell_type": "code",
   "execution_count": null,
   "metadata": {
    "execution": {
     "iopub.execute_input": "2020-11-18T17:05:56.198623Z",
     "iopub.status.busy": "2020-11-18T17:05:56.197822Z",
     "iopub.status.idle": "2020-11-18T17:05:56.205919Z",
     "shell.execute_reply": "2020-11-18T17:05:56.205146Z"
    },
    "papermill": {
     "duration": 0.612313,
     "end_time": "2020-11-18T17:05:56.206048",
     "exception": false,
     "start_time": "2020-11-18T17:05:55.593735",
     "status": "completed"
    },
    "tags": []
   },
   "outputs": [],
   "source": [
    "previous_application['NAME_TYPE_SUITE'].value_counts()"
   ]
  },
  {
   "cell_type": "markdown",
   "metadata": {
    "papermill": {
     "duration": 0.271939,
     "end_time": "2020-11-18T17:05:56.753442",
     "exception": false,
     "start_time": "2020-11-18T17:05:56.481503",
     "status": "completed"
    },
    "tags": []
   },
   "source": [
    "### Suggestion\n",
    "We can Fill NA with Unaccompanied  i.e. Mode for this field "
   ]
  },
  {
   "cell_type": "code",
   "execution_count": null,
   "metadata": {
    "execution": {
     "iopub.execute_input": "2020-11-18T17:05:57.306318Z",
     "iopub.status.busy": "2020-11-18T17:05:57.305489Z",
     "iopub.status.idle": "2020-11-18T17:05:57.313155Z",
     "shell.execute_reply": "2020-11-18T17:05:57.314033Z"
    },
    "papermill": {
     "duration": 0.289467,
     "end_time": "2020-11-18T17:05:57.314248",
     "exception": false,
     "start_time": "2020-11-18T17:05:57.024781",
     "status": "completed"
    },
    "tags": []
   },
   "outputs": [],
   "source": [
    "print(\"CNT_PAYMENT NULL COUNT:\" ,previous_application['CNT_PAYMENT'].isnull().sum())"
   ]
  },
  {
   "cell_type": "code",
   "execution_count": null,
   "metadata": {
    "execution": {
     "iopub.execute_input": "2020-11-18T17:05:57.869335Z",
     "iopub.status.busy": "2020-11-18T17:05:57.868262Z",
     "iopub.status.idle": "2020-11-18T17:05:57.944006Z",
     "shell.execute_reply": "2020-11-18T17:05:57.943397Z"
    },
    "papermill": {
     "duration": 0.355728,
     "end_time": "2020-11-18T17:05:57.944139",
     "exception": false,
     "start_time": "2020-11-18T17:05:57.588411",
     "status": "completed"
    },
    "tags": []
   },
   "outputs": [],
   "source": [
    "previous_application['CNT_PAYMENT'].describe()"
   ]
  },
  {
   "cell_type": "code",
   "execution_count": null,
   "metadata": {
    "execution": {
     "iopub.execute_input": "2020-11-18T17:05:58.536191Z",
     "iopub.status.busy": "2020-11-18T17:05:58.533340Z",
     "iopub.status.idle": "2020-11-18T17:05:58.929617Z",
     "shell.execute_reply": "2020-11-18T17:05:58.928883Z"
    },
    "papermill": {
     "duration": 0.696947,
     "end_time": "2020-11-18T17:05:58.929739",
     "exception": false,
     "start_time": "2020-11-18T17:05:58.232792",
     "status": "completed"
    },
    "tags": []
   },
   "outputs": [],
   "source": [
    "sns.set_style('whitegrid') \n",
    "sns.boxplot(previous_application['CNT_PAYMENT']) \n",
    "plt.show()"
   ]
  },
  {
   "cell_type": "markdown",
   "metadata": {
    "papermill": {
     "duration": 0.278092,
     "end_time": "2020-11-18T17:05:59.484724",
     "exception": false,
     "start_time": "2020-11-18T17:05:59.206632",
     "status": "completed"
    },
    "tags": []
   },
   "source": [
    "### Suggestion\n",
    "We can Fill NA with 12 i.e. Median for this field "
   ]
  },
  {
   "cell_type": "code",
   "execution_count": null,
   "metadata": {
    "execution": {
     "iopub.execute_input": "2020-11-18T17:06:00.039642Z",
     "iopub.status.busy": "2020-11-18T17:06:00.038811Z",
     "iopub.status.idle": "2020-11-18T17:06:00.047104Z",
     "shell.execute_reply": "2020-11-18T17:06:00.047688Z"
    },
    "papermill": {
     "duration": 0.288773,
     "end_time": "2020-11-18T17:06:00.047876",
     "exception": false,
     "start_time": "2020-11-18T17:05:59.759103",
     "status": "completed"
    },
    "tags": []
   },
   "outputs": [],
   "source": [
    "print(\"DAYS_FIRST_DRAWING :\" ,previous_application['CNT_PAYMENT'].isnull().sum())"
   ]
  },
  {
   "cell_type": "code",
   "execution_count": null,
   "metadata": {
    "execution": {
     "iopub.execute_input": "2020-11-18T17:06:00.610560Z",
     "iopub.status.busy": "2020-11-18T17:06:00.609752Z",
     "iopub.status.idle": "2020-11-18T17:06:00.681590Z",
     "shell.execute_reply": "2020-11-18T17:06:00.681009Z"
    },
    "papermill": {
     "duration": 0.354036,
     "end_time": "2020-11-18T17:06:00.681753",
     "exception": false,
     "start_time": "2020-11-18T17:06:00.327717",
     "status": "completed"
    },
    "tags": []
   },
   "outputs": [],
   "source": [
    "previous_application['DAYS_FIRST_DRAWING'].describe()"
   ]
  },
  {
   "cell_type": "code",
   "execution_count": null,
   "metadata": {
    "execution": {
     "iopub.execute_input": "2020-11-18T17:06:01.251038Z",
     "iopub.status.busy": "2020-11-18T17:06:01.249908Z",
     "iopub.status.idle": "2020-11-18T17:06:01.674427Z",
     "shell.execute_reply": "2020-11-18T17:06:01.673630Z"
    },
    "papermill": {
     "duration": 0.717127,
     "end_time": "2020-11-18T17:06:01.674555",
     "exception": false,
     "start_time": "2020-11-18T17:06:00.957428",
     "status": "completed"
    },
    "tags": []
   },
   "outputs": [],
   "source": [
    "sns.set_style('whitegrid') \n",
    "sns.boxplot(previous_application['DAYS_FIRST_DRAWING']) \n",
    "plt.show()"
   ]
  },
  {
   "cell_type": "markdown",
   "metadata": {
    "papermill": {
     "duration": 0.275777,
     "end_time": "2020-11-18T17:06:02.225101",
     "exception": false,
     "start_time": "2020-11-18T17:06:01.949324",
     "status": "completed"
    },
    "tags": []
   },
   "source": [
    "### Suggestion\n",
    "We can Fill NA with 365243 i.e. Median for this field "
   ]
  },
  {
   "cell_type": "code",
   "execution_count": null,
   "metadata": {
    "execution": {
     "iopub.execute_input": "2020-11-18T17:06:02.787282Z",
     "iopub.status.busy": "2020-11-18T17:06:02.786489Z",
     "iopub.status.idle": "2020-11-18T17:06:02.794721Z",
     "shell.execute_reply": "2020-11-18T17:06:02.793967Z"
    },
    "papermill": {
     "duration": 0.290989,
     "end_time": "2020-11-18T17:06:02.794907",
     "exception": false,
     "start_time": "2020-11-18T17:06:02.503918",
     "status": "completed"
    },
    "tags": []
   },
   "outputs": [],
   "source": [
    "print(\"DAYS_FIRST_DUE :\" ,previous_application['DAYS_FIRST_DUE'].isnull().sum())"
   ]
  },
  {
   "cell_type": "code",
   "execution_count": null,
   "metadata": {
    "execution": {
     "iopub.execute_input": "2020-11-18T17:06:03.357127Z",
     "iopub.status.busy": "2020-11-18T17:06:03.356294Z",
     "iopub.status.idle": "2020-11-18T17:06:03.438851Z",
     "shell.execute_reply": "2020-11-18T17:06:03.439425Z"
    },
    "papermill": {
     "duration": 0.368679,
     "end_time": "2020-11-18T17:06:03.439577",
     "exception": false,
     "start_time": "2020-11-18T17:06:03.070898",
     "status": "completed"
    },
    "tags": []
   },
   "outputs": [],
   "source": [
    "previous_application['DAYS_FIRST_DUE'].describe()"
   ]
  },
  {
   "cell_type": "code",
   "execution_count": null,
   "metadata": {
    "execution": {
     "iopub.execute_input": "2020-11-18T17:06:04.010087Z",
     "iopub.status.busy": "2020-11-18T17:06:04.008881Z",
     "iopub.status.idle": "2020-11-18T17:06:04.404757Z",
     "shell.execute_reply": "2020-11-18T17:06:04.404015Z"
    },
    "papermill": {
     "duration": 0.686388,
     "end_time": "2020-11-18T17:06:04.404895",
     "exception": false,
     "start_time": "2020-11-18T17:06:03.718507",
     "status": "completed"
    },
    "tags": []
   },
   "outputs": [],
   "source": [
    "sns.set_style('whitegrid') \n",
    "sns.boxplot(previous_application['DAYS_FIRST_DUE']) \n",
    "plt.show()"
   ]
  },
  {
   "cell_type": "markdown",
   "metadata": {
    "papermill": {
     "duration": 0.277727,
     "end_time": "2020-11-18T17:06:04.961310",
     "exception": false,
     "start_time": "2020-11-18T17:06:04.683583",
     "status": "completed"
    },
    "tags": []
   },
   "source": [
    "### Suggestion\n",
    "We can Fill NA with -831 i.e. Median for this field "
   ]
  },
  {
   "cell_type": "code",
   "execution_count": null,
   "metadata": {
    "execution": {
     "iopub.execute_input": "2020-11-18T17:06:05.529562Z",
     "iopub.status.busy": "2020-11-18T17:06:05.528792Z",
     "iopub.status.idle": "2020-11-18T17:06:05.537641Z",
     "shell.execute_reply": "2020-11-18T17:06:05.536929Z"
    },
    "papermill": {
     "duration": 0.296916,
     "end_time": "2020-11-18T17:06:05.537774",
     "exception": false,
     "start_time": "2020-11-18T17:06:05.240858",
     "status": "completed"
    },
    "tags": []
   },
   "outputs": [],
   "source": [
    "print(\"DAYS_LAST_DUE_1ST_VERSION :\" ,previous_application['DAYS_LAST_DUE_1ST_VERSION'].isnull().sum())"
   ]
  },
  {
   "cell_type": "code",
   "execution_count": null,
   "metadata": {
    "execution": {
     "iopub.execute_input": "2020-11-18T17:06:06.100544Z",
     "iopub.status.busy": "2020-11-18T17:06:06.099738Z",
     "iopub.status.idle": "2020-11-18T17:06:06.182764Z",
     "shell.execute_reply": "2020-11-18T17:06:06.181992Z"
    },
    "papermill": {
     "duration": 0.366223,
     "end_time": "2020-11-18T17:06:06.182913",
     "exception": false,
     "start_time": "2020-11-18T17:06:05.816690",
     "status": "completed"
    },
    "tags": []
   },
   "outputs": [],
   "source": [
    "previous_application['DAYS_LAST_DUE_1ST_VERSION'].describe()"
   ]
  },
  {
   "cell_type": "code",
   "execution_count": null,
   "metadata": {
    "execution": {
     "iopub.execute_input": "2020-11-18T17:06:06.764224Z",
     "iopub.status.busy": "2020-11-18T17:06:06.757963Z",
     "iopub.status.idle": "2020-11-18T17:06:07.254016Z",
     "shell.execute_reply": "2020-11-18T17:06:07.254554Z"
    },
    "papermill": {
     "duration": 0.788965,
     "end_time": "2020-11-18T17:06:07.254716",
     "exception": false,
     "start_time": "2020-11-18T17:06:06.465751",
     "status": "completed"
    },
    "tags": []
   },
   "outputs": [],
   "source": [
    "sns.set_style('whitegrid') \n",
    "sns.boxplot(previous_application['DAYS_LAST_DUE_1ST_VERSION']) \n",
    "plt.show()"
   ]
  },
  {
   "cell_type": "markdown",
   "metadata": {
    "papermill": {
     "duration": 0.279637,
     "end_time": "2020-11-18T17:06:07.818332",
     "exception": false,
     "start_time": "2020-11-18T17:06:07.538695",
     "status": "completed"
    },
    "tags": []
   },
   "source": [
    "### Suggestion\n",
    "We can Fill NA with -361 i.e. Median for this field "
   ]
  },
  {
   "cell_type": "code",
   "execution_count": null,
   "metadata": {
    "execution": {
     "iopub.execute_input": "2020-11-18T17:06:08.436084Z",
     "iopub.status.busy": "2020-11-18T17:06:08.435195Z",
     "iopub.status.idle": "2020-11-18T17:06:08.443540Z",
     "shell.execute_reply": "2020-11-18T17:06:08.444255Z"
    },
    "papermill": {
     "duration": 0.343749,
     "end_time": "2020-11-18T17:06:08.444460",
     "exception": false,
     "start_time": "2020-11-18T17:06:08.100711",
     "status": "completed"
    },
    "tags": []
   },
   "outputs": [],
   "source": [
    "print(\"DAYS_LAST_DUE:\" ,previous_application['DAYS_LAST_DUE'].isnull().sum())"
   ]
  },
  {
   "cell_type": "code",
   "execution_count": null,
   "metadata": {
    "execution": {
     "iopub.execute_input": "2020-11-18T17:06:09.041852Z",
     "iopub.status.busy": "2020-11-18T17:06:09.040793Z",
     "iopub.status.idle": "2020-11-18T17:06:09.133763Z",
     "shell.execute_reply": "2020-11-18T17:06:09.132604Z"
    },
    "papermill": {
     "duration": 0.407339,
     "end_time": "2020-11-18T17:06:09.133970",
     "exception": false,
     "start_time": "2020-11-18T17:06:08.726631",
     "status": "completed"
    },
    "tags": []
   },
   "outputs": [],
   "source": [
    "previous_application['DAYS_LAST_DUE'].describe()"
   ]
  },
  {
   "cell_type": "code",
   "execution_count": null,
   "metadata": {
    "execution": {
     "iopub.execute_input": "2020-11-18T17:06:09.767550Z",
     "iopub.status.busy": "2020-11-18T17:06:09.759669Z",
     "iopub.status.idle": "2020-11-18T17:06:10.486656Z",
     "shell.execute_reply": "2020-11-18T17:06:10.486029Z"
    },
    "papermill": {
     "duration": 1.029498,
     "end_time": "2020-11-18T17:06:10.486778",
     "exception": false,
     "start_time": "2020-11-18T17:06:09.457280",
     "status": "completed"
    },
    "tags": []
   },
   "outputs": [],
   "source": [
    "sns.set_style('whitegrid') \n",
    "sns.boxplot(previous_application['DAYS_LAST_DUE']) \n",
    "plt.show()"
   ]
  },
  {
   "cell_type": "markdown",
   "metadata": {
    "papermill": {
     "duration": 0.282475,
     "end_time": "2020-11-18T17:06:11.052097",
     "exception": false,
     "start_time": "2020-11-18T17:06:10.769622",
     "status": "completed"
    },
    "tags": []
   },
   "source": [
    "### Suggestion\n",
    "We can Fill NA with -537 i.e. Median for this field "
   ]
  },
  {
   "cell_type": "code",
   "execution_count": null,
   "metadata": {
    "execution": {
     "iopub.execute_input": "2020-11-18T17:06:11.633080Z",
     "iopub.status.busy": "2020-11-18T17:06:11.632253Z",
     "iopub.status.idle": "2020-11-18T17:06:11.640311Z",
     "shell.execute_reply": "2020-11-18T17:06:11.639585Z"
    },
    "papermill": {
     "duration": 0.299269,
     "end_time": "2020-11-18T17:06:11.640433",
     "exception": false,
     "start_time": "2020-11-18T17:06:11.341164",
     "status": "completed"
    },
    "tags": []
   },
   "outputs": [],
   "source": [
    "print(\"DAYS_TERMINATION :\" ,previous_application['DAYS_TERMINATION'].isnull().sum())"
   ]
  },
  {
   "cell_type": "code",
   "execution_count": null,
   "metadata": {
    "execution": {
     "iopub.execute_input": "2020-11-18T17:06:12.217409Z",
     "iopub.status.busy": "2020-11-18T17:06:12.216564Z",
     "iopub.status.idle": "2020-11-18T17:06:12.299490Z",
     "shell.execute_reply": "2020-11-18T17:06:12.298895Z"
    },
    "papermill": {
     "duration": 0.374684,
     "end_time": "2020-11-18T17:06:12.299663",
     "exception": false,
     "start_time": "2020-11-18T17:06:11.924979",
     "status": "completed"
    },
    "tags": []
   },
   "outputs": [],
   "source": [
    "previous_application['DAYS_TERMINATION'].describe()"
   ]
  },
  {
   "cell_type": "code",
   "execution_count": null,
   "metadata": {
    "execution": {
     "iopub.execute_input": "2020-11-18T17:06:12.886016Z",
     "iopub.status.busy": "2020-11-18T17:06:12.884110Z",
     "iopub.status.idle": "2020-11-18T17:06:13.685713Z",
     "shell.execute_reply": "2020-11-18T17:06:13.685088Z"
    },
    "papermill": {
     "duration": 1.098635,
     "end_time": "2020-11-18T17:06:13.685867",
     "exception": false,
     "start_time": "2020-11-18T17:06:12.587232",
     "status": "completed"
    },
    "tags": []
   },
   "outputs": [],
   "source": [
    "sns.set_style('whitegrid') \n",
    "sns.boxplot(previous_application['DAYS_TERMINATION']) \n",
    "plt.show()"
   ]
  },
  {
   "cell_type": "markdown",
   "metadata": {
    "papermill": {
     "duration": 0.304929,
     "end_time": "2020-11-18T17:06:14.285957",
     "exception": false,
     "start_time": "2020-11-18T17:06:13.981028",
     "status": "completed"
    },
    "tags": []
   },
   "source": [
    "### Suggestion\n",
    "We can Fill NA with -499 i.e. Median for this field "
   ]
  },
  {
   "cell_type": "code",
   "execution_count": null,
   "metadata": {
    "execution": {
     "iopub.execute_input": "2020-11-18T17:06:14.872489Z",
     "iopub.status.busy": "2020-11-18T17:06:14.871676Z",
     "iopub.status.idle": "2020-11-18T17:06:14.879873Z",
     "shell.execute_reply": "2020-11-18T17:06:14.880425Z"
    },
    "papermill": {
     "duration": 0.299661,
     "end_time": "2020-11-18T17:06:14.880586",
     "exception": false,
     "start_time": "2020-11-18T17:06:14.580925",
     "status": "completed"
    },
    "tags": []
   },
   "outputs": [],
   "source": [
    "print(\"NFLAG_INSURED_ON_APPROVAL:\" ,previous_application['NFLAG_INSURED_ON_APPROVAL'].isnull().sum())"
   ]
  },
  {
   "cell_type": "code",
   "execution_count": null,
   "metadata": {
    "execution": {
     "iopub.execute_input": "2020-11-18T17:06:15.469558Z",
     "iopub.status.busy": "2020-11-18T17:06:15.468774Z",
     "iopub.status.idle": "2020-11-18T17:06:15.502063Z",
     "shell.execute_reply": "2020-11-18T17:06:15.501406Z"
    },
    "papermill": {
     "duration": 0.327192,
     "end_time": "2020-11-18T17:06:15.502201",
     "exception": false,
     "start_time": "2020-11-18T17:06:15.175009",
     "status": "completed"
    },
    "tags": []
   },
   "outputs": [],
   "source": [
    "previous_application['NFLAG_INSURED_ON_APPROVAL'].value_counts()"
   ]
  },
  {
   "cell_type": "markdown",
   "metadata": {
    "papermill": {
     "duration": 0.295363,
     "end_time": "2020-11-18T17:06:16.084558",
     "exception": false,
     "start_time": "2020-11-18T17:06:15.789195",
     "status": "completed"
    },
    "tags": []
   },
   "source": [
    "### Suggestion\n",
    "We can Fill NA with 0 i.e. Mode for this field "
   ]
  },
  {
   "cell_type": "code",
   "execution_count": null,
   "metadata": {
    "execution": {
     "iopub.execute_input": "2020-11-18T17:06:16.670274Z",
     "iopub.status.busy": "2020-11-18T17:06:16.669436Z",
     "iopub.status.idle": "2020-11-18T17:06:19.515087Z",
     "shell.execute_reply": "2020-11-18T17:06:19.515686Z"
    },
    "papermill": {
     "duration": 3.140937,
     "end_time": "2020-11-18T17:06:19.515861",
     "exception": false,
     "start_time": "2020-11-18T17:06:16.374924",
     "status": "completed"
    },
    "tags": []
   },
   "outputs": [],
   "source": [
    "previous_application.isnull().sum()"
   ]
  },
  {
   "cell_type": "code",
   "execution_count": null,
   "metadata": {
    "execution": {
     "iopub.execute_input": "2020-11-18T17:06:20.101797Z",
     "iopub.status.busy": "2020-11-18T17:06:20.100970Z",
     "iopub.status.idle": "2020-11-18T17:06:20.109982Z",
     "shell.execute_reply": "2020-11-18T17:06:20.109339Z"
    },
    "papermill": {
     "duration": 0.306526,
     "end_time": "2020-11-18T17:06:20.110104",
     "exception": false,
     "start_time": "2020-11-18T17:06:19.803578",
     "status": "completed"
    },
    "tags": []
   },
   "outputs": [],
   "source": [
    "print(\"AMT_CREDIT :\" ,previous_application['AMT_CREDIT'].isnull().sum())"
   ]
  },
  {
   "cell_type": "code",
   "execution_count": null,
   "metadata": {
    "execution": {
     "iopub.execute_input": "2020-11-18T17:06:20.700505Z",
     "iopub.status.busy": "2020-11-18T17:06:20.699661Z",
     "iopub.status.idle": "2020-11-18T17:06:20.775648Z",
     "shell.execute_reply": "2020-11-18T17:06:20.775008Z"
    },
    "papermill": {
     "duration": 0.369126,
     "end_time": "2020-11-18T17:06:20.775781",
     "exception": false,
     "start_time": "2020-11-18T17:06:20.406655",
     "status": "completed"
    },
    "tags": []
   },
   "outputs": [],
   "source": [
    "previous_application['AMT_CREDIT'].describe()"
   ]
  },
  {
   "cell_type": "code",
   "execution_count": null,
   "metadata": {
    "execution": {
     "iopub.execute_input": "2020-11-18T17:06:21.415166Z",
     "iopub.status.busy": "2020-11-18T17:06:21.411784Z",
     "iopub.status.idle": "2020-11-18T17:06:22.105247Z",
     "shell.execute_reply": "2020-11-18T17:06:22.104464Z"
    },
    "papermill": {
     "duration": 1.010856,
     "end_time": "2020-11-18T17:06:22.105378",
     "exception": false,
     "start_time": "2020-11-18T17:06:21.094522",
     "status": "completed"
    },
    "tags": []
   },
   "outputs": [],
   "source": [
    "sns.set_style('whitegrid') \n",
    "sns.boxplot(previous_application['AMT_CREDIT']) \n",
    "plt.show()\n"
   ]
  },
  {
   "cell_type": "markdown",
   "metadata": {
    "papermill": {
     "duration": 0.291595,
     "end_time": "2020-11-18T17:06:22.687064",
     "exception": false,
     "start_time": "2020-11-18T17:06:22.395469",
     "status": "completed"
    },
    "tags": []
   },
   "source": [
    "### Suggestion\n",
    "We can Fill NA with 80541 i.e. Median for this field "
   ]
  },
  {
   "cell_type": "code",
   "execution_count": null,
   "metadata": {
    "execution": {
     "iopub.execute_input": "2020-11-18T17:06:23.444692Z",
     "iopub.status.busy": "2020-11-18T17:06:23.443786Z",
     "iopub.status.idle": "2020-11-18T17:06:23.451186Z",
     "shell.execute_reply": "2020-11-18T17:06:23.451717Z"
    },
    "papermill": {
     "duration": 0.475443,
     "end_time": "2020-11-18T17:06:23.451900",
     "exception": false,
     "start_time": "2020-11-18T17:06:22.976457",
     "status": "completed"
    },
    "tags": []
   },
   "outputs": [],
   "source": [
    "print(\"PRODUCT_COMBINATION :\" ,previous_application['PRODUCT_COMBINATION'].isnull().sum())"
   ]
  },
  {
   "cell_type": "code",
   "execution_count": null,
   "metadata": {
    "execution": {
     "iopub.execute_input": "2020-11-18T17:06:24.492646Z",
     "iopub.status.busy": "2020-11-18T17:06:24.491808Z",
     "iopub.status.idle": "2020-11-18T17:06:24.500384Z",
     "shell.execute_reply": "2020-11-18T17:06:24.499637Z"
    },
    "papermill": {
     "duration": 0.757453,
     "end_time": "2020-11-18T17:06:24.500508",
     "exception": false,
     "start_time": "2020-11-18T17:06:23.743055",
     "status": "completed"
    },
    "tags": []
   },
   "outputs": [],
   "source": [
    "previous_application['PRODUCT_COMBINATION'].value_counts()"
   ]
  },
  {
   "cell_type": "markdown",
   "metadata": {
    "papermill": {
     "duration": 0.303694,
     "end_time": "2020-11-18T17:06:25.095005",
     "exception": false,
     "start_time": "2020-11-18T17:06:24.791311",
     "status": "completed"
    },
    "tags": []
   },
   "source": [
    "### Suggestion\n",
    "We can Fill NA with Cash i.e. Mode for this field "
   ]
  },
  {
   "cell_type": "code",
   "execution_count": null,
   "metadata": {
    "execution": {
     "iopub.execute_input": "2020-11-18T17:06:25.714318Z",
     "iopub.status.busy": "2020-11-18T17:06:25.713546Z",
     "iopub.status.idle": "2020-11-18T17:06:25.717037Z",
     "shell.execute_reply": "2020-11-18T17:06:25.716220Z"
    },
    "papermill": {
     "duration": 0.313431,
     "end_time": "2020-11-18T17:06:25.717169",
     "exception": false,
     "start_time": "2020-11-18T17:06:25.403738",
     "status": "completed"
    },
    "tags": []
   },
   "outputs": [],
   "source": [
    "class color:\n",
    "   PURPLE = '\\033[95m'\n",
    "   CYAN = '\\033[96m'\n",
    "   DARKCYAN = '\\033[36m'\n",
    "   BLUE = '\\033[94m'\n",
    "   GREEN = '\\033[92m'\n",
    "   YELLOW = '\\033[93m'\n",
    "   RED = '\\033[91m'\n",
    "   BOLD = '\\033[1m'\n",
    "   UNDERLINE = '\\033[4m'\n",
    "   END = '\\033[0m'"
   ]
  },
  {
   "cell_type": "markdown",
   "metadata": {
    "papermill": {
     "duration": 0.291508,
     "end_time": "2020-11-18T17:06:26.305888",
     "exception": false,
     "start_time": "2020-11-18T17:06:26.014380",
     "status": "completed"
    },
    "tags": []
   },
   "source": [
    "### Separating numerical and categorical columns from previous_application"
   ]
  },
  {
   "cell_type": "code",
   "execution_count": null,
   "metadata": {
    "execution": {
     "iopub.execute_input": "2020-11-18T17:06:27.284412Z",
     "iopub.status.busy": "2020-11-18T17:06:27.170103Z",
     "iopub.status.idle": "2020-11-18T17:06:27.337535Z",
     "shell.execute_reply": "2020-11-18T17:06:27.336709Z"
    },
    "papermill": {
     "duration": 0.737437,
     "end_time": "2020-11-18T17:06:27.337679",
     "exception": false,
     "start_time": "2020-11-18T17:06:26.600242",
     "status": "completed"
    },
    "tags": []
   },
   "outputs": [],
   "source": [
    "obj_dtypes = [i for i in previous_application.select_dtypes(include=np.object).columns if i not in [\"type\"] ]\n",
    "num_dtypes = [i for i in previous_application.select_dtypes(include = np.number).columns if i not in ['SK_ID_CURR'] + [ 'TARGET']]"
   ]
  },
  {
   "cell_type": "code",
   "execution_count": null,
   "metadata": {
    "execution": {
     "iopub.execute_input": "2020-11-18T17:06:27.927799Z",
     "iopub.status.busy": "2020-11-18T17:06:27.926623Z",
     "iopub.status.idle": "2020-11-18T17:06:27.930402Z",
     "shell.execute_reply": "2020-11-18T17:06:27.931430Z"
    },
    "papermill": {
     "duration": 0.301919,
     "end_time": "2020-11-18T17:06:27.931650",
     "exception": false,
     "start_time": "2020-11-18T17:06:27.629731",
     "status": "completed"
    },
    "tags": []
   },
   "outputs": [],
   "source": [
    "print(color.BOLD + color.PURPLE + 'Categorical Columns' + color.END, \"\\n\")\n",
    "for x in range(len(obj_dtypes)): \n",
    "    print(obj_dtypes[x])\n"
   ]
  },
  {
   "cell_type": "code",
   "execution_count": null,
   "metadata": {
    "execution": {
     "iopub.execute_input": "2020-11-18T17:06:28.524138Z",
     "iopub.status.busy": "2020-11-18T17:06:28.523269Z",
     "iopub.status.idle": "2020-11-18T17:06:28.531343Z",
     "shell.execute_reply": "2020-11-18T17:06:28.531876Z"
    },
    "papermill": {
     "duration": 0.309823,
     "end_time": "2020-11-18T17:06:28.532048",
     "exception": false,
     "start_time": "2020-11-18T17:06:28.222225",
     "status": "completed"
    },
    "tags": []
   },
   "outputs": [],
   "source": [
    "print(color.BOLD + color.PURPLE + 'Numerical' + color.END, \"\\n\")\n",
    "for x in range(len(obj_dtypes)): \n",
    "    print(obj_dtypes[x])"
   ]
  },
  {
   "cell_type": "markdown",
   "metadata": {
    "papermill": {
     "duration": 0.29016,
     "end_time": "2020-11-18T17:06:29.113644",
     "exception": false,
     "start_time": "2020-11-18T17:06:28.823484",
     "status": "completed"
    },
    "tags": []
   },
   "source": [
    "\n",
    "## Percentage of Missing values in application_data"
   ]
  },
  {
   "cell_type": "code",
   "execution_count": null,
   "metadata": {
    "execution": {
     "iopub.execute_input": "2020-11-18T17:06:29.707488Z",
     "iopub.status.busy": "2020-11-18T17:06:29.706599Z",
     "iopub.status.idle": "2020-11-18T17:06:35.136812Z",
     "shell.execute_reply": "2020-11-18T17:06:35.137448Z"
    },
    "papermill": {
     "duration": 5.731737,
     "end_time": "2020-11-18T17:06:35.137605",
     "exception": false,
     "start_time": "2020-11-18T17:06:29.405868",
     "status": "completed"
    },
    "tags": []
   },
   "outputs": [],
   "source": [
    "fig = plt.figure(figsize=(18,6))\n",
    "miss_application_data = pd.DataFrame((application_data.isnull().sum())*100/application_data.shape[0]).reset_index()\n",
    "miss_application_data[\"type\"] = \"application_data\"\n",
    "ax = sns.pointplot(\"index\",0,data=miss_application_data,hue=\"type\")\n",
    "plt.xticks(rotation =90,fontsize =7)\n",
    "plt.title(\"Percentage of Missing values in application_data\")\n",
    "plt.ylabel(\"PERCENTAGE\")\n",
    "plt.xlabel(\"COLUMNS\")\n",
    "ax.set_facecolor(\"k\")\n",
    "fig.set_facecolor(\"lightgrey\")"
   ]
  },
  {
   "cell_type": "code",
   "execution_count": null,
   "metadata": {
    "execution": {
     "iopub.execute_input": "2020-11-18T17:06:35.737339Z",
     "iopub.status.busy": "2020-11-18T17:06:35.736508Z",
     "iopub.status.idle": "2020-11-18T17:06:36.301910Z",
     "shell.execute_reply": "2020-11-18T17:06:36.301232Z"
    },
    "papermill": {
     "duration": 0.86639,
     "end_time": "2020-11-18T17:06:36.302036",
     "exception": false,
     "start_time": "2020-11-18T17:06:35.435646",
     "status": "completed"
    },
    "tags": []
   },
   "outputs": [],
   "source": [
    "round(100*(application_data.isnull().sum()/len(application_data.index)),2)"
   ]
  },
  {
   "cell_type": "markdown",
   "metadata": {
    "papermill": {
     "duration": 0.295003,
     "end_time": "2020-11-18T17:06:36.894704",
     "exception": false,
     "start_time": "2020-11-18T17:06:36.599701",
     "status": "completed"
    },
    "tags": []
   },
   "source": [
    "### Removing columns with missing values more than 40%\n",
    "\n",
    "As per Industrial Standard, max Threshold limit can be between 40% to 50 % depending upon the data acquired in specific sector."
   ]
  },
  {
   "cell_type": "code",
   "execution_count": null,
   "metadata": {
    "execution": {
     "iopub.execute_input": "2020-11-18T17:06:37.530459Z",
     "iopub.status.busy": "2020-11-18T17:06:37.498601Z",
     "iopub.status.idle": "2020-11-18T17:06:37.587627Z",
     "shell.execute_reply": "2020-11-18T17:06:37.586859Z"
    },
    "papermill": {
     "duration": 0.397136,
     "end_time": "2020-11-18T17:06:37.587754",
     "exception": false,
     "start_time": "2020-11-18T17:06:37.190618",
     "status": "completed"
    },
    "tags": []
   },
   "outputs": [],
   "source": [
    "application_data=application_data.drop([ 'EXT_SOURCE_1', 'EXT_SOURCE_2', 'EXT_SOURCE_3',\n",
    "       'APARTMENTS_AVG', 'BASEMENTAREA_AVG', 'YEARS_BEGINEXPLUATATION_AVG',\n",
    "       'YEARS_BUILD_AVG', 'COMMONAREA_AVG', 'ELEVATORS_AVG', 'ENTRANCES_AVG',\n",
    "       'FLOORSMAX_AVG', 'FLOORSMIN_AVG', 'LANDAREA_AVG',\n",
    "       'LIVINGAPARTMENTS_AVG', 'LIVINGAREA_AVG', 'NONLIVINGAPARTMENTS_AVG',\n",
    "       'NONLIVINGAREA_AVG', 'APARTMENTS_MODE', 'BASEMENTAREA_MODE',\n",
    "       'YEARS_BEGINEXPLUATATION_MODE', 'YEARS_BUILD_MODE', 'COMMONAREA_MODE',\n",
    "       'ELEVATORS_MODE', 'ENTRANCES_MODE', 'FLOORSMAX_MODE', 'FLOORSMIN_MODE',\n",
    "       'LANDAREA_MODE', 'LIVINGAPARTMENTS_MODE', 'LIVINGAREA_MODE',\n",
    "       'NONLIVINGAPARTMENTS_MODE', 'NONLIVINGAREA_MODE', 'APARTMENTS_MEDI',\n",
    "       'BASEMENTAREA_MEDI', 'YEARS_BEGINEXPLUATATION_MEDI', 'YEARS_BUILD_MEDI',\n",
    "       'COMMONAREA_MEDI', 'ELEVATORS_MEDI', 'ENTRANCES_MEDI', 'FLOORSMAX_MEDI',\n",
    "       'FLOORSMIN_MEDI', 'LANDAREA_MEDI', 'LIVINGAPARTMENTS_MEDI',\n",
    "       'LIVINGAREA_MEDI', 'NONLIVINGAPARTMENTS_MEDI', 'NONLIVINGAREA_MEDI',\n",
    "       'FONDKAPREMONT_MODE', 'HOUSETYPE_MODE', 'TOTALAREA_MODE',\n",
    "       'WALLSMATERIAL_MODE', 'EMERGENCYSTATE_MODE',\"OWN_CAR_AGE\",\"OCCUPATION_TYPE\"],axis=1)"
   ]
  },
  {
   "cell_type": "code",
   "execution_count": null,
   "metadata": {
    "execution": {
     "iopub.execute_input": "2020-11-18T17:06:38.190788Z",
     "iopub.status.busy": "2020-11-18T17:06:38.189792Z",
     "iopub.status.idle": "2020-11-18T17:06:41.444479Z",
     "shell.execute_reply": "2020-11-18T17:06:41.443510Z"
    },
    "papermill": {
     "duration": 3.559924,
     "end_time": "2020-11-18T17:06:41.444649",
     "exception": false,
     "start_time": "2020-11-18T17:06:37.884725",
     "status": "completed"
    },
    "tags": []
   },
   "outputs": [],
   "source": [
    "fig = plt.figure(figsize=(18,6))\n",
    "miss_application_data = pd.DataFrame((application_data.isnull().sum())*100/application_data.shape[0]).reset_index()\n",
    "miss_application_data[\"type\"] = \"application_data\"\n",
    "ax = sns.pointplot(\"index\",0,data=miss_application_data,hue=\"type\")\n",
    "plt.xticks(rotation =90,fontsize =7)\n",
    "plt.title(\"Percentage of Missing values in application_data\")\n",
    "plt.ylabel(\"PERCENTAGE\")\n",
    "plt.xlabel(\"COLUMNS\")\n",
    "ax.set_facecolor(\"k\")\n",
    "fig.set_facecolor(\"lightgrey\")\n",
    "\n"
   ]
  },
  {
   "cell_type": "code",
   "execution_count": null,
   "metadata": {
    "execution": {
     "iopub.execute_input": "2020-11-18T17:06:42.089737Z",
     "iopub.status.busy": "2020-11-18T17:06:42.088772Z",
     "iopub.status.idle": "2020-11-18T17:06:42.525504Z",
     "shell.execute_reply": "2020-11-18T17:06:42.524675Z"
    },
    "papermill": {
     "duration": 0.771881,
     "end_time": "2020-11-18T17:06:42.525630",
     "exception": false,
     "start_time": "2020-11-18T17:06:41.753749",
     "status": "completed"
    },
    "tags": []
   },
   "outputs": [],
   "source": [
    "round(100*(application_data.isnull().sum()/len(application_data.index)),2)"
   ]
  },
  {
   "cell_type": "markdown",
   "metadata": {
    "papermill": {
     "duration": 0.297178,
     "end_time": "2020-11-18T17:06:43.130043",
     "exception": false,
     "start_time": "2020-11-18T17:06:42.832865",
     "status": "completed"
    },
    "tags": []
   },
   "source": [
    "### MISSING values Suggestion"
   ]
  },
  {
   "cell_type": "code",
   "execution_count": null,
   "metadata": {
    "execution": {
     "iopub.execute_input": "2020-11-18T17:06:43.740637Z",
     "iopub.status.busy": "2020-11-18T17:06:43.739655Z",
     "iopub.status.idle": "2020-11-18T17:06:43.746475Z",
     "shell.execute_reply": "2020-11-18T17:06:43.745858Z"
    },
    "papermill": {
     "duration": 0.317175,
     "end_time": "2020-11-18T17:06:43.746595",
     "exception": false,
     "start_time": "2020-11-18T17:06:43.429420",
     "status": "completed"
    },
    "tags": []
   },
   "outputs": [],
   "source": [
    "print(\"AMT_REQ_CREDIT_BUREAU_DAY NAN COUNT :\" ,application_data['AMT_REQ_CREDIT_BUREAU_DAY'].isnull().sum())"
   ]
  },
  {
   "cell_type": "code",
   "execution_count": null,
   "metadata": {
    "execution": {
     "iopub.execute_input": "2020-11-18T17:06:44.352450Z",
     "iopub.status.busy": "2020-11-18T17:06:44.351311Z",
     "iopub.status.idle": "2020-11-18T17:06:44.369658Z",
     "shell.execute_reply": "2020-11-18T17:06:44.368909Z"
    },
    "papermill": {
     "duration": 0.324119,
     "end_time": "2020-11-18T17:06:44.369780",
     "exception": false,
     "start_time": "2020-11-18T17:06:44.045661",
     "status": "completed"
    },
    "tags": []
   },
   "outputs": [],
   "source": [
    "application_data['AMT_REQ_CREDIT_BUREAU_DAY'].describe()"
   ]
  },
  {
   "cell_type": "markdown",
   "metadata": {
    "papermill": {
     "duration": 0.299711,
     "end_time": "2020-11-18T17:06:44.971424",
     "exception": false,
     "start_time": "2020-11-18T17:06:44.671713",
     "status": "completed"
    },
    "tags": []
   },
   "source": [
    "### Suggestion\n",
    "We can Fill NA with 0 i.e. Median for this field "
   ]
  },
  {
   "cell_type": "code",
   "execution_count": null,
   "metadata": {
    "execution": {
     "iopub.execute_input": "2020-11-18T17:06:45.581584Z",
     "iopub.status.busy": "2020-11-18T17:06:45.580473Z",
     "iopub.status.idle": "2020-11-18T17:06:45.586384Z",
     "shell.execute_reply": "2020-11-18T17:06:45.585661Z"
    },
    "papermill": {
     "duration": 0.313386,
     "end_time": "2020-11-18T17:06:45.586516",
     "exception": false,
     "start_time": "2020-11-18T17:06:45.273130",
     "status": "completed"
    },
    "tags": []
   },
   "outputs": [],
   "source": [
    "print(\"AMT_REQ_CREDIT_BUREAU_HOUR NAN COUNT :\" ,application_data['AMT_REQ_CREDIT_BUREAU_HOUR'].isnull().sum())"
   ]
  },
  {
   "cell_type": "code",
   "execution_count": null,
   "metadata": {
    "execution": {
     "iopub.execute_input": "2020-11-18T17:06:46.192371Z",
     "iopub.status.busy": "2020-11-18T17:06:46.191548Z",
     "iopub.status.idle": "2020-11-18T17:06:46.208279Z",
     "shell.execute_reply": "2020-11-18T17:06:46.207549Z"
    },
    "papermill": {
     "duration": 0.322252,
     "end_time": "2020-11-18T17:06:46.208401",
     "exception": false,
     "start_time": "2020-11-18T17:06:45.886149",
     "status": "completed"
    },
    "tags": []
   },
   "outputs": [],
   "source": [
    "application_data['AMT_REQ_CREDIT_BUREAU_HOUR'].describe()"
   ]
  },
  {
   "cell_type": "markdown",
   "metadata": {
    "papermill": {
     "duration": 0.300595,
     "end_time": "2020-11-18T17:06:46.810862",
     "exception": false,
     "start_time": "2020-11-18T17:06:46.510267",
     "status": "completed"
    },
    "tags": []
   },
   "source": [
    "### Suggestion\n",
    "We can Fill NA with 0 i.e. Median for this field "
   ]
  },
  {
   "cell_type": "code",
   "execution_count": null,
   "metadata": {
    "execution": {
     "iopub.execute_input": "2020-11-18T17:06:47.421748Z",
     "iopub.status.busy": "2020-11-18T17:06:47.420883Z",
     "iopub.status.idle": "2020-11-18T17:06:47.427204Z",
     "shell.execute_reply": "2020-11-18T17:06:47.426253Z"
    },
    "papermill": {
     "duration": 0.315635,
     "end_time": "2020-11-18T17:06:47.427365",
     "exception": false,
     "start_time": "2020-11-18T17:06:47.111730",
     "status": "completed"
    },
    "tags": []
   },
   "outputs": [],
   "source": [
    "print(\"AMT_REQ_CREDIT_BUREAU_MON NAN COUNT :\" ,application_data['AMT_REQ_CREDIT_BUREAU_MON'].isnull().sum())"
   ]
  },
  {
   "cell_type": "code",
   "execution_count": null,
   "metadata": {
    "execution": {
     "iopub.execute_input": "2020-11-18T17:06:48.041657Z",
     "iopub.status.busy": "2020-11-18T17:06:48.040580Z",
     "iopub.status.idle": "2020-11-18T17:06:48.060031Z",
     "shell.execute_reply": "2020-11-18T17:06:48.059439Z"
    },
    "papermill": {
     "duration": 0.328904,
     "end_time": "2020-11-18T17:06:48.060159",
     "exception": false,
     "start_time": "2020-11-18T17:06:47.731255",
     "status": "completed"
    },
    "tags": []
   },
   "outputs": [],
   "source": [
    "application_data['AMT_REQ_CREDIT_BUREAU_MON'].describe()"
   ]
  },
  {
   "cell_type": "markdown",
   "metadata": {
    "papermill": {
     "duration": 0.302595,
     "end_time": "2020-11-18T17:06:48.664747",
     "exception": false,
     "start_time": "2020-11-18T17:06:48.362152",
     "status": "completed"
    },
    "tags": []
   },
   "source": [
    "### Suggestion\n",
    "We can Fill NA with 0 i.e. Median for this field "
   ]
  },
  {
   "cell_type": "code",
   "execution_count": null,
   "metadata": {
    "execution": {
     "iopub.execute_input": "2020-11-18T17:06:49.277954Z",
     "iopub.status.busy": "2020-11-18T17:06:49.276972Z",
     "iopub.status.idle": "2020-11-18T17:06:49.283407Z",
     "shell.execute_reply": "2020-11-18T17:06:49.282463Z"
    },
    "papermill": {
     "duration": 0.31626,
     "end_time": "2020-11-18T17:06:49.283592",
     "exception": false,
     "start_time": "2020-11-18T17:06:48.967332",
     "status": "completed"
    },
    "tags": []
   },
   "outputs": [],
   "source": [
    "print(\"AMT_REQ_CREDIT_BUREAU_QRT NAN COUNT :\" ,application_data['AMT_REQ_CREDIT_BUREAU_QRT'].isnull().sum())"
   ]
  },
  {
   "cell_type": "markdown",
   "metadata": {
    "papermill": {
     "duration": 0.303588,
     "end_time": "2020-11-18T17:06:49.893727",
     "exception": false,
     "start_time": "2020-11-18T17:06:49.590139",
     "status": "completed"
    },
    "tags": []
   },
   "source": [
    "### Suggestion\n",
    "We can Fill NA with 0 i.e. Median for this field "
   ]
  },
  {
   "cell_type": "code",
   "execution_count": null,
   "metadata": {
    "execution": {
     "iopub.execute_input": "2020-11-18T17:06:50.511639Z",
     "iopub.status.busy": "2020-11-18T17:06:50.510695Z",
     "iopub.status.idle": "2020-11-18T17:06:50.516441Z",
     "shell.execute_reply": "2020-11-18T17:06:50.515700Z"
    },
    "papermill": {
     "duration": 0.318658,
     "end_time": "2020-11-18T17:06:50.516561",
     "exception": false,
     "start_time": "2020-11-18T17:06:50.197903",
     "status": "completed"
    },
    "tags": []
   },
   "outputs": [],
   "source": [
    "print(\"AMT_REQ_CREDIT_BUREAU_WEEK NAN COUNT :\" ,application_data['AMT_REQ_CREDIT_BUREAU_WEEK'].isnull().sum())"
   ]
  },
  {
   "cell_type": "code",
   "execution_count": null,
   "metadata": {
    "execution": {
     "iopub.execute_input": "2020-11-18T17:06:51.128954Z",
     "iopub.status.busy": "2020-11-18T17:06:51.128179Z",
     "iopub.status.idle": "2020-11-18T17:06:51.145080Z",
     "shell.execute_reply": "2020-11-18T17:06:51.145623Z"
    },
    "papermill": {
     "duration": 0.325903,
     "end_time": "2020-11-18T17:06:51.145791",
     "exception": false,
     "start_time": "2020-11-18T17:06:50.819888",
     "status": "completed"
    },
    "tags": []
   },
   "outputs": [],
   "source": [
    "application_data['AMT_REQ_CREDIT_BUREAU_WEEK'].describe()"
   ]
  },
  {
   "cell_type": "markdown",
   "metadata": {
    "papermill": {
     "duration": 0.307252,
     "end_time": "2020-11-18T17:06:51.765154",
     "exception": false,
     "start_time": "2020-11-18T17:06:51.457902",
     "status": "completed"
    },
    "tags": []
   },
   "source": [
    "### Suggestion\n",
    "We can Fill NA with 0 i.e. Median for this field "
   ]
  },
  {
   "cell_type": "code",
   "execution_count": null,
   "metadata": {
    "execution": {
     "iopub.execute_input": "2020-11-18T17:06:52.386430Z",
     "iopub.status.busy": "2020-11-18T17:06:52.385326Z",
     "iopub.status.idle": "2020-11-18T17:06:52.390666Z",
     "shell.execute_reply": "2020-11-18T17:06:52.390088Z"
    },
    "papermill": {
     "duration": 0.319772,
     "end_time": "2020-11-18T17:06:52.390795",
     "exception": false,
     "start_time": "2020-11-18T17:06:52.071023",
     "status": "completed"
    },
    "tags": []
   },
   "outputs": [],
   "source": [
    "print(\"AMT_REQ_CREDIT_BUREAU_YEAR NAN COUNT :\" ,application_data['AMT_REQ_CREDIT_BUREAU_YEAR'].isnull().sum())"
   ]
  },
  {
   "cell_type": "code",
   "execution_count": null,
   "metadata": {
    "execution": {
     "iopub.execute_input": "2020-11-18T17:06:53.010724Z",
     "iopub.status.busy": "2020-11-18T17:06:53.009602Z",
     "iopub.status.idle": "2020-11-18T17:06:53.031587Z",
     "shell.execute_reply": "2020-11-18T17:06:53.030877Z"
    },
    "papermill": {
     "duration": 0.331809,
     "end_time": "2020-11-18T17:06:53.031705",
     "exception": false,
     "start_time": "2020-11-18T17:06:52.699896",
     "status": "completed"
    },
    "tags": []
   },
   "outputs": [],
   "source": [
    "application_data['AMT_REQ_CREDIT_BUREAU_YEAR'].describe()"
   ]
  },
  {
   "cell_type": "markdown",
   "metadata": {
    "papermill": {
     "duration": 0.306403,
     "end_time": "2020-11-18T17:06:53.667637",
     "exception": false,
     "start_time": "2020-11-18T17:06:53.361234",
     "status": "completed"
    },
    "tags": []
   },
   "source": [
    "### Suggestion\n",
    "We can Fill NA with 0 i.e. Median for this field "
   ]
  },
  {
   "cell_type": "code",
   "execution_count": null,
   "metadata": {
    "execution": {
     "iopub.execute_input": "2020-11-18T17:06:54.284455Z",
     "iopub.status.busy": "2020-11-18T17:06:54.283494Z",
     "iopub.status.idle": "2020-11-18T17:06:54.289351Z",
     "shell.execute_reply": "2020-11-18T17:06:54.288645Z"
    },
    "papermill": {
     "duration": 0.317663,
     "end_time": "2020-11-18T17:06:54.289480",
     "exception": false,
     "start_time": "2020-11-18T17:06:53.971817",
     "status": "completed"
    },
    "tags": []
   },
   "outputs": [],
   "source": [
    "print(\"DEF_30_CNT_SOCIAL_CIRCLE NAN COUNT :\" ,application_data['DEF_30_CNT_SOCIAL_CIRCLE'].isnull().sum())"
   ]
  },
  {
   "cell_type": "code",
   "execution_count": null,
   "metadata": {
    "execution": {
     "iopub.execute_input": "2020-11-18T17:06:54.912564Z",
     "iopub.status.busy": "2020-11-18T17:06:54.911775Z",
     "iopub.status.idle": "2020-11-18T17:06:54.928022Z",
     "shell.execute_reply": "2020-11-18T17:06:54.928567Z"
    },
    "papermill": {
     "duration": 0.329996,
     "end_time": "2020-11-18T17:06:54.928731",
     "exception": false,
     "start_time": "2020-11-18T17:06:54.598735",
     "status": "completed"
    },
    "tags": []
   },
   "outputs": [],
   "source": [
    "application_data['DEF_30_CNT_SOCIAL_CIRCLE'].describe()"
   ]
  },
  {
   "cell_type": "markdown",
   "metadata": {
    "papermill": {
     "duration": 0.308822,
     "end_time": "2020-11-18T17:06:55.543911",
     "exception": false,
     "start_time": "2020-11-18T17:06:55.235089",
     "status": "completed"
    },
    "tags": []
   },
   "source": [
    "### Suggestion\n",
    "We can Fill NA with 0 i.e. Median for this field "
   ]
  },
  {
   "cell_type": "code",
   "execution_count": null,
   "metadata": {
    "execution": {
     "iopub.execute_input": "2020-11-18T17:06:56.163749Z",
     "iopub.status.busy": "2020-11-18T17:06:56.162614Z",
     "iopub.status.idle": "2020-11-18T17:06:56.168482Z",
     "shell.execute_reply": "2020-11-18T17:06:56.167657Z"
    },
    "papermill": {
     "duration": 0.317178,
     "end_time": "2020-11-18T17:06:56.168639",
     "exception": false,
     "start_time": "2020-11-18T17:06:55.851461",
     "status": "completed"
    },
    "tags": []
   },
   "outputs": [],
   "source": [
    "print(\"DEF_30_CNT_SOCIAL_CIRCLE :\" ,application_data['DEF_30_CNT_SOCIAL_CIRCLE'].isnull().sum())"
   ]
  },
  {
   "cell_type": "code",
   "execution_count": null,
   "metadata": {
    "execution": {
     "iopub.execute_input": "2020-11-18T17:06:56.794946Z",
     "iopub.status.busy": "2020-11-18T17:06:56.793785Z",
     "iopub.status.idle": "2020-11-18T17:06:56.811221Z",
     "shell.execute_reply": "2020-11-18T17:06:56.810526Z"
    },
    "papermill": {
     "duration": 0.332058,
     "end_time": "2020-11-18T17:06:56.811360",
     "exception": false,
     "start_time": "2020-11-18T17:06:56.479302",
     "status": "completed"
    },
    "tags": []
   },
   "outputs": [],
   "source": [
    "application_data['DEF_30_CNT_SOCIAL_CIRCLE'].describe()"
   ]
  },
  {
   "cell_type": "markdown",
   "metadata": {
    "papermill": {
     "duration": 0.313156,
     "end_time": "2020-11-18T17:06:57.432417",
     "exception": false,
     "start_time": "2020-11-18T17:06:57.119261",
     "status": "completed"
    },
    "tags": []
   },
   "source": [
    "### Suggestion\n",
    "We can Fill NA with 0 i.e. Median for this field "
   ]
  },
  {
   "cell_type": "code",
   "execution_count": null,
   "metadata": {
    "execution": {
     "iopub.execute_input": "2020-11-18T17:06:58.059810Z",
     "iopub.status.busy": "2020-11-18T17:06:58.058920Z",
     "iopub.status.idle": "2020-11-18T17:06:58.064589Z",
     "shell.execute_reply": "2020-11-18T17:06:58.063863Z"
    },
    "papermill": {
     "duration": 0.321282,
     "end_time": "2020-11-18T17:06:58.064707",
     "exception": false,
     "start_time": "2020-11-18T17:06:57.743425",
     "status": "completed"
    },
    "tags": []
   },
   "outputs": [],
   "source": [
    "print(\"OBS_60_CNT_SOCIAL_CIRCLE :\" ,application_data['OBS_60_CNT_SOCIAL_CIRCLE'].isnull().sum())"
   ]
  },
  {
   "cell_type": "code",
   "execution_count": null,
   "metadata": {
    "execution": {
     "iopub.execute_input": "2020-11-18T17:06:58.690262Z",
     "iopub.status.busy": "2020-11-18T17:06:58.689163Z",
     "iopub.status.idle": "2020-11-18T17:06:58.709790Z",
     "shell.execute_reply": "2020-11-18T17:06:58.709181Z"
    },
    "papermill": {
     "duration": 0.335945,
     "end_time": "2020-11-18T17:06:58.709959",
     "exception": false,
     "start_time": "2020-11-18T17:06:58.374014",
     "status": "completed"
    },
    "tags": []
   },
   "outputs": [],
   "source": [
    "application_data['OBS_60_CNT_SOCIAL_CIRCLE'].describe()"
   ]
  },
  {
   "cell_type": "markdown",
   "metadata": {
    "papermill": {
     "duration": 0.311457,
     "end_time": "2020-11-18T17:06:59.333899",
     "exception": false,
     "start_time": "2020-11-18T17:06:59.022442",
     "status": "completed"
    },
    "tags": []
   },
   "source": [
    "### Suggestion\n",
    "We can Fill NA with 0 i.e. Median for this field "
   ]
  },
  {
   "cell_type": "code",
   "execution_count": null,
   "metadata": {
    "execution": {
     "iopub.execute_input": "2020-11-18T17:06:59.958909Z",
     "iopub.status.busy": "2020-11-18T17:06:59.958154Z",
     "iopub.status.idle": "2020-11-18T17:06:59.963640Z",
     "shell.execute_reply": "2020-11-18T17:06:59.962937Z"
    },
    "papermill": {
     "duration": 0.319976,
     "end_time": "2020-11-18T17:06:59.963760",
     "exception": false,
     "start_time": "2020-11-18T17:06:59.643784",
     "status": "completed"
    },
    "tags": []
   },
   "outputs": [],
   "source": [
    "print(\"DEF_60_CNT_SOCIAL_CIRCLE :\" ,application_data['DEF_60_CNT_SOCIAL_CIRCLE'].isnull().sum())"
   ]
  },
  {
   "cell_type": "code",
   "execution_count": null,
   "metadata": {
    "execution": {
     "iopub.execute_input": "2020-11-18T17:07:00.592878Z",
     "iopub.status.busy": "2020-11-18T17:07:00.591770Z",
     "iopub.status.idle": "2020-11-18T17:07:00.608528Z",
     "shell.execute_reply": "2020-11-18T17:07:00.607934Z"
    },
    "papermill": {
     "duration": 0.332472,
     "end_time": "2020-11-18T17:07:00.608659",
     "exception": false,
     "start_time": "2020-11-18T17:07:00.276187",
     "status": "completed"
    },
    "tags": []
   },
   "outputs": [],
   "source": [
    "application_data['DEF_60_CNT_SOCIAL_CIRCLE'].describe()"
   ]
  },
  {
   "cell_type": "markdown",
   "metadata": {
    "papermill": {
     "duration": 0.314322,
     "end_time": "2020-11-18T17:07:01.235729",
     "exception": false,
     "start_time": "2020-11-18T17:07:00.921407",
     "status": "completed"
    },
    "tags": []
   },
   "source": [
    "### Suggestion\n",
    "We can Fill NA with 0 i.e. Median for this field "
   ]
  },
  {
   "cell_type": "code",
   "execution_count": null,
   "metadata": {
    "execution": {
     "iopub.execute_input": "2020-11-18T17:07:01.863939Z",
     "iopub.status.busy": "2020-11-18T17:07:01.863187Z",
     "iopub.status.idle": "2020-11-18T17:07:02.276810Z",
     "shell.execute_reply": "2020-11-18T17:07:02.276208Z"
    },
    "papermill": {
     "duration": 0.729004,
     "end_time": "2020-11-18T17:07:02.276958",
     "exception": false,
     "start_time": "2020-11-18T17:07:01.547954",
     "status": "completed"
    },
    "tags": []
   },
   "outputs": [],
   "source": [
    "application_data.isnull().sum()"
   ]
  },
  {
   "cell_type": "code",
   "execution_count": null,
   "metadata": {
    "execution": {
     "iopub.execute_input": "2020-11-18T17:07:02.913231Z",
     "iopub.status.busy": "2020-11-18T17:07:02.912152Z",
     "iopub.status.idle": "2020-11-18T17:07:02.917529Z",
     "shell.execute_reply": "2020-11-18T17:07:02.918141Z"
    },
    "papermill": {
     "duration": 0.32811,
     "end_time": "2020-11-18T17:07:02.918299",
     "exception": false,
     "start_time": "2020-11-18T17:07:02.590189",
     "status": "completed"
    },
    "tags": []
   },
   "outputs": [],
   "source": [
    "print(\"AMT_ANNUITY  :\" ,application_data['AMT_ANNUITY'].isnull().sum())"
   ]
  },
  {
   "cell_type": "code",
   "execution_count": null,
   "metadata": {
    "execution": {
     "iopub.execute_input": "2020-11-18T17:07:03.597723Z",
     "iopub.status.busy": "2020-11-18T17:07:03.596613Z",
     "iopub.status.idle": "2020-11-18T17:07:03.618157Z",
     "shell.execute_reply": "2020-11-18T17:07:03.617409Z"
    },
    "papermill": {
     "duration": 0.385953,
     "end_time": "2020-11-18T17:07:03.618279",
     "exception": false,
     "start_time": "2020-11-18T17:07:03.232326",
     "status": "completed"
    },
    "tags": []
   },
   "outputs": [],
   "source": [
    "application_data['AMT_ANNUITY'].describe()"
   ]
  },
  {
   "cell_type": "code",
   "execution_count": null,
   "metadata": {
    "execution": {
     "iopub.execute_input": "2020-11-18T17:07:04.271476Z",
     "iopub.status.busy": "2020-11-18T17:07:04.270143Z",
     "iopub.status.idle": "2020-11-18T17:07:04.777742Z",
     "shell.execute_reply": "2020-11-18T17:07:04.776928Z"
    },
    "papermill": {
     "duration": 0.847304,
     "end_time": "2020-11-18T17:07:04.777899",
     "exception": false,
     "start_time": "2020-11-18T17:07:03.930595",
     "status": "completed"
    },
    "tags": []
   },
   "outputs": [],
   "source": [
    "sns.set_style('whitegrid') \n",
    "sns.distplot(application_data['AMT_ANNUITY']) \n",
    "plt.show()"
   ]
  },
  {
   "cell_type": "markdown",
   "metadata": {
    "papermill": {
     "duration": 0.316231,
     "end_time": "2020-11-18T17:07:05.411714",
     "exception": false,
     "start_time": "2020-11-18T17:07:05.095483",
     "status": "completed"
    },
    "tags": []
   },
   "source": [
    "### Suggestion\n",
    "We can Fill NA with 0 i.e. Mean for this field as it's right skewed graph"
   ]
  },
  {
   "cell_type": "code",
   "execution_count": null,
   "metadata": {
    "execution": {
     "iopub.execute_input": "2020-11-18T17:07:06.051559Z",
     "iopub.status.busy": "2020-11-18T17:07:06.050774Z",
     "iopub.status.idle": "2020-11-18T17:07:06.056075Z",
     "shell.execute_reply": "2020-11-18T17:07:06.056620Z"
    },
    "papermill": {
     "duration": 0.327712,
     "end_time": "2020-11-18T17:07:06.056778",
     "exception": false,
     "start_time": "2020-11-18T17:07:05.729066",
     "status": "completed"
    },
    "tags": []
   },
   "outputs": [],
   "source": [
    "print(\"AMT_GOODS_PRICE   :\" ,application_data['AMT_GOODS_PRICE'].isnull().sum())"
   ]
  },
  {
   "cell_type": "code",
   "execution_count": null,
   "metadata": {
    "execution": {
     "iopub.execute_input": "2020-11-18T17:07:06.694247Z",
     "iopub.status.busy": "2020-11-18T17:07:06.693163Z",
     "iopub.status.idle": "2020-11-18T17:07:06.714341Z",
     "shell.execute_reply": "2020-11-18T17:07:06.713742Z"
    },
    "papermill": {
     "duration": 0.341414,
     "end_time": "2020-11-18T17:07:06.714475",
     "exception": false,
     "start_time": "2020-11-18T17:07:06.373061",
     "status": "completed"
    },
    "tags": []
   },
   "outputs": [],
   "source": [
    "application_data['AMT_GOODS_PRICE'].describe()"
   ]
  },
  {
   "cell_type": "code",
   "execution_count": null,
   "metadata": {
    "execution": {
     "iopub.execute_input": "2020-11-18T17:07:07.358714Z",
     "iopub.status.busy": "2020-11-18T17:07:07.353760Z",
     "iopub.status.idle": "2020-11-18T17:07:07.824095Z",
     "shell.execute_reply": "2020-11-18T17:07:07.823417Z"
    },
    "papermill": {
     "duration": 0.79259,
     "end_time": "2020-11-18T17:07:07.824217",
     "exception": false,
     "start_time": "2020-11-18T17:07:07.031627",
     "status": "completed"
    },
    "tags": []
   },
   "outputs": [],
   "source": [
    "sns.set_style('whitegrid') \n",
    "sns.distplot(application_data['AMT_GOODS_PRICE']) \n",
    "plt.show()"
   ]
  },
  {
   "cell_type": "markdown",
   "metadata": {
    "papermill": {
     "duration": 0.325102,
     "end_time": "2020-11-18T17:07:08.466315",
     "exception": false,
     "start_time": "2020-11-18T17:07:08.141213",
     "status": "completed"
    },
    "tags": []
   },
   "source": [
    "### Suggestion\n",
    "We can Fill NA with 0 i.e. Mean for this field as it's right skewed graph"
   ]
  },
  {
   "cell_type": "code",
   "execution_count": null,
   "metadata": {
    "execution": {
     "iopub.execute_input": "2020-11-18T17:07:09.137093Z",
     "iopub.status.busy": "2020-11-18T17:07:09.136310Z",
     "iopub.status.idle": "2020-11-18T17:07:09.142703Z",
     "shell.execute_reply": "2020-11-18T17:07:09.142055Z"
    },
    "papermill": {
     "duration": 0.360775,
     "end_time": "2020-11-18T17:07:09.142856",
     "exception": false,
     "start_time": "2020-11-18T17:07:08.782081",
     "status": "completed"
    },
    "tags": []
   },
   "outputs": [],
   "source": [
    "print(\"NAME_TYPE_SUITE :\" ,application_data['NAME_TYPE_SUITE'].isnull().sum())"
   ]
  },
  {
   "cell_type": "code",
   "execution_count": null,
   "metadata": {
    "execution": {
     "iopub.execute_input": "2020-11-18T17:07:09.869261Z",
     "iopub.status.busy": "2020-11-18T17:07:09.866067Z",
     "iopub.status.idle": "2020-11-18T17:07:09.873657Z",
     "shell.execute_reply": "2020-11-18T17:07:09.874215Z"
    },
    "papermill": {
     "duration": 0.412444,
     "end_time": "2020-11-18T17:07:09.874381",
     "exception": false,
     "start_time": "2020-11-18T17:07:09.461937",
     "status": "completed"
    },
    "tags": []
   },
   "outputs": [],
   "source": [
    "application_data['NAME_TYPE_SUITE'].value_counts()"
   ]
  },
  {
   "cell_type": "markdown",
   "metadata": {
    "papermill": {
     "duration": 0.318851,
     "end_time": "2020-11-18T17:07:10.510133",
     "exception": false,
     "start_time": "2020-11-18T17:07:10.191282",
     "status": "completed"
    },
    "tags": []
   },
   "source": [
    "### Suggestion\n",
    "We can Fill NA with \"Unaccompanied\" i.e. Mode for this field "
   ]
  },
  {
   "cell_type": "code",
   "execution_count": null,
   "metadata": {
    "execution": {
     "iopub.execute_input": "2020-11-18T17:07:11.154000Z",
     "iopub.status.busy": "2020-11-18T17:07:11.153243Z",
     "iopub.status.idle": "2020-11-18T17:07:11.158516Z",
     "shell.execute_reply": "2020-11-18T17:07:11.159109Z"
    },
    "papermill": {
     "duration": 0.329617,
     "end_time": "2020-11-18T17:07:11.159262",
     "exception": false,
     "start_time": "2020-11-18T17:07:10.829645",
     "status": "completed"
    },
    "tags": []
   },
   "outputs": [],
   "source": [
    "print(\"CNT_FAM_MEMBERS :\" ,application_data['CNT_FAM_MEMBERS'].isnull().sum())"
   ]
  },
  {
   "cell_type": "code",
   "execution_count": null,
   "metadata": {
    "execution": {
     "iopub.execute_input": "2020-11-18T17:07:11.808375Z",
     "iopub.status.busy": "2020-11-18T17:07:11.807598Z",
     "iopub.status.idle": "2020-11-18T17:07:11.827667Z",
     "shell.execute_reply": "2020-11-18T17:07:11.826909Z"
    },
    "papermill": {
     "duration": 0.343307,
     "end_time": "2020-11-18T17:07:11.827877",
     "exception": false,
     "start_time": "2020-11-18T17:07:11.484570",
     "status": "completed"
    },
    "tags": []
   },
   "outputs": [],
   "source": [
    "application_data['CNT_FAM_MEMBERS'].describe()"
   ]
  },
  {
   "cell_type": "code",
   "execution_count": null,
   "metadata": {
    "execution": {
     "iopub.execute_input": "2020-11-18T17:07:12.481886Z",
     "iopub.status.busy": "2020-11-18T17:07:12.476210Z",
     "iopub.status.idle": "2020-11-18T17:07:13.003377Z",
     "shell.execute_reply": "2020-11-18T17:07:12.997947Z"
    },
    "papermill": {
     "duration": 0.85762,
     "end_time": "2020-11-18T17:07:13.003888",
     "exception": false,
     "start_time": "2020-11-18T17:07:12.146268",
     "status": "completed"
    },
    "tags": []
   },
   "outputs": [],
   "source": [
    "sns.set_style('whitegrid') \n",
    "sns.distplot(application_data['CNT_FAM_MEMBERS']) \n",
    "plt.show()"
   ]
  },
  {
   "cell_type": "markdown",
   "metadata": {
    "papermill": {
     "duration": 0.380125,
     "end_time": "2020-11-18T17:07:13.734606",
     "exception": false,
     "start_time": "2020-11-18T17:07:13.354481",
     "status": "completed"
    },
    "tags": []
   },
   "source": [
    "### Suggestion\n",
    "We can Fill NA with 2 i.e. Median for this field, Mean is not be used as this field needs to be Whole number"
   ]
  },
  {
   "cell_type": "code",
   "execution_count": null,
   "metadata": {
    "execution": {
     "iopub.execute_input": "2020-11-18T17:07:14.428123Z",
     "iopub.status.busy": "2020-11-18T17:07:14.426983Z",
     "iopub.status.idle": "2020-11-18T17:07:14.432926Z",
     "shell.execute_reply": "2020-11-18T17:07:14.431866Z"
    },
    "papermill": {
     "duration": 0.346513,
     "end_time": "2020-11-18T17:07:14.433108",
     "exception": false,
     "start_time": "2020-11-18T17:07:14.086595",
     "status": "completed"
    },
    "tags": []
   },
   "outputs": [],
   "source": [
    "print(\"DAYS_LAST_PHONE_CHANGE :\" ,application_data['DAYS_LAST_PHONE_CHANGE'].isnull().sum())"
   ]
  },
  {
   "cell_type": "code",
   "execution_count": null,
   "metadata": {
    "execution": {
     "iopub.execute_input": "2020-11-18T17:07:15.094945Z",
     "iopub.status.busy": "2020-11-18T17:07:15.094115Z",
     "iopub.status.idle": "2020-11-18T17:07:15.117743Z",
     "shell.execute_reply": "2020-11-18T17:07:15.116965Z"
    },
    "papermill": {
     "duration": 0.356702,
     "end_time": "2020-11-18T17:07:15.117908",
     "exception": false,
     "start_time": "2020-11-18T17:07:14.761206",
     "status": "completed"
    },
    "tags": []
   },
   "outputs": [],
   "source": [
    "application_data['DAYS_LAST_PHONE_CHANGE'].describe()"
   ]
  },
  {
   "cell_type": "code",
   "execution_count": null,
   "metadata": {
    "execution": {
     "iopub.execute_input": "2020-11-18T17:07:15.777177Z",
     "iopub.status.busy": "2020-11-18T17:07:15.776271Z",
     "iopub.status.idle": "2020-11-18T17:07:15.881274Z",
     "shell.execute_reply": "2020-11-18T17:07:15.880511Z"
    },
    "papermill": {
     "duration": 0.435592,
     "end_time": "2020-11-18T17:07:15.881395",
     "exception": false,
     "start_time": "2020-11-18T17:07:15.445803",
     "status": "completed"
    },
    "tags": []
   },
   "outputs": [],
   "source": [
    "import statistics \n",
    "statistics.mode(application_data['DAYS_LAST_PHONE_CHANGE'])"
   ]
  },
  {
   "cell_type": "markdown",
   "metadata": {
    "papermill": {
     "duration": 0.329209,
     "end_time": "2020-11-18T17:07:16.581601",
     "exception": false,
     "start_time": "2020-11-18T17:07:16.252392",
     "status": "completed"
    },
    "tags": []
   },
   "source": [
    "### Suggestion\n",
    "We can Fill NA with 0 i.e. Mode for this field"
   ]
  },
  {
   "cell_type": "markdown",
   "metadata": {
    "papermill": {
     "duration": 0.330388,
     "end_time": "2020-11-18T17:07:17.281266",
     "exception": false,
     "start_time": "2020-11-18T17:07:16.950878",
     "status": "completed"
    },
    "tags": []
   },
   "source": [
    "## Print the information about the attributes of application_data"
   ]
  },
  {
   "cell_type": "code",
   "execution_count": null,
   "metadata": {
    "execution": {
     "iopub.execute_input": "2020-11-18T17:07:17.939081Z",
     "iopub.status.busy": "2020-11-18T17:07:17.938104Z",
     "iopub.status.idle": "2020-11-18T17:07:18.406226Z",
     "shell.execute_reply": "2020-11-18T17:07:18.404925Z"
    },
    "papermill": {
     "duration": 0.798483,
     "end_time": "2020-11-18T17:07:18.406412",
     "exception": false,
     "start_time": "2020-11-18T17:07:17.607929",
     "status": "completed"
    },
    "tags": []
   },
   "outputs": [],
   "source": [
    "print(type(application_data.info()))"
   ]
  },
  {
   "cell_type": "markdown",
   "metadata": {
    "papermill": {
     "duration": 0.324556,
     "end_time": "2020-11-18T17:07:19.070878",
     "exception": false,
     "start_time": "2020-11-18T17:07:18.746322",
     "status": "completed"
    },
    "tags": []
   },
   "source": [
    "# Converting negative values to absolute values\n"
   ]
  },
  {
   "cell_type": "code",
   "execution_count": null,
   "metadata": {
    "execution": {
     "iopub.execute_input": "2020-11-18T17:07:19.730523Z",
     "iopub.status.busy": "2020-11-18T17:07:19.729366Z",
     "iopub.status.idle": "2020-11-18T17:07:19.739715Z",
     "shell.execute_reply": "2020-11-18T17:07:19.739083Z"
    },
    "papermill": {
     "duration": 0.34186,
     "end_time": "2020-11-18T17:07:19.739871",
     "exception": false,
     "start_time": "2020-11-18T17:07:19.398011",
     "status": "completed"
    },
    "tags": []
   },
   "outputs": [],
   "source": [
    "application_data['DAYS_BIRTH'] = abs(application_data['DAYS_BIRTH'])\n",
    "application_data['DAYS_ID_PUBLISH'] = abs(application_data['DAYS_ID_PUBLISH'])\n",
    "application_data['DAYS_ID_PUBLISH'] = abs(application_data['DAYS_ID_PUBLISH'])\n",
    "application_data['DAYS_LAST_PHONE_CHANGE'] = abs(application_data['DAYS_LAST_PHONE_CHANGE'])\n",
    "\n"
   ]
  },
  {
   "cell_type": "code",
   "execution_count": null,
   "metadata": {
    "execution": {
     "iopub.execute_input": "2020-11-18T17:07:20.400634Z",
     "iopub.status.busy": "2020-11-18T17:07:20.399845Z",
     "iopub.status.idle": "2020-11-18T17:07:20.466815Z",
     "shell.execute_reply": "2020-11-18T17:07:20.466199Z"
    },
    "papermill": {
     "duration": 0.399078,
     "end_time": "2020-11-18T17:07:20.466961",
     "exception": false,
     "start_time": "2020-11-18T17:07:20.067883",
     "status": "completed"
    },
    "tags": []
   },
   "outputs": [],
   "source": [
    "display(\"application_data\")\n",
    "display(application_data.head())"
   ]
  },
  {
   "cell_type": "markdown",
   "metadata": {
    "papermill": {
     "duration": 0.325752,
     "end_time": "2020-11-18T17:07:21.117889",
     "exception": false,
     "start_time": "2020-11-18T17:07:20.792137",
     "status": "completed"
    },
    "tags": []
   },
   "source": [
    "### Separating numerical and categorical  in application_data\n"
   ]
  },
  {
   "cell_type": "code",
   "execution_count": null,
   "metadata": {
    "execution": {
     "iopub.execute_input": "2020-11-18T17:07:21.884821Z",
     "iopub.status.busy": "2020-11-18T17:07:21.884061Z",
     "iopub.status.idle": "2020-11-18T17:07:21.887729Z",
     "shell.execute_reply": "2020-11-18T17:07:21.886999Z"
    },
    "papermill": {
     "duration": 0.435513,
     "end_time": "2020-11-18T17:07:21.887868",
     "exception": false,
     "start_time": "2020-11-18T17:07:21.452355",
     "status": "completed"
    },
    "tags": []
   },
   "outputs": [],
   "source": [
    "obj_dtypes = [i for i in application_data.select_dtypes(include=np.object).columns if i not in [\"type\"] ]\n",
    "num_dtypes = [i for i in application_data.select_dtypes(include = np.number).columns if i not in ['SK_ID_CURR'] + [ 'TARGET']]"
   ]
  },
  {
   "cell_type": "code",
   "execution_count": null,
   "metadata": {
    "execution": {
     "iopub.execute_input": "2020-11-18T17:07:22.553582Z",
     "iopub.status.busy": "2020-11-18T17:07:22.552560Z",
     "iopub.status.idle": "2020-11-18T17:07:22.556244Z",
     "shell.execute_reply": "2020-11-18T17:07:22.557151Z"
    },
    "papermill": {
     "duration": 0.340953,
     "end_time": "2020-11-18T17:07:22.557356",
     "exception": false,
     "start_time": "2020-11-18T17:07:22.216403",
     "status": "completed"
    },
    "tags": []
   },
   "outputs": [],
   "source": [
    "print(color.BOLD + color.PURPLE + 'Categorical Columns' + color.END, \"\\n\")\n",
    "for x in range(len(obj_dtypes)): \n",
    "    print(obj_dtypes[x])"
   ]
  },
  {
   "cell_type": "code",
   "execution_count": null,
   "metadata": {
    "execution": {
     "iopub.execute_input": "2020-11-18T17:07:23.224140Z",
     "iopub.status.busy": "2020-11-18T17:07:23.222943Z",
     "iopub.status.idle": "2020-11-18T17:07:23.227789Z",
     "shell.execute_reply": "2020-11-18T17:07:23.228696Z"
    },
    "papermill": {
     "duration": 0.340755,
     "end_time": "2020-11-18T17:07:23.228947",
     "exception": false,
     "start_time": "2020-11-18T17:07:22.888192",
     "status": "completed"
    },
    "tags": []
   },
   "outputs": [],
   "source": [
    "print(color.BOLD + color.PURPLE +\"Numerical Columns\" + color.END, \"\\n\")\n",
    "for x in range(len(num_dtypes)): \n",
    "    print(num_dtypes[x])"
   ]
  },
  {
   "cell_type": "markdown",
   "metadata": {
    "papermill": {
     "duration": 0.329493,
     "end_time": "2020-11-18T17:07:23.889173",
     "exception": false,
     "start_time": "2020-11-18T17:07:23.559680",
     "status": "completed"
    },
    "tags": []
   },
   "source": [
    "\n",
    "## Imbalance percentage"
   ]
  },
  {
   "cell_type": "code",
   "execution_count": null,
   "metadata": {
    "execution": {
     "iopub.execute_input": "2020-11-18T17:07:24.561671Z",
     "iopub.status.busy": "2020-11-18T17:07:24.556446Z",
     "iopub.status.idle": "2020-11-18T17:07:24.739256Z",
     "shell.execute_reply": "2020-11-18T17:07:24.738499Z"
    },
    "papermill": {
     "duration": 0.522786,
     "end_time": "2020-11-18T17:07:24.739384",
     "exception": false,
     "start_time": "2020-11-18T17:07:24.216598",
     "status": "completed"
    },
    "tags": []
   },
   "outputs": [],
   "source": [
    "fig = plt.figure(figsize=(13,6))\n",
    "plt.subplot(121)\n",
    "application_data[\"CODE_GENDER\"].value_counts().plot.pie(autopct = \"%1.0f%%\",colors = [\"red\",\"yellow\"],startangle = 60,\n",
    "                                                                        wedgeprops={\"linewidth\":2,\"edgecolor\":\"k\"},explode=[.05,0,0],shadow =True)\n",
    "plt.title(\"Distribution of gender\")\n",
    "plt.show()"
   ]
  },
  {
   "cell_type": "markdown",
   "metadata": {
    "papermill": {
     "duration": 0.329428,
     "end_time": "2020-11-18T17:07:25.398607",
     "exception": false,
     "start_time": "2020-11-18T17:07:25.069179",
     "status": "completed"
    },
    "tags": []
   },
   "source": [
    "### Point to infer from the graph\n",
    "It's non balanced data"
   ]
  },
  {
   "cell_type": "markdown",
   "metadata": {
    "papermill": {
     "duration": 0.33023,
     "end_time": "2020-11-18T17:07:26.058931",
     "exception": false,
     "start_time": "2020-11-18T17:07:25.728701",
     "status": "completed"
    },
    "tags": []
   },
   "source": [
    "\n",
    "## Distribution of Target variable"
   ]
  },
  {
   "cell_type": "markdown",
   "metadata": {
    "papermill": {
     "duration": 0.330504,
     "end_time": "2020-11-18T17:07:26.745446",
     "exception": false,
     "start_time": "2020-11-18T17:07:26.414942",
     "status": "completed"
    },
    "tags": []
   },
   "source": [
    "TARGET :Target variable (1 - client with payment difficulties: he/she had late payment more than X days on at least one of the first Y installments of the loan in sample, 0 - all other cases)\n"
   ]
  },
  {
   "cell_type": "code",
   "execution_count": null,
   "metadata": {
    "execution": {
     "iopub.execute_input": "2020-11-18T17:07:27.416399Z",
     "iopub.status.busy": "2020-11-18T17:07:27.415545Z",
     "iopub.status.idle": "2020-11-18T17:07:27.803860Z",
     "shell.execute_reply": "2020-11-18T17:07:27.803074Z"
    },
    "papermill": {
     "duration": 0.729024,
     "end_time": "2020-11-18T17:07:27.803996",
     "exception": false,
     "start_time": "2020-11-18T17:07:27.074972",
     "status": "completed"
    },
    "tags": []
   },
   "outputs": [],
   "source": [
    "plt.figure(figsize=(14,7))\n",
    "plt.subplot(121)\n",
    "application_data[\"TARGET\"].value_counts().plot.pie(autopct = \"%1.0f%%\",colors = sns.color_palette(\"prism\",7),startangle = 60,labels=[\"repayer\",\"defaulter\"],\n",
    "                                                                        wedgeprops={\"linewidth\":2,\"edgecolor\":\"k\"},explode=[.1,0],shadow =True)\n",
    "plt.title(\"Distribution of target variable\")\n",
    "\n",
    "plt.subplot(122)\n",
    "ax = application_data[\"TARGET\"].value_counts().plot(kind=\"barh\")\n",
    "\n",
    "for i,j in enumerate(application_data[\"TARGET\"].value_counts().values):\n",
    "    ax.text(.7,i,j,weight = \"bold\",fontsize=20)\n",
    "\n",
    "plt.title(\"Count of target variable\")\n",
    "plt.show()"
   ]
  },
  {
   "cell_type": "markdown",
   "metadata": {
    "papermill": {
     "duration": 0.3322,
     "end_time": "2020-11-18T17:07:28.467250",
     "exception": false,
     "start_time": "2020-11-18T17:07:28.135050",
     "status": "completed"
    },
    "tags": []
   },
   "source": [
    "### Point to infer from the graph\n",
    "8% out of total client population have difficulties in repaying loans."
   ]
  },
  {
   "cell_type": "markdown",
   "metadata": {
    "papermill": {
     "duration": 0.330745,
     "end_time": "2020-11-18T17:07:29.128718",
     "exception": false,
     "start_time": "2020-11-18T17:07:28.797973",
     "status": "completed"
    },
    "tags": []
   },
   "source": [
    "### Concatenating application_data and previous_application"
   ]
  },
  {
   "cell_type": "code",
   "execution_count": null,
   "metadata": {
    "execution": {
     "iopub.execute_input": "2020-11-18T17:07:29.887162Z",
     "iopub.status.busy": "2020-11-18T17:07:29.870717Z",
     "iopub.status.idle": "2020-11-18T17:07:34.316897Z",
     "shell.execute_reply": "2020-11-18T17:07:34.316083Z"
    },
    "papermill": {
     "duration": 4.814576,
     "end_time": "2020-11-18T17:07:34.317032",
     "exception": false,
     "start_time": "2020-11-18T17:07:29.502456",
     "status": "completed"
    },
    "tags": []
   },
   "outputs": [],
   "source": [
    "application_data_x = application_data[[x for x in application_data.columns if x not in [\"TARGET\"]]]\n",
    "previous_application_x = previous_application[[x for x in previous_application.columns if x not in [\"TARGET\"]]]\n",
    "application_data_x[\"type\"] = \"application_data\"\n",
    "previous_application_x[\"type\"] = \"previous_application\"\n",
    "data = pd.concat([application_data_x,previous_application_x],axis=0) "
   ]
  },
  {
   "cell_type": "markdown",
   "metadata": {
    "papermill": {
     "duration": 0.329183,
     "end_time": "2020-11-18T17:07:34.978036",
     "exception": false,
     "start_time": "2020-11-18T17:07:34.648853",
     "status": "completed"
    },
    "tags": []
   },
   "source": [
    "## Distribution in Contract types in application_data \n",
    "\n",
    "NAME_CONTRACT_TYPE : Identification if loan is cash , consumer or revolving\n"
   ]
  },
  {
   "cell_type": "code",
   "execution_count": null,
   "metadata": {
    "execution": {
     "iopub.execute_input": "2020-11-18T17:07:35.773657Z",
     "iopub.status.busy": "2020-11-18T17:07:35.651351Z",
     "iopub.status.idle": "2020-11-18T17:07:41.310112Z",
     "shell.execute_reply": "2020-11-18T17:07:41.310647Z"
    },
    "papermill": {
     "duration": 5.999878,
     "end_time": "2020-11-18T17:07:41.310806",
     "exception": false,
     "start_time": "2020-11-18T17:07:35.310928",
     "status": "completed"
    },
    "tags": []
   },
   "outputs": [],
   "source": [
    "plt.figure(figsize=(14,7))\n",
    "plt.subplot(121)\n",
    "data[data[\"type\"] == \"application_data\"][\"NAME_CONTRACT_TYPE\"].value_counts().plot.pie(autopct = \"%1.0f%%\",colors = [\"orange\",\"red\"],startangle = 60,\n",
    "                                                                        wedgeprops={\"linewidth\":2,\"edgecolor\":\"white\"},shadow =True)\n",
    "circ = plt.Circle((0,0),.7,color=\"white\")\n",
    "plt.gca().add_artist(circ)\n",
    "plt.title(\"distribution of contract types in application_data\")\n",
    "\n",
    "plt.subplot(122)\n",
    "data[data[\"type\"] == \"previous_application\"][\"NAME_CONTRACT_TYPE\"].value_counts().plot.pie(autopct = \"%1.2f%%\",colors = [\"red\",\"yellow\",\"green\",'BLACK'],startangle = 60,\n",
    "                                                                        wedgeprops={\"linewidth\":2,\"edgecolor\":\"white\"},shadow =True)\n",
    "circ = plt.Circle((0,0),.7,color=\"white\")\n",
    "plt.gca().add_artist(circ)\n",
    "plt.ylabel(\"\")\n",
    "plt.title(\"distribution of contract types in previous_application\")\n",
    "plt.show()\n",
    "\n",
    "plt.show()"
   ]
  },
  {
   "cell_type": "markdown",
   "metadata": {
    "papermill": {
     "duration": 0.3337,
     "end_time": "2020-11-18T17:07:41.979503",
     "exception": false,
     "start_time": "2020-11-18T17:07:41.645803",
     "status": "completed"
    },
    "tags": []
   },
   "source": [
    "### Point to infer from the graph\n",
    "\n",
    "The percentage of revolving loans and cash loans are 10% & 90%."
   ]
  },
  {
   "cell_type": "markdown",
   "metadata": {
    "papermill": {
     "duration": 0.333212,
     "end_time": "2020-11-18T17:07:42.645118",
     "exception": false,
     "start_time": "2020-11-18T17:07:42.311906",
     "status": "completed"
    },
    "tags": []
   },
   "source": [
    "## Gender Distribution in application_data "
   ]
  },
  {
   "cell_type": "code",
   "execution_count": null,
   "metadata": {
    "execution": {
     "iopub.execute_input": "2020-11-18T17:07:43.336795Z",
     "iopub.status.busy": "2020-11-18T17:07:43.332966Z",
     "iopub.status.idle": "2020-11-18T17:07:43.993979Z",
     "shell.execute_reply": "2020-11-18T17:07:43.993324Z"
    },
    "papermill": {
     "duration": 1.010254,
     "end_time": "2020-11-18T17:07:43.994105",
     "exception": false,
     "start_time": "2020-11-18T17:07:42.983851",
     "status": "completed"
    },
    "tags": []
   },
   "outputs": [],
   "source": [
    "fig = plt.figure(figsize=(13,6))\n",
    "plt.subplot(121)\n",
    "data[data[\"type\"] == \"application_data\"][\"CODE_GENDER\"].value_counts().plot.pie(autopct = \"%1.0f%%\",colors = [\"red\",\"yellow\"],startangle = 60,\n",
    "                                                                        wedgeprops={\"linewidth\":2,\"edgecolor\":\"k\"},explode=[.05,0,0],shadow =True)\n",
    "plt.title(\"distribution of gender in application_data\")\n",
    "plt.show()"
   ]
  },
  {
   "cell_type": "markdown",
   "metadata": {
    "papermill": {
     "duration": 0.334952,
     "end_time": "2020-11-18T17:07:44.665680",
     "exception": false,
     "start_time": "2020-11-18T17:07:44.330728",
     "status": "completed"
    },
    "tags": []
   },
   "source": [
    "### Point to infer from the graph\n",
    "\n",
    "Female : 66% \n",
    "\n",
    "Male : 34% "
   ]
  },
  {
   "cell_type": "markdown",
   "metadata": {
    "papermill": {
     "duration": 0.3368,
     "end_time": "2020-11-18T17:07:45.336456",
     "exception": false,
     "start_time": "2020-11-18T17:07:44.999656",
     "status": "completed"
    },
    "tags": []
   },
   "source": [
    "## Distribution of Contract type by gender"
   ]
  },
  {
   "cell_type": "code",
   "execution_count": null,
   "metadata": {
    "execution": {
     "iopub.execute_input": "2020-11-18T17:07:46.071657Z",
     "iopub.status.busy": "2020-11-18T17:07:46.070405Z",
     "iopub.status.idle": "2020-11-18T17:07:58.156203Z",
     "shell.execute_reply": "2020-11-18T17:07:58.156806Z"
    },
    "papermill": {
     "duration": 12.43871,
     "end_time": "2020-11-18T17:07:58.156993",
     "exception": false,
     "start_time": "2020-11-18T17:07:45.718283",
     "status": "completed"
    },
    "tags": []
   },
   "outputs": [],
   "source": [
    "fig  = plt.figure(figsize=(13,6))\n",
    "plt.subplot(121)\n",
    "ax = sns.countplot(\"NAME_CONTRACT_TYPE\",hue=\"CODE_GENDER\",data=data[data[\"type\"] == \"application_data\"],palette=[\"r\",\"b\",\"g\"])\n",
    "ax.set_facecolor(\"lightgrey\")\n",
    "ax.set_title(\"Distribution of Contract type by gender -application_data\")\n",
    "\n",
    "\n",
    "plt.show()\n"
   ]
  },
  {
   "cell_type": "markdown",
   "metadata": {
    "papermill": {
     "duration": 0.333388,
     "end_time": "2020-11-18T17:07:58.830079",
     "exception": false,
     "start_time": "2020-11-18T17:07:58.496691",
     "status": "completed"
    },
    "tags": []
   },
   "source": [
    "### Point to infer from the graph\n",
    "\n",
    "Cash loans is always prefered over Revolving loans by both genders"
   ]
  },
  {
   "cell_type": "markdown",
   "metadata": {
    "papermill": {
     "duration": 0.382847,
     "end_time": "2020-11-18T17:07:59.547474",
     "exception": false,
     "start_time": "2020-11-18T17:07:59.164627",
     "status": "completed"
    },
    "tags": []
   },
   "source": [
    "## Distribution of client owning a car and by gender\n",
    "\n",
    "FLAG_OWN_CAR Flag if the client owns a car ."
   ]
  },
  {
   "cell_type": "code",
   "execution_count": null,
   "metadata": {
    "execution": {
     "iopub.execute_input": "2020-11-18T17:08:00.243383Z",
     "iopub.status.busy": "2020-11-18T17:08:00.240863Z",
     "iopub.status.idle": "2020-11-18T17:08:00.836658Z",
     "shell.execute_reply": "2020-11-18T17:08:00.835916Z"
    },
    "papermill": {
     "duration": 0.951666,
     "end_time": "2020-11-18T17:08:00.836781",
     "exception": false,
     "start_time": "2020-11-18T17:07:59.885115",
     "status": "completed"
    },
    "tags": []
   },
   "outputs": [],
   "source": [
    "fig = plt.figure(figsize=(13,6))\n",
    "\n",
    "plt.subplot(121)\n",
    "data[\"FLAG_OWN_CAR\"].value_counts().plot.pie(autopct = \"%1.0f%%\",colors = [\"gold\",\"orangered\"],startangle = 60,\n",
    "                                                                        wedgeprops={\"linewidth\":2,\"edgecolor\":\"k\"},explode=[.05,0],shadow =True)\n",
    "plt.title(\"distribution of client owning a car\")\n",
    "\n",
    "plt.subplot(122)\n",
    "data[data[\"FLAG_OWN_CAR\"] == \"Y\"][\"CODE_GENDER\"].value_counts().plot.pie(autopct = \"%1.0f%%\",colors = [\"b\",\"orangered\"],startangle = 90,\n",
    "                                                                        wedgeprops={\"linewidth\":2,\"edgecolor\":\"k\"},explode=[.05,0,0],shadow =True)\n",
    "plt.title(\"distribution of client owning a car by gender\")\n",
    "\n",
    "plt.show()"
   ]
  },
  {
   "cell_type": "markdown",
   "metadata": {
    "papermill": {
     "duration": 0.343131,
     "end_time": "2020-11-18T17:08:01.520774",
     "exception": false,
     "start_time": "2020-11-18T17:08:01.177643",
     "status": "completed"
    },
    "tags": []
   },
   "source": [
    "### Point to infer from the graph\n",
    "\n",
    "SUBPLOT 1 : Distribution of client owning a car. 34% of clients own a car .\n",
    "\n",
    "SUBPLOT 2 : Distribution of client owning a car by gender. Out of total clients who own car 57% are male and 43% are female."
   ]
  },
  {
   "cell_type": "markdown",
   "metadata": {
    "papermill": {
     "duration": 0.339917,
     "end_time": "2020-11-18T17:08:02.198679",
     "exception": false,
     "start_time": "2020-11-18T17:08:01.858762",
     "status": "completed"
    },
    "tags": []
   },
   "source": [
    "## Distribution of client owning a house or flat and by gender\n",
    "\n",
    "FLAG_OWN_REALTY - Flag if client owns a house or flat"
   ]
  },
  {
   "cell_type": "code",
   "execution_count": null,
   "metadata": {
    "execution": {
     "iopub.execute_input": "2020-11-18T17:08:02.896959Z",
     "iopub.status.busy": "2020-11-18T17:08:02.893865Z",
     "iopub.status.idle": "2020-11-18T17:08:03.561883Z",
     "shell.execute_reply": "2020-11-18T17:08:03.562418Z"
    },
    "papermill": {
     "duration": 1.022994,
     "end_time": "2020-11-18T17:08:03.562574",
     "exception": false,
     "start_time": "2020-11-18T17:08:02.539580",
     "status": "completed"
    },
    "tags": []
   },
   "outputs": [],
   "source": [
    "plt.figure(figsize=(13,6))\n",
    "plt.subplot(121)\n",
    "data[\"FLAG_OWN_REALTY\"].value_counts().plot.pie(autopct = \"%1.0f%%\",colors = [\"skyblue\",\"gold\"],startangle = 90,\n",
    "                                              wedgeprops={\"linewidth\":2,\"edgecolor\":\"k\"},explode=[0.05,0],shadow =True)\n",
    "plt.title(\"Distribution of client owns a house or flat\")\n",
    "\n",
    "plt.subplot(122)\n",
    "data[data[\"FLAG_OWN_REALTY\"] == \"Y\"][\"CODE_GENDER\"].value_counts().plot.pie(autopct = \"%1.0f%%\",colors = [\"orangered\",\"b\"],startangle = 90,\n",
    "                                                                        wedgeprops={\"linewidth\":2,\"edgecolor\":\"k\"},explode=[.05,0,0],shadow =True)\n",
    "plt.title(\"Distribution of client owning a house or flat by gender\")\n",
    "plt.show()"
   ]
  },
  {
   "cell_type": "markdown",
   "metadata": {
    "papermill": {
     "duration": 0.344125,
     "end_time": "2020-11-18T17:08:04.248714",
     "exception": false,
     "start_time": "2020-11-18T17:08:03.904589",
     "status": "completed"
    },
    "tags": []
   },
   "source": [
    "### Point to infer from the graph\n",
    "\n",
    "SUBPLOT 1 : Distribution of client owning a house or flat . 69% of clients own a flat or house .\n",
    "\n",
    "SUBPLOT 2 : Distribution of client owning a house or flat by gender . Out of total clients who own house 67% are female and 33% are male."
   ]
  },
  {
   "cell_type": "markdown",
   "metadata": {
    "papermill": {
     "duration": 0.337607,
     "end_time": "2020-11-18T17:08:04.928420",
     "exception": false,
     "start_time": "2020-11-18T17:08:04.590813",
     "status": "completed"
    },
    "tags": []
   },
   "source": [
    "## Distribution of Number of children and family members of client by repayment status.\n",
    "\n",
    "CNT_CHILDREN - Number of children the client has.\n",
    "\n",
    "CNT_FAM_MEMBERS - How many family members does client have."
   ]
  },
  {
   "cell_type": "code",
   "execution_count": null,
   "metadata": {
    "execution": {
     "iopub.execute_input": "2020-11-18T17:08:05.672793Z",
     "iopub.status.busy": "2020-11-18T17:08:05.671661Z",
     "iopub.status.idle": "2020-11-18T17:08:28.069591Z",
     "shell.execute_reply": "2020-11-18T17:08:28.070162Z"
    },
    "papermill": {
     "duration": 22.756732,
     "end_time": "2020-11-18T17:08:28.070344",
     "exception": false,
     "start_time": "2020-11-18T17:08:05.313612",
     "status": "completed"
    },
    "tags": []
   },
   "outputs": [],
   "source": [
    "fig = plt.figure(figsize=(12,10))\n",
    "plt.subplot(211)\n",
    "sns.countplot(application_data[\"CNT_CHILDREN\"],palette=\"Set1\",hue=application_data[\"TARGET\"])\n",
    "plt.legend(loc=\"upper center\")\n",
    "plt.title(\" Distribution of Number of children client has  by repayment status\")\n",
    "plt.subplot(212)\n",
    "sns.countplot(application_data[\"CNT_FAM_MEMBERS\"],palette=\"Set1\",hue=application_data[\"TARGET\"])\n",
    "plt.legend(loc=\"upper center\")\n",
    "plt.title(\" Distribution of Number of family members client has  by repayment status\")\n",
    "fig.set_facecolor(\"lightblue\")"
   ]
  },
  {
   "cell_type": "markdown",
   "metadata": {
    "papermill": {
     "duration": 0.343897,
     "end_time": "2020-11-18T17:08:28.758366",
     "exception": false,
     "start_time": "2020-11-18T17:08:28.414469",
     "status": "completed"
    },
    "tags": []
   },
   "source": [
    "\n",
    "## Distribution of contract type ,gender ,own car ,own house with respect to Repayment status(Target variable)"
   ]
  },
  {
   "cell_type": "code",
   "execution_count": null,
   "metadata": {
    "execution": {
     "iopub.execute_input": "2020-11-18T17:08:29.465935Z",
     "iopub.status.busy": "2020-11-18T17:08:29.456215Z",
     "iopub.status.idle": "2020-11-18T17:08:30.435560Z",
     "shell.execute_reply": "2020-11-18T17:08:30.436146Z"
    },
    "papermill": {
     "duration": 1.334307,
     "end_time": "2020-11-18T17:08:30.436323",
     "exception": false,
     "start_time": "2020-11-18T17:08:29.102016",
     "status": "completed"
    },
    "tags": []
   },
   "outputs": [],
   "source": [
    "default = application_data[application_data[\"TARGET\"]==1][[ 'NAME_CONTRACT_TYPE', 'CODE_GENDER','FLAG_OWN_CAR', 'FLAG_OWN_REALTY']]\n",
    "non_default = application_data[application_data[\"TARGET\"]==0][[ 'NAME_CONTRACT_TYPE', 'CODE_GENDER','FLAG_OWN_CAR', 'FLAG_OWN_REALTY']]\n",
    "\n",
    "d_cols = ['NAME_CONTRACT_TYPE', 'CODE_GENDER','FLAG_OWN_CAR', 'FLAG_OWN_REALTY']\n",
    "d_length = len(d_cols)\n",
    "\n",
    "fig = plt.figure(figsize=(16,4))\n",
    "for i,j in itertools.zip_longest(d_cols,range(d_length)):\n",
    "    plt.subplot(1,4,j+1)\n",
    "    default[i].value_counts().plot.pie(autopct = \"%1.0f%%\",colors = sns.color_palette(\"prism\"),startangle = 90,\n",
    "                                        wedgeprops={\"linewidth\":1,\"edgecolor\":\"white\"},shadow =True)\n",
    "    circ = plt.Circle((0,0),.7,color=\"white\")\n",
    "    plt.gca().add_artist(circ)\n",
    "    plt.ylabel(\"\")\n",
    "    plt.title(i+\"-Defaulter\")\n",
    "\n",
    "\n",
    "fig = plt.figure(figsize=(16,4))\n",
    "for i,j in itertools.zip_longest(d_cols,range(d_length)):\n",
    "    plt.subplot(1,4,j+1)\n",
    "    non_default[i].value_counts().plot.pie(autopct = \"%1.0f%%\",colors = sns.color_palette(\"prism\",3),startangle = 90,\n",
    "                                           wedgeprops={\"linewidth\":1,\"edgecolor\":\"white\"},shadow =True)\n",
    "    circ = plt.Circle((0,0),.7,color=\"white\")\n",
    "    plt.gca().add_artist(circ)\n",
    "    plt.ylabel(\"\")\n",
    "    plt.title(i+\"-Repayer\")"
   ]
  },
  {
   "cell_type": "markdown",
   "metadata": {
    "papermill": {
     "duration": 0.347619,
     "end_time": "2020-11-18T17:08:31.132085",
     "exception": false,
     "start_time": "2020-11-18T17:08:30.784466",
     "status": "completed"
    },
    "tags": []
   },
   "source": [
    "### Point to infer from the graph\n",
    "\n",
    "Percentage of males is 10% more in defaults than non defaulters.\n",
    "\n",
    "Percentage of Cash Loans is 4% more in defaults than Revolving Loans."
   ]
  },
  {
   "cell_type": "markdown",
   "metadata": {
    "papermill": {
     "duration": 0.343752,
     "end_time": "2020-11-18T17:08:31.828471",
     "exception": false,
     "start_time": "2020-11-18T17:08:31.484719",
     "status": "completed"
    },
    "tags": []
   },
   "source": [
    "### Distribution of amount data\n",
    "\n",
    "AMT_INCOME_TOTAL - Income of the client\n",
    "\n",
    "AMT_CREDIT - Credit amount of the loan\n",
    "\n",
    "AMT_ANNUITY - Loan annuity\n",
    "\n",
    "AMT_GOODS_PRICE - For consumer loans it is the price of the goods for which the loan is given"
   ]
  },
  {
   "cell_type": "code",
   "execution_count": null,
   "metadata": {
    "execution": {
     "iopub.execute_input": "2020-11-18T17:08:32.561703Z",
     "iopub.status.busy": "2020-11-18T17:08:32.556527Z",
     "iopub.status.idle": "2020-11-18T17:08:40.296010Z",
     "shell.execute_reply": "2020-11-18T17:08:40.296618Z"
    },
    "papermill": {
     "duration": 8.123008,
     "end_time": "2020-11-18T17:08:40.296779",
     "exception": false,
     "start_time": "2020-11-18T17:08:32.173771",
     "status": "completed"
    },
    "tags": []
   },
   "outputs": [],
   "source": [
    "cols = [ 'AMT_INCOME_TOTAL', 'AMT_CREDIT','AMT_ANNUITY', 'AMT_GOODS_PRICE']\n",
    "length = len(cols)\n",
    "cs = [\"r\",\"b\",\"g\",\"k\"]\n",
    "\n",
    "ax = plt.figure(figsize=(18,18))\n",
    "ax.set_facecolor(\"lightgrey\")\n",
    "for i,j,k in itertools.zip_longest(cols,range(length),cs):\n",
    "    plt.subplot(2,2,j+1)\n",
    "    sns.distplot(data[data[i].notnull()][i],color=k)\n",
    "    plt.axvline(data[i].mean(),label = \"mean\",linestyle=\"dashed\",color=\"k\")\n",
    "    plt.legend(loc=\"best\")\n",
    "    plt.title(i)\n",
    "    plt.subplots_adjust(hspace = .2)"
   ]
  },
  {
   "cell_type": "markdown",
   "metadata": {
    "papermill": {
     "duration": 0.347113,
     "end_time": "2020-11-18T17:08:40.995512",
     "exception": false,
     "start_time": "2020-11-18T17:08:40.648399",
     "status": "completed"
    },
    "tags": []
   },
   "source": [
    "\n",
    "## Comparing summary statistics between defaulters and non - defaulters for loan amounts.\n",
    "\n"
   ]
  },
  {
   "cell_type": "code",
   "execution_count": null,
   "metadata": {
    "execution": {
     "iopub.execute_input": "2020-11-18T17:08:41.717139Z",
     "iopub.status.busy": "2020-11-18T17:08:41.715921Z",
     "iopub.status.idle": "2020-11-18T17:08:42.759756Z",
     "shell.execute_reply": "2020-11-18T17:08:42.760362Z"
    },
    "papermill": {
     "duration": 1.411797,
     "end_time": "2020-11-18T17:08:42.760522",
     "exception": false,
     "start_time": "2020-11-18T17:08:41.348725",
     "status": "completed"
    },
    "tags": []
   },
   "outputs": [],
   "source": [
    "df = application_data.groupby(\"TARGET\")[cols].describe().transpose().reset_index()\n",
    "df = df[df[\"level_1\"].isin([ 'mean', 'std', 'min', 'max'])] \n",
    "df_x = df[[\"level_0\",\"level_1\",0]]\n",
    "df_y = df[[\"level_0\",\"level_1\",1]]\n",
    "df_x = df_x.rename(columns={'level_0':\"amount_type\", 'level_1':\"statistic\", 0:\"amount\"})\n",
    "df_x[\"type\"] = \"REPAYER\"\n",
    "df_y = df_y.rename(columns={'level_0':\"amount_type\", 'level_1':\"statistic\", 1:\"amount\"})\n",
    "df_y[\"type\"] = \"DEFAULTER\"\n",
    "df_new = pd.concat([df_x,df_y],axis = 0)\n",
    "\n",
    "stat = df_new[\"statistic\"].unique().tolist()\n",
    "length = len(stat)\n",
    "\n",
    "plt.figure(figsize=(13,15))\n",
    "\n",
    "for i,j in itertools.zip_longest(stat,range(length)):\n",
    "    plt.subplot(2,2,j+1)\n",
    "    fig = sns.barplot(df_new[df_new[\"statistic\"] == i][\"amount_type\"],df_new[df_new[\"statistic\"] == i][\"amount\"],\n",
    "                hue=df_new[df_new[\"statistic\"] == i][\"type\"],palette=[\"g\",\"r\"])\n",
    "    plt.title(i + \"--Defaulters vs Non defaulters\")\n",
    "    plt.subplots_adjust(hspace = .4)\n",
    "    fig.set_facecolor(\"lightgrey\")"
   ]
  },
  {
   "cell_type": "markdown",
   "metadata": {
    "papermill": {
     "duration": 0.387077,
     "end_time": "2020-11-18T17:08:43.503004",
     "exception": false,
     "start_time": "2020-11-18T17:08:43.115927",
     "status": "completed"
    },
    "tags": []
   },
   "source": [
    "### Point to infer from the graph\n",
    "\n",
    "#### Income of client -\n",
    "\n",
    "1 . Average income of clients who default and who do not are almost same.\n",
    "\n",
    "2 . Standard deviation in income of client who default is very high compared to who do not default.\n",
    "\n",
    "3 . Clients who default also has maximum income earnings\n",
    "\n",
    "#### Credit amount of the loan ,Loan annuity,Amount goods price -\n",
    "\n",
    "1 . Statistics between credit amounts,Loan annuity and Amount goods price given to cilents who default and who dont are almost similar."
   ]
  },
  {
   "cell_type": "markdown",
   "metadata": {
    "papermill": {
     "duration": 0.350476,
     "end_time": "2020-11-18T17:08:44.202525",
     "exception": false,
     "start_time": "2020-11-18T17:08:43.852049",
     "status": "completed"
    },
    "tags": []
   },
   "source": [
    "## Average Income,credit,annuity & goods_price by gender\n"
   ]
  },
  {
   "cell_type": "code",
   "execution_count": null,
   "metadata": {
    "execution": {
     "iopub.execute_input": "2020-11-18T17:08:45.179689Z",
     "iopub.status.busy": "2020-11-18T17:08:45.178763Z",
     "iopub.status.idle": "2020-11-18T17:08:45.477290Z",
     "shell.execute_reply": "2020-11-18T17:08:45.476480Z"
    },
    "papermill": {
     "duration": 0.922192,
     "end_time": "2020-11-18T17:08:45.477427",
     "exception": false,
     "start_time": "2020-11-18T17:08:44.555235",
     "status": "completed"
    },
    "tags": []
   },
   "outputs": [],
   "source": [
    "cols = [ 'AMT_INCOME_TOTAL', 'AMT_CREDIT','AMT_ANNUITY', 'AMT_GOODS_PRICE']\n",
    "\n",
    "df1 = data.groupby(\"CODE_GENDER\")[cols].mean().transpose().reset_index()\n",
    "\n",
    "df_f   = df1[[\"index\",\"F\"]]\n",
    "df_f   = df_f.rename(columns={'index':\"amt_type\", 'F':\"amount\"})\n",
    "df_f[\"gender\"] = \"FEMALE\"\n",
    "df_m   = df1[[\"index\",\"M\"]]\n",
    "df_m   = df_m.rename(columns={'index':\"amt_type\", 'M':\"amount\"})\n",
    "df_m[\"gender\"] = \"MALE\"\n",
    "df_xna = df1[[\"index\",\"XNA\"]]\n",
    "df_xna = df_xna.rename(columns={'index':\"amt_type\", 'XNA':\"amount\"})\n",
    "df_xna[\"gender\"] = \"XNA\"\n",
    "\n",
    "df_gen = pd.concat([df_m,df_f,df_xna],axis=0)\n",
    "\n",
    "plt.figure(figsize=(12,5))\n",
    "ax = sns.barplot(\"amt_type\",\"amount\",data=df_gen,hue=\"gender\",palette=\"Set1\")\n",
    "plt.title(\"Average Income,credit,annuity & goods_price by gender\")\n",
    "plt.show()"
   ]
  },
  {
   "cell_type": "markdown",
   "metadata": {
    "papermill": {
     "duration": 0.350568,
     "end_time": "2020-11-18T17:08:46.180440",
     "exception": false,
     "start_time": "2020-11-18T17:08:45.829872",
     "status": "completed"
    },
    "tags": []
   },
   "source": [
    "## Scatter plot between credit amount and annuity amount"
   ]
  },
  {
   "cell_type": "code",
   "execution_count": null,
   "metadata": {
    "execution": {
     "iopub.execute_input": "2020-11-18T17:08:46.899754Z",
     "iopub.status.busy": "2020-11-18T17:08:46.898420Z",
     "iopub.status.idle": "2020-11-18T17:08:51.785802Z",
     "shell.execute_reply": "2020-11-18T17:08:51.786409Z"
    },
    "papermill": {
     "duration": 5.252701,
     "end_time": "2020-11-18T17:08:51.786562",
     "exception": false,
     "start_time": "2020-11-18T17:08:46.533861",
     "status": "completed"
    },
    "tags": []
   },
   "outputs": [],
   "source": [
    "fig = plt.figure(figsize=(10,8))\n",
    "plt.scatter(application_data[application_data[\"TARGET\"]==0]['AMT_ANNUITY'],application_data[application_data[\"TARGET\"]==0]['AMT_CREDIT'],s=35,\n",
    "            color=\"b\",alpha=.5,label=\"REPAYER\",linewidth=.5,edgecolor=\"k\")\n",
    "plt.scatter(application_data[application_data[\"TARGET\"]==1]['AMT_ANNUITY'],application_data[application_data[\"TARGET\"]==1]['AMT_CREDIT'],s=35,\n",
    "            color=\"r\",alpha=.2,label=\"DEFAULTER\",linewidth=.5,edgecolor=\"k\")\n",
    "plt.legend(loc=\"best\",prop={\"size\":15})\n",
    "plt.xlabel(\"AMT_ANNUITY\")\n",
    "plt.ylabel(\"AMT_CREDIT\")\n",
    "plt.title(\"Scatter plot between credit amount and annuity amount\")\n",
    "plt.show()"
   ]
  },
  {
   "cell_type": "markdown",
   "metadata": {
    "papermill": {
     "duration": 0.358715,
     "end_time": "2020-11-18T17:08:52.501971",
     "exception": false,
     "start_time": "2020-11-18T17:08:52.143256",
     "status": "completed"
    },
    "tags": []
   },
   "source": [
    "## Pair Plot between amount variables\n",
    "\n",
    "AMT_INCOME_TOTAL - Income of the client\n",
    "\n",
    "AMT_CREDIT - Credit amount of the loan\n",
    "\n",
    "AMT_ANNUITY - Loan annuity\n",
    "\n",
    "AMT_GOODS_PRICE - For consumer loans it is the price of the goods for which the loan is given"
   ]
  },
  {
   "cell_type": "code",
   "execution_count": null,
   "metadata": {
    "execution": {
     "iopub.execute_input": "2020-11-18T17:08:53.226195Z",
     "iopub.status.busy": "2020-11-18T17:08:53.225318Z",
     "iopub.status.idle": "2020-11-18T17:09:30.782955Z",
     "shell.execute_reply": "2020-11-18T17:09:30.783560Z"
    },
    "papermill": {
     "duration": 37.926083,
     "end_time": "2020-11-18T17:09:30.783716",
     "exception": false,
     "start_time": "2020-11-18T17:08:52.857633",
     "status": "completed"
    },
    "tags": []
   },
   "outputs": [],
   "source": [
    "amt = application_data[[ 'AMT_INCOME_TOTAL','AMT_CREDIT',\n",
    "                         'AMT_ANNUITY', 'AMT_GOODS_PRICE',\"TARGET\"]]\n",
    "amt = amt[(amt[\"AMT_GOODS_PRICE\"].notnull()) & (amt[\"AMT_ANNUITY\"].notnull())]\n",
    "sns.pairplot(amt,hue=\"TARGET\",palette=[\"b\",\"r\"])\n",
    "plt.show()"
   ]
  },
  {
   "cell_type": "markdown",
   "metadata": {
    "papermill": {
     "duration": 0.365913,
     "end_time": "2020-11-18T17:09:31.511526",
     "exception": false,
     "start_time": "2020-11-18T17:09:31.145613",
     "status": "completed"
    },
    "tags": []
   },
   "source": [
    "# Distribution of Suite type\n",
    "\n",
    "NAME_TYPE_SUITE - Who was accompanying client when he was applying for the loan."
   ]
  },
  {
   "cell_type": "code",
   "execution_count": null,
   "metadata": {
    "execution": {
     "iopub.execute_input": "2020-11-18T17:09:32.291919Z",
     "iopub.status.busy": "2020-11-18T17:09:32.291104Z",
     "iopub.status.idle": "2020-11-18T17:11:09.167865Z",
     "shell.execute_reply": "2020-11-18T17:11:09.168469Z"
    },
    "papermill": {
     "duration": 97.299489,
     "end_time": "2020-11-18T17:11:09.168637",
     "exception": false,
     "start_time": "2020-11-18T17:09:31.869148",
     "status": "completed"
    },
    "tags": []
   },
   "outputs": [],
   "source": [
    "plt.figure(figsize=(18,12))\n",
    "plt.subplot(121)\n",
    "sns.countplot(y=data[\"NAME_TYPE_SUITE\"],\n",
    "              palette=\"Set2\",\n",
    "              order=data[\"NAME_TYPE_SUITE\"].value_counts().index[:5])\n",
    "plt.title(\"Distribution of Suite type\")\n",
    "\n",
    "plt.subplot(122)\n",
    "sns.countplot(y=data[\"NAME_TYPE_SUITE\"],\n",
    "              hue=data[\"CODE_GENDER\"],palette=\"Set2\",\n",
    "              order=data[\"NAME_TYPE_SUITE\"].value_counts().index[:5])\n",
    "plt.ylabel(\"\")\n",
    "plt.title(\"Distribution of Suite type by gender\")\n",
    "plt.subplots_adjust(wspace = .4)"
   ]
  },
  {
   "cell_type": "markdown",
   "metadata": {
    "papermill": {
     "duration": 0.359792,
     "end_time": "2020-11-18T17:11:09.892253",
     "exception": false,
     "start_time": "2020-11-18T17:11:09.532461",
     "status": "completed"
    },
    "tags": []
   },
   "source": [
    "### Distribution of client income type\n",
    "\n",
    "NAME_INCOME_TYPE Clients income type (businessman, working, maternity leave,…)"
   ]
  },
  {
   "cell_type": "code",
   "execution_count": null,
   "metadata": {
    "execution": {
     "iopub.execute_input": "2020-11-18T17:11:10.633417Z",
     "iopub.status.busy": "2020-11-18T17:11:10.625469Z",
     "iopub.status.idle": "2020-11-18T17:12:29.287658Z",
     "shell.execute_reply": "2020-11-18T17:12:29.288401Z"
    },
    "papermill": {
     "duration": 79.034244,
     "end_time": "2020-11-18T17:12:29.288586",
     "exception": false,
     "start_time": "2020-11-18T17:11:10.254342",
     "status": "completed"
    },
    "scrolled": false,
    "tags": []
   },
   "outputs": [],
   "source": [
    "plt.figure(figsize=(18,12))\n",
    "plt.subplot(121)\n",
    "sns.countplot(y=data[\"NAME_INCOME_TYPE\"],\n",
    "              palette=\"Set2\",\n",
    "              order=data[\"NAME_INCOME_TYPE\"].value_counts().index[:4])\n",
    "plt.title(\"Distribution of client income type\")\n",
    "\n",
    "plt.subplot(122)\n",
    "sns.countplot(y=data[\"NAME_INCOME_TYPE\"],\n",
    "              hue=data[\"CODE_GENDER\"],\n",
    "              palette=\"Set2\",\n",
    "              order=data[\"NAME_INCOME_TYPE\"].value_counts().index[:4])\n",
    "plt.ylabel(\"\")\n",
    "plt.title(\"Distribution of client income  type by gender\")\n",
    "plt.subplots_adjust(wspace = .4)"
   ]
  },
  {
   "cell_type": "markdown",
   "metadata": {
    "papermill": {
     "duration": 0.364212,
     "end_time": "2020-11-18T17:12:30.019699",
     "exception": false,
     "start_time": "2020-11-18T17:12:29.655487",
     "status": "completed"
    },
    "tags": []
   },
   "source": [
    "\n",
    "### Distribution of Education type by loan repayment status\n",
    "\n",
    "NAME_EDUCATION_TYPE Level of highest education the client achieved..\n",
    "\n"
   ]
  },
  {
   "cell_type": "code",
   "execution_count": null,
   "metadata": {
    "execution": {
     "iopub.execute_input": "2020-11-18T17:12:30.773646Z",
     "iopub.status.busy": "2020-11-18T17:12:30.771678Z",
     "iopub.status.idle": "2020-11-18T17:12:31.257784Z",
     "shell.execute_reply": "2020-11-18T17:12:31.258388Z"
    },
    "papermill": {
     "duration": 0.87181,
     "end_time": "2020-11-18T17:12:31.258538",
     "exception": false,
     "start_time": "2020-11-18T17:12:30.386728",
     "status": "completed"
    },
    "tags": []
   },
   "outputs": [],
   "source": [
    "plt.figure(figsize=(25,25))\n",
    "plt.subplot(121)\n",
    "application_data[application_data[\"TARGET\"]==0][\"NAME_EDUCATION_TYPE\"].value_counts().plot.pie(fontsize=12,autopct = \"%1.0f%%\",\n",
    "                                                                                                 colors = sns.color_palette(\"Set1\"),\n",
    "                                              wedgeprops={\"linewidth\":2,\"edgecolor\":\"white\"},shadow =True)\n",
    "circ = plt.Circle((0,0),.7,color=\"white\")\n",
    "plt.gca().add_artist(circ)\n",
    "plt.title(\"Distribution of Education type for Repayers\",color=\"b\")\n",
    "\n",
    "plt.subplot(122)\n",
    "application_data[application_data[\"TARGET\"]==1][\"NAME_EDUCATION_TYPE\"].value_counts().plot.pie(fontsize=12,autopct = \"%1.0f%%\",\n",
    "                                                                                                 colors = sns.color_palette(\"Set1\"),\n",
    "                                              wedgeprops={\"linewidth\":2,\"edgecolor\":\"white\"},shadow =True)\n",
    "circ = plt.Circle((0,0),.7,color=\"white\")\n",
    "plt.gca().add_artist(circ)\n",
    "plt.title(\"Distribution of Education type for Defaulters\",color=\"b\")\n",
    "plt.ylabel(\"\")\n",
    "plt.show()"
   ]
  },
  {
   "cell_type": "markdown",
   "metadata": {
    "papermill": {
     "duration": 0.402859,
     "end_time": "2020-11-18T17:12:32.035335",
     "exception": false,
     "start_time": "2020-11-18T17:12:31.632476",
     "status": "completed"
    },
    "tags": []
   },
   "source": [
    "### Point to infer from the graph\n",
    "\n",
    "Clients who default have proportionally 9% less higher education compared to clients who do not default."
   ]
  },
  {
   "cell_type": "markdown",
   "metadata": {
    "papermill": {
     "duration": 0.3758,
     "end_time": "2020-11-18T17:12:32.788768",
     "exception": false,
     "start_time": "2020-11-18T17:12:32.412968",
     "status": "completed"
    },
    "tags": []
   },
   "source": [
    "### Average Earnings by different professions and education types"
   ]
  },
  {
   "cell_type": "code",
   "execution_count": null,
   "metadata": {
    "execution": {
     "iopub.execute_input": "2020-11-18T17:12:33.781925Z",
     "iopub.status.busy": "2020-11-18T17:12:33.612619Z",
     "iopub.status.idle": "2020-11-18T17:12:34.784403Z",
     "shell.execute_reply": "2020-11-18T17:12:34.785053Z"
    },
    "papermill": {
     "duration": 1.629409,
     "end_time": "2020-11-18T17:12:34.785223",
     "exception": false,
     "start_time": "2020-11-18T17:12:33.155814",
     "status": "completed"
    },
    "tags": []
   },
   "outputs": [],
   "source": [
    "edu = data.groupby(['NAME_EDUCATION_TYPE','NAME_INCOME_TYPE'])['AMT_INCOME_TOTAL'].mean().reset_index().sort_values(by='AMT_INCOME_TOTAL',ascending=False)\n",
    "fig = plt.figure(figsize=(13,7))\n",
    "ax = sns.barplot('NAME_INCOME_TYPE','AMT_INCOME_TOTAL',data=edu,hue='NAME_EDUCATION_TYPE',palette=\"seismic\")\n",
    "ax.set_facecolor(\"k\")\n",
    "plt.title(\" Average Earnings by different professions and education types\")\n",
    "plt.show()"
   ]
  },
  {
   "cell_type": "markdown",
   "metadata": {
    "papermill": {
     "duration": 0.373818,
     "end_time": "2020-11-18T17:12:35.530867",
     "exception": false,
     "start_time": "2020-11-18T17:12:35.157049",
     "status": "completed"
    },
    "tags": []
   },
   "source": [
    "\n",
    "### Distribution of Education type by loan repayment status\n",
    "\n",
    "NAME_FAMILY_STATUS - Family status of the client"
   ]
  },
  {
   "cell_type": "code",
   "execution_count": null,
   "metadata": {
    "execution": {
     "iopub.execute_input": "2020-11-18T17:12:36.291922Z",
     "iopub.status.busy": "2020-11-18T17:12:36.290278Z",
     "iopub.status.idle": "2020-11-18T17:12:36.723402Z",
     "shell.execute_reply": "2020-11-18T17:12:36.722581Z"
    },
    "papermill": {
     "duration": 0.825205,
     "end_time": "2020-11-18T17:12:36.723543",
     "exception": false,
     "start_time": "2020-11-18T17:12:35.898338",
     "status": "completed"
    },
    "tags": []
   },
   "outputs": [],
   "source": [
    "plt.figure(figsize=(16,8))\n",
    "plt.subplot(121)\n",
    "application_data[application_data[\"TARGET\"]==0][\"NAME_FAMILY_STATUS\"].value_counts().plot.pie(autopct = \"%1.0f%%\",\n",
    "                                                             startangle=120,colors = sns.color_palette(\"Set2\",7),\n",
    "                                              wedgeprops={\"linewidth\":2,\"edgecolor\":\"white\"},shadow =True,explode=[0,.07,0,0,0,0])\n",
    "\n",
    "plt.title(\"Distribution of Family status for Repayers\",color=\"b\")\n",
    "\n",
    "plt.subplot(122)\n",
    "application_data[application_data[\"TARGET\"]==1][\"NAME_FAMILY_STATUS\"].value_counts().plot.pie(autopct = \"%1.0f%%\",\n",
    "                                                    startangle=120,colors = sns.color_palette(\"Set2\",7),\n",
    "                                              wedgeprops={\"linewidth\":2,\"edgecolor\":\"white\"},shadow =True,explode=[0,.07,0,0,0])\n",
    "\n",
    "\n",
    "plt.title(\"Distribution of Family status for Defaulters\",color=\"b\")\n",
    "plt.ylabel(\"\")\n",
    "plt.show()"
   ]
  },
  {
   "cell_type": "markdown",
   "metadata": {
    "papermill": {
     "duration": 0.376728,
     "end_time": "2020-11-18T17:12:37.475194",
     "exception": false,
     "start_time": "2020-11-18T17:12:37.098466",
     "status": "completed"
    },
    "tags": []
   },
   "source": [
    "### Point to infer from the graph\n",
    "\n",
    "Percentage of single people are more in defaulters than non defaulters."
   ]
  },
  {
   "cell_type": "markdown",
   "metadata": {
    "papermill": {
     "duration": 0.372723,
     "end_time": "2020-11-18T17:12:38.220625",
     "exception": false,
     "start_time": "2020-11-18T17:12:37.847902",
     "status": "completed"
    },
    "tags": []
   },
   "source": [
    "\n",
    "### Distribution of Housing type by loan repayment status\n",
    "\n",
    "NAME_HOUSING_TYPE - What is the housing situation of the client (renting, living with parents, ...)"
   ]
  },
  {
   "cell_type": "code",
   "execution_count": null,
   "metadata": {
    "execution": {
     "iopub.execute_input": "2020-11-18T17:12:38.994236Z",
     "iopub.status.busy": "2020-11-18T17:12:38.987325Z",
     "iopub.status.idle": "2020-11-18T17:12:39.446911Z",
     "shell.execute_reply": "2020-11-18T17:12:39.447487Z"
    },
    "papermill": {
     "duration": 0.85123,
     "end_time": "2020-11-18T17:12:39.447636",
     "exception": false,
     "start_time": "2020-11-18T17:12:38.596406",
     "status": "completed"
    },
    "tags": []
   },
   "outputs": [],
   "source": [
    "plt.figure(figsize=(20,20))\n",
    "plt.subplot(121)\n",
    "application_data[application_data[\"TARGET\"]==0][\"NAME_HOUSING_TYPE\"].value_counts().plot.pie(autopct = \"%1.0f%%\",fontsize=10,\n",
    "                                                             colors = sns.color_palette(\"Spectral\"),\n",
    "                                              wedgeprops={\"linewidth\":2,\"edgecolor\":\"white\"},shadow =True)\n",
    "\n",
    "plt.title(\"Distribution of housing type  for Repayer\",color=\"b\")\n",
    "\n",
    "plt.subplot(122)\n",
    "application_data[application_data[\"TARGET\"]==1][\"NAME_HOUSING_TYPE\"].value_counts().plot.pie(autopct = \"%1.0f%%\",fontsize=10,\n",
    "                                                    colors = sns.color_palette(\"Spectral\"),\n",
    "                                              wedgeprops={\"linewidth\":2,\"edgecolor\":\"white\"},shadow =True)\n",
    "\n",
    "\n",
    "plt.title(\"Distribution of housing type for Defaulters\",color=\"b\")\n",
    "plt.ylabel(\"\")\n",
    "plt.show()"
   ]
  },
  {
   "cell_type": "markdown",
   "metadata": {
    "papermill": {
     "duration": 0.375953,
     "end_time": "2020-11-18T17:12:40.201501",
     "exception": false,
     "start_time": "2020-11-18T17:12:39.825548",
     "status": "completed"
    },
    "tags": []
   },
   "source": [
    "\n",
    "### Distribution normalized population of region where client lives by loan repayment status\n",
    "\n",
    "REGION_POPULATION_RELATIVE - Normalized population of region where client lives (higher number means the client lives in more populated region).\n",
    "\n"
   ]
  },
  {
   "cell_type": "code",
   "execution_count": null,
   "metadata": {
    "execution": {
     "iopub.execute_input": "2020-11-18T17:12:40.977138Z",
     "iopub.status.busy": "2020-11-18T17:12:40.974799Z",
     "iopub.status.idle": "2020-11-18T17:12:48.174636Z",
     "shell.execute_reply": "2020-11-18T17:12:48.175260Z"
    },
    "papermill": {
     "duration": 7.59367,
     "end_time": "2020-11-18T17:12:48.175430",
     "exception": false,
     "start_time": "2020-11-18T17:12:40.581760",
     "status": "completed"
    },
    "tags": []
   },
   "outputs": [],
   "source": [
    "fig = plt.figure(figsize=(13,8))\n",
    "\n",
    "plt.subplot(121)\n",
    "sns.violinplot(y=application_data[application_data[\"TARGET\"]==0][\"REGION_POPULATION_RELATIVE\"]\n",
    "               ,x=application_data[application_data[\"TARGET\"]==0][\"NAME_CONTRACT_TYPE\"],\n",
    "               palette=\"Set1\")\n",
    "plt.title(\"Distribution of region population for Non Default loans\",color=\"b\")\n",
    "plt.subplot(122)\n",
    "sns.violinplot(y = application_data[application_data[\"TARGET\"]==1][\"REGION_POPULATION_RELATIVE\"]\n",
    "               ,x=application_data[application_data[\"TARGET\"]==1][\"NAME_CONTRACT_TYPE\"]\n",
    "               ,palette=\"Set1\")\n",
    "plt.title(\"Distribution of region population  for  Default loans\",color=\"b\")\n",
    "\n",
    "plt.subplots_adjust(wspace = .2)\n",
    "fig.set_facecolor(\"lightgrey\")"
   ]
  },
  {
   "cell_type": "markdown",
   "metadata": {
    "papermill": {
     "duration": 0.390992,
     "end_time": "2020-11-18T17:12:48.962227",
     "exception": false,
     "start_time": "2020-11-18T17:12:48.571235",
     "status": "completed"
    },
    "tags": []
   },
   "source": [
    "### Point to infer from the graph\n",
    "\n",
    "In High population density regions people are less likely to default on loans."
   ]
  },
  {
   "cell_type": "markdown",
   "metadata": {
    "papermill": {
     "duration": 0.435014,
     "end_time": "2020-11-18T17:12:49.786168",
     "exception": false,
     "start_time": "2020-11-18T17:12:49.351154",
     "status": "completed"
    },
    "tags": []
   },
   "source": [
    "\n",
    "### Client's age\n",
    "\n",
    "DAYS_BIRTH - Client's age in days at the time of application.\n",
    "\n"
   ]
  },
  {
   "cell_type": "code",
   "execution_count": null,
   "metadata": {
    "execution": {
     "iopub.execute_input": "2020-11-18T17:12:50.582876Z",
     "iopub.status.busy": "2020-11-18T17:12:50.581700Z",
     "iopub.status.idle": "2020-11-18T17:13:06.638762Z",
     "shell.execute_reply": "2020-11-18T17:13:06.638009Z"
    },
    "papermill": {
     "duration": 16.470166,
     "end_time": "2020-11-18T17:13:06.638912",
     "exception": false,
     "start_time": "2020-11-18T17:12:50.168746",
     "status": "completed"
    },
    "tags": []
   },
   "outputs": [],
   "source": [
    "fig = plt.figure(figsize=(13,15))\n",
    "\n",
    "plt.subplot(221)\n",
    "sns.distplot(application_data[application_data[\"TARGET\"]==0][\"DAYS_BIRTH\"],color=\"b\")\n",
    "plt.title(\"Age Distribution of repayers\")\n",
    "\n",
    "plt.subplot(222)\n",
    "sns.distplot(application_data[application_data[\"TARGET\"]==1][\"DAYS_BIRTH\"],color=\"r\")\n",
    "plt.title(\"Age Distribution of defaulters\")\n",
    "\n",
    "plt.subplot(223)\n",
    "sns.lvplot(application_data[\"TARGET\"],application_data[\"DAYS_BIRTH\"],hue=application_data[\"CODE_GENDER\"],palette=[\"b\",\"grey\",\"m\"])\n",
    "plt.axhline(application_data[\"DAYS_BIRTH\"].mean(),linestyle=\"dashed\",color=\"k\",label =\"average age of client\")\n",
    "plt.legend(loc=\"lower right\")\n",
    "plt.title(\"Client age vs Loan repayment status(hue=gender)\")\n",
    "\n",
    "plt.subplot(224)\n",
    "sns.lvplot(application_data[\"TARGET\"],application_data[\"DAYS_BIRTH\"],hue=application_data[\"NAME_CONTRACT_TYPE\"],palette=[\"r\",\"g\"])\n",
    "plt.axhline(application_data[\"DAYS_BIRTH\"].mean(),linestyle=\"dashed\",color=\"k\",label =\"average age of client\")\n",
    "plt.legend(loc=\"lower right\")\n",
    "plt.title(\"Client age vs Loan repayment status(hue=contract type)\")\n",
    "\n",
    "plt.subplots_adjust(wspace = .2,hspace = .3)\n",
    "\n",
    "fig.set_facecolor(\"lightgrey\")"
   ]
  },
  {
   "cell_type": "markdown",
   "metadata": {
    "papermill": {
     "duration": 0.402278,
     "end_time": "2020-11-18T17:13:07.426780",
     "exception": false,
     "start_time": "2020-11-18T17:13:07.024502",
     "status": "completed"
    },
    "tags": []
   },
   "source": [
    "### Point to infer from the graph\n",
    "\n",
    "Average clients age is comparatively less in non repayers than repayers in every aspect.\n",
    "\n",
    "Younger people tend to default more than elder people."
   ]
  },
  {
   "cell_type": "markdown",
   "metadata": {
    "papermill": {
     "duration": 0.380506,
     "end_time": "2020-11-18T17:13:08.191735",
     "exception": false,
     "start_time": "2020-11-18T17:13:07.811229",
     "status": "completed"
    },
    "tags": []
   },
   "source": [
    "### Distribution of days employed for target variable.\n",
    "\n",
    "DAYS_EMPLOYED - How many days before the application for target variable the person started current employment"
   ]
  },
  {
   "cell_type": "code",
   "execution_count": null,
   "metadata": {
    "execution": {
     "iopub.execute_input": "2020-11-18T17:13:08.971908Z",
     "iopub.status.busy": "2020-11-18T17:13:08.962862Z",
     "iopub.status.idle": "2020-11-18T17:13:10.032612Z",
     "shell.execute_reply": "2020-11-18T17:13:10.032002Z"
    },
    "papermill": {
     "duration": 1.457667,
     "end_time": "2020-11-18T17:13:10.032741",
     "exception": false,
     "start_time": "2020-11-18T17:13:08.575074",
     "status": "completed"
    },
    "tags": []
   },
   "outputs": [],
   "source": [
    "fig = plt.figure(figsize=(13,5))\n",
    "\n",
    "plt.subplot(121)\n",
    "sns.distplot(application_data[application_data[\"TARGET\"]==0][\"DAYS_EMPLOYED\"],color=\"b\")\n",
    "plt.title(\"days employed distribution of repayers\")\n",
    "\n",
    "plt.subplot(122)\n",
    "sns.distplot(application_data[application_data[\"TARGET\"]==1][\"DAYS_EMPLOYED\"],color=\"r\")\n",
    "plt.title(\"days employed distribution of defaulters\")\n",
    "\n",
    "fig.set_facecolor(\"ghostwhite\")"
   ]
  },
  {
   "cell_type": "markdown",
   "metadata": {
    "papermill": {
     "duration": 0.383261,
     "end_time": "2020-11-18T17:13:10.798239",
     "exception": false,
     "start_time": "2020-11-18T17:13:10.414978",
     "status": "completed"
    },
    "tags": []
   },
   "source": [
    "### Distribution of registration days for target variable.\n",
    "\n",
    "DAYS_REGISTRATION How many days before the application did client change his registration"
   ]
  },
  {
   "cell_type": "code",
   "execution_count": null,
   "metadata": {
    "execution": {
     "iopub.execute_input": "2020-11-18T17:13:11.581393Z",
     "iopub.status.busy": "2020-11-18T17:13:11.580293Z",
     "iopub.status.idle": "2020-11-18T17:13:12.777267Z",
     "shell.execute_reply": "2020-11-18T17:13:12.776212Z"
    },
    "papermill": {
     "duration": 1.596232,
     "end_time": "2020-11-18T17:13:12.777451",
     "exception": false,
     "start_time": "2020-11-18T17:13:11.181219",
     "status": "completed"
    },
    "tags": []
   },
   "outputs": [],
   "source": [
    "fig = plt.figure(figsize=(13,5))\n",
    "\n",
    "plt.subplot(121)\n",
    "sns.distplot(application_data[application_data[\"TARGET\"]==0][\"DAYS_REGISTRATION\"],color=\"b\")\n",
    "plt.title(\"registration days distribution of repayers\")\n",
    "\n",
    "plt.subplot(122)\n",
    "sns.distplot(application_data[application_data[\"TARGET\"]==1][\"DAYS_REGISTRATION\"],color=\"r\")\n",
    "plt.title(\"registration days distribution of defaulter\")\n",
    "\n",
    "fig.set_facecolor(\"ghostwhite\")"
   ]
  },
  {
   "cell_type": "markdown",
   "metadata": {
    "papermill": {
     "duration": 0.391889,
     "end_time": "2020-11-18T17:13:13.632545",
     "exception": false,
     "start_time": "2020-11-18T17:13:13.240656",
     "status": "completed"
    },
    "tags": []
   },
   "source": [
    "### Distribution in contact information provided by client\n",
    "\n",
    "FLAG_MOBIL - Did client provide mobile phone (1=YES, 0=NO)\n",
    "\n",
    "FLAG_EMP_PHONE - Did client provide work phone (1=YES, 0=NO)\n",
    "\n",
    "FLAG_WORK_PHONE - Did client provide home phone (1=YES, 0=NO)\n",
    "\n",
    "FLAG_CONT_MOBILE - Was mobile phone reachable (1=YES, 0=NO)\n",
    "\n",
    "FLAG_PHONE - Did client provide home phone (1=YES, 0=NO)\n",
    "\n",
    "FLAG_EMAIL - Did client provide email (1=YES, 0=NO)"
   ]
  },
  {
   "cell_type": "code",
   "execution_count": null,
   "metadata": {
    "execution": {
     "iopub.execute_input": "2020-11-18T17:13:14.435600Z",
     "iopub.status.busy": "2020-11-18T17:13:14.434735Z",
     "iopub.status.idle": "2020-11-18T17:14:38.820224Z",
     "shell.execute_reply": "2020-11-18T17:14:38.820909Z"
    },
    "papermill": {
     "duration": 84.786031,
     "end_time": "2020-11-18T17:14:38.821093",
     "exception": false,
     "start_time": "2020-11-18T17:13:14.035062",
     "status": "completed"
    },
    "tags": []
   },
   "outputs": [],
   "source": [
    "x   = application_data[['FLAG_MOBIL', 'FLAG_EMP_PHONE', 'FLAG_WORK_PHONE', 'FLAG_CONT_MOBILE',\n",
    "       'FLAG_PHONE', 'FLAG_EMAIL',\"TARGET\"]]\n",
    "x[\"TARGET\"] = x[\"TARGET\"].replace({0:\"repayers\",1:\"defaulters\"})\n",
    "x  = x.replace({1:\"YES\",0:\"NO\"})\n",
    "\n",
    "cols = ['FLAG_MOBIL', 'FLAG_EMP_PHONE', 'FLAG_WORK_PHONE', 'FLAG_CONT_MOBILE',\n",
    "       'FLAG_PHONE', 'FLAG_EMAIL']\n",
    "length = len(cols)\n",
    "\n",
    "fig = plt.figure(figsize=(15,12))\n",
    "fig.set_facecolor(\"lightgrey\")\n",
    "\n",
    "for i,j in itertools.zip_longest(cols,range(length)):\n",
    "    plt.subplot(2,3,j+1)\n",
    "    sns.countplot(x[i],hue=x[\"TARGET\"],palette=[\"r\",\"g\"])\n",
    "    plt.title(i,color=\"b\")"
   ]
  },
  {
   "cell_type": "markdown",
   "metadata": {
    "papermill": {
     "duration": 0.39203,
     "end_time": "2020-11-18T17:14:39.603003",
     "exception": false,
     "start_time": "2020-11-18T17:14:39.210973",
     "status": "completed"
    },
    "tags": []
   },
   "source": [
    "\n",
    "### Distribution of registration days for target variable.\n",
    "\n",
    "REGION_RATING_CLIENT - Home credit rating of the region where client lives (1,2,3).\n",
    "\n",
    "REGION_RATING_CLIENT_W_CITY - Home credit rating of the region where client lives with taking city into account (1,2,3). Percentage of defaulters are less in 1-rated regions compared to repayers."
   ]
  },
  {
   "cell_type": "code",
   "execution_count": null,
   "metadata": {
    "execution": {
     "iopub.execute_input": "2020-11-18T17:14:40.398432Z",
     "iopub.status.busy": "2020-11-18T17:14:40.397300Z",
     "iopub.status.idle": "2020-11-18T17:14:41.003868Z",
     "shell.execute_reply": "2020-11-18T17:14:41.003248Z"
    },
    "papermill": {
     "duration": 1.011815,
     "end_time": "2020-11-18T17:14:41.004006",
     "exception": false,
     "start_time": "2020-11-18T17:14:39.992191",
     "status": "completed"
    },
    "tags": []
   },
   "outputs": [],
   "source": [
    "fig = plt.figure(figsize=(13,13))\n",
    "plt.subplot(221)\n",
    "application_data[application_data[\"TARGET\"]==0][\"REGION_RATING_CLIENT\"].value_counts().plot.pie(autopct = \"%1.0f%%\",fontsize=12,\n",
    "                                                             colors = sns.color_palette(\"Pastel1\"),\n",
    "                                              wedgeprops={\"linewidth\":2,\"edgecolor\":\"white\"},shadow =True)\n",
    "\n",
    "plt.title(\"Distribution of region rating  for Repayers\",color=\"b\")\n",
    "\n",
    "plt.subplot(222)\n",
    "application_data[application_data[\"TARGET\"]==1][\"REGION_RATING_CLIENT\"].value_counts().plot.pie(autopct = \"%1.0f%%\",fontsize=12,\n",
    "                                                    colors = sns.color_palette(\"Pastel1\"),\n",
    "                                              wedgeprops={\"linewidth\":2,\"edgecolor\":\"white\"},shadow =True)\n",
    "\n",
    "\n",
    "plt.title(\"Distribution of region rating  for Defaulters\",color=\"b\")\n",
    "plt.ylabel(\"\")\n",
    "\n",
    "plt.subplot(223)\n",
    "application_data[application_data[\"TARGET\"]==0][\"REGION_RATING_CLIENT_W_CITY\"].value_counts().plot.pie(autopct = \"%1.0f%%\",fontsize=12,\n",
    "                                                             colors = sns.color_palette(\"Paired\"),\n",
    "                                              wedgeprops={\"linewidth\":2,\"edgecolor\":\"white\"},shadow =True)\n",
    "\n",
    "plt.title(\"Distribution of city region rating   for Repayers\",color=\"b\")\n",
    "\n",
    "plt.subplot(224)\n",
    "application_data[application_data[\"TARGET\"]==1][\"REGION_RATING_CLIENT_W_CITY\"].value_counts().plot.pie(autopct = \"%1.0f%%\",fontsize=12,\n",
    "                                                    colors = sns.color_palette(\"Paired\"),\n",
    "                                              wedgeprops={\"linewidth\":2,\"edgecolor\":\"white\"},shadow =True)\n",
    "\n",
    "\n",
    "plt.title(\"Distribution of city region rating  for Defaulters\",color=\"b\")\n",
    "plt.ylabel(\"\")\n",
    "fig.set_facecolor(\"ivory\")"
   ]
  },
  {
   "cell_type": "markdown",
   "metadata": {
    "papermill": {
     "duration": 0.399056,
     "end_time": "2020-11-18T17:14:41.804252",
     "exception": false,
     "start_time": "2020-11-18T17:14:41.405196",
     "status": "completed"
    },
    "tags": []
   },
   "source": [
    "### Point to infer from the graph\n",
    "\n",
    "Percentage of defaulters are less in 1-rated regions compared to repayers.\n",
    "\n",
    "Percentage of defaulters are more in 3-rated regions compared to repayers."
   ]
  },
  {
   "cell_type": "markdown",
   "metadata": {
    "papermill": {
     "duration": 0.397707,
     "end_time": "2020-11-18T17:14:42.592880",
     "exception": false,
     "start_time": "2020-11-18T17:14:42.195173",
     "status": "completed"
    },
    "tags": []
   },
   "source": [
    "### Peak days and hours for applying loans (defaulters vs repayers)\n",
    "\n",
    "WEEKDAY_APPR_PROCESS_START - On which day of the week did the client apply for the loan.\n",
    "\n",
    "HOUR_APPR_PROCESS_START - Approximately at what hour did the client apply for the loan.\n",
    "\n"
   ]
  },
  {
   "cell_type": "code",
   "execution_count": null,
   "metadata": {
    "execution": {
     "iopub.execute_input": "2020-11-18T17:14:43.412158Z",
     "iopub.status.busy": "2020-11-18T17:14:43.406758Z",
     "iopub.status.idle": "2020-11-18T17:14:44.568595Z",
     "shell.execute_reply": "2020-11-18T17:14:44.567938Z"
    },
    "papermill": {
     "duration": 1.579037,
     "end_time": "2020-11-18T17:14:44.568720",
     "exception": false,
     "start_time": "2020-11-18T17:14:42.989683",
     "status": "completed"
    },
    "tags": []
   },
   "outputs": [],
   "source": [
    "day = application_data.groupby(\"TARGET\").agg({\"WEEKDAY_APPR_PROCESS_START\":\"value_counts\"})\n",
    "day = day.rename(columns={\"WEEKDAY_APPR_PROCESS_START\":\"value_counts\"})\n",
    "day = day.reset_index()\n",
    "day_0 = day[:7]\n",
    "day_1 = day[7:]\n",
    "day_0[\"percentage\"] = day_0[\"value_counts\"]*100/day_0[\"value_counts\"].sum()\n",
    "day_1[\"percentage\"] = day_1[\"value_counts\"]*100/day_1[\"value_counts\"].sum()\n",
    "days = pd.concat([day_0,day_1],axis=0)\n",
    "days[\"TARGET\"] = days.replace({1:\"defaulters\",0:\"repayers\"})\n",
    "\n",
    "fig = plt.figure(figsize=(13,15))\n",
    "plt.subplot(211)\n",
    "order = ['SUNDAY', 'MONDAY','TUESDAY', 'WEDNESDAY','THURSDAY', 'FRIDAY', 'SATURDAY']\n",
    "ax= sns.barplot(\"WEEKDAY_APPR_PROCESS_START\",\"percentage\",data=days,\n",
    "                hue=\"TARGET\",order=order,palette=\"prism\")\n",
    "ax.set_facecolor(\"k\")\n",
    "ax.set_title(\"Peak days for applying loans (defaulters vs repayers)\")\n",
    "\n",
    "hr = application_data.groupby(\"TARGET\").agg({\"HOUR_APPR_PROCESS_START\":\"value_counts\"})\n",
    "hr = hr.rename(columns={\"HOUR_APPR_PROCESS_START\":\"value_counts\"}).reset_index()\n",
    "hr_0 = hr[hr[\"TARGET\"]==0]\n",
    "hr_1 = hr[hr[\"TARGET\"]==1]\n",
    "hr_0[\"percentage\"] = hr_0[\"value_counts\"]*100/hr_0[\"value_counts\"].sum()\n",
    "hr_1[\"percentage\"] = hr_1[\"value_counts\"]*100/hr_1[\"value_counts\"].sum()\n",
    "hrs = pd.concat([hr_0,hr_1],axis=0)\n",
    "hrs[\"TARGET\"] = hrs[\"TARGET\"].replace({1:\"defaulters\",0:\"repayers\"})\n",
    "hrs = hrs.sort_values(by=\"HOUR_APPR_PROCESS_START\",ascending=True)\n",
    "\n",
    "plt.subplot(212)\n",
    "ax1 = sns.pointplot(\"HOUR_APPR_PROCESS_START\",\"percentage\",\n",
    "                    data=hrs,hue=\"TARGET\",palette=\"prism\")\n",
    "ax1.set_facecolor(\"k\")\n",
    "ax1.set_title(\"Peak hours for applying loans (defaulters vs repayers)\")\n",
    "fig.set_facecolor(\"snow\")"
   ]
  },
  {
   "cell_type": "markdown",
   "metadata": {
    "papermill": {
     "duration": 0.400315,
     "end_time": "2020-11-18T17:14:45.369499",
     "exception": false,
     "start_time": "2020-11-18T17:14:44.969184",
     "status": "completed"
    },
    "tags": []
   },
   "source": [
    "### Point to infer from the graph\n",
    "\n",
    "On tuesdays , percentage of defaulters applying for loans is greater than that of repayers.\n",
    "\n",
    "From morning 4'O clock to 9'O clock percentage of defaulters applying for loans is greater than that of repayers."
   ]
  },
  {
   "cell_type": "markdown",
   "metadata": {
    "papermill": {
     "duration": 0.397031,
     "end_time": "2020-11-18T17:14:46.164951",
     "exception": false,
     "start_time": "2020-11-18T17:14:45.767920",
     "status": "completed"
    },
    "tags": []
   },
   "source": [
    "\n",
    "### Distribution in organization types for repayers and defaulters\n",
    "\n",
    "ORGANIZATION_TYPE - Type of organization where client works.\n",
    "\n"
   ]
  },
  {
   "cell_type": "code",
   "execution_count": null,
   "metadata": {
    "execution": {
     "iopub.execute_input": "2020-11-18T17:14:47.060882Z",
     "iopub.status.busy": "2020-11-18T17:14:47.060059Z",
     "iopub.status.idle": "2020-11-18T17:14:49.684055Z",
     "shell.execute_reply": "2020-11-18T17:14:49.683414Z"
    },
    "papermill": {
     "duration": 3.037124,
     "end_time": "2020-11-18T17:14:49.684179",
     "exception": false,
     "start_time": "2020-11-18T17:14:46.647055",
     "status": "completed"
    },
    "tags": []
   },
   "outputs": [],
   "source": [
    "org = application_data.groupby(\"TARGET\").agg({\"ORGANIZATION_TYPE\":\"value_counts\"})\n",
    "org = org.rename(columns = {\"ORGANIZATION_TYPE\":\"value_counts\"}).reset_index()\n",
    "org_0 = org[org[\"TARGET\"] == 0]\n",
    "org_1 = org[org[\"TARGET\"] == 1]\n",
    "org_0[\"percentage\"] = org_0[\"value_counts\"]*100/org_0[\"value_counts\"].sum()\n",
    "org_1[\"percentage\"] = org_1[\"value_counts\"]*100/org_1[\"value_counts\"].sum()\n",
    "\n",
    "organization = pd.concat([org_0,org_1],axis=0)\n",
    "organization = organization.sort_values(by=\"ORGANIZATION_TYPE\",ascending=True)\n",
    "\n",
    "organization[\"TARGET\"] = organization[\"TARGET\"].replace({0:\"repayers\",1:\"defaulters\"})\n",
    "\n",
    "organization\n",
    "plt.figure(figsize=(13,7))\n",
    "ax = sns.pointplot(\"ORGANIZATION_TYPE\",\"percentage\",\n",
    "                   data=organization,hue=\"TARGET\",palette=[\"b\",\"r\"])\n",
    "plt.xticks(rotation=90)\n",
    "plt.grid(True,alpha=.3)\n",
    "ax.set_facecolor(\"k\")\n",
    "ax.set_title(\"Distribution in organization types for repayers and defaulters\")\n",
    "plt.show()"
   ]
  },
  {
   "cell_type": "markdown",
   "metadata": {
    "papermill": {
     "duration": 0.399692,
     "end_time": "2020-11-18T17:14:50.482740",
     "exception": false,
     "start_time": "2020-11-18T17:14:50.083048",
     "status": "completed"
    },
    "tags": []
   },
   "source": [
    "### Point to infer from the graph\n",
    "\n",
    "Organizations like Business Entity Type 3,Construction,Self-employed percentage of defaulters are higher than repayers."
   ]
  },
  {
   "cell_type": "markdown",
   "metadata": {
    "papermill": {
     "duration": 0.398714,
     "end_time": "2020-11-18T17:14:51.275788",
     "exception": false,
     "start_time": "2020-11-18T17:14:50.877074",
     "status": "completed"
    },
    "tags": []
   },
   "source": [
    "### Distribution client's social surroundings with observed and defaulted 30 DPD (days past due)\n",
    "\n",
    "OBS_30_CNT_SOCIAL_CIRCLE- How many observation of client's social surroundings with observable 30 DPD (days past due) default.\n",
    "\n",
    "DEF_30_CNT_SOCIAL_CIRCLE-How many observation of client's social surroundings defaulted on 30 DPD (days past due) .\n",
    "\n",
    "OBS_60_CNT_SOCIAL_CIRCLE - How many observation of client's social surroundings with observable 60 DPD (days past due) default.\n",
    "\n",
    "DEF_60_CNT_SOCIAL_CIRCLE - How many observation of client's social surroundings defaulted on 60 (days past due) DPD."
   ]
  },
  {
   "cell_type": "code",
   "execution_count": null,
   "metadata": {
    "execution": {
     "iopub.execute_input": "2020-11-18T17:14:52.088211Z",
     "iopub.status.busy": "2020-11-18T17:14:52.087089Z",
     "iopub.status.idle": "2020-11-18T17:15:21.516658Z",
     "shell.execute_reply": "2020-11-18T17:15:21.516049Z"
    },
    "papermill": {
     "duration": 29.843541,
     "end_time": "2020-11-18T17:15:21.516787",
     "exception": false,
     "start_time": "2020-11-18T17:14:51.673246",
     "status": "completed"
    },
    "tags": []
   },
   "outputs": [],
   "source": [
    "fig = plt.figure(figsize=(20,20))\n",
    "plt.subplot(421)\n",
    "sns.boxplot(data=application_data,x='TARGET',y='OBS_30_CNT_SOCIAL_CIRCLE',\n",
    "            hue=\"TARGET\", palette=\"Set3\")\n",
    "plt.title(\"Client's social surroundings with observable 30 DPD (days past due) def\",color=\"b\")\n",
    "plt.subplot(422)\n",
    "sns.boxplot(data=application_data,x='TARGET',y='DEF_30_CNT_SOCIAL_CIRCLE',\n",
    "            hue=\"TARGET\", palette=\"Set3\")\n",
    "plt.title(\"Client's social surroundings defaulted on 30 DPD (days past due)\",color=\"b\")\n",
    "plt.subplot(423)\n",
    "sns.boxplot(data=application_data,x='TARGET',y='OBS_60_CNT_SOCIAL_CIRCLE',\n",
    "            hue=\"TARGET\", palette=\"Set3\")\n",
    "plt.title(\"Client's social surroundings with observable 60 DPD (days past due) default\",color=\"b\")\n",
    "plt.subplot(424)\n",
    "sns.boxplot(data=application_data,x='TARGET',y='DEF_60_CNT_SOCIAL_CIRCLE',\n",
    "            hue=\"TARGET\", palette=\"Set3\")\n",
    "plt.title(\"Client's social surroundings defaulted on 60 DPD (days past due)\",color=\"b\")\n",
    "fig.set_facecolor(\"ghostwhite\")"
   ]
  },
  {
   "cell_type": "markdown",
   "metadata": {
    "papermill": {
     "duration": 0.403863,
     "end_time": "2020-11-18T17:15:22.321623",
     "exception": false,
     "start_time": "2020-11-18T17:15:21.917760",
     "status": "completed"
    },
    "tags": []
   },
   "source": [
    "### Number of days before application client changed phone .\n",
    "\n",
    "DAYS_LAST_PHONE_CHANGE - How many days before application did client change phone.\n",
    "\n"
   ]
  },
  {
   "cell_type": "code",
   "execution_count": null,
   "metadata": {
    "execution": {
     "iopub.execute_input": "2020-11-18T17:15:23.132405Z",
     "iopub.status.busy": "2020-11-18T17:15:23.127382Z",
     "iopub.status.idle": "2020-11-18T17:15:31.511556Z",
     "shell.execute_reply": "2020-11-18T17:15:31.510996Z"
    },
    "papermill": {
     "duration": 8.789289,
     "end_time": "2020-11-18T17:15:31.511687",
     "exception": false,
     "start_time": "2020-11-18T17:15:22.722398",
     "status": "completed"
    },
    "tags": []
   },
   "outputs": [],
   "source": [
    "plt.figure(figsize=(13,7))\n",
    "plt.subplot(121)\n",
    "ax = sns.violinplot(application_data[\"TARGET\"],\n",
    "                    application_data[\"DAYS_LAST_PHONE_CHANGE\"],palette=[\"g\",\"r\"])\n",
    "ax.set_facecolor(\"oldlace\")\n",
    "ax.set_title(\"days before application client changed phone -violin plot\")\n",
    "plt.subplot(122)\n",
    "ax1 = sns.lvplot(application_data[\"TARGET\"],\n",
    "                 application_data[\"DAYS_LAST_PHONE_CHANGE\"],palette=[\"g\",\"r\"])\n",
    "ax1.set_facecolor(\"oldlace\")\n",
    "ax1.set_ylabel(\"\")\n",
    "ax1.set_title(\"days before application client changed phone -box plot\")\n",
    "plt.subplots_adjust(wspace = .2)"
   ]
  },
  {
   "cell_type": "markdown",
   "metadata": {
    "papermill": {
     "duration": 0.395755,
     "end_time": "2020-11-18T17:15:32.307757",
     "exception": false,
     "start_time": "2020-11-18T17:15:31.912002",
     "status": "completed"
    },
    "tags": []
   },
   "source": [
    "### Point to infer from the graph\n",
    "\n",
    "Average days of defaulters phone change is less than average days of repayers phone change."
   ]
  },
  {
   "cell_type": "markdown",
   "metadata": {
    "papermill": {
     "duration": 0.395287,
     "end_time": "2020-11-18T17:15:33.100627",
     "exception": false,
     "start_time": "2020-11-18T17:15:32.705340",
     "status": "completed"
    },
    "tags": []
   },
   "source": [
    "### Documents provided by the clients.\n",
    "\n",
    "FLAG_DOCUMENT - Did client provide documents.(1,0)"
   ]
  },
  {
   "cell_type": "code",
   "execution_count": null,
   "metadata": {
    "execution": {
     "iopub.execute_input": "2020-11-18T17:15:33.924041Z",
     "iopub.status.busy": "2020-11-18T17:15:33.922992Z",
     "iopub.status.idle": "2020-11-18T17:18:01.819802Z",
     "shell.execute_reply": "2020-11-18T17:18:01.820448Z"
    },
    "papermill": {
     "duration": 148.322356,
     "end_time": "2020-11-18T17:18:01.820624",
     "exception": false,
     "start_time": "2020-11-18T17:15:33.498268",
     "status": "completed"
    },
    "tags": []
   },
   "outputs": [],
   "source": [
    "cols = [ 'FLAG_DOCUMENT_2', 'FLAG_DOCUMENT_3',\n",
    "       'FLAG_DOCUMENT_4', 'FLAG_DOCUMENT_5', 'FLAG_DOCUMENT_6',\n",
    "       'FLAG_DOCUMENT_7', 'FLAG_DOCUMENT_8', 'FLAG_DOCUMENT_9',\n",
    "       'FLAG_DOCUMENT_10', 'FLAG_DOCUMENT_11', 'FLAG_DOCUMENT_12',\n",
    "       'FLAG_DOCUMENT_13', 'FLAG_DOCUMENT_14', 'FLAG_DOCUMENT_15',\n",
    "       'FLAG_DOCUMENT_16', 'FLAG_DOCUMENT_17', 'FLAG_DOCUMENT_18',\n",
    "       'FLAG_DOCUMENT_19', 'FLAG_DOCUMENT_20', 'FLAG_DOCUMENT_21']\n",
    "\n",
    "df_flag = application_data[cols+[\"TARGET\"]]\n",
    "\n",
    "length = len(cols)\n",
    "\n",
    "df_flag[\"TARGET\"] = df_flag[\"TARGET\"].replace({1:\"defaulter\",0:\"repayer\"})\n",
    "\n",
    "fig = plt.figure(figsize=(13,24))\n",
    "fig.set_facecolor(\"lightgrey\")\n",
    "for i,j in itertools.zip_longest(cols,range(length)):\n",
    "    plt.subplot(5,4,j+1)\n",
    "    ax = sns.countplot(df_flag[i],hue=df_flag[\"TARGET\"],palette=[\"r\",\"b\"])\n",
    "    plt.yticks(fontsize=5)\n",
    "    plt.xlabel(\"\")\n",
    "    plt.title(i)\n",
    "    ax.set_facecolor(\"k\")"
   ]
  },
  {
   "cell_type": "markdown",
   "metadata": {
    "papermill": {
     "duration": 0.403898,
     "end_time": "2020-11-18T17:18:02.628171",
     "exception": false,
     "start_time": "2020-11-18T17:18:02.224273",
     "status": "completed"
    },
    "tags": []
   },
   "source": [
    "### Equiries to Credit Bureau about the client before application.\n",
    "\n",
    "AMT_REQ_CREDIT_BUREAU_HOUR - Number of enquiries to Credit Bureau about the client one hour before application.\n",
    "\n",
    "AMT_REQ_CREDIT_BUREAU_DAY - Number of enquiries to Credit Bureau about the client one day before application (excluding one hour before application).\n",
    "\n",
    "AMT_REQ_CREDIT_BUREAU_WEEK - Number of enquiries to Credit Bureau about the client one week before application (excluding one day before application).\n",
    "\n",
    "AMT_REQ_CREDIT_BUREAU_MON - Number of enquiries to Credit Bureau about the client one month before application (excluding one week before application).\n",
    "\n",
    "AMT_REQ_CREDIT_BUREAU_QRT - Number of enquiries to Credit Bureau about the client 3 month before application (excluding one month before application).\n",
    "\n",
    "AMT_REQ_CREDIT_BUREAU_YEAR - Number of enquiries to Credit Bureau about the client one day year (excluding last 3 months before application)."
   ]
  },
  {
   "cell_type": "code",
   "execution_count": null,
   "metadata": {
    "execution": {
     "iopub.execute_input": "2020-11-18T17:18:03.450385Z",
     "iopub.status.busy": "2020-11-18T17:18:03.449599Z",
     "iopub.status.idle": "2020-11-18T17:18:04.614642Z",
     "shell.execute_reply": "2020-11-18T17:18:04.614057Z"
    },
    "papermill": {
     "duration": 1.584186,
     "end_time": "2020-11-18T17:18:04.614769",
     "exception": false,
     "start_time": "2020-11-18T17:18:03.030583",
     "status": "completed"
    },
    "tags": []
   },
   "outputs": [],
   "source": [
    "cols = ['AMT_REQ_CREDIT_BUREAU_HOUR', 'AMT_REQ_CREDIT_BUREAU_DAY',\n",
    "       'AMT_REQ_CREDIT_BUREAU_WEEK', 'AMT_REQ_CREDIT_BUREAU_MON',\n",
    "       'AMT_REQ_CREDIT_BUREAU_QRT', 'AMT_REQ_CREDIT_BUREAU_YEAR']\n",
    "application_data.groupby(\"TARGET\")[cols].max().transpose().plot(kind=\"barh\",\n",
    "                                                                 figsize=(10,5),width=.8)\n",
    "plt.title(\"Maximum enquries made by defaulters and repayers\")\n",
    "application_data.groupby(\"TARGET\")[cols].mean().transpose().plot(kind=\"barh\",\n",
    "                                                                  figsize=(10,5),width=.8)\n",
    "plt.title(\"average enquries made by defaulters and repayers\")\n",
    "application_data.groupby(\"TARGET\")[cols].std().transpose().plot(kind=\"barh\",\n",
    "                                                                 figsize=(10,5),width=.8)\n",
    "plt.title(\"standard deviation in enquries made by defaulters and repayers\")\n",
    "plt.show()"
   ]
  },
  {
   "cell_type": "markdown",
   "metadata": {
    "papermill": {
     "duration": 0.407405,
     "end_time": "2020-11-18T17:18:05.432750",
     "exception": false,
     "start_time": "2020-11-18T17:18:05.025345",
     "status": "completed"
    },
    "tags": []
   },
   "source": [
    "\n",
    "### Current loan id having previous loan applications.\n",
    "\n",
    "SK_ID_PREV - ID of previous credit in Home credit related to loan in our sample. (One loan in our sample can have 0,1,2 or more previous loan applications in Home Credit, previous application could, but not necessarily have to lead to credit).\n",
    "\n",
    "SK_ID_CURR ID of loan in our sample.\n"
   ]
  },
  {
   "cell_type": "code",
   "execution_count": null,
   "metadata": {
    "execution": {
     "iopub.execute_input": "2020-11-18T17:18:06.255962Z",
     "iopub.status.busy": "2020-11-18T17:18:06.254924Z",
     "iopub.status.idle": "2020-11-18T17:18:07.011946Z",
     "shell.execute_reply": "2020-11-18T17:18:07.012524Z"
    },
    "papermill": {
     "duration": 1.173583,
     "end_time": "2020-11-18T17:18:07.012699",
     "exception": false,
     "start_time": "2020-11-18T17:18:05.839116",
     "status": "completed"
    },
    "tags": []
   },
   "outputs": [],
   "source": [
    "x = previous_application.groupby(\"SK_ID_CURR\")[\"SK_ID_PREV\"].count().reset_index()\n",
    "plt.figure(figsize=(13,7))\n",
    "ax = sns.distplot(x[\"SK_ID_PREV\"],color=\"orange\")\n",
    "plt.axvline(x[\"SK_ID_PREV\"].mean(),linestyle=\"dashed\",color=\"r\",label=\"average\")\n",
    "plt.axvline(x[\"SK_ID_PREV\"].std(),linestyle=\"dashed\",color=\"b\",label=\"standard deviation\")\n",
    "plt.axvline(x[\"SK_ID_PREV\"].max(),linestyle=\"dashed\",color=\"g\",label=\"maximum\")\n",
    "plt.legend(loc=\"best\")\n",
    "plt.title(\"Current loan id having previous loan applications\")\n",
    "ax.set_facecolor(\"k\")"
   ]
  },
  {
   "cell_type": "markdown",
   "metadata": {
    "papermill": {
     "duration": 0.406992,
     "end_time": "2020-11-18T17:18:07.834448",
     "exception": false,
     "start_time": "2020-11-18T17:18:07.427456",
     "status": "completed"
    },
    "tags": []
   },
   "source": [
    "### Point to infer from the graph\n",
    "On average current loan ids have 4 to 5 loan applications previously"
   ]
  },
  {
   "cell_type": "markdown",
   "metadata": {
    "papermill": {
     "duration": 0.406828,
     "end_time": "2020-11-18T17:18:08.650293",
     "exception": false,
     "start_time": "2020-11-18T17:18:08.243465",
     "status": "completed"
    },
    "tags": []
   },
   "source": [
    "\n",
    "### Contract types in previous applications\n",
    "\n",
    "NAME_CONTRACT_TYPE Contract product type (Cash loan, consumer loan [POS] ,...) of the previous application.\n"
   ]
  },
  {
   "cell_type": "code",
   "execution_count": null,
   "metadata": {
    "execution": {
     "iopub.execute_input": "2020-11-18T17:18:09.919705Z",
     "iopub.status.busy": "2020-11-18T17:18:09.918944Z",
     "iopub.status.idle": "2020-11-18T17:18:10.141577Z",
     "shell.execute_reply": "2020-11-18T17:18:10.140807Z"
    },
    "papermill": {
     "duration": 1.084527,
     "end_time": "2020-11-18T17:18:10.141702",
     "exception": false,
     "start_time": "2020-11-18T17:18:09.057175",
     "status": "completed"
    },
    "tags": []
   },
   "outputs": [],
   "source": [
    "cnts = previous_application[\"NAME_CONTRACT_TYPE\"].value_counts()\n",
    "import squarify\n",
    "plt.figure(figsize=(8,6))\n",
    "squarify.plot(cnts.values,label=cnts.keys(),value=cnts.values,linewidth=2,edgecolor=\"k\",alpha=.8,color=sns.color_palette(\"Set1\"))\n",
    "plt.axis(\"off\")\n",
    "plt.title(\"Contaract types in previous applications\")\n",
    "plt.show()"
   ]
  },
  {
   "cell_type": "markdown",
   "metadata": {
    "papermill": {
     "duration": 0.454547,
     "end_time": "2020-11-18T17:18:11.006345",
     "exception": false,
     "start_time": "2020-11-18T17:18:10.551798",
     "status": "completed"
    },
    "tags": []
   },
   "source": [
    "### Point to infer from the graph\n",
    "\n",
    "\n",
    "Cash loan applications are maximum followed by consumer loan applications."
   ]
  },
  {
   "cell_type": "markdown",
   "metadata": {
    "papermill": {
     "duration": 0.410993,
     "end_time": "2020-11-18T17:18:11.830943",
     "exception": false,
     "start_time": "2020-11-18T17:18:11.419950",
     "status": "completed"
    },
    "tags": []
   },
   "source": [
    "### Previous loan amounts applied and loan amounts credited.\n",
    "\n",
    "AMT_APPLICATION-For how much credit did client ask on the previous application.\n",
    "\n",
    "AMT_CREDIT-Final credit amount on the previous application. This differs from AMT_APPLICATION in a way that the AMT_APPLICATION is the amount for which the client initially applied for, but during our approval process he could have received different amount - AMT_CREDIT."
   ]
  },
  {
   "cell_type": "code",
   "execution_count": null,
   "metadata": {
    "execution": {
     "iopub.execute_input": "2020-11-18T17:18:12.664048Z",
     "iopub.status.busy": "2020-11-18T17:18:12.662894Z",
     "iopub.status.idle": "2020-11-18T17:18:15.600324Z",
     "shell.execute_reply": "2020-11-18T17:18:15.599694Z"
    },
    "papermill": {
     "duration": 3.362269,
     "end_time": "2020-11-18T17:18:15.600446",
     "exception": false,
     "start_time": "2020-11-18T17:18:12.238177",
     "status": "completed"
    },
    "tags": []
   },
   "outputs": [],
   "source": [
    "plt.figure(figsize=(20,20))\n",
    "plt.subplot(211)\n",
    "ax = sns.kdeplot(previous_application[\"AMT_APPLICATION\"],color=\"b\",linewidth=3)\n",
    "ax = sns.kdeplot(previous_application[previous_application[\"AMT_CREDIT\"].notnull()][\"AMT_CREDIT\"],color=\"r\",linewidth=3)\n",
    "plt.axvline(previous_application[previous_application[\"AMT_CREDIT\"].notnull()][\"AMT_CREDIT\"].mean(),color=\"r\",linestyle=\"dashed\",label=\"AMT_APPLICATION_MEAN\")\n",
    "plt.axvline(previous_application[\"AMT_APPLICATION\"].mean(),color=\"b\",linestyle=\"dashed\",label=\"AMT_APPLICATION_MEAN\")\n",
    "plt.legend(loc=\"best\")\n",
    "plt.title(\"Previous loan amounts applied and loan amounts credited.\")\n",
    "ax.set_facecolor(\"k\")\n",
    "\n",
    "plt.subplot(212)\n",
    "diff = (previous_application[\"AMT_CREDIT\"] - previous_application[\"AMT_APPLICATION\"]).reset_index()\n",
    "diff = diff[diff[0].notnull()]\n",
    "ax1 = sns.kdeplot(diff[0],color=\"g\",linewidth=3,label = \"difference in amount requested by client and amount credited\")\n",
    "plt.axvline(diff[0].mean(),color=\"white\",linestyle=\"dashed\",label = \"mean\")\n",
    "plt.title(\"difference in amount requested by client and amount credited\")\n",
    "ax1.legend(loc=\"best\")\n",
    "ax1.set_facecolor(\"k\")"
   ]
  },
  {
   "cell_type": "markdown",
   "metadata": {
    "papermill": {
     "duration": 0.42592,
     "end_time": "2020-11-18T17:18:16.482423",
     "exception": false,
     "start_time": "2020-11-18T17:18:16.056503",
     "status": "completed"
    },
    "tags": []
   },
   "source": [
    "### Total and average amounts applied and credited in previous applications\n",
    "\n",
    "AMT_APPLICATION-For how much credit did client ask on the previous application. >AMT_CREDIT-Final credit amount on the previous application. This differs from AMT_APPLICATION in a way that the AMT_APPLICATION is the amount for which the client."
   ]
  },
  {
   "cell_type": "code",
   "execution_count": null,
   "metadata": {
    "execution": {
     "iopub.execute_input": "2020-11-18T17:18:17.361084Z",
     "iopub.status.busy": "2020-11-18T17:18:17.359974Z",
     "iopub.status.idle": "2020-11-18T17:18:18.323982Z",
     "shell.execute_reply": "2020-11-18T17:18:18.323233Z"
    },
    "papermill": {
     "duration": 1.428883,
     "end_time": "2020-11-18T17:18:18.324109",
     "exception": false,
     "start_time": "2020-11-18T17:18:16.895226",
     "status": "completed"
    },
    "tags": []
   },
   "outputs": [],
   "source": [
    "mn = previous_application.groupby(\"NAME_CONTRACT_TYPE\")[[\"AMT_APPLICATION\",\"AMT_CREDIT\"]].mean().stack().reset_index()\n",
    "tt = previous_application.groupby(\"NAME_CONTRACT_TYPE\")[[\"AMT_APPLICATION\",\"AMT_CREDIT\"]].sum().stack().reset_index()\n",
    "fig = plt.figure(figsize=(10,13))\n",
    "fig.set_facecolor(\"ghostwhite\")\n",
    "plt.subplot(211)\n",
    "ax = sns.barplot(0,\"NAME_CONTRACT_TYPE\",data=mn[:6],hue=\"level_1\",palette=\"inferno\")\n",
    "ax.set_facecolor(\"k\")\n",
    "ax.set_xlabel(\"average amounts\")\n",
    "ax.set_title(\"Average amounts by contract types\")\n",
    "\n",
    "plt.subplot(212)\n",
    "ax1 = sns.barplot(0,\"NAME_CONTRACT_TYPE\",data=tt[:6],hue=\"level_1\",palette=\"magma\")\n",
    "ax1.set_facecolor(\"k\")\n",
    "ax1.set_xlabel(\"total amounts\")\n",
    "ax1.set_title(\"total amounts by contract types\")\n",
    "plt.subplots_adjust(hspace = .2)\n",
    "plt.show()"
   ]
  },
  {
   "cell_type": "markdown",
   "metadata": {
    "papermill": {
     "duration": 0.414901,
     "end_time": "2020-11-18T17:18:19.154903",
     "exception": false,
     "start_time": "2020-11-18T17:18:18.740002",
     "status": "completed"
    },
    "tags": []
   },
   "source": [
    "### Annuity of previous application\n",
    "\n",
    "AMT_ANNUITY - Annuity of previous application"
   ]
  },
  {
   "cell_type": "code",
   "execution_count": null,
   "metadata": {
    "execution": {
     "iopub.execute_input": "2020-11-18T17:18:20.015850Z",
     "iopub.status.busy": "2020-11-18T17:18:20.008483Z",
     "iopub.status.idle": "2020-11-18T17:18:20.661021Z",
     "shell.execute_reply": "2020-11-18T17:18:20.660212Z"
    },
    "papermill": {
     "duration": 1.089841,
     "end_time": "2020-11-18T17:18:20.661161",
     "exception": false,
     "start_time": "2020-11-18T17:18:19.571320",
     "status": "completed"
    },
    "tags": []
   },
   "outputs": [],
   "source": [
    "plt.figure(figsize=(14,5))\n",
    "plt.subplot(121)\n",
    "previous_application.groupby(\"NAME_CONTRACT_TYPE\")[\"AMT_ANNUITY\"].sum().plot(kind=\"bar\")\n",
    "plt.xticks(rotation=0)\n",
    "plt.title(\"Total annuity amount by contract types in previous applications\")\n",
    "plt.subplot(122)\n",
    "previous_application.groupby(\"NAME_CONTRACT_TYPE\")[\"AMT_ANNUITY\"].mean().plot(kind=\"bar\")\n",
    "plt.title(\"average annuity amount by contract types in previous applications\")\n",
    "plt.xticks(rotation=0)\n",
    "plt.show()"
   ]
  },
  {
   "cell_type": "markdown",
   "metadata": {
    "papermill": {
     "duration": 0.418888,
     "end_time": "2020-11-18T17:18:21.497333",
     "exception": false,
     "start_time": "2020-11-18T17:18:21.078445",
     "status": "completed"
    },
    "tags": []
   },
   "source": [
    "\n",
    "### Count of application status by application type.\n",
    "\n",
    "NAME_CONTRACT_TYPE -Contract product type (Cash loan, consumer loan [POS] ,...) of the previous application.\n",
    "\n",
    "NAME_CONTRACT_STATUS -Contract status (approved, cancelled, ...) of previous application.\n",
    "\n"
   ]
  },
  {
   "cell_type": "code",
   "execution_count": null,
   "metadata": {
    "execution": {
     "iopub.execute_input": "2020-11-18T17:18:22.343514Z",
     "iopub.status.busy": "2020-11-18T17:18:22.341658Z",
     "iopub.status.idle": "2020-11-18T17:18:23.279500Z",
     "shell.execute_reply": "2020-11-18T17:18:23.278704Z"
    },
    "papermill": {
     "duration": 1.367533,
     "end_time": "2020-11-18T17:18:23.279626",
     "exception": false,
     "start_time": "2020-11-18T17:18:21.912093",
     "status": "completed"
    },
    "tags": []
   },
   "outputs": [],
   "source": [
    "ax = pd.crosstab(previous_application[\"NAME_CONTRACT_TYPE\"],previous_application[\"NAME_CONTRACT_STATUS\"]).plot(kind=\"barh\",figsize=(10,7),stacked=True)\n",
    "plt.xticks(rotation =0)\n",
    "plt.ylabel(\"count\")\n",
    "plt.title(\"Count of application status by application type\")\n",
    "ax.set_facecolor(\"k\")"
   ]
  },
  {
   "cell_type": "markdown",
   "metadata": {
    "papermill": {
     "duration": 0.417897,
     "end_time": "2020-11-18T17:18:24.118531",
     "exception": false,
     "start_time": "2020-11-18T17:18:23.700634",
     "status": "completed"
    },
    "tags": []
   },
   "source": [
    "### Point to infer from the graph\n",
    "\n",
    "Consumer loan applications are most approved loans and cash loans are most cancelled and refused loans."
   ]
  },
  {
   "cell_type": "markdown",
   "metadata": {
    "papermill": {
     "duration": 0.415115,
     "end_time": "2020-11-18T17:18:24.952905",
     "exception": false,
     "start_time": "2020-11-18T17:18:24.537790",
     "status": "completed"
    },
    "tags": []
   },
   "source": [
    "### Contract status by weekdays\n",
    "\n",
    "WEEKDAY_APPR_PROCESS_START - On which day of the week did the client apply for previous application"
   ]
  },
  {
   "cell_type": "code",
   "execution_count": null,
   "metadata": {
    "execution": {
     "iopub.execute_input": "2020-11-18T17:18:25.800547Z",
     "iopub.status.busy": "2020-11-18T17:18:25.799736Z",
     "iopub.status.idle": "2020-11-18T17:18:26.653082Z",
     "shell.execute_reply": "2020-11-18T17:18:26.652361Z"
    },
    "papermill": {
     "duration": 1.278402,
     "end_time": "2020-11-18T17:18:26.653215",
     "exception": false,
     "start_time": "2020-11-18T17:18:25.374813",
     "status": "completed"
    },
    "tags": []
   },
   "outputs": [],
   "source": [
    "hr = pd.crosstab(previous_application[\"WEEKDAY_APPR_PROCESS_START\"],previous_application[\"NAME_CONTRACT_STATUS\"]).stack().reset_index()\n",
    "plt.figure(figsize=(12,8))\n",
    "ax = sns.pointplot(hr[\"WEEKDAY_APPR_PROCESS_START\"],hr[0],hue=hr[\"NAME_CONTRACT_STATUS\"],palette=[\"g\",\"r\",\"b\",\"orange\"],scale=1)\n",
    "ax.set_facecolor(\"k\")\n",
    "ax.set_ylabel(\"count\")\n",
    "ax.set_title(\"Contract status by weekdays\")\n",
    "plt.grid(True,alpha=.2)\n",
    "\n"
   ]
  },
  {
   "cell_type": "markdown",
   "metadata": {
    "papermill": {
     "duration": 0.419238,
     "end_time": "2020-11-18T17:18:27.497281",
     "exception": false,
     "start_time": "2020-11-18T17:18:27.078043",
     "status": "completed"
    },
    "tags": []
   },
   "source": [
    "### Contract status by hour of the day\n",
    "\n",
    "HOUR_APPR_PROCESS_START - Approximately at what day hour did the client apply for the previous application.\n",
    "\n"
   ]
  },
  {
   "cell_type": "code",
   "execution_count": null,
   "metadata": {
    "execution": {
     "iopub.execute_input": "2020-11-18T17:18:28.376912Z",
     "iopub.status.busy": "2020-11-18T17:18:28.374871Z",
     "iopub.status.idle": "2020-11-18T17:18:29.419368Z",
     "shell.execute_reply": "2020-11-18T17:18:29.418730Z"
    },
    "papermill": {
     "duration": 1.488124,
     "end_time": "2020-11-18T17:18:29.419491",
     "exception": false,
     "start_time": "2020-11-18T17:18:27.931367",
     "status": "completed"
    },
    "tags": []
   },
   "outputs": [],
   "source": [
    "hr = pd.crosstab(previous_application[\"HOUR_APPR_PROCESS_START\"],previous_application[\"NAME_CONTRACT_STATUS\"]).stack().reset_index()\n",
    "plt.figure(figsize=(12,8))\n",
    "ax = sns.pointplot(hr[\"HOUR_APPR_PROCESS_START\"],hr[0],hue=hr[\"NAME_CONTRACT_STATUS\"],palette=[\"g\",\"r\",\"b\",\"orange\"],scale=1)\n",
    "ax.set_facecolor(\"k\")\n",
    "ax.set_ylabel(\"count\")\n",
    "ax.set_title(\"Contract status by day hours.\")\n",
    "plt.grid(True,alpha=.2)"
   ]
  },
  {
   "cell_type": "markdown",
   "metadata": {
    "papermill": {
     "duration": 0.418888,
     "end_time": "2020-11-18T17:18:30.260148",
     "exception": false,
     "start_time": "2020-11-18T17:18:29.841260",
     "status": "completed"
    },
    "tags": []
   },
   "source": [
    "### Point to infer from the graph\n",
    "\n",
    "Morning 11'o clock have maximum number of approvals.\n",
    "\n",
    "Morning 10'o clock have maximum number of refused and cancelled contracts."
   ]
  },
  {
   "cell_type": "markdown",
   "metadata": {
    "papermill": {
     "duration": 0.418553,
     "end_time": "2020-11-18T17:18:31.097979",
     "exception": false,
     "start_time": "2020-11-18T17:18:30.679426",
     "status": "completed"
    },
    "tags": []
   },
   "source": [
    "### Peak hours for week days for applying loans."
   ]
  },
  {
   "cell_type": "code",
   "execution_count": null,
   "metadata": {
    "execution": {
     "iopub.execute_input": "2020-11-18T17:18:31.948125Z",
     "iopub.status.busy": "2020-11-18T17:18:31.947281Z",
     "iopub.status.idle": "2020-11-18T17:18:33.232179Z",
     "shell.execute_reply": "2020-11-18T17:18:33.231409Z"
    },
    "papermill": {
     "duration": 1.712452,
     "end_time": "2020-11-18T17:18:33.232314",
     "exception": false,
     "start_time": "2020-11-18T17:18:31.519862",
     "status": "completed"
    },
    "tags": []
   },
   "outputs": [],
   "source": [
    "hr = pd.crosstab(previous_application[\"HOUR_APPR_PROCESS_START\"],previous_application[\"WEEKDAY_APPR_PROCESS_START\"]).stack().reset_index()\n",
    "plt.figure(figsize=(12,8))\n",
    "ax = sns.pointplot(hr[\"HOUR_APPR_PROCESS_START\"],hr[0],hue=hr[\"WEEKDAY_APPR_PROCESS_START\"],palette=[\"g\",\"r\",\"b\",\"orange\"],scale=1)\n",
    "ax.set_facecolor(\"k\")\n",
    "ax.set_ylabel(\"count\")\n",
    "ax.set_title(\"Peak hours for week days\")\n",
    "plt.grid(True,alpha=.2)"
   ]
  },
  {
   "cell_type": "markdown",
   "metadata": {
    "papermill": {
     "duration": 0.424284,
     "end_time": "2020-11-18T17:18:34.084275",
     "exception": false,
     "start_time": "2020-11-18T17:18:33.659991",
     "status": "completed"
    },
    "tags": []
   },
   "source": [
    "\n",
    "### Percentage of applications accepted,cancelled,refused and unused for different loan purposes.\n",
    "\n",
    "NAME_CASH_LOAN_PURPOSE - Purpose of the cash loan.\n",
    "\n",
    "NAME_CONTRACT_STATUS - Contract status (approved, cancelled, ...) of previous application.\n",
    "\n"
   ]
  },
  {
   "cell_type": "code",
   "execution_count": null,
   "metadata": {
    "execution": {
     "iopub.execute_input": "2020-11-18T17:18:35.001889Z",
     "iopub.status.busy": "2020-11-18T17:18:35.000650Z",
     "iopub.status.idle": "2020-11-18T17:18:37.722260Z",
     "shell.execute_reply": "2020-11-18T17:18:37.722905Z"
    },
    "papermill": {
     "duration": 3.171106,
     "end_time": "2020-11-18T17:18:37.723074",
     "exception": false,
     "start_time": "2020-11-18T17:18:34.551968",
     "status": "completed"
    },
    "tags": []
   },
   "outputs": [],
   "source": [
    "previous_application[[\"NAME_CASH_LOAN_PURPOSE\",\"NAME_CONTRACT_STATUS\"]]\n",
    "purpose = pd.crosstab(previous_application[\"NAME_CASH_LOAN_PURPOSE\"],previous_application[\"NAME_CONTRACT_STATUS\"])\n",
    "purpose[\"a\"] = (purpose[\"Approved\"]*100)/(purpose[\"Approved\"]+purpose[\"Canceled\"]+purpose[\"Refused\"]+purpose[\"Unused offer\"])\n",
    "purpose[\"c\"] = (purpose[\"Canceled\"]*100)/(purpose[\"Approved\"]+purpose[\"Canceled\"]+purpose[\"Refused\"]+purpose[\"Unused offer\"])\n",
    "purpose[\"r\"] = (purpose[\"Refused\"]*100)/(purpose[\"Approved\"]+purpose[\"Canceled\"]+purpose[\"Refused\"]+purpose[\"Unused offer\"])\n",
    "purpose[\"u\"] = (purpose[\"Unused offer\"]*100)/(purpose[\"Approved\"]+purpose[\"Canceled\"]+purpose[\"Refused\"]+purpose[\"Unused offer\"])\n",
    "purpose_new = purpose[[\"a\",\"c\",\"r\",\"u\"]]\n",
    "purpose_new = purpose_new.stack().reset_index()\n",
    "purpose_new[\"NAME_CONTRACT_STATUS\"] = purpose_new[\"NAME_CONTRACT_STATUS\"].replace({\"a\":\"accepted_percentage\",\"c\":\"cancelled_percentage\",\n",
    "                                                               \"r\":\"refused_percentage\",\"u\":\"unused_percentage\"})\n",
    "\n",
    "lst = purpose_new[\"NAME_CONTRACT_STATUS\"].unique().tolist()\n",
    "length = len(lst)\n",
    "cs = [\"lime\",\"orange\",\"r\",\"b\"]\n",
    "\n",
    "fig = plt.figure(figsize=(14,18))\n",
    "fig.set_facecolor(\"lightgrey\")\n",
    "for i,j,k in itertools.zip_longest(lst,range(length),cs):\n",
    "    plt.subplot(2,2,j+1)\n",
    "    dat = purpose_new[purpose_new[\"NAME_CONTRACT_STATUS\"] == i]\n",
    "    ax = sns.barplot(0,\"NAME_CASH_LOAN_PURPOSE\",data=dat.sort_values(by=0,ascending=False),color=k)\n",
    "    plt.ylabel(\"\")\n",
    "    plt.xlabel(\"percentage\")\n",
    "    plt.title(i+\" by purpose\")\n",
    "    plt.subplots_adjust(wspace = .7)\n",
    "    ax.set_facecolor(\"k\")\n"
   ]
  },
  {
   "cell_type": "markdown",
   "metadata": {
    "papermill": {
     "duration": 0.434016,
     "end_time": "2020-11-18T17:18:38.590893",
     "exception": false,
     "start_time": "2020-11-18T17:18:38.156877",
     "status": "completed"
    },
    "tags": []
   },
   "source": [
    "### Point to infer from the graph\n",
    "Purposes like XAP ,electronic eqipment ,everey day expences and education have maximum loan acceptance.\n",
    "\n",
    "Loan puposes like payment of other loans ,refusal to name goal ,buying new home or car have most refusals.\n",
    "\n",
    "40% of XNA purpose loans are cancalled."
   ]
  },
  {
   "cell_type": "markdown",
   "metadata": {
    "papermill": {
     "duration": 0.428709,
     "end_time": "2020-11-18T17:18:39.445146",
     "exception": false,
     "start_time": "2020-11-18T17:18:39.016437",
     "status": "completed"
    },
    "tags": []
   },
   "source": [
    "### Contract status relative to decision made about previous application.\n",
    "\n",
    "DAYS_DECISION - Relative to current application when was the decision about previous application made.\n",
    "\n"
   ]
  },
  {
   "cell_type": "code",
   "execution_count": null,
   "metadata": {
    "execution": {
     "iopub.execute_input": "2020-11-18T17:18:40.311404Z",
     "iopub.status.busy": "2020-11-18T17:18:40.310135Z",
     "iopub.status.idle": "2020-11-18T17:19:25.960987Z",
     "shell.execute_reply": "2020-11-18T17:19:25.961656Z"
    },
    "papermill": {
     "duration": 46.092906,
     "end_time": "2020-11-18T17:19:25.961854",
     "exception": false,
     "start_time": "2020-11-18T17:18:39.868948",
     "status": "completed"
    },
    "tags": []
   },
   "outputs": [],
   "source": [
    "plt.figure(figsize=(13,6))\n",
    "sns.violinplot(y= previous_application[\"DAYS_DECISION\"],\n",
    "               x = previous_application[\"NAME_CONTRACT_STATUS\"],palette=[\"r\",\"g\",\"b\",\"y\"])\n",
    "plt.axhline(previous_application[previous_application[\"NAME_CONTRACT_STATUS\"] == \"Approved\"][\"DAYS_DECISION\"].mean(),\n",
    "            color=\"r\",linestyle=\"dashed\",label=\"accepted_average\")\n",
    "plt.axhline(previous_application[previous_application[\"NAME_CONTRACT_STATUS\"] == \"Refused\"][\"DAYS_DECISION\"].mean(),\n",
    "            color=\"g\",linestyle=\"dashed\",label=\"refused_average\")\n",
    "plt.axhline(previous_application[previous_application[\"NAME_CONTRACT_STATUS\"] == \"Cancelled\"][\"DAYS_DECISION\"].mean(),color=\"b\",\n",
    "            linestyle=\"dashed\",label=\"cancelled_average\")\n",
    "plt.axhline(previous_application[previous_application[\"NAME_CONTRACT_STATUS\"] == \"Unused offer\"][\"DAYS_DECISION\"].mean(),color=\"y\",\n",
    "            linestyle=\"dashed\",label=\"un used_average\")\n",
    "plt.legend(loc=\"best\")\n",
    "\n",
    "plt.title(\"Contract status relative to decision made about previous application.\")\n",
    "plt.show()"
   ]
  },
  {
   "cell_type": "markdown",
   "metadata": {
    "papermill": {
     "duration": 0.429934,
     "end_time": "2020-11-18T17:19:26.822244",
     "exception": false,
     "start_time": "2020-11-18T17:19:26.392310",
     "status": "completed"
    },
    "tags": []
   },
   "source": [
    "### Point to infer from the graph\n",
    "\n",
    "On average approved contract types have higher number of decision days compared to cancelled and refused contracts."
   ]
  },
  {
   "cell_type": "markdown",
   "metadata": {
    "papermill": {
     "duration": 0.429395,
     "end_time": "2020-11-18T17:19:27.681518",
     "exception": false,
     "start_time": "2020-11-18T17:19:27.252123",
     "status": "completed"
    },
    "tags": []
   },
   "source": [
    "\n",
    "### Client payment methods & reasons for application rejections\n",
    "\n",
    "NAME_PAYMENT_TYPE - Payment method that client chose to pay for the previous application.\n",
    "\n",
    "CODE_REJECT_REASON - Why was the previous application rejected.\n",
    "\n"
   ]
  },
  {
   "cell_type": "code",
   "execution_count": null,
   "metadata": {
    "execution": {
     "iopub.execute_input": "2020-11-18T17:19:28.554905Z",
     "iopub.status.busy": "2020-11-18T17:19:28.553715Z",
     "iopub.status.idle": "2020-11-18T17:19:30.097841Z",
     "shell.execute_reply": "2020-11-18T17:19:30.097193Z"
    },
    "papermill": {
     "duration": 1.988196,
     "end_time": "2020-11-18T17:19:30.097968",
     "exception": false,
     "start_time": "2020-11-18T17:19:28.109772",
     "status": "completed"
    },
    "tags": []
   },
   "outputs": [],
   "source": [
    "plt.figure(figsize=(8,12))\n",
    "plt.subplot(211)\n",
    "rej = previous_application[\"CODE_REJECT_REASON\"].value_counts().reset_index()\n",
    "ax = sns.barplot(\"CODE_REJECT_REASON\",\"index\",data=rej[:6],palette=\"husl\")\n",
    "for i,j in enumerate(np.around((rej[\"CODE_REJECT_REASON\"][:6].values*100/(rej[\"CODE_REJECT_REASON\"][:6].sum())))):\n",
    "    ax.text(.7,i,j,weight=\"bold\")\n",
    "plt.xlabel(\"Top as percentage & Bottom as Count\")\n",
    "plt.ylabel(\"CODE_REJECT_REASON\")\n",
    "plt.title(\"Reasons for application rejections\")\n",
    "\n",
    "plt.subplot(212)\n",
    "pay = previous_application[\"NAME_PAYMENT_TYPE\"].value_counts().reset_index()\n",
    "ax1 = sns.barplot(\"NAME_PAYMENT_TYPE\",\"index\",data=pay,palette=\"husl\")\n",
    "for i,j in enumerate(np.around((pay[\"NAME_PAYMENT_TYPE\"].values*100/(pay[\"NAME_PAYMENT_TYPE\"].sum())))):\n",
    "    ax1.text(.7,i,j,weight=\"bold\")\n",
    "plt.xlabel(\"pTop as percentage & Bottom as Count\")\n",
    "plt.ylabel(\"NAME_PAYMENT_TYPE\")\n",
    "plt.title(\"Clients payment methods\")\n",
    "plt.subplots_adjust(hspace = .3)"
   ]
  },
  {
   "cell_type": "markdown",
   "metadata": {
    "papermill": {
     "duration": 0.430929,
     "end_time": "2020-11-18T17:19:30.967414",
     "exception": false,
     "start_time": "2020-11-18T17:19:30.536485",
     "status": "completed"
    },
    "tags": []
   },
   "source": [
    "### Point to infer from the graph\n",
    "\n",
    "Around 81% of rejected applications the reason is XAP.\n",
    "\n",
    "62% of chose to pay through cash by bank for previous applications."
   ]
  },
  {
   "cell_type": "markdown",
   "metadata": {
    "papermill": {
     "duration": 0.470461,
     "end_time": "2020-11-18T17:19:31.879886",
     "exception": false,
     "start_time": "2020-11-18T17:19:31.409425",
     "status": "completed"
    },
    "tags": []
   },
   "source": [
    "\n",
    "#### Distribution in Client suite type & client type.\n",
    "\n",
    "NAME_TYPE_SUITE - Who accompanied client when applying for the previous application.\n",
    "\n",
    "NAME_CLIENT_TYPE - Was the client old or new client when applying for the previous application.\n",
    "\n"
   ]
  },
  {
   "cell_type": "code",
   "execution_count": null,
   "metadata": {
    "execution": {
     "iopub.execute_input": "2020-11-18T17:19:32.798319Z",
     "iopub.status.busy": "2020-11-18T17:19:32.797464Z",
     "iopub.status.idle": "2020-11-18T17:19:33.805925Z",
     "shell.execute_reply": "2020-11-18T17:19:33.806491Z"
    },
    "papermill": {
     "duration": 1.467359,
     "end_time": "2020-11-18T17:19:33.806649",
     "exception": false,
     "start_time": "2020-11-18T17:19:32.339290",
     "status": "completed"
    },
    "tags": []
   },
   "outputs": [],
   "source": [
    "plt.figure(figsize=(20,20))\n",
    "plt.subplot(121)\n",
    "previous_application[\"NAME_TYPE_SUITE\"].value_counts().plot.pie(autopct = \"%1.1f%%\",fontsize=12,\n",
    "                                                             colors = sns.color_palette(\"inferno\"),\n",
    "                                              wedgeprops={\"linewidth\":2,\"edgecolor\":\"white\"},shadow =True)\n",
    "circ = plt.Circle((0,0),.7,color=\"white\")\n",
    "plt.gca().add_artist(circ)\n",
    "plt.title(\"NAME_TYPE_SUITE\")\n",
    "\n",
    "plt.subplot(122)\n",
    "previous_application[\"NAME_CLIENT_TYPE\"].value_counts().plot.pie(autopct = \"%1.1f%%\",fontsize=12,\n",
    "                                                             colors = sns.color_palette(\"inferno\"),\n",
    "                                              wedgeprops={\"linewidth\":2,\"edgecolor\":\"white\"},shadow =True)\n",
    "circ = plt.Circle((0,0),.7,color=\"white\")\n",
    "plt.gca().add_artist(circ)\n",
    "plt.title(\"NAME_CLIENT_TYPE\")\n",
    "plt.show()"
   ]
  },
  {
   "cell_type": "markdown",
   "metadata": {
    "papermill": {
     "duration": 0.435621,
     "end_time": "2020-11-18T17:19:34.681736",
     "exception": false,
     "start_time": "2020-11-18T17:19:34.246115",
     "status": "completed"
    },
    "tags": []
   },
   "source": [
    "### Point to infer from the graph\n",
    "About 60% clients are un-accompained when applying for loans.\n",
    "\n",
    "73% clients are old clients"
   ]
  },
  {
   "cell_type": "markdown",
   "metadata": {
    "papermill": {
     "duration": 0.435899,
     "end_time": "2020-11-18T17:19:35.553388",
     "exception": false,
     "start_time": "2020-11-18T17:19:35.117489",
     "status": "completed"
    },
    "tags": []
   },
   "source": [
    "\n",
    "## Popular goods for applying loans\n",
    "\n",
    "NAME_GOODS_CATEGORY - What kind of goods did the client apply for in the previous application.\n",
    "\n"
   ]
  },
  {
   "cell_type": "code",
   "execution_count": null,
   "metadata": {
    "execution": {
     "iopub.execute_input": "2020-11-18T17:19:36.883369Z",
     "iopub.status.busy": "2020-11-18T17:19:36.710571Z",
     "iopub.status.idle": "2020-11-18T17:19:37.366703Z",
     "shell.execute_reply": "2020-11-18T17:19:37.367323Z"
    },
    "papermill": {
     "duration": 1.381924,
     "end_time": "2020-11-18T17:19:37.367490",
     "exception": false,
     "start_time": "2020-11-18T17:19:35.985566",
     "status": "completed"
    },
    "tags": []
   },
   "outputs": [],
   "source": [
    "goods = previous_application[\"NAME_GOODS_CATEGORY\"].value_counts().reset_index()\n",
    "goods[\"percentage\"] = round(goods[\"NAME_GOODS_CATEGORY\"]*100/goods[\"NAME_GOODS_CATEGORY\"].sum(),2)\n",
    "fig = plt.figure(figsize=(12,5))\n",
    "ax = sns.pointplot(\"index\",\"percentage\",data=goods,color=\"yellow\")\n",
    "plt.xticks(rotation = 80)\n",
    "plt.xlabel(\"NAME_GOODS_CATEGORY\")\n",
    "plt.ylabel(\"percentage\")\n",
    "plt.title(\"popular goods for applying loans\")\n",
    "ax.set_facecolor(\"k\")\n",
    "fig.set_facecolor('lightgrey')"
   ]
  },
  {
   "cell_type": "markdown",
   "metadata": {
    "papermill": {
     "duration": 0.435321,
     "end_time": "2020-11-18T17:19:38.243105",
     "exception": false,
     "start_time": "2020-11-18T17:19:37.807784",
     "status": "completed"
    },
    "tags": []
   },
   "source": [
    "### Point to infer from the graph\n",
    "XNA ,Mobiles ,Computers and consumer electronics are popular goods for applying loans"
   ]
  },
  {
   "cell_type": "markdown",
   "metadata": {
    "papermill": {
     "duration": 0.434648,
     "end_time": "2020-11-18T17:19:39.156403",
     "exception": false,
     "start_time": "2020-11-18T17:19:38.721755",
     "status": "completed"
    },
    "tags": []
   },
   "source": [
    "\n",
    "### Previous applications portfolio and product types\n",
    "\n",
    "NAME_PORTFOLIO - Was the previous application for CASH, POS, CAR, …\n",
    "\n",
    "NAME_PRODUCT_TYPE - Was the previous application x-sell o walk-in."
   ]
  },
  {
   "cell_type": "code",
   "execution_count": null,
   "metadata": {
    "execution": {
     "iopub.execute_input": "2020-11-18T17:19:40.050863Z",
     "iopub.status.busy": "2020-11-18T17:19:40.049547Z",
     "iopub.status.idle": "2020-11-18T17:19:41.147554Z",
     "shell.execute_reply": "2020-11-18T17:19:41.146915Z"
    },
    "papermill": {
     "duration": 1.549873,
     "end_time": "2020-11-18T17:19:41.147687",
     "exception": false,
     "start_time": "2020-11-18T17:19:39.597814",
     "status": "completed"
    },
    "tags": []
   },
   "outputs": [],
   "source": [
    "plt.figure(figsize=(20,20))\n",
    "plt.subplot(121)\n",
    "previous_application[\"NAME_PORTFOLIO\"].value_counts().plot.pie(autopct = \"%1.1f%%\",fontsize=12,\n",
    "                                                             colors = sns.color_palette(\"prism\",5),\n",
    "                                              wedgeprops={\"linewidth\":2,\"edgecolor\":\"white\"},\n",
    "                                                               shadow =True)\n",
    "plt.title(\"previous applications portfolio\")\n",
    "plt.subplot(122)\n",
    "previous_application[\"NAME_PRODUCT_TYPE\"].value_counts().plot.pie(autopct = \"%1.1f%%\",fontsize=12,\n",
    "                                                             colors = sns.color_palette(\"prism\",3),\n",
    "                                              wedgeprops={\"linewidth\":2,\"edgecolor\":\"white\"},\n",
    "                                                                  shadow =True)\n",
    "plt.title(\"previous applications product types\")\n",
    "plt.show()"
   ]
  },
  {
   "cell_type": "markdown",
   "metadata": {
    "papermill": {
     "duration": 0.442403,
     "end_time": "2020-11-18T17:19:42.039981",
     "exception": false,
     "start_time": "2020-11-18T17:19:41.597578",
     "status": "completed"
    },
    "tags": []
   },
   "source": [
    "\n",
    "### Approval,canceled and refusal rates by channel types.\n",
    "\n",
    "CHANNEL_TYPE - Through which channel we acquired the client on the previous application.\n",
    "\n",
    "NAME_CONTRACT_STATUS- Contract status (approved, cancelled, ...) of previous application.\n",
    "\n"
   ]
  },
  {
   "cell_type": "code",
   "execution_count": null,
   "metadata": {
    "execution": {
     "iopub.execute_input": "2020-11-18T17:19:42.936033Z",
     "iopub.status.busy": "2020-11-18T17:19:42.935196Z",
     "iopub.status.idle": "2020-11-18T17:19:43.766355Z",
     "shell.execute_reply": "2020-11-18T17:19:43.766921Z"
    },
    "papermill": {
     "duration": 1.283967,
     "end_time": "2020-11-18T17:19:43.767092",
     "exception": false,
     "start_time": "2020-11-18T17:19:42.483125",
     "status": "completed"
    },
    "tags": []
   },
   "outputs": [],
   "source": [
    "app = pd.crosstab(previous_application[\"CHANNEL_TYPE\"],previous_application[\"NAME_CONTRACT_STATUS\"])\n",
    "app1 = app\n",
    "app1[\"approval_rate\"] = app1[\"Approved\"]*100/(app1[\"Approved\"]+app1[\"Refused\"]+app1[\"Canceled\"])\n",
    "app1[\"refused_rate\"]  = app1[\"Refused\"]*100/(app1[\"Approved\"]+app1[\"Refused\"]+app1[\"Canceled\"])\n",
    "app1[\"cacelled_rate\"] = app1[\"Canceled\"]*100/(app1[\"Approved\"]+app1[\"Refused\"]+app1[\"Canceled\"])\n",
    "app2 = app[[\"approval_rate\",\"refused_rate\",\"cacelled_rate\"]]\n",
    "ax = app2.plot(kind=\"barh\",stacked=True,figsize=(10,7))\n",
    "ax.set_facecolor(\"k\")\n",
    "ax.set_xlabel(\"percentage\")\n",
    "ax.set_title(\"approval,cancel and refusal rates by channel types\")\n",
    "plt.show()"
   ]
  },
  {
   "cell_type": "markdown",
   "metadata": {
    "papermill": {
     "duration": 0.442796,
     "end_time": "2020-11-18T17:19:44.656263",
     "exception": false,
     "start_time": "2020-11-18T17:19:44.213467",
     "status": "completed"
    },
    "tags": []
   },
   "source": [
    "### Point to infer from the graph\n",
    "\n",
    "Channel types like Stone ,regional and country-wide have maximum approval rates.\n",
    "\n",
    "Channel of coorporate sales have maximum refusal rate.\n",
    "\n",
    "Credit-cash centres and Contact centres have maximum cancellation rates."
   ]
  },
  {
   "cell_type": "markdown",
   "metadata": {
    "papermill": {
     "duration": 0.444309,
     "end_time": "2020-11-18T17:19:45.541201",
     "exception": false,
     "start_time": "2020-11-18T17:19:45.096892",
     "status": "completed"
    },
    "tags": []
   },
   "source": [
    "### Highest amount credited seller areas and industries.\n",
    "\n",
    "SELLERPLACE_AREA - Selling area of seller place of the previous application.\n",
    "\n",
    "NAME_SELLER_INDUSTRY - The industry of the seller."
   ]
  },
  {
   "cell_type": "code",
   "execution_count": null,
   "metadata": {
    "execution": {
     "iopub.execute_input": "2020-11-18T17:19:46.449175Z",
     "iopub.status.busy": "2020-11-18T17:19:46.446002Z",
     "iopub.status.idle": "2020-11-18T17:19:47.242440Z",
     "shell.execute_reply": "2020-11-18T17:19:47.241700Z"
    },
    "papermill": {
     "duration": 1.262956,
     "end_time": "2020-11-18T17:19:47.242569",
     "exception": false,
     "start_time": "2020-11-18T17:19:45.979613",
     "status": "completed"
    },
    "tags": []
   },
   "outputs": [],
   "source": [
    "fig = plt.figure(figsize=(13,5))\n",
    "plt.subplot(121)\n",
    "are = previous_application.groupby(\"SELLERPLACE_AREA\")[\"AMT_CREDIT\"].sum().reset_index()\n",
    "are = are.sort_values(by =\"AMT_CREDIT\",ascending = False)\n",
    "ax = sns.barplot(y= \"AMT_CREDIT\",x =\"SELLERPLACE_AREA\",data=are[:15],color=\"r\")\n",
    "ax.set_facecolor(\"k\")\n",
    "ax.set_title(\"Highest amount credited seller place areas\")\n",
    "\n",
    "plt.subplot(122)\n",
    "sell = previous_application.groupby(\"NAME_SELLER_INDUSTRY\")[\"AMT_CREDIT\"].sum().reset_index().sort_values(by = \"AMT_CREDIT\",ascending = False)\n",
    "ax1=sns.barplot(y = \"AMT_CREDIT\",x = \"NAME_SELLER_INDUSTRY\",data=sell,color=\"b\")\n",
    "ax1.set_facecolor(\"k\")\n",
    "ax1.set_title(\"Highest amount credited seller industrys\")\n",
    "plt.xticks(rotation=90)\n",
    "plt.subplots_adjust(wspace = .5)\n",
    "fig.set_facecolor(\"lightgrey\")"
   ]
  },
  {
   "cell_type": "markdown",
   "metadata": {
    "papermill": {
     "duration": 0.438405,
     "end_time": "2020-11-18T17:19:48.133152",
     "exception": false,
     "start_time": "2020-11-18T17:19:47.694747",
     "status": "completed"
    },
    "tags": []
   },
   "source": [
    "\n",
    "### Popular terms of previous credit at application.\n",
    "\n",
    "CNT_PAYMENT - Term of previous credit at application of the previous application.\n",
    "\n"
   ]
  },
  {
   "cell_type": "code",
   "execution_count": null,
   "metadata": {
    "execution": {
     "iopub.execute_input": "2020-11-18T17:19:49.027608Z",
     "iopub.status.busy": "2020-11-18T17:19:49.026459Z",
     "iopub.status.idle": "2020-11-18T17:20:26.505202Z",
     "shell.execute_reply": "2020-11-18T17:20:26.506158Z"
    },
    "papermill": {
     "duration": 37.93222,
     "end_time": "2020-11-18T17:20:26.506346",
     "exception": false,
     "start_time": "2020-11-18T17:19:48.574126",
     "status": "completed"
    },
    "tags": []
   },
   "outputs": [],
   "source": [
    "plt.figure(figsize=(13,5))\n",
    "ax = sns.countplot(previous_application[\"CNT_PAYMENT\"],palette=\"Set1\",order=previous_application[\"CNT_PAYMENT\"].value_counts().index)\n",
    "ax.set_facecolor(\"k\")\n",
    "plt.xticks(rotation = 90)\n",
    "plt.title(\"popular terms of previous credit at application\")\n",
    "plt.show()"
   ]
  },
  {
   "cell_type": "markdown",
   "metadata": {
    "papermill": {
     "duration": 0.477052,
     "end_time": "2020-11-18T17:20:27.426586",
     "exception": false,
     "start_time": "2020-11-18T17:20:26.949534",
     "status": "completed"
    },
    "tags": []
   },
   "source": [
    "### Point to infer from the graph\n",
    "\n",
    "Popular term of previous credit are 6months ,10months ,1year ,2years & 3 years."
   ]
  },
  {
   "cell_type": "markdown",
   "metadata": {
    "papermill": {
     "duration": 0.447117,
     "end_time": "2020-11-18T17:20:28.327110",
     "exception": false,
     "start_time": "2020-11-18T17:20:27.879993",
     "status": "completed"
    },
    "tags": []
   },
   "source": [
    "### Detailed product combination of the previous application"
   ]
  },
  {
   "cell_type": "code",
   "execution_count": null,
   "metadata": {
    "execution": {
     "iopub.execute_input": "2020-11-18T17:20:29.674316Z",
     "iopub.status.busy": "2020-11-18T17:20:29.221794Z",
     "iopub.status.idle": "2020-11-18T17:21:11.609630Z",
     "shell.execute_reply": "2020-11-18T17:21:11.610262Z"
    },
    "papermill": {
     "duration": 42.838554,
     "end_time": "2020-11-18T17:21:11.610421",
     "exception": false,
     "start_time": "2020-11-18T17:20:28.771867",
     "status": "completed"
    },
    "tags": []
   },
   "outputs": [],
   "source": [
    "plt.figure(figsize=(10,8))\n",
    "sns.countplot(y = previous_application[\"PRODUCT_COMBINATION\"],order=previous_application[\"PRODUCT_COMBINATION\"].value_counts().index)\n",
    "plt.title(\"Detailed product combination of the previous application -count\")\n",
    "plt.show()"
   ]
  },
  {
   "cell_type": "markdown",
   "metadata": {
    "papermill": {
     "duration": 0.446738,
     "end_time": "2020-11-18T17:21:12.550724",
     "exception": false,
     "start_time": "2020-11-18T17:21:12.103986",
     "status": "completed"
    },
    "tags": []
   },
   "source": [
    "\n",
    "### Frequency distribution of intrest rates and client insurance requests\n",
    "\n",
    "NAME_YIELD_GROUP - Grouped interest rate into small medium and high of the previous application.\n",
    "\n",
    "NFLAG_INSURED_ON_APPROVAL - Did the client requested insurance during the previous application."
   ]
  },
  {
   "cell_type": "code",
   "execution_count": null,
   "metadata": {
    "execution": {
     "iopub.execute_input": "2020-11-18T17:21:13.524630Z",
     "iopub.status.busy": "2020-11-18T17:21:13.521907Z",
     "iopub.status.idle": "2020-11-18T17:21:14.180108Z",
     "shell.execute_reply": "2020-11-18T17:21:14.179374Z"
    },
    "papermill": {
     "duration": 1.132204,
     "end_time": "2020-11-18T17:21:14.180232",
     "exception": false,
     "start_time": "2020-11-18T17:21:13.048028",
     "status": "completed"
    },
    "tags": []
   },
   "outputs": [],
   "source": [
    "plt.figure(figsize=(12,6))\n",
    "plt.subplot(121)\n",
    "previous_application[\"NFLAG_INSURED_ON_APPROVAL\"].value_counts().plot.pie(autopct = \"%1.1f%%\",fontsize=8,\n",
    "                                                             colors = sns.color_palette(\"prism\",4),\n",
    "                                              wedgeprops={\"linewidth\":2,\"edgecolor\":\"white\"},shadow =True)\n",
    "circ = plt.Circle((0,0),.7,color=\"white\")\n",
    "plt.gca().add_artist(circ)\n",
    "plt.title(\"client requesting insurance\")\n",
    "\n",
    "plt.subplot(122)\n",
    "previous_application[\"NAME_YIELD_GROUP\"].value_counts().plot.pie(autopct = \"%1.1f%%\",fontsize=8,\n",
    "                                                             colors = sns.color_palette(\"prism\",4),\n",
    "                                              wedgeprops={\"linewidth\":2,\"edgecolor\":\"white\"},shadow =True)\n",
    "circ = plt.Circle((0,0),.7,color=\"white\")\n",
    "plt.gca().add_artist(circ)\n",
    "plt.title(\"interest rates\")\n",
    "plt.show()"
   ]
  },
  {
   "cell_type": "markdown",
   "metadata": {
    "papermill": {
     "duration": 0.45263,
     "end_time": "2020-11-18T17:21:15.088052",
     "exception": false,
     "start_time": "2020-11-18T17:21:14.635422",
     "status": "completed"
    },
    "tags": []
   },
   "source": [
    "### Days variables - Relative to application date of current application\n",
    "\n",
    "DAYS_FIRST_DRAWING - Relative to application date of current application when was the first disbursement of the previous application.\n",
    "\n",
    "DAYS_FIRST_DUE - Relative to application date of current application when was the first due supposed to be of the previous application.\n",
    "\n",
    "DAYS_LAST_DUE_1ST_VERSION - Relative to application date of current application when was the first due of the previous application.\n",
    "\n",
    "DAYS_LAST_DUE -Relative to application date of current application when was the last due date of the previous application.\n",
    "\n",
    "DAYS_TERMINATION - Relative to application date of current application when was the expected termination of the previous application."
   ]
  },
  {
   "cell_type": "code",
   "execution_count": null,
   "metadata": {
    "execution": {
     "iopub.execute_input": "2020-11-18T17:21:16.055994Z",
     "iopub.status.busy": "2020-11-18T17:21:16.054602Z",
     "iopub.status.idle": "2020-11-18T17:21:16.836039Z",
     "shell.execute_reply": "2020-11-18T17:21:16.835062Z"
    },
    "papermill": {
     "duration": 1.296578,
     "end_time": "2020-11-18T17:21:16.836229",
     "exception": false,
     "start_time": "2020-11-18T17:21:15.539651",
     "status": "completed"
    },
    "tags": []
   },
   "outputs": [],
   "source": [
    "cols = ['DAYS_FIRST_DRAWING', 'DAYS_FIRST_DUE', 'DAYS_LAST_DUE_1ST_VERSION','DAYS_LAST_DUE', 'DAYS_TERMINATION']\n",
    "plt.figure(figsize=(12,6))\n",
    "sns.heatmap(previous_application[cols].describe()[1:].transpose(),\n",
    "            annot=True,linewidth=2,linecolor=\"k\",cmap=sns.color_palette(\"inferno\"))\n",
    "plt.show()"
   ]
  },
  {
   "cell_type": "markdown",
   "metadata": {
    "papermill": {
     "duration": 0.451355,
     "end_time": "2020-11-18T17:21:17.759877",
     "exception": false,
     "start_time": "2020-11-18T17:21:17.308522",
     "status": "completed"
    },
    "tags": []
   },
   "source": [
    "# Corelation between variables"
   ]
  },
  {
   "cell_type": "markdown",
   "metadata": {
    "papermill": {
     "duration": 0.451226,
     "end_time": "2020-11-18T17:21:18.691443",
     "exception": false,
     "start_time": "2020-11-18T17:21:18.240217",
     "status": "completed"
    },
    "tags": []
   },
   "source": [
    "\n",
    "### Application Data"
   ]
  },
  {
   "cell_type": "code",
   "execution_count": null,
   "metadata": {
    "execution": {
     "iopub.execute_input": "2020-11-18T17:21:19.602434Z",
     "iopub.status.busy": "2020-11-18T17:21:19.601570Z",
     "iopub.status.idle": "2020-11-18T17:21:23.129675Z",
     "shell.execute_reply": "2020-11-18T17:21:23.130285Z"
    },
    "papermill": {
     "duration": 3.989739,
     "end_time": "2020-11-18T17:21:23.130443",
     "exception": false,
     "start_time": "2020-11-18T17:21:19.140704",
     "status": "completed"
    },
    "tags": []
   },
   "outputs": [],
   "source": [
    "corrmat = application_data.corr() \n",
    "  \n",
    "f, ax = plt.subplots(figsize =(8, 8)) \n",
    "sns.heatmap(corrmat, ax = ax, cmap =\"rainbow\") \n",
    "plt.show()"
   ]
  },
  {
   "cell_type": "markdown",
   "metadata": {
    "papermill": {
     "duration": 0.460952,
     "end_time": "2020-11-18T17:21:24.064308",
     "exception": false,
     "start_time": "2020-11-18T17:21:23.603356",
     "status": "completed"
    },
    "tags": []
   },
   "source": [
    "\n",
    "# Previous Application "
   ]
  },
  {
   "cell_type": "code",
   "execution_count": null,
   "metadata": {
    "execution": {
     "iopub.execute_input": "2020-11-18T17:21:24.983488Z",
     "iopub.status.busy": "2020-11-18T17:21:24.982048Z",
     "iopub.status.idle": "2020-11-18T17:21:27.757650Z",
     "shell.execute_reply": "2020-11-18T17:21:27.757015Z"
    },
    "papermill": {
     "duration": 3.238123,
     "end_time": "2020-11-18T17:21:27.757776",
     "exception": false,
     "start_time": "2020-11-18T17:21:24.519653",
     "status": "completed"
    },
    "tags": []
   },
   "outputs": [],
   "source": [
    "corrmat = previous_application.corr() \n",
    "  \n",
    "f, ax = plt.subplots(figsize =(8, 8)) \n",
    "sns.heatmap(corrmat, ax = ax, cmap =\"rainbow\") \n",
    "plt.show()"
   ]
  },
  {
   "cell_type": "code",
   "execution_count": null,
   "metadata": {
    "execution": {
     "iopub.execute_input": "2020-11-18T17:21:28.698284Z",
     "iopub.status.busy": "2020-11-18T17:21:28.696864Z",
     "iopub.status.idle": "2020-11-18T17:21:30.968278Z",
     "shell.execute_reply": "2020-11-18T17:21:30.968843Z"
    },
    "papermill": {
     "duration": 2.749838,
     "end_time": "2020-11-18T17:21:30.969007",
     "exception": false,
     "start_time": "2020-11-18T17:21:28.219169",
     "status": "completed"
    },
    "tags": []
   },
   "outputs": [],
   "source": [
    "corrmat = previous_application.corr() \n",
    "corrdf = corrmat.where(np.triu(np.ones(corrmat.shape), k=1).astype(np.bool))\n",
    "corrdf = corrdf.unstack().reset_index()\n",
    "corrdf.columns = ['Var1', 'Var2', 'Correlation']\n",
    "corrdf.dropna(subset = ['Correlation'], inplace = True)\n",
    "corrdf['Correlation'] = round(corrdf['Correlation'], 2)\n",
    "corrdf['Correlation'] = abs(corrdf['Correlation'])\n",
    "corrdf.sort_values(by = 'Correlation', ascending = False).head(10)"
   ]
  },
  {
   "cell_type": "markdown",
   "metadata": {
    "papermill": {
     "duration": 0.456773,
     "end_time": "2020-11-18T17:21:31.886239",
     "exception": false,
     "start_time": "2020-11-18T17:21:31.429466",
     "status": "completed"
    },
    "tags": []
   },
   "source": [
    "# Application Data"
   ]
  },
  {
   "cell_type": "markdown",
   "metadata": {
    "papermill": {
     "duration": 0.457245,
     "end_time": "2020-11-18T17:21:32.800787",
     "exception": false,
     "start_time": "2020-11-18T17:21:32.343542",
     "status": "completed"
    },
    "tags": []
   },
   "source": [
    "\n",
    "## Top 10 Correlation Fields for Repayer"
   ]
  },
  {
   "cell_type": "code",
   "execution_count": null,
   "metadata": {
    "execution": {
     "iopub.execute_input": "2020-11-18T17:21:33.751254Z",
     "iopub.status.busy": "2020-11-18T17:21:33.749979Z",
     "iopub.status.idle": "2020-11-18T17:21:33.863250Z",
     "shell.execute_reply": "2020-11-18T17:21:33.862462Z"
    },
    "papermill": {
     "duration": 0.59261,
     "end_time": "2020-11-18T17:21:33.863377",
     "exception": false,
     "start_time": "2020-11-18T17:21:33.270767",
     "status": "completed"
    },
    "tags": []
   },
   "outputs": [],
   "source": [
    "df_repayer = application_data[application_data['TARGET'] == 0]\n",
    "df_defaulter = application_data[application_data['TARGET'] == 1]"
   ]
  },
  {
   "cell_type": "code",
   "execution_count": null,
   "metadata": {
    "execution": {
     "iopub.execute_input": "2020-11-18T17:21:34.789980Z",
     "iopub.status.busy": "2020-11-18T17:21:34.788524Z",
     "iopub.status.idle": "2020-11-18T17:21:37.120753Z",
     "shell.execute_reply": "2020-11-18T17:21:37.120100Z"
    },
    "papermill": {
     "duration": 2.799885,
     "end_time": "2020-11-18T17:21:37.120894",
     "exception": false,
     "start_time": "2020-11-18T17:21:34.321009",
     "status": "completed"
    },
    "tags": []
   },
   "outputs": [],
   "source": [
    "corrmat = df_repayer.corr() \n",
    "corrdf = corrmat.where(np.triu(np.ones(corrmat.shape), k=1).astype(np.bool))\n",
    "corrdf = corrdf.unstack().reset_index()\n",
    "corrdf.columns = ['Var1', 'Var2', 'Correlation']\n",
    "corrdf.dropna(subset = ['Correlation'], inplace = True)\n",
    "corrdf['Correlation'] = round(corrdf['Correlation'], 2)\n",
    "corrdf['Correlation'] = abs(corrdf['Correlation'])\n",
    "corrdf.sort_values(by = 'Correlation', ascending = False).head(10)"
   ]
  },
  {
   "cell_type": "markdown",
   "metadata": {
    "papermill": {
     "duration": 0.45574,
     "end_time": "2020-11-18T17:21:38.034913",
     "exception": false,
     "start_time": "2020-11-18T17:21:37.579173",
     "status": "completed"
    },
    "tags": []
   },
   "source": [
    "## Top 10 Correlation Fields for Defaulter"
   ]
  },
  {
   "cell_type": "code",
   "execution_count": null,
   "metadata": {
    "execution": {
     "iopub.execute_input": "2020-11-18T17:21:39.009937Z",
     "iopub.status.busy": "2020-11-18T17:21:39.008376Z",
     "iopub.status.idle": "2020-11-18T17:21:39.238205Z",
     "shell.execute_reply": "2020-11-18T17:21:39.237318Z"
    },
    "papermill": {
     "duration": 0.739956,
     "end_time": "2020-11-18T17:21:39.238365",
     "exception": false,
     "start_time": "2020-11-18T17:21:38.498409",
     "status": "completed"
    },
    "tags": []
   },
   "outputs": [],
   "source": [
    "corrmat = df_defaulter.corr() \n",
    "corrdf = corrmat.where(np.triu(np.ones(corrmat.shape), k=1).astype(np.bool))\n",
    "corrdf = corrdf.unstack().reset_index()\n",
    "corrdf.columns = ['Var1', 'Var2', 'Correlation']\n",
    "corrdf.dropna(subset = ['Correlation'], inplace = True)\n",
    "corrdf['Correlation'] = round(corrdf['Correlation'], 2)\n",
    "corrdf['Correlation'] = abs(corrdf['Correlation'])\n",
    "corrdf.sort_values(by = 'Correlation', ascending = False).head(10)"
   ]
  },
  {
   "cell_type": "code",
   "execution_count": null,
   "metadata": {
    "execution": {
     "iopub.execute_input": "2020-11-18T17:21:40.220752Z",
     "iopub.status.busy": "2020-11-18T17:21:40.219979Z",
     "iopub.status.idle": "2020-11-18T17:22:05.142660Z",
     "shell.execute_reply": "2020-11-18T17:22:05.143261Z"
    },
    "papermill": {
     "duration": 25.439135,
     "end_time": "2020-11-18T17:22:05.143433",
     "exception": false,
     "start_time": "2020-11-18T17:21:39.704298",
     "status": "completed"
    },
    "tags": []
   },
   "outputs": [],
   "source": [
    "mergeddf =  pd.merge(application_data,previous_application,on='SK_ID_CURR')\n",
    "mergeddf.head()"
   ]
  },
  {
   "cell_type": "code",
   "execution_count": null,
   "metadata": {
    "execution": {
     "iopub.execute_input": "2020-11-18T17:22:06.070978Z",
     "iopub.status.busy": "2020-11-18T17:22:06.070200Z",
     "iopub.status.idle": "2020-11-18T17:22:08.291603Z",
     "shell.execute_reply": "2020-11-18T17:22:08.290764Z"
    },
    "papermill": {
     "duration": 2.685912,
     "end_time": "2020-11-18T17:22:08.291732",
     "exception": false,
     "start_time": "2020-11-18T17:22:05.605820",
     "status": "completed"
    },
    "tags": []
   },
   "outputs": [],
   "source": [
    "y = mergeddf.groupby('SK_ID_CURR').size()\n",
    "dfA = mergeddf.groupby('SK_ID_CURR').agg({'TARGET': np.sum})\n",
    "dfA['count'] = y\n",
    "display(dfA.head(10))"
   ]
  },
  {
   "cell_type": "code",
   "execution_count": null,
   "metadata": {
    "execution": {
     "iopub.execute_input": "2020-11-18T17:22:09.252405Z",
     "iopub.status.busy": "2020-11-18T17:22:09.251005Z",
     "iopub.status.idle": "2020-11-18T17:22:09.286337Z",
     "shell.execute_reply": "2020-11-18T17:22:09.285589Z"
    },
    "papermill": {
     "duration": 0.513763,
     "end_time": "2020-11-18T17:22:09.286462",
     "exception": false,
     "start_time": "2020-11-18T17:22:08.772699",
     "status": "completed"
    },
    "tags": []
   },
   "outputs": [],
   "source": [
    "dfA.sort_values(by = 'count',ascending=False).head(10)"
   ]
  },
  {
   "cell_type": "code",
   "execution_count": null,
   "metadata": {
    "execution": {
     "iopub.execute_input": "2020-11-18T17:22:10.257178Z",
     "iopub.status.busy": "2020-11-18T17:22:10.256354Z",
     "iopub.status.idle": "2020-11-18T17:22:10.282133Z",
     "shell.execute_reply": "2020-11-18T17:22:10.282752Z"
    },
    "papermill": {
     "duration": 0.525831,
     "end_time": "2020-11-18T17:22:10.282939",
     "exception": false,
     "start_time": "2020-11-18T17:22:09.757108",
     "status": "completed"
    },
    "tags": []
   },
   "outputs": [],
   "source": [
    "df_repayer = dfA[dfA['TARGET'] == 0]\n",
    "df_defaulter = dfA[dfA['TARGET'] == 1]"
   ]
  },
  {
   "cell_type": "markdown",
   "metadata": {
    "papermill": {
     "duration": 0.473688,
     "end_time": "2020-11-18T17:22:11.245150",
     "exception": false,
     "start_time": "2020-11-18T17:22:10.771462",
     "status": "completed"
    },
    "tags": []
   },
   "source": [
    "### Repayers' Borrowing History "
   ]
  },
  {
   "cell_type": "code",
   "execution_count": null,
   "metadata": {
    "execution": {
     "iopub.execute_input": "2020-11-18T17:22:12.182387Z",
     "iopub.status.busy": "2020-11-18T17:22:12.181576Z",
     "iopub.status.idle": "2020-11-18T17:22:12.211795Z",
     "shell.execute_reply": "2020-11-18T17:22:12.212374Z"
    },
    "papermill": {
     "duration": 0.49689,
     "end_time": "2020-11-18T17:22:12.212550",
     "exception": false,
     "start_time": "2020-11-18T17:22:11.715660",
     "status": "completed"
    },
    "tags": []
   },
   "outputs": [],
   "source": [
    "df_repayer.sort_values(by = 'count',ascending=False).head(10)"
   ]
  },
  {
   "cell_type": "markdown",
   "metadata": {
    "papermill": {
     "duration": 0.529474,
     "end_time": "2020-11-18T17:22:13.208985",
     "exception": false,
     "start_time": "2020-11-18T17:22:12.679511",
     "status": "completed"
    },
    "tags": []
   },
   "source": [
    "### Defaulters' Borrowing History "
   ]
  },
  {
   "cell_type": "code",
   "execution_count": null,
   "metadata": {
    "execution": {
     "iopub.execute_input": "2020-11-18T17:22:14.154860Z",
     "iopub.status.busy": "2020-11-18T17:22:14.153778Z",
     "iopub.status.idle": "2020-11-18T17:22:14.165221Z",
     "shell.execute_reply": "2020-11-18T17:22:14.164496Z"
    },
    "papermill": {
     "duration": 0.484248,
     "end_time": "2020-11-18T17:22:14.165345",
     "exception": false,
     "start_time": "2020-11-18T17:22:13.681097",
     "status": "completed"
    },
    "tags": []
   },
   "outputs": [],
   "source": [
    "df_defaulter.sort_values(by = 'count',ascending=False).head(10)"
   ]
  },
  {
   "cell_type": "code",
   "execution_count": null,
   "metadata": {
    "execution": {
     "iopub.execute_input": "2020-11-18T17:22:15.100208Z",
     "iopub.status.busy": "2020-11-18T17:22:15.099413Z",
     "iopub.status.idle": "2020-11-18T17:22:19.402234Z",
     "shell.execute_reply": "2020-11-18T17:22:19.401549Z"
    },
    "papermill": {
     "duration": 4.772042,
     "end_time": "2020-11-18T17:22:19.402359",
     "exception": false,
     "start_time": "2020-11-18T17:22:14.630317",
     "status": "completed"
    },
    "tags": []
   },
   "outputs": [],
   "source": [
    "mergeddf.isnull().sum()"
   ]
  },
  {
   "cell_type": "code",
   "execution_count": null,
   "metadata": {
    "_kg_hide-output": false,
    "execution": {
     "iopub.execute_input": "2020-11-18T17:22:20.349164Z",
     "iopub.status.busy": "2020-11-18T17:22:20.348323Z",
     "iopub.status.idle": "2020-11-18T17:22:24.630042Z",
     "shell.execute_reply": "2020-11-18T17:22:24.629349Z"
    },
    "papermill": {
     "duration": 4.7637,
     "end_time": "2020-11-18T17:22:24.630168",
     "exception": false,
     "start_time": "2020-11-18T17:22:19.866468",
     "status": "completed"
    },
    "tags": []
   },
   "outputs": [],
   "source": [
    "round(100*(mergeddf.isnull().sum()/len(mergeddf.index)), 2)"
   ]
  },
  {
   "cell_type": "code",
   "execution_count": null,
   "metadata": {
    "execution": {
     "iopub.execute_input": "2020-11-18T17:22:25.616782Z",
     "iopub.status.busy": "2020-11-18T17:22:25.593367Z",
     "iopub.status.idle": "2020-11-18T17:22:25.668955Z",
     "shell.execute_reply": "2020-11-18T17:22:25.669537Z"
    },
    "papermill": {
     "duration": 0.570502,
     "end_time": "2020-11-18T17:22:25.669698",
     "exception": false,
     "start_time": "2020-11-18T17:22:25.099196",
     "status": "completed"
    },
    "tags": []
   },
   "outputs": [],
   "source": [
    "mergeddf.head()"
   ]
  },
  {
   "cell_type": "code",
   "execution_count": null,
   "metadata": {
    "execution": {
     "iopub.execute_input": "2020-11-18T17:22:27.273430Z",
     "iopub.status.busy": "2020-11-18T17:22:27.272647Z",
     "iopub.status.idle": "2020-11-18T17:22:27.276312Z",
     "shell.execute_reply": "2020-11-18T17:22:27.275697Z"
    },
    "papermill": {
     "duration": 1.133682,
     "end_time": "2020-11-18T17:22:27.276442",
     "exception": false,
     "start_time": "2020-11-18T17:22:26.142760",
     "status": "completed"
    },
    "tags": []
   },
   "outputs": [],
   "source": [
    "#dropping SK_ID_CURR since it all unique values\n",
    "\n",
    "mergeddf.drop(['SK_ID_CURR'], 1, inplace = True)\n"
   ]
  },
  {
   "cell_type": "code",
   "execution_count": null,
   "metadata": {
    "execution": {
     "iopub.execute_input": "2020-11-18T17:22:28.249110Z",
     "iopub.status.busy": "2020-11-18T17:22:28.243856Z",
     "iopub.status.idle": "2020-11-18T17:22:28.332432Z",
     "shell.execute_reply": "2020-11-18T17:22:28.331478Z"
    },
    "papermill": {
     "duration": 0.588841,
     "end_time": "2020-11-18T17:22:28.332602",
     "exception": false,
     "start_time": "2020-11-18T17:22:27.743761",
     "status": "completed"
    },
    "tags": []
   },
   "outputs": [],
   "source": [
    "mergeddf.head()"
   ]
  },
  {
   "cell_type": "markdown",
   "metadata": {
    "papermill": {
     "duration": 0.467566,
     "end_time": "2020-11-18T17:22:29.273720",
     "exception": false,
     "start_time": "2020-11-18T17:22:28.806154",
     "status": "completed"
    },
    "tags": []
   },
   "source": [
    "Now we will take care of null values in each column one by one."
   ]
  },
  {
   "cell_type": "code",
   "execution_count": null,
   "metadata": {
    "execution": {
     "iopub.execute_input": "2020-11-18T17:22:30.221975Z",
     "iopub.status.busy": "2020-11-18T17:22:30.221102Z",
     "iopub.status.idle": "2020-11-18T17:22:34.458077Z",
     "shell.execute_reply": "2020-11-18T17:22:34.457302Z"
    },
    "papermill": {
     "duration": 4.712567,
     "end_time": "2020-11-18T17:22:34.458207",
     "exception": false,
     "start_time": "2020-11-18T17:22:29.745640",
     "status": "completed"
    },
    "tags": []
   },
   "outputs": [],
   "source": [
    "round(100*(mergeddf.isnull().sum()/len(mergeddf.index)), 2)"
   ]
  },
  {
   "cell_type": "code",
   "execution_count": null,
   "metadata": {
    "execution": {
     "iopub.execute_input": "2020-11-18T17:22:35.418290Z",
     "iopub.status.busy": "2020-11-18T17:22:35.416418Z",
     "iopub.status.idle": "2020-11-18T17:22:35.489535Z",
     "shell.execute_reply": "2020-11-18T17:22:35.488749Z"
    },
    "papermill": {
     "duration": 0.55345,
     "end_time": "2020-11-18T17:22:35.489658",
     "exception": false,
     "start_time": "2020-11-18T17:22:34.936208",
     "status": "completed"
    },
    "tags": []
   },
   "outputs": [],
   "source": [
    "enq_cs =['AMT_REQ_CREDIT_BUREAU_DAY', 'AMT_REQ_CREDIT_BUREAU_HOUR',\n",
    "       'AMT_REQ_CREDIT_BUREAU_MON', 'AMT_REQ_CREDIT_BUREAU_QRT',\n",
    "       'AMT_REQ_CREDIT_BUREAU_WEEK', 'AMT_REQ_CREDIT_BUREAU_YEAR']\n",
    "for i in enq_cs:\n",
    "    mergeddf[i] = mergeddf[i].fillna(0)"
   ]
  },
  {
   "cell_type": "code",
   "execution_count": null,
   "metadata": {
    "execution": {
     "iopub.execute_input": "2020-11-18T17:22:36.447379Z",
     "iopub.status.busy": "2020-11-18T17:22:36.446607Z",
     "iopub.status.idle": "2020-11-18T17:22:36.489633Z",
     "shell.execute_reply": "2020-11-18T17:22:36.489003Z"
    },
    "papermill": {
     "duration": 0.52477,
     "end_time": "2020-11-18T17:22:36.489768",
     "exception": false,
     "start_time": "2020-11-18T17:22:35.964998",
     "status": "completed"
    },
    "tags": []
   },
   "outputs": [],
   "source": [
    "amt_cs = [\"AMT_ANNUITY_y\",\"AMT_GOODS_PRICE_y\"]\n",
    "for i in amt_cs:\n",
    "    mergeddf[i] = mergeddf[i].fillna(mergeddf[i].mean())\n",
    "    "
   ]
  },
  {
   "cell_type": "code",
   "execution_count": null,
   "metadata": {
    "execution": {
     "iopub.execute_input": "2020-11-18T17:22:37.450632Z",
     "iopub.status.busy": "2020-11-18T17:22:37.449547Z",
     "iopub.status.idle": "2020-11-18T17:22:37.650520Z",
     "shell.execute_reply": "2020-11-18T17:22:37.649895Z"
    },
    "papermill": {
     "duration": 0.684507,
     "end_time": "2020-11-18T17:22:37.650654",
     "exception": false,
     "start_time": "2020-11-18T17:22:36.966147",
     "status": "completed"
    },
    "tags": []
   },
   "outputs": [],
   "source": [
    "cols = [\"DAYS_FIRST_DRAWING\",\"DAYS_FIRST_DUE\",\"DAYS_LAST_DUE_1ST_VERSION\",\n",
    "        \"DAYS_LAST_DUE\",\"DAYS_TERMINATION\",'CNT_PAYMENT']\n",
    "for i in cols :\n",
    "    mergeddf[i]  = mergeddf[i].fillna(mergeddf[i].median())"
   ]
  },
  {
   "cell_type": "code",
   "execution_count": null,
   "metadata": {
    "execution": {
     "iopub.execute_input": "2020-11-18T17:22:38.770213Z",
     "iopub.status.busy": "2020-11-18T17:22:38.769141Z",
     "iopub.status.idle": "2020-11-18T17:22:38.979294Z",
     "shell.execute_reply": "2020-11-18T17:22:38.979874Z"
    },
    "papermill": {
     "duration": 0.857568,
     "end_time": "2020-11-18T17:22:38.980044",
     "exception": false,
     "start_time": "2020-11-18T17:22:38.122476",
     "status": "completed"
    },
    "tags": []
   },
   "outputs": [],
   "source": [
    "cols = [\"NAME_TYPE_SUITE_y\",\"NFLAG_INSURED_ON_APPROVAL\"]\n",
    "for i in cols :\n",
    "    mergeddf[i]  = mergeddf[i].fillna(mergeddf[i].mode()[0])"
   ]
  },
  {
   "cell_type": "code",
   "execution_count": null,
   "metadata": {
    "execution": {
     "iopub.execute_input": "2020-11-18T17:22:39.978585Z",
     "iopub.status.busy": "2020-11-18T17:22:39.977004Z",
     "iopub.status.idle": "2020-11-18T17:22:45.396090Z",
     "shell.execute_reply": "2020-11-18T17:22:45.395234Z"
    },
    "papermill": {
     "duration": 5.904067,
     "end_time": "2020-11-18T17:22:45.396227",
     "exception": false,
     "start_time": "2020-11-18T17:22:39.492160",
     "status": "completed"
    },
    "tags": []
   },
   "outputs": [],
   "source": [
    "# Rest missing values are under 1.5% so we can drop these rows.\n",
    "mergeddf.dropna(inplace = True)"
   ]
  },
  {
   "cell_type": "code",
   "execution_count": null,
   "metadata": {
    "_kg_hide-output": false,
    "execution": {
     "iopub.execute_input": "2020-11-18T17:22:46.344215Z",
     "iopub.status.busy": "2020-11-18T17:22:46.343381Z",
     "iopub.status.idle": "2020-11-18T17:22:50.687481Z",
     "shell.execute_reply": "2020-11-18T17:22:50.686791Z"
    },
    "papermill": {
     "duration": 4.818415,
     "end_time": "2020-11-18T17:22:50.687615",
     "exception": false,
     "start_time": "2020-11-18T17:22:45.869200",
     "status": "completed"
    },
    "tags": []
   },
   "outputs": [],
   "source": [
    "round(100*(mergeddf.isnull().sum()/len(mergeddf.index)), 2)"
   ]
  },
  {
   "cell_type": "code",
   "execution_count": null,
   "metadata": {
    "execution": {
     "iopub.execute_input": "2020-11-18T17:22:51.695517Z",
     "iopub.status.busy": "2020-11-18T17:22:51.693950Z",
     "iopub.status.idle": "2020-11-18T17:22:55.924990Z",
     "shell.execute_reply": "2020-11-18T17:22:55.924382Z"
    },
    "papermill": {
     "duration": 4.759517,
     "end_time": "2020-11-18T17:22:55.925129",
     "exception": false,
     "start_time": "2020-11-18T17:22:51.165612",
     "status": "completed"
    },
    "tags": []
   },
   "outputs": [],
   "source": [
    "mergeddf.isnull().sum()"
   ]
  },
  {
   "cell_type": "code",
   "execution_count": null,
   "metadata": {
    "execution": {
     "iopub.execute_input": "2020-11-18T17:22:56.916817Z",
     "iopub.status.busy": "2020-11-18T17:22:56.893263Z",
     "iopub.status.idle": "2020-11-18T17:22:56.968166Z",
     "shell.execute_reply": "2020-11-18T17:22:56.968748Z"
    },
    "papermill": {
     "duration": 0.570643,
     "end_time": "2020-11-18T17:22:56.968922",
     "exception": false,
     "start_time": "2020-11-18T17:22:56.398279",
     "status": "completed"
    },
    "tags": []
   },
   "outputs": [],
   "source": [
    "mergeddf.head()"
   ]
  },
  {
   "cell_type": "markdown",
   "metadata": {
    "papermill": {
     "duration": 0.472019,
     "end_time": "2020-11-18T17:22:57.922609",
     "exception": false,
     "start_time": "2020-11-18T17:22:57.450590",
     "status": "completed"
    },
    "tags": []
   },
   "source": [
    "# Data Preparation"
   ]
  },
  {
   "cell_type": "markdown",
   "metadata": {
    "papermill": {
     "duration": 0.47482,
     "end_time": "2020-11-18T17:22:58.870763",
     "exception": false,
     "start_time": "2020-11-18T17:22:58.395943",
     "status": "completed"
    },
    "tags": []
   },
   "source": [
    "Converting some binary variables (Y/N) to 1/0"
   ]
  },
  {
   "cell_type": "code",
   "execution_count": null,
   "metadata": {
    "execution": {
     "iopub.execute_input": "2020-11-18T17:22:59.830094Z",
     "iopub.status.busy": "2020-11-18T17:22:59.828268Z",
     "iopub.status.idle": "2020-11-18T17:23:02.276735Z",
     "shell.execute_reply": "2020-11-18T17:23:02.277348Z"
    },
    "papermill": {
     "duration": 2.932631,
     "end_time": "2020-11-18T17:23:02.277502",
     "exception": false,
     "start_time": "2020-11-18T17:22:59.344871",
     "status": "completed"
    },
    "tags": []
   },
   "outputs": [],
   "source": [
    "# List of variables to map\n",
    "\n",
    "varlist =  ['FLAG_OWN_CAR','FLAG_OWN_REALTY','FLAG_LAST_APPL_PER_CONTRACT']\n",
    "\n",
    "# Defining the map function\n",
    "def binary_map(x):\n",
    "    return x.map({'Y': 1, \"N\": 0})\n",
    "\n",
    "# Applying the function to the housing list\n",
    "mergeddf[varlist] = mergeddf[varlist].apply(binary_map)\n",
    "mergeddf.head()"
   ]
  },
  {
   "cell_type": "code",
   "execution_count": null,
   "metadata": {
    "execution": {
     "iopub.execute_input": "2020-11-18T17:23:03.239564Z",
     "iopub.status.busy": "2020-11-18T17:23:03.238118Z",
     "iopub.status.idle": "2020-11-18T17:23:04.690512Z",
     "shell.execute_reply": "2020-11-18T17:23:04.691098Z"
    },
    "papermill": {
     "duration": 1.934022,
     "end_time": "2020-11-18T17:23:04.691248",
     "exception": false,
     "start_time": "2020-11-18T17:23:02.757226",
     "status": "completed"
    },
    "tags": []
   },
   "outputs": [],
   "source": [
    "#dropping SK_ID_PREV since non required technical field \n",
    "\n",
    "mergeddf.drop(['SK_ID_PREV'], 1, inplace = True)\n",
    "mergeddf.head()"
   ]
  },
  {
   "cell_type": "code",
   "execution_count": null,
   "metadata": {
    "execution": {
     "iopub.execute_input": "2020-11-18T17:23:05.789718Z",
     "iopub.status.busy": "2020-11-18T17:23:05.788624Z",
     "iopub.status.idle": "2020-11-18T17:23:10.073560Z",
     "shell.execute_reply": "2020-11-18T17:23:10.072701Z"
    },
    "papermill": {
     "duration": 4.90159,
     "end_time": "2020-11-18T17:23:10.073717",
     "exception": false,
     "start_time": "2020-11-18T17:23:05.172127",
     "status": "completed"
    },
    "tags": []
   },
   "outputs": [],
   "source": [
    "mergeddf[['FLAG_OWN_CAR','FLAG_OWN_REALTY','FLAG_MOBIL',\n",
    " 'FLAG_EMP_PHONE','FLAG_WORK_PHONE','FLAG_CONT_MOBILE',\n",
    " 'FLAG_PHONE','FLAG_EMAIL','REGION_RATING_CLIENT',\n",
    " 'REGION_RATING_CLIENT_W_CITY','REG_REGION_NOT_LIVE_REGION',\n",
    " 'REG_REGION_NOT_WORK_REGION','LIVE_REGION_NOT_WORK_REGION',\n",
    " 'REG_CITY_NOT_LIVE_CITY','REG_CITY_NOT_WORK_CITY','FLAG_DOCUMENT_2',\n",
    " 'FLAG_DOCUMENT_3','FLAG_DOCUMENT_4','FLAG_DOCUMENT_5','FLAG_DOCUMENT_6',\n",
    " 'FLAG_DOCUMENT_7','FLAG_DOCUMENT_8','FLAG_DOCUMENT_9',\n",
    " 'FLAG_DOCUMENT_10','FLAG_DOCUMENT_11','FLAG_DOCUMENT_12','FLAG_DOCUMENT_13',\n",
    " 'FLAG_DOCUMENT_14','FLAG_DOCUMENT_15','FLAG_DOCUMENT_16','FLAG_DOCUMENT_17',\n",
    " 'FLAG_DOCUMENT_18','FLAG_DOCUMENT_19','FLAG_DOCUMENT_20','FLAG_DOCUMENT_21',\n",
    " 'NFLAG_INSURED_ON_APPROVAL']]= mergeddf[['FLAG_OWN_CAR','FLAG_OWN_REALTY','FLAG_MOBIL',\n",
    "                                        'FLAG_EMP_PHONE','FLAG_WORK_PHONE','FLAG_CONT_MOBILE',\n",
    "                                        'FLAG_PHONE','FLAG_EMAIL','REGION_RATING_CLIENT',\n",
    "                                        'REGION_RATING_CLIENT_W_CITY','REG_REGION_NOT_LIVE_REGION',\n",
    "                                        'REG_REGION_NOT_WORK_REGION','LIVE_REGION_NOT_WORK_REGION',\n",
    "                                        'REG_CITY_NOT_LIVE_CITY','REG_CITY_NOT_WORK_CITY','FLAG_DOCUMENT_2',\n",
    "                                        'FLAG_DOCUMENT_3','FLAG_DOCUMENT_4','FLAG_DOCUMENT_5','FLAG_DOCUMENT_6',\n",
    "                                        'FLAG_DOCUMENT_7','FLAG_DOCUMENT_8','FLAG_DOCUMENT_9',\n",
    "                                        'FLAG_DOCUMENT_10','FLAG_DOCUMENT_11','FLAG_DOCUMENT_12','FLAG_DOCUMENT_13',\n",
    "                                        'FLAG_DOCUMENT_14','FLAG_DOCUMENT_15','FLAG_DOCUMENT_16','FLAG_DOCUMENT_17',\n",
    "                                        'FLAG_DOCUMENT_18','FLAG_DOCUMENT_19','FLAG_DOCUMENT_20','FLAG_DOCUMENT_21',\n",
    "                                        'NFLAG_INSURED_ON_APPROVAL']].astype('category')"
   ]
  },
  {
   "cell_type": "code",
   "execution_count": null,
   "metadata": {
    "execution": {
     "iopub.execute_input": "2020-11-18T17:23:11.056975Z",
     "iopub.status.busy": "2020-11-18T17:23:11.056171Z",
     "iopub.status.idle": "2020-11-18T17:23:11.725500Z",
     "shell.execute_reply": "2020-11-18T17:23:11.724816Z"
    },
    "papermill": {
     "duration": 1.168221,
     "end_time": "2020-11-18T17:23:11.725628",
     "exception": false,
     "start_time": "2020-11-18T17:23:10.557407",
     "status": "completed"
    },
    "tags": []
   },
   "outputs": [],
   "source": [
    "obj_dtypes = [i for i in mergeddf.select_dtypes(include=np.object).columns if i not in [\"type\"] ]\n",
    "num_dtypes = [i for i in mergeddf.select_dtypes(include = np.number).columns if i not in [ 'TARGET']]"
   ]
  },
  {
   "cell_type": "code",
   "execution_count": null,
   "metadata": {
    "execution": {
     "iopub.execute_input": "2020-11-18T17:23:12.721176Z",
     "iopub.status.busy": "2020-11-18T17:23:12.720342Z",
     "iopub.status.idle": "2020-11-18T17:23:12.724410Z",
     "shell.execute_reply": "2020-11-18T17:23:12.724940Z"
    },
    "papermill": {
     "duration": 0.521385,
     "end_time": "2020-11-18T17:23:12.725104",
     "exception": false,
     "start_time": "2020-11-18T17:23:12.203719",
     "status": "completed"
    },
    "tags": []
   },
   "outputs": [],
   "source": [
    "num_dtypes"
   ]
  },
  {
   "cell_type": "code",
   "execution_count": null,
   "metadata": {
    "execution": {
     "iopub.execute_input": "2020-11-18T17:23:13.802246Z",
     "iopub.status.busy": "2020-11-18T17:23:13.801213Z",
     "iopub.status.idle": "2020-11-18T17:23:13.805936Z",
     "shell.execute_reply": "2020-11-18T17:23:13.805343Z"
    },
    "papermill": {
     "duration": 0.509867,
     "end_time": "2020-11-18T17:23:13.806078",
     "exception": false,
     "start_time": "2020-11-18T17:23:13.296211",
     "status": "completed"
    },
    "tags": []
   },
   "outputs": [],
   "source": [
    "obj_dtypes"
   ]
  },
  {
   "cell_type": "code",
   "execution_count": null,
   "metadata": {
    "execution": {
     "iopub.execute_input": "2020-11-18T17:23:14.806355Z",
     "iopub.status.busy": "2020-11-18T17:23:14.804530Z",
     "iopub.status.idle": "2020-11-18T17:23:20.472434Z",
     "shell.execute_reply": "2020-11-18T17:23:20.471669Z"
    },
    "papermill": {
     "duration": 6.163645,
     "end_time": "2020-11-18T17:23:20.472557",
     "exception": false,
     "start_time": "2020-11-18T17:23:14.308912",
     "status": "completed"
    },
    "tags": []
   },
   "outputs": [],
   "source": [
    "# Creating a dummy variable for some of the categorical variables and dropping the first one.\n",
    "dummy1 = pd.get_dummies(mergeddf[['FLAG_OWN_CAR','FLAG_OWN_REALTY','FLAG_MOBIL',\n",
    "                                  'FLAG_EMP_PHONE','FLAG_WORK_PHONE','FLAG_CONT_MOBILE',\n",
    "                                  'FLAG_PHONE','FLAG_EMAIL','REGION_RATING_CLIENT',\n",
    "                                  'REGION_RATING_CLIENT_W_CITY','REG_REGION_NOT_LIVE_REGION',\n",
    "                                  'REG_REGION_NOT_WORK_REGION','LIVE_REGION_NOT_WORK_REGION',\n",
    "                                  'REG_CITY_NOT_LIVE_CITY','REG_CITY_NOT_WORK_CITY','FLAG_DOCUMENT_2',\n",
    "                                  'FLAG_DOCUMENT_3','FLAG_DOCUMENT_4','FLAG_DOCUMENT_5','FLAG_DOCUMENT_6',\n",
    "                                  'FLAG_DOCUMENT_7','FLAG_DOCUMENT_8','FLAG_DOCUMENT_9',\n",
    "                                  'FLAG_DOCUMENT_10','FLAG_DOCUMENT_11','FLAG_DOCUMENT_12','FLAG_DOCUMENT_13',\n",
    "                                  'FLAG_DOCUMENT_14','FLAG_DOCUMENT_15','FLAG_DOCUMENT_16','FLAG_DOCUMENT_17',\n",
    "                                  'FLAG_DOCUMENT_18','FLAG_DOCUMENT_19','FLAG_DOCUMENT_20','FLAG_DOCUMENT_21',\n",
    "                                  'NFLAG_INSURED_ON_APPROVAL','NAME_CONTRACT_TYPE_x','CODE_GENDER',\n",
    "                                  'NAME_TYPE_SUITE_x','NAME_INCOME_TYPE','NAME_EDUCATION_TYPE','NAME_FAMILY_STATUS',\n",
    "                                  'NAME_HOUSING_TYPE','WEEKDAY_APPR_PROCESS_START_x','ORGANIZATION_TYPE','NAME_CONTRACT_TYPE_y',\n",
    "                                  'WEEKDAY_APPR_PROCESS_START_y','NAME_CASH_LOAN_PURPOSE','NAME_CONTRACT_STATUS','NAME_PAYMENT_TYPE',\n",
    "                                  'CODE_REJECT_REASON','NAME_TYPE_SUITE_y','NAME_CLIENT_TYPE','NAME_GOODS_CATEGORY',\n",
    "                                  'NAME_PORTFOLIO','NAME_PRODUCT_TYPE','CHANNEL_TYPE','NAME_SELLER_INDUSTRY',\n",
    "                                  'NAME_YIELD_GROUP','PRODUCT_COMBINATION']], drop_first=True)\n",
    "dummy1.head()"
   ]
  },
  {
   "cell_type": "code",
   "execution_count": null,
   "metadata": {
    "execution": {
     "iopub.execute_input": "2020-11-18T17:23:21.476356Z",
     "iopub.status.busy": "2020-11-18T17:23:21.475202Z",
     "iopub.status.idle": "2020-11-18T17:23:23.607666Z",
     "shell.execute_reply": "2020-11-18T17:23:23.608274Z"
    },
    "papermill": {
     "duration": 2.646005,
     "end_time": "2020-11-18T17:23:23.608440",
     "exception": false,
     "start_time": "2020-11-18T17:23:20.962435",
     "status": "completed"
    },
    "tags": []
   },
   "outputs": [],
   "source": [
    "# Adding the results to the master dataframe\n",
    "mergeddf = pd.concat([mergeddf, dummy1], axis=1)\n",
    "mergeddf.head()"
   ]
  },
  {
   "cell_type": "code",
   "execution_count": null,
   "metadata": {
    "execution": {
     "iopub.execute_input": "2020-11-18T17:23:24.637171Z",
     "iopub.status.busy": "2020-11-18T17:23:24.636287Z",
     "iopub.status.idle": "2020-11-18T17:23:27.021422Z",
     "shell.execute_reply": "2020-11-18T17:23:27.022036Z"
    },
    "papermill": {
     "duration": 2.903343,
     "end_time": "2020-11-18T17:23:27.022206",
     "exception": false,
     "start_time": "2020-11-18T17:23:24.118863",
     "status": "completed"
    },
    "tags": []
   },
   "outputs": [],
   "source": [
    "mergeddf = mergeddf.drop(['FLAG_OWN_CAR','FLAG_OWN_REALTY','FLAG_MOBIL',\n",
    "                          'FLAG_EMP_PHONE','FLAG_WORK_PHONE','FLAG_CONT_MOBILE',\n",
    "                          'FLAG_PHONE','FLAG_EMAIL','REGION_RATING_CLIENT',\n",
    "                          'REGION_RATING_CLIENT_W_CITY','REG_REGION_NOT_LIVE_REGION',\n",
    "                          'REG_REGION_NOT_WORK_REGION','LIVE_REGION_NOT_WORK_REGION',\n",
    "                          'REG_CITY_NOT_LIVE_CITY','REG_CITY_NOT_WORK_CITY','FLAG_DOCUMENT_2',\n",
    "                          'FLAG_DOCUMENT_3','FLAG_DOCUMENT_4','FLAG_DOCUMENT_5','FLAG_DOCUMENT_6',\n",
    "                          'FLAG_DOCUMENT_7','FLAG_DOCUMENT_8','FLAG_DOCUMENT_9',\n",
    "                          'FLAG_DOCUMENT_10','FLAG_DOCUMENT_11','FLAG_DOCUMENT_12','FLAG_DOCUMENT_13',\n",
    "                          'FLAG_DOCUMENT_14','FLAG_DOCUMENT_15','FLAG_DOCUMENT_16','FLAG_DOCUMENT_17',\n",
    "                          'FLAG_DOCUMENT_18','FLAG_DOCUMENT_19','FLAG_DOCUMENT_20','FLAG_DOCUMENT_21',\n",
    "                          'NFLAG_INSURED_ON_APPROVAL','NAME_CONTRACT_TYPE_x','CODE_GENDER',\n",
    "                          'NAME_TYPE_SUITE_x','NAME_INCOME_TYPE','NAME_EDUCATION_TYPE','NAME_FAMILY_STATUS',\n",
    "                          'NAME_HOUSING_TYPE','WEEKDAY_APPR_PROCESS_START_x','ORGANIZATION_TYPE','NAME_CONTRACT_TYPE_y',\n",
    "                          'WEEKDAY_APPR_PROCESS_START_y','NAME_CASH_LOAN_PURPOSE','NAME_CONTRACT_STATUS','NAME_PAYMENT_TYPE',\n",
    "                          'CODE_REJECT_REASON','NAME_TYPE_SUITE_y','NAME_CLIENT_TYPE','NAME_GOODS_CATEGORY',\n",
    "                          'NAME_PORTFOLIO','NAME_PRODUCT_TYPE','CHANNEL_TYPE','NAME_SELLER_INDUSTRY',\n",
    "                          'NAME_YIELD_GROUP','PRODUCT_COMBINATION'], axis = 1)\n",
    "mergeddf.head()"
   ]
  },
  {
   "cell_type": "code",
   "execution_count": null,
   "metadata": {
    "execution": {
     "iopub.execute_input": "2020-11-18T17:23:28.025799Z",
     "iopub.status.busy": "2020-11-18T17:23:28.024735Z",
     "iopub.status.idle": "2020-11-18T17:23:28.029439Z",
     "shell.execute_reply": "2020-11-18T17:23:28.028806Z"
    },
    "papermill": {
     "duration": 0.505054,
     "end_time": "2020-11-18T17:23:28.029569",
     "exception": false,
     "start_time": "2020-11-18T17:23:27.524515",
     "status": "completed"
    },
    "tags": []
   },
   "outputs": [],
   "source": [
    "mergeddf.shape"
   ]
  },
  {
   "cell_type": "code",
   "execution_count": null,
   "metadata": {
    "execution": {
     "iopub.execute_input": "2020-11-18T17:23:29.072592Z",
     "iopub.status.busy": "2020-11-18T17:23:29.071560Z",
     "iopub.status.idle": "2020-11-18T17:23:29.154084Z",
     "shell.execute_reply": "2020-11-18T17:23:29.153263Z"
    },
    "papermill": {
     "duration": 0.583412,
     "end_time": "2020-11-18T17:23:29.154219",
     "exception": false,
     "start_time": "2020-11-18T17:23:28.570807",
     "status": "completed"
    },
    "tags": []
   },
   "outputs": [],
   "source": [
    "mergeddfs=mergeddf.sample(n = 7000) "
   ]
  },
  {
   "cell_type": "code",
   "execution_count": null,
   "metadata": {
    "execution": {
     "iopub.execute_input": "2020-11-18T17:23:30.152771Z",
     "iopub.status.busy": "2020-11-18T17:23:30.151846Z",
     "iopub.status.idle": "2020-11-18T17:23:30.304340Z",
     "shell.execute_reply": "2020-11-18T17:23:30.303697Z"
    },
    "papermill": {
     "duration": 0.653048,
     "end_time": "2020-11-18T17:23:30.304484",
     "exception": false,
     "start_time": "2020-11-18T17:23:29.651436",
     "status": "completed"
    },
    "tags": []
   },
   "outputs": [],
   "source": [
    "from sklearn.model_selection import train_test_split\n",
    "\n",
    "# Putting feature variable to X\n",
    "X = mergeddfs.drop(['TARGET'], axis=1)"
   ]
  },
  {
   "cell_type": "code",
   "execution_count": null,
   "metadata": {
    "execution": {
     "iopub.execute_input": "2020-11-18T17:23:31.356036Z",
     "iopub.status.busy": "2020-11-18T17:23:31.345645Z",
     "iopub.status.idle": "2020-11-18T17:23:31.502123Z",
     "shell.execute_reply": "2020-11-18T17:23:31.502715Z"
    },
    "papermill": {
     "duration": 0.70192,
     "end_time": "2020-11-18T17:23:31.502891",
     "exception": false,
     "start_time": "2020-11-18T17:23:30.800971",
     "status": "completed"
    },
    "tags": []
   },
   "outputs": [],
   "source": [
    "X.head()"
   ]
  },
  {
   "cell_type": "code",
   "execution_count": null,
   "metadata": {
    "execution": {
     "iopub.execute_input": "2020-11-18T17:23:32.522389Z",
     "iopub.status.busy": "2020-11-18T17:23:32.521443Z",
     "iopub.status.idle": "2020-11-18T17:23:32.526635Z",
     "shell.execute_reply": "2020-11-18T17:23:32.525915Z"
    },
    "papermill": {
     "duration": 0.515756,
     "end_time": "2020-11-18T17:23:32.526761",
     "exception": false,
     "start_time": "2020-11-18T17:23:32.011005",
     "status": "completed"
    },
    "tags": []
   },
   "outputs": [],
   "source": [
    "X.shape"
   ]
  },
  {
   "cell_type": "code",
   "execution_count": null,
   "metadata": {
    "execution": {
     "iopub.execute_input": "2020-11-18T17:23:33.540972Z",
     "iopub.status.busy": "2020-11-18T17:23:33.540182Z",
     "iopub.status.idle": "2020-11-18T17:23:33.542795Z",
     "shell.execute_reply": "2020-11-18T17:23:33.543359Z"
    },
    "papermill": {
     "duration": 0.510487,
     "end_time": "2020-11-18T17:23:33.543519",
     "exception": false,
     "start_time": "2020-11-18T17:23:33.033032",
     "status": "completed"
    },
    "tags": []
   },
   "outputs": [],
   "source": [
    "# Putting response variable to y\n",
    "y = mergeddfs['TARGET']"
   ]
  },
  {
   "cell_type": "code",
   "execution_count": null,
   "metadata": {
    "execution": {
     "iopub.execute_input": "2020-11-18T17:23:34.579322Z",
     "iopub.status.busy": "2020-11-18T17:23:34.578382Z",
     "iopub.status.idle": "2020-11-18T17:23:34.583536Z",
     "shell.execute_reply": "2020-11-18T17:23:34.582783Z"
    },
    "papermill": {
     "duration": 0.54072,
     "end_time": "2020-11-18T17:23:34.583665",
     "exception": false,
     "start_time": "2020-11-18T17:23:34.042945",
     "status": "completed"
    },
    "tags": []
   },
   "outputs": [],
   "source": [
    "y.head()"
   ]
  },
  {
   "cell_type": "code",
   "execution_count": null,
   "metadata": {
    "execution": {
     "iopub.execute_input": "2020-11-18T17:23:35.595745Z",
     "iopub.status.busy": "2020-11-18T17:23:35.594620Z",
     "iopub.status.idle": "2020-11-18T17:23:35.611693Z",
     "shell.execute_reply": "2020-11-18T17:23:35.611059Z"
    },
    "papermill": {
     "duration": 0.526201,
     "end_time": "2020-11-18T17:23:35.611845",
     "exception": false,
     "start_time": "2020-11-18T17:23:35.085644",
     "status": "completed"
    },
    "tags": []
   },
   "outputs": [],
   "source": [
    "# Splitting the data into train and test\n",
    "X_train, X_test, y_train, y_test = train_test_split(X, y, train_size=0.7, random_state=70,stratify=y)"
   ]
  },
  {
   "cell_type": "code",
   "execution_count": null,
   "metadata": {
    "execution": {
     "iopub.execute_input": "2020-11-18T17:23:36.668116Z",
     "iopub.status.busy": "2020-11-18T17:23:36.667327Z",
     "iopub.status.idle": "2020-11-18T17:23:36.820385Z",
     "shell.execute_reply": "2020-11-18T17:23:36.820993Z"
    },
    "papermill": {
     "duration": 0.70591,
     "end_time": "2020-11-18T17:23:36.821157",
     "exception": false,
     "start_time": "2020-11-18T17:23:36.115247",
     "status": "completed"
    },
    "tags": []
   },
   "outputs": [],
   "source": [
    "X_train.head()"
   ]
  },
  {
   "cell_type": "code",
   "execution_count": null,
   "metadata": {
    "execution": {
     "iopub.execute_input": "2020-11-18T17:23:37.856672Z",
     "iopub.status.busy": "2020-11-18T17:23:37.855618Z",
     "iopub.status.idle": "2020-11-18T17:23:37.860803Z",
     "shell.execute_reply": "2020-11-18T17:23:37.860037Z"
    },
    "papermill": {
     "duration": 0.520488,
     "end_time": "2020-11-18T17:23:37.860995",
     "exception": false,
     "start_time": "2020-11-18T17:23:37.340507",
     "status": "completed"
    },
    "tags": []
   },
   "outputs": [],
   "source": [
    "X_train.shape"
   ]
  },
  {
   "cell_type": "code",
   "execution_count": null,
   "metadata": {
    "execution": {
     "iopub.execute_input": "2020-11-18T17:23:38.930160Z",
     "iopub.status.busy": "2020-11-18T17:23:38.924941Z",
     "iopub.status.idle": "2020-11-18T17:23:39.083248Z",
     "shell.execute_reply": "2020-11-18T17:23:39.083929Z"
    },
    "papermill": {
     "duration": 0.707287,
     "end_time": "2020-11-18T17:23:39.084101",
     "exception": false,
     "start_time": "2020-11-18T17:23:38.376814",
     "status": "completed"
    },
    "tags": []
   },
   "outputs": [],
   "source": [
    "X_test.head()"
   ]
  },
  {
   "cell_type": "code",
   "execution_count": null,
   "metadata": {
    "execution": {
     "iopub.execute_input": "2020-11-18T17:23:40.126016Z",
     "iopub.status.busy": "2020-11-18T17:23:40.124938Z",
     "iopub.status.idle": "2020-11-18T17:23:40.128984Z",
     "shell.execute_reply": "2020-11-18T17:23:40.128401Z"
    },
    "papermill": {
     "duration": 0.52366,
     "end_time": "2020-11-18T17:23:40.129112",
     "exception": false,
     "start_time": "2020-11-18T17:23:39.605452",
     "status": "completed"
    },
    "tags": []
   },
   "outputs": [],
   "source": [
    "X_test.shape"
   ]
  },
  {
   "cell_type": "code",
   "execution_count": null,
   "metadata": {
    "execution": {
     "iopub.execute_input": "2020-11-18T17:23:41.166403Z",
     "iopub.status.busy": "2020-11-18T17:23:41.165372Z",
     "iopub.status.idle": "2020-11-18T17:23:41.169523Z",
     "shell.execute_reply": "2020-11-18T17:23:41.168804Z"
    },
    "papermill": {
     "duration": 0.525246,
     "end_time": "2020-11-18T17:23:41.169643",
     "exception": false,
     "start_time": "2020-11-18T17:23:40.644397",
     "status": "completed"
    },
    "tags": []
   },
   "outputs": [],
   "source": [
    "y_train.head()"
   ]
  },
  {
   "cell_type": "code",
   "execution_count": null,
   "metadata": {
    "execution": {
     "iopub.execute_input": "2020-11-18T17:23:42.257268Z",
     "iopub.status.busy": "2020-11-18T17:23:42.256221Z",
     "iopub.status.idle": "2020-11-18T17:23:42.259600Z",
     "shell.execute_reply": "2020-11-18T17:23:42.260181Z"
    },
    "papermill": {
     "duration": 0.52618,
     "end_time": "2020-11-18T17:23:42.260332",
     "exception": false,
     "start_time": "2020-11-18T17:23:41.734152",
     "status": "completed"
    },
    "tags": []
   },
   "outputs": [],
   "source": [
    "y_train.shape"
   ]
  },
  {
   "cell_type": "code",
   "execution_count": null,
   "metadata": {
    "execution": {
     "iopub.execute_input": "2020-11-18T17:23:43.302941Z",
     "iopub.status.busy": "2020-11-18T17:23:43.301936Z",
     "iopub.status.idle": "2020-11-18T17:23:43.305791Z",
     "shell.execute_reply": "2020-11-18T17:23:43.306399Z"
    },
    "papermill": {
     "duration": 0.528175,
     "end_time": "2020-11-18T17:23:43.306574",
     "exception": false,
     "start_time": "2020-11-18T17:23:42.778399",
     "status": "completed"
    },
    "tags": []
   },
   "outputs": [],
   "source": [
    "y_test.head()"
   ]
  },
  {
   "cell_type": "code",
   "execution_count": null,
   "metadata": {
    "execution": {
     "iopub.execute_input": "2020-11-18T17:23:44.357421Z",
     "iopub.status.busy": "2020-11-18T17:23:44.356447Z",
     "iopub.status.idle": "2020-11-18T17:23:44.361283Z",
     "shell.execute_reply": "2020-11-18T17:23:44.360415Z"
    },
    "papermill": {
     "duration": 0.529181,
     "end_time": "2020-11-18T17:23:44.361422",
     "exception": false,
     "start_time": "2020-11-18T17:23:43.832241",
     "status": "completed"
    },
    "tags": []
   },
   "outputs": [],
   "source": [
    "y_test.shape"
   ]
  },
  {
   "cell_type": "markdown",
   "metadata": {
    "papermill": {
     "duration": 0.586692,
     "end_time": "2020-11-18T17:23:45.473784",
     "exception": false,
     "start_time": "2020-11-18T17:23:44.887092",
     "status": "completed"
    },
    "tags": []
   },
   "source": [
    "# Feature Scaling"
   ]
  },
  {
   "cell_type": "code",
   "execution_count": null,
   "metadata": {
    "execution": {
     "iopub.execute_input": "2020-11-18T17:23:46.534745Z",
     "iopub.status.busy": "2020-11-18T17:23:46.533880Z",
     "iopub.status.idle": "2020-11-18T17:23:46.801729Z",
     "shell.execute_reply": "2020-11-18T17:23:46.802323Z"
    },
    "papermill": {
     "duration": 0.806905,
     "end_time": "2020-11-18T17:23:46.802478",
     "exception": false,
     "start_time": "2020-11-18T17:23:45.995573",
     "status": "completed"
    },
    "tags": []
   },
   "outputs": [],
   "source": [
    "from sklearn.preprocessing import StandardScaler\n",
    "\n",
    "scaler = StandardScaler()\n",
    "\n",
    "X_train[['CNT_CHILDREN','AMT_INCOME_TOTAL','AMT_CREDIT_x','AMT_ANNUITY_x',\n",
    "         'AMT_GOODS_PRICE_x','REGION_POPULATION_RELATIVE','DAYS_BIRTH',\n",
    "         'DAYS_EMPLOYED','DAYS_REGISTRATION','DAYS_ID_PUBLISH','CNT_FAM_MEMBERS',\n",
    "         'HOUR_APPR_PROCESS_START_x','LIVE_CITY_NOT_WORK_CITY','OBS_30_CNT_SOCIAL_CIRCLE',\n",
    "         'DEF_30_CNT_SOCIAL_CIRCLE','OBS_60_CNT_SOCIAL_CIRCLE','DEF_60_CNT_SOCIAL_CIRCLE',\n",
    "         'DAYS_LAST_PHONE_CHANGE','AMT_REQ_CREDIT_BUREAU_HOUR','AMT_REQ_CREDIT_BUREAU_DAY',\n",
    "         'AMT_REQ_CREDIT_BUREAU_WEEK','AMT_REQ_CREDIT_BUREAU_MON','AMT_REQ_CREDIT_BUREAU_QRT',\n",
    "         'AMT_REQ_CREDIT_BUREAU_YEAR','AMT_ANNUITY_y','AMT_APPLICATION','AMT_CREDIT_y',\n",
    "         'AMT_GOODS_PRICE_y','HOUR_APPR_PROCESS_START_y','FLAG_LAST_APPL_PER_CONTRACT',\n",
    "         'NFLAG_LAST_APPL_IN_DAY','DAYS_DECISION','SELLERPLACE_AREA','CNT_PAYMENT',\n",
    "         'DAYS_FIRST_DRAWING','DAYS_FIRST_DUE','DAYS_LAST_DUE_1ST_VERSION','DAYS_LAST_DUE',\n",
    "         'DAYS_TERMINATION']] = scaler.fit_transform(X_train[['CNT_CHILDREN','AMT_INCOME_TOTAL','AMT_CREDIT_x',\n",
    "                                                               'AMT_ANNUITY_x','AMT_GOODS_PRICE_x','REGION_POPULATION_RELATIVE',\n",
    "                                                               'DAYS_BIRTH','DAYS_EMPLOYED','DAYS_REGISTRATION','DAYS_ID_PUBLISH',\n",
    "                                                               'CNT_FAM_MEMBERS','HOUR_APPR_PROCESS_START_x','LIVE_CITY_NOT_WORK_CITY',\n",
    "                                                               'OBS_30_CNT_SOCIAL_CIRCLE','DEF_30_CNT_SOCIAL_CIRCLE','OBS_60_CNT_SOCIAL_CIRCLE',\n",
    "                                                               'DEF_60_CNT_SOCIAL_CIRCLE','DAYS_LAST_PHONE_CHANGE','AMT_REQ_CREDIT_BUREAU_HOUR',\n",
    "                                                               'AMT_REQ_CREDIT_BUREAU_DAY','AMT_REQ_CREDIT_BUREAU_WEEK','AMT_REQ_CREDIT_BUREAU_MON',\n",
    "                                                               'AMT_REQ_CREDIT_BUREAU_QRT','AMT_REQ_CREDIT_BUREAU_YEAR','AMT_ANNUITY_y','AMT_APPLICATION',\n",
    "                                                               'AMT_CREDIT_y','AMT_GOODS_PRICE_y','HOUR_APPR_PROCESS_START_y','FLAG_LAST_APPL_PER_CONTRACT',\n",
    "                                                               'NFLAG_LAST_APPL_IN_DAY','DAYS_DECISION','SELLERPLACE_AREA','CNT_PAYMENT','DAYS_FIRST_DRAWING',\n",
    "                                                               'DAYS_FIRST_DUE','DAYS_LAST_DUE_1ST_VERSION','DAYS_LAST_DUE','DAYS_TERMINATION']])\n",
    "\n",
    "X_train.head()"
   ]
  },
  {
   "cell_type": "code",
   "execution_count": null,
   "metadata": {
    "execution": {
     "iopub.execute_input": "2020-11-18T17:23:47.875325Z",
     "iopub.status.busy": "2020-11-18T17:23:47.874487Z",
     "iopub.status.idle": "2020-11-18T17:23:48.104590Z",
     "shell.execute_reply": "2020-11-18T17:23:48.105219Z"
    },
    "papermill": {
     "duration": 0.771817,
     "end_time": "2020-11-18T17:23:48.105381",
     "exception": false,
     "start_time": "2020-11-18T17:23:47.333564",
     "status": "completed"
    },
    "tags": []
   },
   "outputs": [],
   "source": [
    "X_test[['CNT_CHILDREN','AMT_INCOME_TOTAL','AMT_CREDIT_x','AMT_ANNUITY_x',\n",
    "         'AMT_GOODS_PRICE_x','REGION_POPULATION_RELATIVE','DAYS_BIRTH',\n",
    "         'DAYS_EMPLOYED','DAYS_REGISTRATION','DAYS_ID_PUBLISH','CNT_FAM_MEMBERS',\n",
    "         'HOUR_APPR_PROCESS_START_x','LIVE_CITY_NOT_WORK_CITY','OBS_30_CNT_SOCIAL_CIRCLE',\n",
    "         'DEF_30_CNT_SOCIAL_CIRCLE','OBS_60_CNT_SOCIAL_CIRCLE','DEF_60_CNT_SOCIAL_CIRCLE',\n",
    "         'DAYS_LAST_PHONE_CHANGE','AMT_REQ_CREDIT_BUREAU_HOUR','AMT_REQ_CREDIT_BUREAU_DAY',\n",
    "         'AMT_REQ_CREDIT_BUREAU_WEEK','AMT_REQ_CREDIT_BUREAU_MON','AMT_REQ_CREDIT_BUREAU_QRT',\n",
    "         'AMT_REQ_CREDIT_BUREAU_YEAR','AMT_ANNUITY_y','AMT_APPLICATION','AMT_CREDIT_y',\n",
    "         'AMT_GOODS_PRICE_y','HOUR_APPR_PROCESS_START_y','FLAG_LAST_APPL_PER_CONTRACT',\n",
    "         'NFLAG_LAST_APPL_IN_DAY','DAYS_DECISION','SELLERPLACE_AREA','CNT_PAYMENT',\n",
    "         'DAYS_FIRST_DRAWING','DAYS_FIRST_DUE','DAYS_LAST_DUE_1ST_VERSION','DAYS_LAST_DUE',\n",
    "         'DAYS_TERMINATION']] = scaler.transform(X_test[['CNT_CHILDREN','AMT_INCOME_TOTAL','AMT_CREDIT_x',\n",
    "                                                               'AMT_ANNUITY_x','AMT_GOODS_PRICE_x','REGION_POPULATION_RELATIVE',\n",
    "                                                               'DAYS_BIRTH','DAYS_EMPLOYED','DAYS_REGISTRATION','DAYS_ID_PUBLISH',\n",
    "                                                               'CNT_FAM_MEMBERS','HOUR_APPR_PROCESS_START_x','LIVE_CITY_NOT_WORK_CITY',\n",
    "                                                               'OBS_30_CNT_SOCIAL_CIRCLE','DEF_30_CNT_SOCIAL_CIRCLE','OBS_60_CNT_SOCIAL_CIRCLE',\n",
    "                                                               'DEF_60_CNT_SOCIAL_CIRCLE','DAYS_LAST_PHONE_CHANGE','AMT_REQ_CREDIT_BUREAU_HOUR',\n",
    "                                                               'AMT_REQ_CREDIT_BUREAU_DAY','AMT_REQ_CREDIT_BUREAU_WEEK','AMT_REQ_CREDIT_BUREAU_MON',\n",
    "                                                               'AMT_REQ_CREDIT_BUREAU_QRT','AMT_REQ_CREDIT_BUREAU_YEAR','AMT_ANNUITY_y','AMT_APPLICATION',\n",
    "                                                               'AMT_CREDIT_y','AMT_GOODS_PRICE_y','HOUR_APPR_PROCESS_START_y','FLAG_LAST_APPL_PER_CONTRACT',\n",
    "                                                               'NFLAG_LAST_APPL_IN_DAY','DAYS_DECISION','SELLERPLACE_AREA','CNT_PAYMENT','DAYS_FIRST_DRAWING',\n",
    "                                                               'DAYS_FIRST_DUE','DAYS_LAST_DUE_1ST_VERSION','DAYS_LAST_DUE','DAYS_TERMINATION']])\n",
    "\n",
    "X_test.head()"
   ]
  },
  {
   "cell_type": "code",
   "execution_count": null,
   "metadata": {
    "execution": {
     "iopub.execute_input": "2020-11-18T17:23:49.374283Z",
     "iopub.status.busy": "2020-11-18T17:23:49.373463Z",
     "iopub.status.idle": "2020-11-18T17:23:49.378238Z",
     "shell.execute_reply": "2020-11-18T17:23:49.376785Z"
    },
    "papermill": {
     "duration": 0.735859,
     "end_time": "2020-11-18T17:23:49.378387",
     "exception": false,
     "start_time": "2020-11-18T17:23:48.642528",
     "status": "completed"
    },
    "tags": []
   },
   "outputs": [],
   "source": [
    "# Checking the Converted Rate\n",
    "Target = round((sum(mergeddf['TARGET'])/len(mergeddf['TARGET'].index))*100,2)\n",
    "print(\"We have almost {} %  Converted rate after successful data manipulation\".format(Target))"
   ]
  },
  {
   "cell_type": "markdown",
   "metadata": {
    "papermill": {
     "duration": 0.528049,
     "end_time": "2020-11-18T17:23:50.435333",
     "exception": false,
     "start_time": "2020-11-18T17:23:49.907284",
     "status": "completed"
    },
    "tags": []
   },
   "source": [
    "# Model Building"
   ]
  },
  {
   "cell_type": "markdown",
   "metadata": {
    "papermill": {
     "duration": 0.535589,
     "end_time": "2020-11-18T17:23:51.500322",
     "exception": false,
     "start_time": "2020-11-18T17:23:50.964733",
     "status": "completed"
    },
    "tags": []
   },
   "source": [
    "# Random Forest"
   ]
  },
  {
   "cell_type": "code",
   "execution_count": null,
   "metadata": {
    "execution": {
     "iopub.execute_input": "2020-11-18T17:23:52.565370Z",
     "iopub.status.busy": "2020-11-18T17:23:52.564407Z",
     "iopub.status.idle": "2020-11-18T17:23:52.812442Z",
     "shell.execute_reply": "2020-11-18T17:23:52.813052Z"
    },
    "papermill": {
     "duration": 0.783789,
     "end_time": "2020-11-18T17:23:52.813233",
     "exception": false,
     "start_time": "2020-11-18T17:23:52.029444",
     "status": "completed"
    },
    "tags": []
   },
   "outputs": [],
   "source": [
    "from sklearn.ensemble import RandomForestClassifier\n",
    "from sklearn.metrics import accuracy_score\n",
    "model = RandomForestClassifier()"
   ]
  },
  {
   "cell_type": "code",
   "execution_count": null,
   "metadata": {
    "execution": {
     "iopub.execute_input": "2020-11-18T17:23:53.877461Z",
     "iopub.status.busy": "2020-11-18T17:23:53.876622Z",
     "iopub.status.idle": "2020-11-18T17:23:53.881558Z",
     "shell.execute_reply": "2020-11-18T17:23:53.882127Z"
    },
    "papermill": {
     "duration": 0.539416,
     "end_time": "2020-11-18T17:23:53.882306",
     "exception": false,
     "start_time": "2020-11-18T17:23:53.342890",
     "status": "completed"
    },
    "tags": []
   },
   "outputs": [],
   "source": [
    "# number of trees used\n",
    "print('Number of Trees used : ', model.n_estimators)"
   ]
  },
  {
   "cell_type": "code",
   "execution_count": null,
   "metadata": {
    "execution": {
     "iopub.execute_input": "2020-11-18T17:23:54.957532Z",
     "iopub.status.busy": "2020-11-18T17:23:54.956732Z",
     "iopub.status.idle": "2020-11-18T17:23:56.525452Z",
     "shell.execute_reply": "2020-11-18T17:23:56.524664Z"
    },
    "papermill": {
     "duration": 2.108238,
     "end_time": "2020-11-18T17:23:56.525581",
     "exception": false,
     "start_time": "2020-11-18T17:23:54.417343",
     "status": "completed"
    },
    "tags": []
   },
   "outputs": [],
   "source": [
    "# fit the model with the training data\n",
    "model.fit(X_train,y_train)"
   ]
  },
  {
   "cell_type": "code",
   "execution_count": null,
   "metadata": {
    "execution": {
     "iopub.execute_input": "2020-11-18T17:23:57.590856Z",
     "iopub.status.busy": "2020-11-18T17:23:57.589424Z",
     "iopub.status.idle": "2020-11-18T17:23:57.697345Z",
     "shell.execute_reply": "2020-11-18T17:23:57.696614Z"
    },
    "papermill": {
     "duration": 0.647393,
     "end_time": "2020-11-18T17:23:57.697466",
     "exception": false,
     "start_time": "2020-11-18T17:23:57.050073",
     "status": "completed"
    },
    "tags": []
   },
   "outputs": [],
   "source": [
    "# predict the target on the train dataset\n",
    "predict_train = model.predict(X_train)\n",
    "predict_train"
   ]
  },
  {
   "cell_type": "code",
   "execution_count": null,
   "metadata": {
    "execution": {
     "iopub.execute_input": "2020-11-18T17:23:58.760915Z",
     "iopub.status.busy": "2020-11-18T17:23:58.760138Z",
     "iopub.status.idle": "2020-11-18T17:23:58.766252Z",
     "shell.execute_reply": "2020-11-18T17:23:58.765479Z"
    },
    "papermill": {
     "duration": 0.53926,
     "end_time": "2020-11-18T17:23:58.766382",
     "exception": false,
     "start_time": "2020-11-18T17:23:58.227122",
     "status": "completed"
    },
    "tags": []
   },
   "outputs": [],
   "source": [
    "trainaccuracy = accuracy_score(y_train,predict_train)\n",
    "print('accuracy_score on train dataset : ', trainaccuracy)"
   ]
  },
  {
   "cell_type": "markdown",
   "metadata": {
    "papermill": {
     "duration": 0.528537,
     "end_time": "2020-11-18T17:23:59.824655",
     "exception": false,
     "start_time": "2020-11-18T17:23:59.296118",
     "status": "completed"
    },
    "tags": []
   },
   "source": [
    "# VIF"
   ]
  },
  {
   "cell_type": "code",
   "execution_count": null,
   "metadata": {
    "execution": {
     "iopub.execute_input": "2020-11-18T17:24:00.890251Z",
     "iopub.status.busy": "2020-11-18T17:24:00.889360Z",
     "iopub.status.idle": "2020-11-18T17:25:11.529400Z",
     "shell.execute_reply": "2020-11-18T17:25:11.530444Z"
    },
    "papermill": {
     "duration": 71.176775,
     "end_time": "2020-11-18T17:25:11.530669",
     "exception": false,
     "start_time": "2020-11-18T17:24:00.353894",
     "status": "completed"
    },
    "tags": []
   },
   "outputs": [],
   "source": [
    "# Check for the VIF values of the feature variables. \n",
    "from statsmodels.stats.outliers_influence import variance_inflation_factor\n",
    "# Create a dataframe that will contain the names of all the feature variables and their respective VIFs\n",
    "vif = pd.DataFrame()\n",
    "vif['Features'] = X_train.columns\n",
    "vif['VIF'] = [variance_inflation_factor(X_train.values, i) for i in range(X_train.shape[1])]\n",
    "vif['VIF'] = round(vif['VIF'], 2)\n",
    "vif = vif.sort_values(by = \"VIF\", ascending = False)\n",
    "vif.tail()"
   ]
  },
  {
   "cell_type": "code",
   "execution_count": null,
   "metadata": {
    "execution": {
     "iopub.execute_input": "2020-11-18T17:25:12.601748Z",
     "iopub.status.busy": "2020-11-18T17:25:12.600947Z",
     "iopub.status.idle": "2020-11-18T17:25:12.605613Z",
     "shell.execute_reply": "2020-11-18T17:25:12.604471Z"
    },
    "papermill": {
     "duration": 0.545866,
     "end_time": "2020-11-18T17:25:12.605747",
     "exception": false,
     "start_time": "2020-11-18T17:25:12.059881",
     "status": "completed"
    },
    "tags": []
   },
   "outputs": [],
   "source": [
    "features_to_remove = vif.loc[vif['VIF'] >= 4.99,'Features'].values\n",
    "features_to_remove = list(features_to_remove)\n",
    "print(features_to_remove)"
   ]
  },
  {
   "cell_type": "code",
   "execution_count": null,
   "metadata": {
    "execution": {
     "iopub.execute_input": "2020-11-18T17:25:13.812369Z",
     "iopub.status.busy": "2020-11-18T17:25:13.811309Z",
     "iopub.status.idle": "2020-11-18T17:25:13.907095Z",
     "shell.execute_reply": "2020-11-18T17:25:13.907701Z"
    },
    "papermill": {
     "duration": 0.702453,
     "end_time": "2020-11-18T17:25:13.907873",
     "exception": false,
     "start_time": "2020-11-18T17:25:13.205420",
     "status": "completed"
    },
    "tags": []
   },
   "outputs": [],
   "source": [
    "X_train = X_train.drop(columns=features_to_remove, axis = 1)\n",
    "X_train.head()"
   ]
  },
  {
   "cell_type": "code",
   "execution_count": null,
   "metadata": {
    "execution": {
     "iopub.execute_input": "2020-11-18T17:25:15.069116Z",
     "iopub.status.busy": "2020-11-18T17:25:15.068256Z",
     "iopub.status.idle": "2020-11-18T17:25:15.165568Z",
     "shell.execute_reply": "2020-11-18T17:25:15.166184Z"
    },
    "papermill": {
     "duration": 0.650397,
     "end_time": "2020-11-18T17:25:15.166340",
     "exception": false,
     "start_time": "2020-11-18T17:25:14.515943",
     "status": "completed"
    },
    "tags": []
   },
   "outputs": [],
   "source": [
    "X_test = X_test.drop(columns=features_to_remove, axis = 1)\n",
    "X_test.head()"
   ]
  },
  {
   "cell_type": "code",
   "execution_count": null,
   "metadata": {
    "execution": {
     "iopub.execute_input": "2020-11-18T17:25:16.316815Z",
     "iopub.status.busy": "2020-11-18T17:25:16.315863Z",
     "iopub.status.idle": "2020-11-18T17:25:25.579338Z",
     "shell.execute_reply": "2020-11-18T17:25:25.578703Z"
    },
    "papermill": {
     "duration": 9.846826,
     "end_time": "2020-11-18T17:25:25.579476",
     "exception": false,
     "start_time": "2020-11-18T17:25:15.732650",
     "status": "completed"
    },
    "tags": []
   },
   "outputs": [],
   "source": [
    "# Check for the VIF values of the feature variables. \n",
    "from statsmodels.stats.outliers_influence import variance_inflation_factor\n",
    "# Create a dataframe that will contain the names of all the feature variables and their respective VIFs\n",
    "vif = pd.DataFrame()\n",
    "vif['Features'] = X_train.columns\n",
    "vif['VIF'] = [variance_inflation_factor(X_train.values, i) for i in range(X_train.shape[1])]\n",
    "vif['VIF'] = round(vif['VIF'], 2)\n",
    "vif = vif.sort_values(by = \"VIF\", ascending = False)\n",
    "vif"
   ]
  },
  {
   "cell_type": "markdown",
   "metadata": {
    "papermill": {
     "duration": 0.543572,
     "end_time": "2020-11-18T17:25:26.666973",
     "exception": false,
     "start_time": "2020-11-18T17:25:26.123401",
     "status": "completed"
    },
    "tags": []
   },
   "source": [
    "The NaN, in if in  case, is interpretted as no correlation between the two variables."
   ]
  },
  {
   "cell_type": "code",
   "execution_count": null,
   "metadata": {
    "execution": {
     "iopub.execute_input": "2020-11-18T17:25:27.748984Z",
     "iopub.status.busy": "2020-11-18T17:25:27.748034Z",
     "iopub.status.idle": "2020-11-18T17:25:27.751427Z",
     "shell.execute_reply": "2020-11-18T17:25:27.752115Z"
    },
    "papermill": {
     "duration": 0.549005,
     "end_time": "2020-11-18T17:25:27.752276",
     "exception": false,
     "start_time": "2020-11-18T17:25:27.203271",
     "status": "completed"
    },
    "tags": []
   },
   "outputs": [],
   "source": [
    "features_to_remove = vif.loc[vif['VIF'] >= 4.99,'Features'].values\n",
    "features_to_remove = list(features_to_remove)\n",
    "print(features_to_remove)"
   ]
  },
  {
   "cell_type": "code",
   "execution_count": null,
   "metadata": {
    "execution": {
     "iopub.execute_input": "2020-11-18T17:25:28.839521Z",
     "iopub.status.busy": "2020-11-18T17:25:28.838302Z",
     "iopub.status.idle": "2020-11-18T17:25:28.931853Z",
     "shell.execute_reply": "2020-11-18T17:25:28.932443Z"
    },
    "papermill": {
     "duration": 0.642786,
     "end_time": "2020-11-18T17:25:28.932598",
     "exception": false,
     "start_time": "2020-11-18T17:25:28.289812",
     "status": "completed"
    },
    "tags": []
   },
   "outputs": [],
   "source": [
    "X_train = X_train.drop(columns=features_to_remove, axis = 1)\n",
    "X_train.head()"
   ]
  },
  {
   "cell_type": "code",
   "execution_count": null,
   "metadata": {
    "execution": {
     "iopub.execute_input": "2020-11-18T17:25:30.030689Z",
     "iopub.status.busy": "2020-11-18T17:25:30.029814Z",
     "iopub.status.idle": "2020-11-18T17:25:30.123973Z",
     "shell.execute_reply": "2020-11-18T17:25:30.124549Z"
    },
    "papermill": {
     "duration": 0.64151,
     "end_time": "2020-11-18T17:25:30.124711",
     "exception": false,
     "start_time": "2020-11-18T17:25:29.483201",
     "status": "completed"
    },
    "tags": []
   },
   "outputs": [],
   "source": [
    "X_test = X_test.drop(columns=features_to_remove, axis = 1)\n",
    "X_test.head()"
   ]
  },
  {
   "cell_type": "code",
   "execution_count": null,
   "metadata": {
    "execution": {
     "iopub.execute_input": "2020-11-18T17:25:31.245214Z",
     "iopub.status.busy": "2020-11-18T17:25:31.244408Z",
     "iopub.status.idle": "2020-11-18T17:25:39.296373Z",
     "shell.execute_reply": "2020-11-18T17:25:39.295583Z"
    },
    "papermill": {
     "duration": 8.616779,
     "end_time": "2020-11-18T17:25:39.296524",
     "exception": false,
     "start_time": "2020-11-18T17:25:30.679745",
     "status": "completed"
    },
    "tags": []
   },
   "outputs": [],
   "source": [
    "# Check for the VIF values of the feature variables. \n",
    "from statsmodels.stats.outliers_influence import variance_inflation_factor\n",
    "# Create a dataframe that will contain the names of all the feature variables and their respective VIFs\n",
    "vif = pd.DataFrame()\n",
    "vif['Features'] = X_train.columns\n",
    "vif['VIF'] = [variance_inflation_factor(X_train.values, i) for i in range(X_train.shape[1])]\n",
    "vif['VIF'] = round(vif['VIF'], 2)\n",
    "vif = vif.sort_values(by = \"VIF\", ascending = False)\n",
    "vif"
   ]
  },
  {
   "cell_type": "code",
   "execution_count": null,
   "metadata": {
    "execution": {
     "iopub.execute_input": "2020-11-18T17:25:40.403721Z",
     "iopub.status.busy": "2020-11-18T17:25:40.402944Z",
     "iopub.status.idle": "2020-11-18T17:25:41.485128Z",
     "shell.execute_reply": "2020-11-18T17:25:41.484391Z"
    },
    "papermill": {
     "duration": 1.638828,
     "end_time": "2020-11-18T17:25:41.485252",
     "exception": false,
     "start_time": "2020-11-18T17:25:39.846424",
     "status": "completed"
    },
    "tags": []
   },
   "outputs": [],
   "source": [
    "# fit the model with the training data\n",
    "model.fit(X_train,y_train)"
   ]
  },
  {
   "cell_type": "code",
   "execution_count": null,
   "metadata": {
    "execution": {
     "iopub.execute_input": "2020-11-18T17:25:42.597485Z",
     "iopub.status.busy": "2020-11-18T17:25:42.596267Z",
     "iopub.status.idle": "2020-11-18T17:25:42.698756Z",
     "shell.execute_reply": "2020-11-18T17:25:42.698055Z"
    },
    "papermill": {
     "duration": 0.664188,
     "end_time": "2020-11-18T17:25:42.698909",
     "exception": false,
     "start_time": "2020-11-18T17:25:42.034721",
     "status": "completed"
    },
    "tags": []
   },
   "outputs": [],
   "source": [
    "# predict the target on the train dataset\n",
    "predict_train = model.predict(X_train)\n",
    "predict_train"
   ]
  },
  {
   "cell_type": "code",
   "execution_count": null,
   "metadata": {
    "execution": {
     "iopub.execute_input": "2020-11-18T17:25:43.800515Z",
     "iopub.status.busy": "2020-11-18T17:25:43.799731Z",
     "iopub.status.idle": "2020-11-18T17:25:43.805351Z",
     "shell.execute_reply": "2020-11-18T17:25:43.804683Z"
    },
    "papermill": {
     "duration": 0.558214,
     "end_time": "2020-11-18T17:25:43.805479",
     "exception": false,
     "start_time": "2020-11-18T17:25:43.247265",
     "status": "completed"
    },
    "tags": []
   },
   "outputs": [],
   "source": [
    "trainaccuracy = accuracy_score(y_train,predict_train)\n",
    "print('accuracy_score on train dataset : ', trainaccuracy)"
   ]
  },
  {
   "cell_type": "code",
   "execution_count": null,
   "metadata": {
    "execution": {
     "iopub.execute_input": "2020-11-18T17:25:44.909207Z",
     "iopub.status.busy": "2020-11-18T17:25:44.908136Z",
     "iopub.status.idle": "2020-11-18T17:25:44.922581Z",
     "shell.execute_reply": "2020-11-18T17:25:44.923178Z"
    },
    "papermill": {
     "duration": 0.568903,
     "end_time": "2020-11-18T17:25:44.923351",
     "exception": false,
     "start_time": "2020-11-18T17:25:44.354448",
     "status": "completed"
    },
    "tags": []
   },
   "outputs": [],
   "source": [
    "from sklearn import metrics\n",
    "# Confusion matrix \n",
    "confusion = metrics.confusion_matrix(y_train, predict_train )\n",
    "print(confusion)"
   ]
  },
  {
   "cell_type": "code",
   "execution_count": null,
   "metadata": {
    "execution": {
     "iopub.execute_input": "2020-11-18T17:25:46.028933Z",
     "iopub.status.busy": "2020-11-18T17:25:46.028116Z",
     "iopub.status.idle": "2020-11-18T17:25:46.031401Z",
     "shell.execute_reply": "2020-11-18T17:25:46.030814Z"
    },
    "papermill": {
     "duration": 0.556214,
     "end_time": "2020-11-18T17:25:46.031537",
     "exception": false,
     "start_time": "2020-11-18T17:25:45.475323",
     "status": "completed"
    },
    "tags": []
   },
   "outputs": [],
   "source": [
    "TP = confusion[1,1] # true positive \n",
    "TN = confusion[0,0] # true negatives\n",
    "FP = confusion[0,1] # false positives\n",
    "FN = confusion[1,0] # false negatives"
   ]
  },
  {
   "cell_type": "code",
   "execution_count": null,
   "metadata": {
    "execution": {
     "iopub.execute_input": "2020-11-18T17:25:47.179126Z",
     "iopub.status.busy": "2020-11-18T17:25:47.178243Z",
     "iopub.status.idle": "2020-11-18T17:25:47.182629Z",
     "shell.execute_reply": "2020-11-18T17:25:47.183234Z"
    },
    "papermill": {
     "duration": 0.566644,
     "end_time": "2020-11-18T17:25:47.183387",
     "exception": false,
     "start_time": "2020-11-18T17:25:46.616743",
     "status": "completed"
    },
    "tags": []
   },
   "outputs": [],
   "source": [
    "# Let's see the sensitivity of our model\n",
    "trainsensitivity= TP / float(TP+FN)\n",
    "trainsensitivity"
   ]
  },
  {
   "cell_type": "code",
   "execution_count": null,
   "metadata": {
    "execution": {
     "iopub.execute_input": "2020-11-18T17:25:48.295263Z",
     "iopub.status.busy": "2020-11-18T17:25:48.294338Z",
     "iopub.status.idle": "2020-11-18T17:25:48.298218Z",
     "shell.execute_reply": "2020-11-18T17:25:48.298798Z"
    },
    "papermill": {
     "duration": 0.561752,
     "end_time": "2020-11-18T17:25:48.298996",
     "exception": false,
     "start_time": "2020-11-18T17:25:47.737244",
     "status": "completed"
    },
    "tags": []
   },
   "outputs": [],
   "source": [
    "# Let us calculate specificity\n",
    "trainspecificity= TN / float(TN+FP)\n",
    "trainspecificity"
   ]
  },
  {
   "cell_type": "code",
   "execution_count": null,
   "metadata": {
    "execution": {
     "iopub.execute_input": "2020-11-18T17:25:49.416141Z",
     "iopub.status.busy": "2020-11-18T17:25:49.415092Z",
     "iopub.status.idle": "2020-11-18T17:25:49.418599Z",
     "shell.execute_reply": "2020-11-18T17:25:49.419225Z"
    },
    "papermill": {
     "duration": 0.564369,
     "end_time": "2020-11-18T17:25:49.419391",
     "exception": false,
     "start_time": "2020-11-18T17:25:48.855022",
     "status": "completed"
    },
    "tags": []
   },
   "outputs": [],
   "source": [
    "# Calculate false postive rate - predicting Defaulted when customer does not have Defaulted\n",
    "print(FP/ float(TN+FP))"
   ]
  },
  {
   "cell_type": "code",
   "execution_count": null,
   "metadata": {
    "execution": {
     "iopub.execute_input": "2020-11-18T17:25:50.586987Z",
     "iopub.status.busy": "2020-11-18T17:25:50.585973Z",
     "iopub.status.idle": "2020-11-18T17:25:50.589614Z",
     "shell.execute_reply": "2020-11-18T17:25:50.590318Z"
    },
    "papermill": {
     "duration": 0.572901,
     "end_time": "2020-11-18T17:25:50.590481",
     "exception": false,
     "start_time": "2020-11-18T17:25:50.017580",
     "status": "completed"
    },
    "tags": []
   },
   "outputs": [],
   "source": [
    "# Positive predictive value \n",
    "print (TP / float(TP+FP))"
   ]
  },
  {
   "cell_type": "code",
   "execution_count": null,
   "metadata": {
    "execution": {
     "iopub.execute_input": "2020-11-18T17:25:51.705534Z",
     "iopub.status.busy": "2020-11-18T17:25:51.704493Z",
     "iopub.status.idle": "2020-11-18T17:25:51.708732Z",
     "shell.execute_reply": "2020-11-18T17:25:51.707964Z"
    },
    "papermill": {
     "duration": 0.568289,
     "end_time": "2020-11-18T17:25:51.708877",
     "exception": false,
     "start_time": "2020-11-18T17:25:51.140588",
     "status": "completed"
    },
    "tags": []
   },
   "outputs": [],
   "source": [
    "# Negative predictive value\n",
    "print(TN / float(TN+ FN))"
   ]
  },
  {
   "cell_type": "markdown",
   "metadata": {
    "papermill": {
     "duration": 0.550412,
     "end_time": "2020-11-18T17:25:52.812706",
     "exception": false,
     "start_time": "2020-11-18T17:25:52.262294",
     "status": "completed"
    },
    "tags": []
   },
   "source": [
    "# Plotting the ROC Curve"
   ]
  },
  {
   "cell_type": "code",
   "execution_count": null,
   "metadata": {
    "execution": {
     "iopub.execute_input": "2020-11-18T17:25:53.969302Z",
     "iopub.status.busy": "2020-11-18T17:25:53.968492Z",
     "iopub.status.idle": "2020-11-18T17:25:53.971664Z",
     "shell.execute_reply": "2020-11-18T17:25:53.972306Z"
    },
    "papermill": {
     "duration": 0.610038,
     "end_time": "2020-11-18T17:25:53.972467",
     "exception": false,
     "start_time": "2020-11-18T17:25:53.362429",
     "status": "completed"
    },
    "tags": []
   },
   "outputs": [],
   "source": [
    "def draw_roc( actual, probs ):\n",
    "    fpr, tpr, thresholds = metrics.roc_curve( actual, probs,\n",
    "                                              drop_intermediate = False )\n",
    "    auc_score = metrics.roc_auc_score( actual, probs )\n",
    "    plt.figure(figsize=(5, 5))\n",
    "    plt.plot( fpr, tpr, label='ROC curve (area = %0.2f)' % auc_score )\n",
    "    plt.plot([0, 1], [0, 1], 'k--')\n",
    "    plt.xlim([0.0, 1.0])\n",
    "    plt.ylim([0.0, 1.05])\n",
    "    plt.xlabel('False Positive Rate or [1 - True Negative Rate]')\n",
    "    plt.ylabel('True Positive Rate')\n",
    "    plt.title('Receiver operating characteristic example')\n",
    "    plt.legend(loc=\"lower right\")\n",
    "    plt.show()\n",
    "\n",
    "    return None"
   ]
  },
  {
   "cell_type": "code",
   "execution_count": null,
   "metadata": {
    "execution": {
     "iopub.execute_input": "2020-11-18T17:25:55.120322Z",
     "iopub.status.busy": "2020-11-18T17:25:55.119147Z",
     "iopub.status.idle": "2020-11-18T17:25:55.440180Z",
     "shell.execute_reply": "2020-11-18T17:25:55.439440Z"
    },
    "papermill": {
     "duration": 0.891206,
     "end_time": "2020-11-18T17:25:55.440305",
     "exception": false,
     "start_time": "2020-11-18T17:25:54.549099",
     "status": "completed"
    },
    "tags": []
   },
   "outputs": [],
   "source": [
    "draw_roc(y_train,predict_train)"
   ]
  },
  {
   "cell_type": "markdown",
   "metadata": {
    "papermill": {
     "duration": 0.55761,
     "end_time": "2020-11-18T17:25:56.556902",
     "exception": false,
     "start_time": "2020-11-18T17:25:55.999292",
     "status": "completed"
    },
    "tags": []
   },
   "source": [
    "# Precision and Recall"
   ]
  },
  {
   "cell_type": "code",
   "execution_count": null,
   "metadata": {
    "execution": {
     "iopub.execute_input": "2020-11-18T17:25:57.704476Z",
     "iopub.status.busy": "2020-11-18T17:25:57.703482Z",
     "iopub.status.idle": "2020-11-18T17:25:57.707009Z",
     "shell.execute_reply": "2020-11-18T17:25:57.706439Z"
    },
    "papermill": {
     "duration": 0.598341,
     "end_time": "2020-11-18T17:25:57.707135",
     "exception": false,
     "start_time": "2020-11-18T17:25:57.108794",
     "status": "completed"
    },
    "tags": []
   },
   "outputs": [],
   "source": [
    "#Using sklearn utilities for the same"
   ]
  },
  {
   "cell_type": "code",
   "execution_count": null,
   "metadata": {
    "execution": {
     "iopub.execute_input": "2020-11-18T17:25:58.817168Z",
     "iopub.status.busy": "2020-11-18T17:25:58.816402Z",
     "iopub.status.idle": "2020-11-18T17:25:58.824376Z",
     "shell.execute_reply": "2020-11-18T17:25:58.824982Z"
    },
    "papermill": {
     "duration": 0.567621,
     "end_time": "2020-11-18T17:25:58.825143",
     "exception": false,
     "start_time": "2020-11-18T17:25:58.257522",
     "status": "completed"
    },
    "tags": []
   },
   "outputs": [],
   "source": [
    "from sklearn.metrics import precision_score, recall_score\n",
    "precision_score(y_train,predict_train)"
   ]
  },
  {
   "cell_type": "code",
   "execution_count": null,
   "metadata": {
    "execution": {
     "iopub.execute_input": "2020-11-18T17:25:59.936443Z",
     "iopub.status.busy": "2020-11-18T17:25:59.935353Z",
     "iopub.status.idle": "2020-11-18T17:25:59.944269Z",
     "shell.execute_reply": "2020-11-18T17:25:59.943539Z"
    },
    "papermill": {
     "duration": 0.568087,
     "end_time": "2020-11-18T17:25:59.944402",
     "exception": false,
     "start_time": "2020-11-18T17:25:59.376315",
     "status": "completed"
    },
    "tags": []
   },
   "outputs": [],
   "source": [
    "recall_score(y_train,predict_train)  "
   ]
  },
  {
   "cell_type": "markdown",
   "metadata": {
    "papermill": {
     "duration": 0.551726,
     "end_time": "2020-11-18T17:26:01.054484",
     "exception": false,
     "start_time": "2020-11-18T17:26:00.502758",
     "status": "completed"
    },
    "tags": []
   },
   "source": [
    "# Making predictions on the test set"
   ]
  },
  {
   "cell_type": "code",
   "execution_count": null,
   "metadata": {
    "execution": {
     "iopub.execute_input": "2020-11-18T17:26:02.178424Z",
     "iopub.status.busy": "2020-11-18T17:26:02.177319Z",
     "iopub.status.idle": "2020-11-18T17:26:02.233108Z",
     "shell.execute_reply": "2020-11-18T17:26:02.232317Z"
    },
    "papermill": {
     "duration": 0.617321,
     "end_time": "2020-11-18T17:26:02.233246",
     "exception": false,
     "start_time": "2020-11-18T17:26:01.615925",
     "status": "completed"
    },
    "tags": []
   },
   "outputs": [],
   "source": [
    "# predict the target on the test dataset\n",
    "predict_test = model.predict(X_test)\n",
    "print('Target on test data\\n\\n',predict_test)"
   ]
  },
  {
   "cell_type": "code",
   "execution_count": null,
   "metadata": {
    "execution": {
     "iopub.execute_input": "2020-11-18T17:26:03.402872Z",
     "iopub.status.busy": "2020-11-18T17:26:03.401779Z",
     "iopub.status.idle": "2020-11-18T17:26:03.411746Z",
     "shell.execute_reply": "2020-11-18T17:26:03.410974Z"
    },
    "papermill": {
     "duration": 0.574615,
     "end_time": "2020-11-18T17:26:03.411903",
     "exception": false,
     "start_time": "2020-11-18T17:26:02.837288",
     "status": "completed"
    },
    "tags": []
   },
   "outputs": [],
   "source": [
    "confusion2 = metrics.confusion_matrix(y_test, predict_test )\n",
    "print(confusion2)"
   ]
  },
  {
   "cell_type": "code",
   "execution_count": null,
   "metadata": {
    "execution": {
     "iopub.execute_input": "2020-11-18T17:26:04.531736Z",
     "iopub.status.busy": "2020-11-18T17:26:04.530701Z",
     "iopub.status.idle": "2020-11-18T17:26:04.534202Z",
     "shell.execute_reply": "2020-11-18T17:26:04.533602Z"
    },
    "papermill": {
     "duration": 0.56832,
     "end_time": "2020-11-18T17:26:04.534345",
     "exception": false,
     "start_time": "2020-11-18T17:26:03.966025",
     "status": "completed"
    },
    "tags": []
   },
   "outputs": [],
   "source": [
    "TP = confusion2[1,1] # true positive \n",
    "TN = confusion2[0,0] # true negatives\n",
    "FP = confusion2[0,1] # false positives\n",
    "FN = confusion2[1,0] # false negatives"
   ]
  },
  {
   "cell_type": "code",
   "execution_count": null,
   "metadata": {
    "execution": {
     "iopub.execute_input": "2020-11-18T17:26:05.655028Z",
     "iopub.status.busy": "2020-11-18T17:26:05.653910Z",
     "iopub.status.idle": "2020-11-18T17:26:05.660607Z",
     "shell.execute_reply": "2020-11-18T17:26:05.659986Z"
    },
    "papermill": {
     "duration": 0.572783,
     "end_time": "2020-11-18T17:26:05.660744",
     "exception": false,
     "start_time": "2020-11-18T17:26:05.087961",
     "status": "completed"
    },
    "tags": []
   },
   "outputs": [],
   "source": [
    "# Let's check the overall accuracy.\n",
    "testaccuracy= accuracy_score(y_test,predict_test)\n",
    "testaccuracy"
   ]
  },
  {
   "cell_type": "code",
   "execution_count": null,
   "metadata": {
    "execution": {
     "iopub.execute_input": "2020-11-18T17:26:06.783698Z",
     "iopub.status.busy": "2020-11-18T17:26:06.782877Z",
     "iopub.status.idle": "2020-11-18T17:26:06.788113Z",
     "shell.execute_reply": "2020-11-18T17:26:06.787348Z"
    },
    "papermill": {
     "duration": 0.568123,
     "end_time": "2020-11-18T17:26:06.788240",
     "exception": false,
     "start_time": "2020-11-18T17:26:06.220117",
     "status": "completed"
    },
    "tags": []
   },
   "outputs": [],
   "source": [
    "# Let's see the sensitivity of our lmodel\n",
    "testsensitivity=TP / float(TP+FN)\n",
    "testsensitivity"
   ]
  },
  {
   "cell_type": "code",
   "execution_count": null,
   "metadata": {
    "execution": {
     "iopub.execute_input": "2020-11-18T17:26:07.908211Z",
     "iopub.status.busy": "2020-11-18T17:26:07.907398Z",
     "iopub.status.idle": "2020-11-18T17:26:07.910968Z",
     "shell.execute_reply": "2020-11-18T17:26:07.911486Z"
    },
    "papermill": {
     "duration": 0.567905,
     "end_time": "2020-11-18T17:26:07.911638",
     "exception": false,
     "start_time": "2020-11-18T17:26:07.343733",
     "status": "completed"
    },
    "tags": []
   },
   "outputs": [],
   "source": [
    "# Let us calculate specificity\n",
    "testspecificity= TN / float(TN+FP)\n",
    "testspecificity"
   ]
  },
  {
   "cell_type": "markdown",
   "metadata": {
    "papermill": {
     "duration": 0.558158,
     "end_time": "2020-11-18T17:26:09.053334",
     "exception": false,
     "start_time": "2020-11-18T17:26:08.495176",
     "status": "completed"
    },
    "tags": []
   },
   "source": [
    "# Final Observation:"
   ]
  },
  {
   "cell_type": "code",
   "execution_count": null,
   "metadata": {
    "execution": {
     "iopub.execute_input": "2020-11-18T17:26:10.187271Z",
     "iopub.status.busy": "2020-11-18T17:26:10.186272Z",
     "iopub.status.idle": "2020-11-18T17:26:10.190040Z",
     "shell.execute_reply": "2020-11-18T17:26:10.191085Z"
    },
    "papermill": {
     "duration": 0.572007,
     "end_time": "2020-11-18T17:26:10.191303",
     "exception": false,
     "start_time": "2020-11-18T17:26:09.619296",
     "status": "completed"
    },
    "tags": []
   },
   "outputs": [],
   "source": [
    "# Let us compare the values obtained for Train & Test:\n",
    "print(\"Train Data Accuracy    :{} %\".format(round((trainaccuracy*100),2)))\n",
    "print(\"Train Data Sensitivity :{} %\".format(round((trainsensitivity*100),2)))\n",
    "print(\"Train Data Specificity :{} %\".format(round((trainspecificity*100),2)))\n",
    "print(\"Test Data Accuracy     :{} %\".format(round((testaccuracy*100),2)))\n",
    "print(\"Test Data Sensitivity  :{} %\".format(round((testsensitivity*100),2)))\n",
    "print(\"Test Data Specificity  :{} %\".format(round((testspecificity*100),2)))"
   ]
  },
  {
   "cell_type": "code",
   "execution_count": null,
   "metadata": {},
   "outputs": [],
   "source": []
  },
  {
   "cell_type": "code",
   "execution_count": null,
   "metadata": {},
   "outputs": [],
   "source": []
  }
 ],
 "metadata": {
  "kernelspec": {
   "display_name": "Python 3",
   "language": "python",
   "name": "python3"
  },
  "language_info": {
   "codemirror_mode": {
    "name": "ipython",
    "version": 3
   },
   "file_extension": ".py",
   "mimetype": "text/x-python",
   "name": "python",
   "nbconvert_exporter": "python",
   "pygments_lexer": "ipython3",
   "version": "3.8.8"
  },
  "papermill": {
   "duration": 1275.175708,
   "end_time": "2020-11-18T17:26:10.966404",
   "environment_variables": {},
   "exception": null,
   "input_path": "__notebook__.ipynb",
   "output_path": "__notebook__.ipynb",
   "parameters": {},
   "start_time": "2020-11-18T17:04:55.790696",
   "version": "2.1.0"
  }
 },
 "nbformat": 4,
 "nbformat_minor": 4
}
